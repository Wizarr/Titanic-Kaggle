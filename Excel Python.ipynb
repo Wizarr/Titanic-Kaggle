{
 "cells": [
  {
   "cell_type": "code",
   "execution_count": 71,
   "metadata": {
    "collapsed": true
   },
   "outputs": [],
   "source": [
    "################################################################################################################################\n",
    "# Author: Naveenkumar Ramaraju                                                                                                 #\n",
    "# Hidden Decision Trees                                                                                                        #\n",
    "# Based on article: http://www.datasciencecentral.com/profiles/blogs/state-of-the-art-machine-learning-automation-with-hdt     #\n",
    "# Date: Feb-18-2017                                                                                                            #\n",
    "# File version - 1                                                                                                             #\n",
    "# pyhton - version: 3.6                                                                                                        #\n",
    "################################################################################################################################"
   ]
  },
  {
   "cell_type": "code",
   "execution_count": 155,
   "metadata": {
    "collapsed": true
   },
   "outputs": [],
   "source": [
    "from math import log\n",
    "import time"
   ]
  },
  {
   "cell_type": "code",
   "execution_count": 156,
   "metadata": {
    "collapsed": true
   },
   "outputs": [],
   "source": [
    "start = time.time()"
   ]
  },
  {
   "cell_type": "code",
   "execution_count": 157,
   "metadata": {
    "collapsed": true
   },
   "outputs": [],
   "source": [
    "# This method updates the dictionaries based on given ID, pv and word\n",
    "def update_pvs(word, pv, id, word_count_dict, word_pv_dict, min_pv_dict, max_pv_dict, ids_dict):\n",
    "    if word in word_count_dict:\n",
    "        word_count_dict[word] += 1\n",
    "        word_pv_dict[word] += pv\n",
    "        if min_pv_dict[word] > pv:\n",
    "            min_pv_dict[word] = pv\n",
    "        if max_pv_dict[word] < pv:\n",
    "            max_pv_dict[word] = pv\n",
    "        ids_dict[word].append(id)\n",
    "    else:\n",
    "        word_count_dict[word] = 1\n",
    "        word_pv_dict[word] = pv\n",
    "        min_pv_dict[word] = pv\n",
    "        max_pv_dict[word] = pv\n",
    "        ids_dict[word] = [id]"
   ]
  },
  {
   "cell_type": "code",
   "execution_count": 158,
   "metadata": {
    "collapsed": true
   },
   "outputs": [],
   "source": [
    "# dictionaries to hold count of each key words, their page views, and the ids of the article in which used.\n",
    "List = dict()\n",
    "list_pv = dict()\n",
    "list_pv_max = dict()\n",
    "list_pv_min = dict()\n",
    "list_id = dict()"
   ]
  },
  {
   "cell_type": "code",
   "execution_count": 159,
   "metadata": {
    "collapsed": true
   },
   "outputs": [],
   "source": [
    "articleTitle = list() # Lists to hold article id wise title name and pv\n",
    "articlepv = list()\n",
    "sum_pv = 0\n",
    "ID = 0"
   ]
  },
  {
   "cell_type": "code",
   "execution_count": 181,
   "metadata": {
    "collapsed": false
   },
   "outputs": [],
   "source": [
    "in_file = open(\"C:/Users/Toshiba/Downloads/HDTdata3.txt\", \"r\")"
   ]
  },
  {
   "cell_type": "code",
   "execution_count": 182,
   "metadata": {
    "collapsed": false
   },
   "outputs": [],
   "source": [
    "for line in in_file:\n",
    "    if ID == 0: # excluding first line as it is header\n",
    "        ID += 1\n",
    "        continue\n",
    "    line = line.lower()\n",
    "    aux = line.split('\\t') # Indexes will have: 0 - Title, 1 - URL, 2 - data and 3 - page views\n",
    "    url = aux[1]\n",
    "    pv = log(1 + int(aux[3]))\n",
    "    if \"/blogs/\" in url:\n",
    "        type = \"BLOG\"\n",
    "    else:\n",
    "        type = \"OTHER\""
   ]
  },
  {
   "cell_type": "code",
   "execution_count": 183,
   "metadata": {
    "collapsed": false
   },
   "outputs": [],
   "source": [
    "    #   #--- clean article titles, remove stop words\n",
    "    title = aux[0]\n",
    "    title = \" \" + title + \" \" # adding space at the ends to treat stop words at start, mid and end alike\n",
    "    title = title.replace('\"', ' ')\n",
    "    title = title.replace('?', ' ? ')\n",
    "    title = title.replace(':', ' ')\n",
    "    title = title.replace('.', ' ')\n",
    "    title = title.replace('(', ' ')\n",
    "    title = title.replace(')', ' ')\n",
    "    title = title.replace(',', ' ')\n",
    "    title = title.replace(' a ', ' ')\n",
    "    title = title.replace(' the ', ' ')\n",
    "    title = title.replace(' for ', ' ')\n",
    "    title = title.replace(' in ', ' ')\n",
    "    title = title.replace(' and ', ' ')\n",
    "    title = title.replace(' or ', ' ')\n",
    "    title = title.replace(' is ', ' ')\n",
    "    title = title.replace(' in ', ' ')\n",
    "    title = title.replace(' are ', ' ')\n",
    "    title = title.replace(' of ', ' ')\n",
    "    title = title.strip()\n",
    "    title = ' '.join(title.split()) # replacing multiple spaces with one\n",
    "    "
   ]
  },
  {
   "cell_type": "code",
   "execution_count": 184,
   "metadata": {
    "collapsed": true
   },
   "outputs": [],
   "source": [
    "for line in in_file:\n",
    "    if ID == 0: # excluding first line as it is header\n",
    "        ID += 1\n",
    "        continue\n",
    "    line = line.lower()\n",
    "    aux = line.split('\\t') # Indexes will have: 0 - Title, 1 - URL, 2 - data and 3 - page views\n",
    "    url = aux[1]\n",
    "    pv = log(1 + int(aux[3]))\n",
    "    if \"/blogs/\" in url:\n",
    "        type = \"BLOG\"\n",
    "    else:\n",
    "        type = \"OTHER\"\n",
    "#   #--- clean article titles, remove stop words\n",
    "    title = aux[0]\n",
    "    title = \" \" + title + \" \" # adding space at the ends to treat stop words at start, mid and end alike\n",
    "    title = title.replace('\"', ' ')\n",
    "    title = title.replace('?', ' ? ')\n",
    "    title = title.replace(':', ' ')\n",
    "    title = title.replace('.', ' ')\n",
    "    title = title.replace('(', ' ')\n",
    "    title = title.replace(')', ' ')\n",
    "    title = title.replace(',', ' ')\n",
    "    title = title.replace(' a ', ' ')\n",
    "    title = title.replace(' the ', ' ')\n",
    "    title = title.replace(' for ', ' ')\n",
    "    title = title.replace(' in ', ' ')\n",
    "    title = title.replace(' and ', ' ')\n",
    "    title = title.replace(' or ', ' ')\n",
    "    title = title.replace(' is ', ' ')\n",
    "    title = title.replace(' in ', ' ')\n",
    "    title = title.replace(' are ', ' ')\n",
    "    title = title.replace(' of ', ' ')\n",
    "    title = title.strip()\n",
    "    title = ' '.join(title.split()) # replacing multiple spaces with one\n",
    "    "
   ]
  },
  {
   "cell_type": "code",
   "execution_count": 185,
   "metadata": {
    "collapsed": false
   },
   "outputs": [],
   "source": [
    "    #break down article title into keyword tokens\n",
    "    aux2 = title.split(' ')\n",
    "    num_words = len(aux2)\n",
    "    for index in range(num_words):\n",
    "        word = aux2[index].strip()\n",
    "        word = word + '\\t' + 'N/A' + '\\t' + type\n",
    "        update_pvs(word, pv, ID - 1, List,list_pv, list_pv_min, list_pv_max, list_id) # updating single words\n",
    "\n",
    "        if (num_words - 1) > index:\n",
    "            word = aux2[index] + '\\t' + aux2[index+1] + '\\t' + type\n",
    "            update_pvs(word, pv, ID - 1, List, list_pv, list_pv_min, list_pv_max, list_id) # updating bigrams\n",
    "\n",
    "    articleTitle.append(title)\n",
    "    articlepv.append(pv)\n",
    "    sum_pv += pv\n",
    "    ID += 1\n",
    "in_file.close()"
   ]
  },
  {
   "cell_type": "code",
   "execution_count": 186,
   "metadata": {
    "collapsed": false
   },
   "outputs": [],
   "source": [
    "nArticles = ID - 1  # -1 as the increments were done post loop\n",
    "avg_pv = sum_pv/nArticles\n",
    "articleFlag = [\"BAD\" for n in range(nArticles)]\n",
    "nidx = 0\n",
    "nidx_Good = 0\n",
    "OUT = open('hdt-out2.txt','w')\n",
    "OUT2 = open('hdt-reasons.txt','w')\n",
    "for idx in List:\n",
    "    n = List[idx]\n",
    "    Avg = list_pv[idx]/n\n",
    "    Min = list_pv_min[idx]\n",
    "    Max = list_pv_max[idx]\n",
    "    idlist = list_id[idx]\n",
    "    nidx += 1\n",
    "    # below values are chosen based on heuristics and experimenting\n",
    "    if ((n > 3) and (n < 8) and (Min > 6.9) and (Avg > 7.6)) or \\\n",
    "         ((n >= 8) and (n < 16) & (Min > 6.7) and (Avg > 7.4)) or \\\n",
    "         ((n >= 16) and (n < 200) & (Min > 6.1) and (Avg > 7.2)):\n",
    "        OUT.write(idx + '\\t' + str(n) + '\\t' + str(Avg) + '\\t' + str(Min) + '\\t' + str(Max) + '\\t' + str(idlist) + '\\n')\n",
    "        nidx_Good += 1\n",
    "        for ID in idlist:\n",
    "            title=articleTitle[ID]\n",
    "            pv = articlepv[ID]\n",
    "            OUT2.write(title + '\\t' + str(pv) + '\\t' +  idx + '\\t' + str(n) + '\\t' + str(Avg) + '\\t' + str(Min) + '\\t' + str(Max) + '\\n')\n",
    "            articleFlag[ID] = \"GOOD\"\n",
    "\n",
    "# Computing results based on Threshold values\n",
    "pv_threshold = 7.1\n",
    "pv1 = 0\n",
    "pv2 = 0\n",
    "n1 = 0\n",
    "n2 = 0\n",
    "m1 = 0\n",
    "m2 = 0\n",
    "FalsePositive = 0\n",
    "FalseNegative = 0\n",
    "for ID in range(nArticles):\n",
    "    pv = articlepv[ID]\n",
    "    if articleFlag[ID] is \"GOOD\":\n",
    "        n1 += 1\n",
    "        pv1 += pv\n",
    "        if pv < pv_threshold:\n",
    "            FalsePositive += 1\n",
    "    else:\n",
    "        n2 += 1\n",
    "        pv2 += pv\n",
    "        if pv > pv_threshold:\n",
    "            FalseNegative += 1\n",
    "    if pv > pv_threshold:\n",
    "        m1 += 1\n",
    "    else:\n",
    "        m2 += 1"
   ]
  },
  {
   "cell_type": "code",
   "execution_count": 187,
   "metadata": {
    "collapsed": false
   },
   "outputs": [
    {
     "data": {
      "text/plain": [
       "7.1"
      ]
     },
     "execution_count": 187,
     "metadata": {},
     "output_type": "execute_result"
    }
   ],
   "source": [
    "pv_threshold"
   ]
  },
  {
   "cell_type": "code",
   "execution_count": 188,
   "metadata": {
    "collapsed": false
   },
   "outputs": [
    {
     "data": {
      "text/plain": [
       "0"
      ]
     },
     "execution_count": 188,
     "metadata": {},
     "output_type": "execute_result"
    }
   ],
   "source": [
    "pv1"
   ]
  },
  {
   "cell_type": "code",
   "execution_count": 189,
   "metadata": {
    "collapsed": false
   },
   "outputs": [
    {
     "data": {
      "text/plain": [
       "5.6937321388027"
      ]
     },
     "execution_count": 189,
     "metadata": {},
     "output_type": "execute_result"
    }
   ],
   "source": [
    "pv2"
   ]
  },
  {
   "cell_type": "code",
   "execution_count": 190,
   "metadata": {
    "collapsed": false
   },
   "outputs": [
    {
     "data": {
      "text/plain": [
       "0"
      ]
     },
     "execution_count": 190,
     "metadata": {},
     "output_type": "execute_result"
    }
   ],
   "source": [
    "n1"
   ]
  },
  {
   "cell_type": "code",
   "execution_count": 191,
   "metadata": {
    "collapsed": false
   },
   "outputs": [
    {
     "data": {
      "text/plain": [
       "1"
      ]
     },
     "execution_count": 191,
     "metadata": {},
     "output_type": "execute_result"
    }
   ],
   "source": [
    "n2"
   ]
  },
  {
   "cell_type": "code",
   "execution_count": null,
   "metadata": {
    "collapsed": true
   },
   "outputs": [],
   "source": []
  },
  {
   "cell_type": "code",
   "execution_count": 192,
   "metadata": {
    "collapsed": false
   },
   "outputs": [
    {
     "data": {
      "text/plain": [
       "0"
      ]
     },
     "execution_count": 192,
     "metadata": {},
     "output_type": "execute_result"
    }
   ],
   "source": [
    "m1"
   ]
  },
  {
   "cell_type": "code",
   "execution_count": 193,
   "metadata": {
    "collapsed": false
   },
   "outputs": [
    {
     "data": {
      "text/plain": [
       "1"
      ]
     },
     "execution_count": 193,
     "metadata": {},
     "output_type": "execute_result"
    }
   ],
   "source": [
    "m2"
   ]
  },
  {
   "cell_type": "code",
   "execution_count": 194,
   "metadata": {
    "collapsed": false
   },
   "outputs": [
    {
     "ename": "ZeroDivisionError",
     "evalue": "integer division or modulo by zero",
     "output_type": "error",
     "traceback": [
      "\u001b[1;31m---------------------------------------------------------------------------\u001b[0m",
      "\u001b[1;31mZeroDivisionError\u001b[0m                         Traceback (most recent call last)",
      "\u001b[1;32m<ipython-input-194-2ab4e0d4760d>\u001b[0m in \u001b[0;36m<module>\u001b[1;34m()\u001b[0m\n\u001b[0;32m      1\u001b[0m \u001b[1;31m# Printing results\u001b[0m\u001b[1;33m\u001b[0m\u001b[1;33m\u001b[0m\u001b[0m\n\u001b[1;32m----> 2\u001b[1;33m \u001b[0mavg_pv1\u001b[0m \u001b[1;33m=\u001b[0m \u001b[0mpv1\u001b[0m\u001b[1;33m/\u001b[0m\u001b[0mn1\u001b[0m\u001b[1;33m\u001b[0m\u001b[0m\n\u001b[0m\u001b[0;32m      3\u001b[0m \u001b[0mavg_pv2\u001b[0m \u001b[1;33m=\u001b[0m \u001b[0mpv2\u001b[0m\u001b[1;33m/\u001b[0m\u001b[0mn2\u001b[0m\u001b[1;33m\u001b[0m\u001b[0m\n\u001b[0;32m      4\u001b[0m \u001b[0merrorRate\u001b[0m \u001b[1;33m=\u001b[0m \u001b[1;33m(\u001b[0m\u001b[0mFalsePositive\u001b[0m \u001b[1;33m+\u001b[0m \u001b[0mFalseNegative\u001b[0m\u001b[1;33m)\u001b[0m\u001b[1;33m/\u001b[0m\u001b[0mnArticles\u001b[0m\u001b[1;33m\u001b[0m\u001b[0m\n",
      "\u001b[1;31mZeroDivisionError\u001b[0m: integer division or modulo by zero"
     ]
    }
   ],
   "source": [
    "# Printing results\n",
    "avg_pv1 = pv1/n1\n",
    "avg_pv2 = pv2/n2\n",
    "errorRate = (FalsePositive + FalseNegative)/nArticles"
   ]
  },
  {
   "cell_type": "code",
   "execution_count": 195,
   "metadata": {
    "collapsed": false
   },
   "outputs": [
    {
     "ename": "ZeroDivisionError",
     "evalue": "integer division or modulo by zero",
     "output_type": "error",
     "traceback": [
      "\u001b[1;31m---------------------------------------------------------------------------\u001b[0m",
      "\u001b[1;31mZeroDivisionError\u001b[0m                         Traceback (most recent call last)",
      "\u001b[1;32m<ipython-input-195-ea21f16cc91a>\u001b[0m in \u001b[0;36m<module>\u001b[1;34m()\u001b[0m\n\u001b[1;32m----> 1\u001b[1;33m \u001b[0maggregationFactor\u001b[0m \u001b[1;33m=\u001b[0m \u001b[1;33m(\u001b[0m\u001b[0mnidx\u001b[0m\u001b[1;33m/\u001b[0m\u001b[0mnidx_Good\u001b[0m\u001b[1;33m)\u001b[0m\u001b[1;33m/\u001b[0m\u001b[1;33m(\u001b[0m\u001b[0mnArticles\u001b[0m\u001b[1;33m/\u001b[0m\u001b[0mn1\u001b[0m\u001b[1;33m)\u001b[0m\u001b[1;33m\u001b[0m\u001b[0m\n\u001b[0m",
      "\u001b[1;31mZeroDivisionError\u001b[0m: integer division or modulo by zero"
     ]
    }
   ],
   "source": [
    "aggregationFactor = (nidx/nidx_Good)/(nArticles/n1)"
   ]
  },
  {
   "cell_type": "code",
   "execution_count": 196,
   "metadata": {
    "collapsed": false
   },
   "outputs": [
    {
     "name": "stdout",
     "output_type": "stream",
     "text": [
      "Average pv: 11.3874642776\n"
     ]
    }
   ],
   "source": [
    "print (\"Average pv: \" + str(avg_pv))"
   ]
  },
  {
   "cell_type": "code",
   "execution_count": 197,
   "metadata": {
    "collapsed": false
   },
   "outputs": [
    {
     "ename": "SyntaxError",
     "evalue": "invalid syntax (<ipython-input-197-f9e654b94140>, line 1)",
     "output_type": "error",
     "traceback": [
      "\u001b[1;36m  File \u001b[1;32m\"<ipython-input-197-f9e654b94140>\"\u001b[1;36m, line \u001b[1;32m1\u001b[0m\n\u001b[1;33m    print (\"Number of articles marked as good: \", n1, \" (real number is \", m1,\")\", sep = \"\" )\u001b[0m\n\u001b[1;37m                                                                                       ^\u001b[0m\n\u001b[1;31mSyntaxError\u001b[0m\u001b[1;31m:\u001b[0m invalid syntax\n"
     ]
    }
   ],
   "source": [
    "print (\"Number of articles marked as good: \", n1, \" (real number is \", m1,\")\", sep = \"\" )"
   ]
  },
  {
   "cell_type": "code",
   "execution_count": 198,
   "metadata": {
    "collapsed": false
   },
   "outputs": [
    {
     "ename": "SyntaxError",
     "evalue": "invalid syntax (<ipython-input-198-953ea5bf4004>, line 1)",
     "output_type": "error",
     "traceback": [
      "\u001b[1;36m  File \u001b[1;32m\"<ipython-input-198-953ea5bf4004>\"\u001b[1;36m, line \u001b[1;32m1\u001b[0m\n\u001b[1;33m    print (\"Number of articles marked as bad: \", n2, \" (real number is \", m2,\")\", sep = \"\")\u001b[0m\n\u001b[1;37m                                                                                      ^\u001b[0m\n\u001b[1;31mSyntaxError\u001b[0m\u001b[1;31m:\u001b[0m invalid syntax\n"
     ]
    }
   ],
   "source": [
    "print (\"Number of articles marked as bad: \", n2, \" (real number is \", m2,\")\", sep = \"\")"
   ]
  },
  {
   "cell_type": "code",
   "execution_count": 199,
   "metadata": {
    "collapsed": false
   },
   "outputs": [
    {
     "name": "stdout",
     "output_type": "stream",
     "text": [
      "('Avg pv: articles marked as good:', 8.096316149781837)\n",
      "('Avg pv: articles marked as bad:', 6.714547386276239)\n",
      "('Number of false positive:', 0, '(bad marked as good)')\n",
      "('Number of false negative:', 0, '(good marked as bad)')\n",
      "('Number of articles:', 1)\n",
      "('Error Rate: ', 0)\n"
     ]
    }
   ],
   "source": [
    "print (\"Avg pv: articles marked as good:\", avg_pv1)\n",
    "print (\"Avg pv: articles marked as bad:\",avg_pv2)\n",
    "print (\"Number of false positive:\",FalsePositive,\"(bad marked as good)\")\n",
    "print (\"Number of false negative:\", FalseNegative, \"(good marked as bad)\")\n",
    "print (\"Number of articles:\", nArticles)\n",
    "print (\"Error Rate: \", errorRate)"
   ]
  },
  {
   "cell_type": "code",
   "execution_count": 200,
   "metadata": {
    "collapsed": false,
    "scrolled": true
   },
   "outputs": [
    {
     "ename": "SyntaxError",
     "evalue": "invalid syntax (<ipython-input-200-4292216ec1e7>, line 1)",
     "output_type": "error",
     "traceback": [
      "\u001b[1;36m  File \u001b[1;32m\"<ipython-input-200-4292216ec1e7>\"\u001b[1;36m, line \u001b[1;32m1\u001b[0m\n\u001b[1;33m    print (\"Number of feature values: \", nidx, \" (marked as good: \", nidx_Good,\")\", sep = \"\")\u001b[0m\n\u001b[1;37m                                                                                        ^\u001b[0m\n\u001b[1;31mSyntaxError\u001b[0m\u001b[1;31m:\u001b[0m invalid syntax\n"
     ]
    }
   ],
   "source": [
    "print (\"Number of feature values: \", nidx, \" (marked as good: \", nidx_Good,\")\", sep = \"\")"
   ]
  },
  {
   "cell_type": "code",
   "execution_count": 201,
   "metadata": {
    "collapsed": false,
    "scrolled": true
   },
   "outputs": [
    {
     "name": "stdout",
     "output_type": "stream",
     "text": [
      "('Aggregation factor:', 31)\n",
      "Execution time: 609.315000057s\n"
     ]
    }
   ],
   "source": [
    "print (\"Aggregation factor:\", aggregationFactor)\n",
    "print(\"Execution time: \" + str(time.time() - start) +\"s\")"
   ]
  },
  {
   "cell_type": "code",
   "execution_count": null,
   "metadata": {
    "collapsed": true
   },
   "outputs": [],
   "source": []
  },
  {
   "cell_type": "code",
   "execution_count": null,
   "metadata": {
    "collapsed": true
   },
   "outputs": [],
   "source": []
  },
  {
   "cell_type": "code",
   "execution_count": null,
   "metadata": {
    "collapsed": true
   },
   "outputs": [],
   "source": []
  },
  {
   "cell_type": "code",
   "execution_count": null,
   "metadata": {
    "collapsed": true
   },
   "outputs": [],
   "source": []
  },
  {
   "cell_type": "code",
   "execution_count": null,
   "metadata": {
    "collapsed": true
   },
   "outputs": [],
   "source": []
  },
  {
   "cell_type": "code",
   "execution_count": null,
   "metadata": {
    "collapsed": true
   },
   "outputs": [],
   "source": []
  },
  {
   "cell_type": "code",
   "execution_count": null,
   "metadata": {
    "collapsed": true
   },
   "outputs": [],
   "source": []
  }
 ],
 "metadata": {
  "kernelspec": {
   "display_name": "Python 2",
   "language": "python",
   "name": "python2"
  },
  "language_info": {
   "codemirror_mode": {
    "name": "ipython",
    "version": 2
   },
   "file_extension": ".py",
   "mimetype": "text/x-python",
   "name": "python",
   "nbconvert_exporter": "python",
   "pygments_lexer": "ipython2",
   "version": "2.7.13"
  }
 },
 "nbformat": 4,
 "nbformat_minor": 2
}
