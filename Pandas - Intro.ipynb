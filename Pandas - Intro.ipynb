{
 "cells": [
  {
   "cell_type": "code",
   "execution_count": 1,
   "metadata": {
    "collapsed": true
   },
   "outputs": [],
   "source": [
    "import pandas as pd\n",
    "\n",
    "import numpy as np\n",
    "\n",
    "import matplotlib.pyplot as plt\n",
    "\n",
    "%matplotlib inline"
   ]
  },
  {
   "cell_type": "code",
   "execution_count": 2,
   "metadata": {
    "collapsed": true
   },
   "outputs": [],
   "source": [
    "s = pd.Series([1,3,5,np.nan,6,8])"
   ]
  },
  {
   "cell_type": "code",
   "execution_count": 3,
   "metadata": {
    "collapsed": false
   },
   "outputs": [
    {
     "data": {
      "text/plain": [
       "0    1.0\n",
       "1    3.0\n",
       "2    5.0\n",
       "3    NaN\n",
       "4    6.0\n",
       "5    8.0\n",
       "dtype: float64"
      ]
     },
     "execution_count": 3,
     "metadata": {},
     "output_type": "execute_result"
    }
   ],
   "source": [
    "s"
   ]
  },
  {
   "cell_type": "code",
   "execution_count": 4,
   "metadata": {
    "collapsed": true
   },
   "outputs": [],
   "source": [
    "dates = pd.date_range('20130101', periods=6)"
   ]
  },
  {
   "cell_type": "code",
   "execution_count": 5,
   "metadata": {
    "collapsed": false
   },
   "outputs": [
    {
     "data": {
      "text/plain": [
       "DatetimeIndex(['2013-01-01', '2013-01-02', '2013-01-03', '2013-01-04',\n",
       "               '2013-01-05', '2013-01-06'],\n",
       "              dtype='datetime64[ns]', freq='D')"
      ]
     },
     "execution_count": 5,
     "metadata": {},
     "output_type": "execute_result"
    }
   ],
   "source": [
    "dates"
   ]
  },
  {
   "cell_type": "code",
   "execution_count": 6,
   "metadata": {
    "collapsed": false
   },
   "outputs": [],
   "source": [
    "df = pd.DataFrame(np.random.randn(6,4), index=dates, columns=list('ABCD'))"
   ]
  },
  {
   "cell_type": "code",
   "execution_count": 7,
   "metadata": {
    "collapsed": false
   },
   "outputs": [
    {
     "data": {
      "text/html": [
       "<div>\n",
       "<table border=\"1\" class=\"dataframe\">\n",
       "  <thead>\n",
       "    <tr style=\"text-align: right;\">\n",
       "      <th></th>\n",
       "      <th>A</th>\n",
       "      <th>B</th>\n",
       "      <th>C</th>\n",
       "      <th>D</th>\n",
       "    </tr>\n",
       "  </thead>\n",
       "  <tbody>\n",
       "    <tr>\n",
       "      <th>2013-01-01</th>\n",
       "      <td>1.605464</td>\n",
       "      <td>-1.008836</td>\n",
       "      <td>0.543037</td>\n",
       "      <td>-1.364347</td>\n",
       "    </tr>\n",
       "    <tr>\n",
       "      <th>2013-01-02</th>\n",
       "      <td>0.716080</td>\n",
       "      <td>0.654727</td>\n",
       "      <td>-1.022393</td>\n",
       "      <td>-1.119203</td>\n",
       "    </tr>\n",
       "    <tr>\n",
       "      <th>2013-01-03</th>\n",
       "      <td>-2.572954</td>\n",
       "      <td>0.157874</td>\n",
       "      <td>-0.697321</td>\n",
       "      <td>0.424914</td>\n",
       "    </tr>\n",
       "    <tr>\n",
       "      <th>2013-01-04</th>\n",
       "      <td>1.099196</td>\n",
       "      <td>-0.704623</td>\n",
       "      <td>1.781234</td>\n",
       "      <td>-0.053827</td>\n",
       "    </tr>\n",
       "    <tr>\n",
       "      <th>2013-01-05</th>\n",
       "      <td>0.842961</td>\n",
       "      <td>0.238317</td>\n",
       "      <td>-0.127934</td>\n",
       "      <td>-1.578623</td>\n",
       "    </tr>\n",
       "    <tr>\n",
       "      <th>2013-01-06</th>\n",
       "      <td>-1.062399</td>\n",
       "      <td>0.258596</td>\n",
       "      <td>0.541247</td>\n",
       "      <td>0.670675</td>\n",
       "    </tr>\n",
       "  </tbody>\n",
       "</table>\n",
       "</div>"
      ],
      "text/plain": [
       "                   A         B         C         D\n",
       "2013-01-01  1.605464 -1.008836  0.543037 -1.364347\n",
       "2013-01-02  0.716080  0.654727 -1.022393 -1.119203\n",
       "2013-01-03 -2.572954  0.157874 -0.697321  0.424914\n",
       "2013-01-04  1.099196 -0.704623  1.781234 -0.053827\n",
       "2013-01-05  0.842961  0.238317 -0.127934 -1.578623\n",
       "2013-01-06 -1.062399  0.258596  0.541247  0.670675"
      ]
     },
     "execution_count": 7,
     "metadata": {},
     "output_type": "execute_result"
    }
   ],
   "source": [
    "df"
   ]
  },
  {
   "cell_type": "code",
   "execution_count": 8,
   "metadata": {
    "collapsed": false
   },
   "outputs": [],
   "source": [
    "df2 = pd.DataFrame({ 'A' : 1.,\n",
    "                     'B' : pd.Timestamp('20130102'),\n",
    "                     'C' : pd.Series(1,index=list(range(4)),dtype='float32'),\n",
    "                     'D' : np.array([3] * 4,dtype='int32'),\n",
    "                     'E' : pd.Categorical([\"test\",\"train\",\"test\",\"train\"]),\n",
    "                     'F' : 'foo' })"
   ]
  },
  {
   "cell_type": "code",
   "execution_count": 9,
   "metadata": {
    "collapsed": false
   },
   "outputs": [
    {
     "data": {
      "text/html": [
       "<div>\n",
       "<table border=\"1\" class=\"dataframe\">\n",
       "  <thead>\n",
       "    <tr style=\"text-align: right;\">\n",
       "      <th></th>\n",
       "      <th>A</th>\n",
       "      <th>B</th>\n",
       "      <th>C</th>\n",
       "      <th>D</th>\n",
       "      <th>E</th>\n",
       "      <th>F</th>\n",
       "    </tr>\n",
       "  </thead>\n",
       "  <tbody>\n",
       "    <tr>\n",
       "      <th>0</th>\n",
       "      <td>1.0</td>\n",
       "      <td>2013-01-02</td>\n",
       "      <td>1.0</td>\n",
       "      <td>3</td>\n",
       "      <td>test</td>\n",
       "      <td>foo</td>\n",
       "    </tr>\n",
       "    <tr>\n",
       "      <th>1</th>\n",
       "      <td>1.0</td>\n",
       "      <td>2013-01-02</td>\n",
       "      <td>1.0</td>\n",
       "      <td>3</td>\n",
       "      <td>train</td>\n",
       "      <td>foo</td>\n",
       "    </tr>\n",
       "    <tr>\n",
       "      <th>2</th>\n",
       "      <td>1.0</td>\n",
       "      <td>2013-01-02</td>\n",
       "      <td>1.0</td>\n",
       "      <td>3</td>\n",
       "      <td>test</td>\n",
       "      <td>foo</td>\n",
       "    </tr>\n",
       "    <tr>\n",
       "      <th>3</th>\n",
       "      <td>1.0</td>\n",
       "      <td>2013-01-02</td>\n",
       "      <td>1.0</td>\n",
       "      <td>3</td>\n",
       "      <td>train</td>\n",
       "      <td>foo</td>\n",
       "    </tr>\n",
       "  </tbody>\n",
       "</table>\n",
       "</div>"
      ],
      "text/plain": [
       "     A          B    C  D      E    F\n",
       "0  1.0 2013-01-02  1.0  3   test  foo\n",
       "1  1.0 2013-01-02  1.0  3  train  foo\n",
       "2  1.0 2013-01-02  1.0  3   test  foo\n",
       "3  1.0 2013-01-02  1.0  3  train  foo"
      ]
     },
     "execution_count": 9,
     "metadata": {},
     "output_type": "execute_result"
    }
   ],
   "source": [
    "df2"
   ]
  },
  {
   "cell_type": "code",
   "execution_count": 10,
   "metadata": {
    "collapsed": false
   },
   "outputs": [
    {
     "data": {
      "text/plain": [
       "A           float64\n",
       "B    datetime64[ns]\n",
       "C           float32\n",
       "D             int32\n",
       "E          category\n",
       "F            object\n",
       "dtype: object"
      ]
     },
     "execution_count": 10,
     "metadata": {},
     "output_type": "execute_result"
    }
   ],
   "source": [
    "df2.dtypes"
   ]
  },
  {
   "cell_type": "code",
   "execution_count": 11,
   "metadata": {
    "collapsed": false
   },
   "outputs": [
    {
     "data": {
      "text/plain": [
       "<bound method DataFrame.corr of      A          B    C  D      E    F\n",
       "0  1.0 2013-01-02  1.0  3   test  foo\n",
       "1  1.0 2013-01-02  1.0  3  train  foo\n",
       "2  1.0 2013-01-02  1.0  3   test  foo\n",
       "3  1.0 2013-01-02  1.0  3  train  foo>"
      ]
     },
     "execution_count": 11,
     "metadata": {},
     "output_type": "execute_result"
    }
   ],
   "source": [
    "df2.corr"
   ]
  },
  {
   "cell_type": "code",
   "execution_count": 30,
   "metadata": {
    "collapsed": false
   },
   "outputs": [
    {
     "data": {
      "text/plain": [
       "<bound method DataFrame.boxplot of      A          B    C  D      E    F\n",
       "0  1.0 2013-01-02  1.0  3   test  foo\n",
       "1  1.0 2013-01-02  1.0  3  train  foo\n",
       "2  1.0 2013-01-02  1.0  3   test  foo\n",
       "3  1.0 2013-01-02  1.0  3  train  foo>"
      ]
     },
     "execution_count": 30,
     "metadata": {},
     "output_type": "execute_result"
    }
   ],
   "source": [
    "df2.boxplot"
   ]
  },
  {
   "cell_type": "code",
   "execution_count": 31,
   "metadata": {
    "collapsed": false
   },
   "outputs": [
    {
     "data": {
      "text/plain": [
       "<bound method DataFrame.head of                    A         B         C         D\n",
       "2013-01-01  1.605464 -1.008836  0.543037 -1.364347\n",
       "2013-01-02  0.716080  0.654727 -1.022393 -1.119203\n",
       "2013-01-03 -2.572954  0.157874 -0.697321  0.424914\n",
       "2013-01-04  1.099196 -0.704623  1.781234 -0.053827\n",
       "2013-01-05  0.842961  0.238317 -0.127934 -1.578623\n",
       "2013-01-06 -1.062399  0.258596  0.541247  0.670675>"
      ]
     },
     "execution_count": 31,
     "metadata": {},
     "output_type": "execute_result"
    }
   ],
   "source": [
    "df.head\n"
   ]
  },
  {
   "cell_type": "code",
   "execution_count": 32,
   "metadata": {
    "collapsed": false
   },
   "outputs": [
    {
     "data": {
      "text/html": [
       "<div>\n",
       "<table border=\"1\" class=\"dataframe\">\n",
       "  <thead>\n",
       "    <tr style=\"text-align: right;\">\n",
       "      <th></th>\n",
       "      <th>A</th>\n",
       "      <th>B</th>\n",
       "      <th>C</th>\n",
       "      <th>D</th>\n",
       "    </tr>\n",
       "  </thead>\n",
       "  <tbody>\n",
       "    <tr>\n",
       "      <th>2013-01-05</th>\n",
       "      <td>0.842961</td>\n",
       "      <td>0.238317</td>\n",
       "      <td>-0.127934</td>\n",
       "      <td>-1.578623</td>\n",
       "    </tr>\n",
       "    <tr>\n",
       "      <th>2013-01-06</th>\n",
       "      <td>-1.062399</td>\n",
       "      <td>0.258596</td>\n",
       "      <td>0.541247</td>\n",
       "      <td>0.670675</td>\n",
       "    </tr>\n",
       "  </tbody>\n",
       "</table>\n",
       "</div>"
      ],
      "text/plain": [
       "                   A         B         C         D\n",
       "2013-01-05  0.842961  0.238317 -0.127934 -1.578623\n",
       "2013-01-06 -1.062399  0.258596  0.541247  0.670675"
      ]
     },
     "execution_count": 32,
     "metadata": {},
     "output_type": "execute_result"
    }
   ],
   "source": [
    "df.tail(2)"
   ]
  },
  {
   "cell_type": "code",
   "execution_count": 33,
   "metadata": {
    "collapsed": false
   },
   "outputs": [
    {
     "data": {
      "text/html": [
       "<div>\n",
       "<table border=\"1\" class=\"dataframe\">\n",
       "  <thead>\n",
       "    <tr style=\"text-align: right;\">\n",
       "      <th></th>\n",
       "      <th>A</th>\n",
       "      <th>B</th>\n",
       "      <th>C</th>\n",
       "      <th>D</th>\n",
       "    </tr>\n",
       "  </thead>\n",
       "  <tbody>\n",
       "    <tr>\n",
       "      <th>2013-01-04</th>\n",
       "      <td>1.099196</td>\n",
       "      <td>-0.704623</td>\n",
       "      <td>1.781234</td>\n",
       "      <td>-0.053827</td>\n",
       "    </tr>\n",
       "    <tr>\n",
       "      <th>2013-01-05</th>\n",
       "      <td>0.842961</td>\n",
       "      <td>0.238317</td>\n",
       "      <td>-0.127934</td>\n",
       "      <td>-1.578623</td>\n",
       "    </tr>\n",
       "    <tr>\n",
       "      <th>2013-01-06</th>\n",
       "      <td>-1.062399</td>\n",
       "      <td>0.258596</td>\n",
       "      <td>0.541247</td>\n",
       "      <td>0.670675</td>\n",
       "    </tr>\n",
       "  </tbody>\n",
       "</table>\n",
       "</div>"
      ],
      "text/plain": [
       "                   A         B         C         D\n",
       "2013-01-04  1.099196 -0.704623  1.781234 -0.053827\n",
       "2013-01-05  0.842961  0.238317 -0.127934 -1.578623\n",
       "2013-01-06 -1.062399  0.258596  0.541247  0.670675"
      ]
     },
     "execution_count": 33,
     "metadata": {},
     "output_type": "execute_result"
    }
   ],
   "source": [
    "df.tail(3)"
   ]
  },
  {
   "cell_type": "code",
   "execution_count": 34,
   "metadata": {
    "collapsed": false
   },
   "outputs": [
    {
     "data": {
      "text/html": [
       "<div>\n",
       "<table border=\"1\" class=\"dataframe\">\n",
       "  <thead>\n",
       "    <tr style=\"text-align: right;\">\n",
       "      <th></th>\n",
       "      <th>A</th>\n",
       "      <th>B</th>\n",
       "      <th>C</th>\n",
       "      <th>D</th>\n",
       "    </tr>\n",
       "  </thead>\n",
       "  <tbody>\n",
       "    <tr>\n",
       "      <th>2013-01-01</th>\n",
       "      <td>1.605464</td>\n",
       "      <td>-1.008836</td>\n",
       "      <td>0.543037</td>\n",
       "      <td>-1.364347</td>\n",
       "    </tr>\n",
       "    <tr>\n",
       "      <th>2013-01-02</th>\n",
       "      <td>0.716080</td>\n",
       "      <td>0.654727</td>\n",
       "      <td>-1.022393</td>\n",
       "      <td>-1.119203</td>\n",
       "    </tr>\n",
       "    <tr>\n",
       "      <th>2013-01-03</th>\n",
       "      <td>-2.572954</td>\n",
       "      <td>0.157874</td>\n",
       "      <td>-0.697321</td>\n",
       "      <td>0.424914</td>\n",
       "    </tr>\n",
       "    <tr>\n",
       "      <th>2013-01-04</th>\n",
       "      <td>1.099196</td>\n",
       "      <td>-0.704623</td>\n",
       "      <td>1.781234</td>\n",
       "      <td>-0.053827</td>\n",
       "    </tr>\n",
       "    <tr>\n",
       "      <th>2013-01-05</th>\n",
       "      <td>0.842961</td>\n",
       "      <td>0.238317</td>\n",
       "      <td>-0.127934</td>\n",
       "      <td>-1.578623</td>\n",
       "    </tr>\n",
       "  </tbody>\n",
       "</table>\n",
       "</div>"
      ],
      "text/plain": [
       "                   A         B         C         D\n",
       "2013-01-01  1.605464 -1.008836  0.543037 -1.364347\n",
       "2013-01-02  0.716080  0.654727 -1.022393 -1.119203\n",
       "2013-01-03 -2.572954  0.157874 -0.697321  0.424914\n",
       "2013-01-04  1.099196 -0.704623  1.781234 -0.053827\n",
       "2013-01-05  0.842961  0.238317 -0.127934 -1.578623"
      ]
     },
     "execution_count": 34,
     "metadata": {},
     "output_type": "execute_result"
    }
   ],
   "source": [
    "df.head()"
   ]
  },
  {
   "cell_type": "code",
   "execution_count": 35,
   "metadata": {
    "collapsed": false
   },
   "outputs": [
    {
     "data": {
      "text/plain": [
       "DatetimeIndex(['2013-01-01', '2013-01-02', '2013-01-03', '2013-01-04',\n",
       "               '2013-01-05', '2013-01-06'],\n",
       "              dtype='datetime64[ns]', freq='D')"
      ]
     },
     "execution_count": 35,
     "metadata": {},
     "output_type": "execute_result"
    }
   ],
   "source": [
    "df.index"
   ]
  },
  {
   "cell_type": "code",
   "execution_count": 36,
   "metadata": {
    "collapsed": false
   },
   "outputs": [
    {
     "data": {
      "text/plain": [
       "DatetimeIndex(['2013-01-01', '2013-01-02', '2013-01-03', '2013-01-04',\n",
       "               '2013-01-05', '2013-01-06'],\n",
       "              dtype='datetime64[ns]', freq='D')"
      ]
     },
     "execution_count": 36,
     "metadata": {},
     "output_type": "execute_result"
    }
   ],
   "source": [
    "df.index"
   ]
  },
  {
   "cell_type": "code",
   "execution_count": 37,
   "metadata": {
    "collapsed": false
   },
   "outputs": [
    {
     "data": {
      "text/plain": [
       "Index([u'A', u'B', u'C', u'D'], dtype='object')"
      ]
     },
     "execution_count": 37,
     "metadata": {},
     "output_type": "execute_result"
    }
   ],
   "source": [
    "df.columns"
   ]
  },
  {
   "cell_type": "code",
   "execution_count": 38,
   "metadata": {
    "collapsed": false
   },
   "outputs": [
    {
     "data": {
      "text/plain": [
       "array([[ 1.60546446, -1.00883566,  0.54303688, -1.36434735],\n",
       "       [ 0.71608007,  0.65472746, -1.02239291, -1.11920255],\n",
       "       [-2.57295392,  0.15787445, -0.69732081,  0.42491364],\n",
       "       [ 1.09919569, -0.70462299,  1.78123443, -0.05382745],\n",
       "       [ 0.84296077,  0.23831693, -0.12793398, -1.57862257],\n",
       "       [-1.06239921,  0.25859604,  0.54124731,  0.67067472]])"
      ]
     },
     "execution_count": 38,
     "metadata": {},
     "output_type": "execute_result"
    }
   ],
   "source": [
    "df.values"
   ]
  },
  {
   "cell_type": "code",
   "execution_count": 39,
   "metadata": {
    "collapsed": false
   },
   "outputs": [
    {
     "data": {
      "text/html": [
       "<div>\n",
       "<table border=\"1\" class=\"dataframe\">\n",
       "  <thead>\n",
       "    <tr style=\"text-align: right;\">\n",
       "      <th></th>\n",
       "      <th>A</th>\n",
       "      <th>B</th>\n",
       "      <th>C</th>\n",
       "      <th>D</th>\n",
       "    </tr>\n",
       "  </thead>\n",
       "  <tbody>\n",
       "    <tr>\n",
       "      <th>count</th>\n",
       "      <td>6.000000</td>\n",
       "      <td>6.000000</td>\n",
       "      <td>6.000000</td>\n",
       "      <td>6.000000</td>\n",
       "    </tr>\n",
       "    <tr>\n",
       "      <th>mean</th>\n",
       "      <td>0.104725</td>\n",
       "      <td>-0.067324</td>\n",
       "      <td>0.169645</td>\n",
       "      <td>-0.503402</td>\n",
       "    </tr>\n",
       "    <tr>\n",
       "      <th>std</th>\n",
       "      <td>1.593241</td>\n",
       "      <td>0.642543</td>\n",
       "      <td>1.013496</td>\n",
       "      <td>0.971481</td>\n",
       "    </tr>\n",
       "    <tr>\n",
       "      <th>min</th>\n",
       "      <td>-2.572954</td>\n",
       "      <td>-1.008836</td>\n",
       "      <td>-1.022393</td>\n",
       "      <td>-1.578623</td>\n",
       "    </tr>\n",
       "    <tr>\n",
       "      <th>25%</th>\n",
       "      <td>-0.617779</td>\n",
       "      <td>-0.488999</td>\n",
       "      <td>-0.554974</td>\n",
       "      <td>-1.303061</td>\n",
       "    </tr>\n",
       "    <tr>\n",
       "      <th>50%</th>\n",
       "      <td>0.779520</td>\n",
       "      <td>0.198096</td>\n",
       "      <td>0.206657</td>\n",
       "      <td>-0.586515</td>\n",
       "    </tr>\n",
       "    <tr>\n",
       "      <th>75%</th>\n",
       "      <td>1.035137</td>\n",
       "      <td>0.253526</td>\n",
       "      <td>0.542589</td>\n",
       "      <td>0.305228</td>\n",
       "    </tr>\n",
       "    <tr>\n",
       "      <th>max</th>\n",
       "      <td>1.605464</td>\n",
       "      <td>0.654727</td>\n",
       "      <td>1.781234</td>\n",
       "      <td>0.670675</td>\n",
       "    </tr>\n",
       "  </tbody>\n",
       "</table>\n",
       "</div>"
      ],
      "text/plain": [
       "              A         B         C         D\n",
       "count  6.000000  6.000000  6.000000  6.000000\n",
       "mean   0.104725 -0.067324  0.169645 -0.503402\n",
       "std    1.593241  0.642543  1.013496  0.971481\n",
       "min   -2.572954 -1.008836 -1.022393 -1.578623\n",
       "25%   -0.617779 -0.488999 -0.554974 -1.303061\n",
       "50%    0.779520  0.198096  0.206657 -0.586515\n",
       "75%    1.035137  0.253526  0.542589  0.305228\n",
       "max    1.605464  0.654727  1.781234  0.670675"
      ]
     },
     "execution_count": 39,
     "metadata": {},
     "output_type": "execute_result"
    }
   ],
   "source": [
    "df.describe()"
   ]
  },
  {
   "cell_type": "code",
   "execution_count": 40,
   "metadata": {
    "collapsed": false
   },
   "outputs": [
    {
     "data": {
      "text/plain": [
       "<bound method DataFrame.describe of                    A         B         C         D\n",
       "2013-01-01  1.605464 -1.008836  0.543037 -1.364347\n",
       "2013-01-02  0.716080  0.654727 -1.022393 -1.119203\n",
       "2013-01-03 -2.572954  0.157874 -0.697321  0.424914\n",
       "2013-01-04  1.099196 -0.704623  1.781234 -0.053827\n",
       "2013-01-05  0.842961  0.238317 -0.127934 -1.578623\n",
       "2013-01-06 -1.062399  0.258596  0.541247  0.670675>"
      ]
     },
     "execution_count": 40,
     "metadata": {},
     "output_type": "execute_result"
    }
   ],
   "source": [
    "df.describe"
   ]
  },
  {
   "cell_type": "code",
   "execution_count": 41,
   "metadata": {
    "collapsed": false
   },
   "outputs": [
    {
     "data": {
      "text/html": [
       "<div>\n",
       "<table border=\"1\" class=\"dataframe\">\n",
       "  <thead>\n",
       "    <tr style=\"text-align: right;\">\n",
       "      <th></th>\n",
       "      <th>2013-01-01 00:00:00</th>\n",
       "      <th>2013-01-02 00:00:00</th>\n",
       "      <th>2013-01-03 00:00:00</th>\n",
       "      <th>2013-01-04 00:00:00</th>\n",
       "      <th>2013-01-05 00:00:00</th>\n",
       "      <th>2013-01-06 00:00:00</th>\n",
       "    </tr>\n",
       "  </thead>\n",
       "  <tbody>\n",
       "    <tr>\n",
       "      <th>A</th>\n",
       "      <td>1.605464</td>\n",
       "      <td>0.716080</td>\n",
       "      <td>-2.572954</td>\n",
       "      <td>1.099196</td>\n",
       "      <td>0.842961</td>\n",
       "      <td>-1.062399</td>\n",
       "    </tr>\n",
       "    <tr>\n",
       "      <th>B</th>\n",
       "      <td>-1.008836</td>\n",
       "      <td>0.654727</td>\n",
       "      <td>0.157874</td>\n",
       "      <td>-0.704623</td>\n",
       "      <td>0.238317</td>\n",
       "      <td>0.258596</td>\n",
       "    </tr>\n",
       "    <tr>\n",
       "      <th>C</th>\n",
       "      <td>0.543037</td>\n",
       "      <td>-1.022393</td>\n",
       "      <td>-0.697321</td>\n",
       "      <td>1.781234</td>\n",
       "      <td>-0.127934</td>\n",
       "      <td>0.541247</td>\n",
       "    </tr>\n",
       "    <tr>\n",
       "      <th>D</th>\n",
       "      <td>-1.364347</td>\n",
       "      <td>-1.119203</td>\n",
       "      <td>0.424914</td>\n",
       "      <td>-0.053827</td>\n",
       "      <td>-1.578623</td>\n",
       "      <td>0.670675</td>\n",
       "    </tr>\n",
       "  </tbody>\n",
       "</table>\n",
       "</div>"
      ],
      "text/plain": [
       "   2013-01-01  2013-01-02  2013-01-03  2013-01-04  2013-01-05  2013-01-06\n",
       "A    1.605464    0.716080   -2.572954    1.099196    0.842961   -1.062399\n",
       "B   -1.008836    0.654727    0.157874   -0.704623    0.238317    0.258596\n",
       "C    0.543037   -1.022393   -0.697321    1.781234   -0.127934    0.541247\n",
       "D   -1.364347   -1.119203    0.424914   -0.053827   -1.578623    0.670675"
      ]
     },
     "execution_count": 41,
     "metadata": {},
     "output_type": "execute_result"
    }
   ],
   "source": [
    "df.T"
   ]
  },
  {
   "cell_type": "code",
   "execution_count": 42,
   "metadata": {
    "collapsed": false
   },
   "outputs": [
    {
     "data": {
      "text/plain": [
       "<bound method DataFrame.sort of                    A         B         C         D\n",
       "2013-01-01  1.605464 -1.008836  0.543037 -1.364347\n",
       "2013-01-02  0.716080  0.654727 -1.022393 -1.119203\n",
       "2013-01-03 -2.572954  0.157874 -0.697321  0.424914\n",
       "2013-01-04  1.099196 -0.704623  1.781234 -0.053827\n",
       "2013-01-05  0.842961  0.238317 -0.127934 -1.578623\n",
       "2013-01-06 -1.062399  0.258596  0.541247  0.670675>"
      ]
     },
     "execution_count": 42,
     "metadata": {},
     "output_type": "execute_result"
    }
   ],
   "source": [
    "df.sort"
   ]
  },
  {
   "cell_type": "code",
   "execution_count": 43,
   "metadata": {
    "collapsed": false
   },
   "outputs": [
    {
     "data": {
      "text/html": [
       "<div>\n",
       "<table border=\"1\" class=\"dataframe\">\n",
       "  <thead>\n",
       "    <tr style=\"text-align: right;\">\n",
       "      <th></th>\n",
       "      <th>D</th>\n",
       "      <th>C</th>\n",
       "      <th>B</th>\n",
       "      <th>A</th>\n",
       "    </tr>\n",
       "  </thead>\n",
       "  <tbody>\n",
       "    <tr>\n",
       "      <th>2013-01-01</th>\n",
       "      <td>-1.364347</td>\n",
       "      <td>0.543037</td>\n",
       "      <td>-1.008836</td>\n",
       "      <td>1.605464</td>\n",
       "    </tr>\n",
       "    <tr>\n",
       "      <th>2013-01-02</th>\n",
       "      <td>-1.119203</td>\n",
       "      <td>-1.022393</td>\n",
       "      <td>0.654727</td>\n",
       "      <td>0.716080</td>\n",
       "    </tr>\n",
       "    <tr>\n",
       "      <th>2013-01-03</th>\n",
       "      <td>0.424914</td>\n",
       "      <td>-0.697321</td>\n",
       "      <td>0.157874</td>\n",
       "      <td>-2.572954</td>\n",
       "    </tr>\n",
       "    <tr>\n",
       "      <th>2013-01-04</th>\n",
       "      <td>-0.053827</td>\n",
       "      <td>1.781234</td>\n",
       "      <td>-0.704623</td>\n",
       "      <td>1.099196</td>\n",
       "    </tr>\n",
       "    <tr>\n",
       "      <th>2013-01-05</th>\n",
       "      <td>-1.578623</td>\n",
       "      <td>-0.127934</td>\n",
       "      <td>0.238317</td>\n",
       "      <td>0.842961</td>\n",
       "    </tr>\n",
       "    <tr>\n",
       "      <th>2013-01-06</th>\n",
       "      <td>0.670675</td>\n",
       "      <td>0.541247</td>\n",
       "      <td>0.258596</td>\n",
       "      <td>-1.062399</td>\n",
       "    </tr>\n",
       "  </tbody>\n",
       "</table>\n",
       "</div>"
      ],
      "text/plain": [
       "                   D         C         B         A\n",
       "2013-01-01 -1.364347  0.543037 -1.008836  1.605464\n",
       "2013-01-02 -1.119203 -1.022393  0.654727  0.716080\n",
       "2013-01-03  0.424914 -0.697321  0.157874 -2.572954\n",
       "2013-01-04 -0.053827  1.781234 -0.704623  1.099196\n",
       "2013-01-05 -1.578623 -0.127934  0.238317  0.842961\n",
       "2013-01-06  0.670675  0.541247  0.258596 -1.062399"
      ]
     },
     "execution_count": 43,
     "metadata": {},
     "output_type": "execute_result"
    }
   ],
   "source": [
    "df.sort_index(axis=1, ascending=False)"
   ]
  },
  {
   "cell_type": "code",
   "execution_count": 44,
   "metadata": {
    "collapsed": false
   },
   "outputs": [
    {
     "data": {
      "text/html": [
       "<div>\n",
       "<table border=\"1\" class=\"dataframe\">\n",
       "  <thead>\n",
       "    <tr style=\"text-align: right;\">\n",
       "      <th></th>\n",
       "      <th>D</th>\n",
       "      <th>C</th>\n",
       "      <th>B</th>\n",
       "      <th>A</th>\n",
       "    </tr>\n",
       "  </thead>\n",
       "  <tbody>\n",
       "    <tr>\n",
       "      <th>2013-01-01</th>\n",
       "      <td>-1.364347</td>\n",
       "      <td>0.543037</td>\n",
       "      <td>-1.008836</td>\n",
       "      <td>1.605464</td>\n",
       "    </tr>\n",
       "    <tr>\n",
       "      <th>2013-01-02</th>\n",
       "      <td>-1.119203</td>\n",
       "      <td>-1.022393</td>\n",
       "      <td>0.654727</td>\n",
       "      <td>0.716080</td>\n",
       "    </tr>\n",
       "    <tr>\n",
       "      <th>2013-01-03</th>\n",
       "      <td>0.424914</td>\n",
       "      <td>-0.697321</td>\n",
       "      <td>0.157874</td>\n",
       "      <td>-2.572954</td>\n",
       "    </tr>\n",
       "    <tr>\n",
       "      <th>2013-01-04</th>\n",
       "      <td>-0.053827</td>\n",
       "      <td>1.781234</td>\n",
       "      <td>-0.704623</td>\n",
       "      <td>1.099196</td>\n",
       "    </tr>\n",
       "    <tr>\n",
       "      <th>2013-01-05</th>\n",
       "      <td>-1.578623</td>\n",
       "      <td>-0.127934</td>\n",
       "      <td>0.238317</td>\n",
       "      <td>0.842961</td>\n",
       "    </tr>\n",
       "    <tr>\n",
       "      <th>2013-01-06</th>\n",
       "      <td>0.670675</td>\n",
       "      <td>0.541247</td>\n",
       "      <td>0.258596</td>\n",
       "      <td>-1.062399</td>\n",
       "    </tr>\n",
       "  </tbody>\n",
       "</table>\n",
       "</div>"
      ],
      "text/plain": [
       "                   D         C         B         A\n",
       "2013-01-01 -1.364347  0.543037 -1.008836  1.605464\n",
       "2013-01-02 -1.119203 -1.022393  0.654727  0.716080\n",
       "2013-01-03  0.424914 -0.697321  0.157874 -2.572954\n",
       "2013-01-04 -0.053827  1.781234 -0.704623  1.099196\n",
       "2013-01-05 -1.578623 -0.127934  0.238317  0.842961\n",
       "2013-01-06  0.670675  0.541247  0.258596 -1.062399"
      ]
     },
     "execution_count": 44,
     "metadata": {},
     "output_type": "execute_result"
    }
   ],
   "source": [
    "df.sort_index(axis=1, ascending=False)"
   ]
  },
  {
   "cell_type": "code",
   "execution_count": 45,
   "metadata": {
    "collapsed": false
   },
   "outputs": [
    {
     "data": {
      "text/html": [
       "<div>\n",
       "<table border=\"1\" class=\"dataframe\">\n",
       "  <thead>\n",
       "    <tr style=\"text-align: right;\">\n",
       "      <th></th>\n",
       "      <th>A</th>\n",
       "      <th>B</th>\n",
       "      <th>C</th>\n",
       "      <th>D</th>\n",
       "    </tr>\n",
       "  </thead>\n",
       "  <tbody>\n",
       "    <tr>\n",
       "      <th>2013-01-01</th>\n",
       "      <td>1.605464</td>\n",
       "      <td>-1.008836</td>\n",
       "      <td>0.543037</td>\n",
       "      <td>-1.364347</td>\n",
       "    </tr>\n",
       "    <tr>\n",
       "      <th>2013-01-04</th>\n",
       "      <td>1.099196</td>\n",
       "      <td>-0.704623</td>\n",
       "      <td>1.781234</td>\n",
       "      <td>-0.053827</td>\n",
       "    </tr>\n",
       "    <tr>\n",
       "      <th>2013-01-03</th>\n",
       "      <td>-2.572954</td>\n",
       "      <td>0.157874</td>\n",
       "      <td>-0.697321</td>\n",
       "      <td>0.424914</td>\n",
       "    </tr>\n",
       "    <tr>\n",
       "      <th>2013-01-05</th>\n",
       "      <td>0.842961</td>\n",
       "      <td>0.238317</td>\n",
       "      <td>-0.127934</td>\n",
       "      <td>-1.578623</td>\n",
       "    </tr>\n",
       "    <tr>\n",
       "      <th>2013-01-06</th>\n",
       "      <td>-1.062399</td>\n",
       "      <td>0.258596</td>\n",
       "      <td>0.541247</td>\n",
       "      <td>0.670675</td>\n",
       "    </tr>\n",
       "    <tr>\n",
       "      <th>2013-01-02</th>\n",
       "      <td>0.716080</td>\n",
       "      <td>0.654727</td>\n",
       "      <td>-1.022393</td>\n",
       "      <td>-1.119203</td>\n",
       "    </tr>\n",
       "  </tbody>\n",
       "</table>\n",
       "</div>"
      ],
      "text/plain": [
       "                   A         B         C         D\n",
       "2013-01-01  1.605464 -1.008836  0.543037 -1.364347\n",
       "2013-01-04  1.099196 -0.704623  1.781234 -0.053827\n",
       "2013-01-03 -2.572954  0.157874 -0.697321  0.424914\n",
       "2013-01-05  0.842961  0.238317 -0.127934 -1.578623\n",
       "2013-01-06 -1.062399  0.258596  0.541247  0.670675\n",
       "2013-01-02  0.716080  0.654727 -1.022393 -1.119203"
      ]
     },
     "execution_count": 45,
     "metadata": {},
     "output_type": "execute_result"
    }
   ],
   "source": [
    "df.sort_values(by='B')"
   ]
  },
  {
   "cell_type": "code",
   "execution_count": 46,
   "metadata": {
    "collapsed": false
   },
   "outputs": [
    {
     "data": {
      "text/plain": [
       "2013-01-01    1.605464\n",
       "2013-01-02    0.716080\n",
       "2013-01-03   -2.572954\n",
       "2013-01-04    1.099196\n",
       "2013-01-05    0.842961\n",
       "2013-01-06   -1.062399\n",
       "Freq: D, Name: A, dtype: float64"
      ]
     },
     "execution_count": 46,
     "metadata": {},
     "output_type": "execute_result"
    }
   ],
   "source": [
    "df['A']"
   ]
  },
  {
   "cell_type": "code",
   "execution_count": 47,
   "metadata": {
    "collapsed": false
   },
   "outputs": [
    {
     "data": {
      "text/html": [
       "<div>\n",
       "<table border=\"1\" class=\"dataframe\">\n",
       "  <thead>\n",
       "    <tr style=\"text-align: right;\">\n",
       "      <th></th>\n",
       "      <th>A</th>\n",
       "      <th>B</th>\n",
       "      <th>C</th>\n",
       "      <th>D</th>\n",
       "    </tr>\n",
       "  </thead>\n",
       "  <tbody>\n",
       "    <tr>\n",
       "      <th>2013-01-03</th>\n",
       "      <td>-2.572954</td>\n",
       "      <td>0.157874</td>\n",
       "      <td>-0.697321</td>\n",
       "      <td>0.424914</td>\n",
       "    </tr>\n",
       "    <tr>\n",
       "      <th>2013-01-04</th>\n",
       "      <td>1.099196</td>\n",
       "      <td>-0.704623</td>\n",
       "      <td>1.781234</td>\n",
       "      <td>-0.053827</td>\n",
       "    </tr>\n",
       "  </tbody>\n",
       "</table>\n",
       "</div>"
      ],
      "text/plain": [
       "                   A         B         C         D\n",
       "2013-01-03 -2.572954  0.157874 -0.697321  0.424914\n",
       "2013-01-04  1.099196 -0.704623  1.781234 -0.053827"
      ]
     },
     "execution_count": 47,
     "metadata": {},
     "output_type": "execute_result"
    }
   ],
   "source": [
    "df[2:4]"
   ]
  },
  {
   "cell_type": "code",
   "execution_count": 48,
   "metadata": {
    "collapsed": false
   },
   "outputs": [
    {
     "data": {
      "text/html": [
       "<div>\n",
       "<table border=\"1\" class=\"dataframe\">\n",
       "  <thead>\n",
       "    <tr style=\"text-align: right;\">\n",
       "      <th></th>\n",
       "      <th>A</th>\n",
       "      <th>B</th>\n",
       "      <th>C</th>\n",
       "      <th>D</th>\n",
       "    </tr>\n",
       "  </thead>\n",
       "  <tbody>\n",
       "    <tr>\n",
       "      <th>2013-01-02</th>\n",
       "      <td>0.716080</td>\n",
       "      <td>0.654727</td>\n",
       "      <td>-1.022393</td>\n",
       "      <td>-1.119203</td>\n",
       "    </tr>\n",
       "    <tr>\n",
       "      <th>2013-01-03</th>\n",
       "      <td>-2.572954</td>\n",
       "      <td>0.157874</td>\n",
       "      <td>-0.697321</td>\n",
       "      <td>0.424914</td>\n",
       "    </tr>\n",
       "    <tr>\n",
       "      <th>2013-01-04</th>\n",
       "      <td>1.099196</td>\n",
       "      <td>-0.704623</td>\n",
       "      <td>1.781234</td>\n",
       "      <td>-0.053827</td>\n",
       "    </tr>\n",
       "  </tbody>\n",
       "</table>\n",
       "</div>"
      ],
      "text/plain": [
       "                   A         B         C         D\n",
       "2013-01-02  0.716080  0.654727 -1.022393 -1.119203\n",
       "2013-01-03 -2.572954  0.157874 -0.697321  0.424914\n",
       "2013-01-04  1.099196 -0.704623  1.781234 -0.053827"
      ]
     },
     "execution_count": 48,
     "metadata": {},
     "output_type": "execute_result"
    }
   ],
   "source": [
    "df['20130102':'20130104']"
   ]
  },
  {
   "cell_type": "code",
   "execution_count": 49,
   "metadata": {
    "collapsed": false
   },
   "outputs": [
    {
     "data": {
      "text/plain": [
       "A    1.605464\n",
       "B   -1.008836\n",
       "C    0.543037\n",
       "D   -1.364347\n",
       "Name: 2013-01-01 00:00:00, dtype: float64"
      ]
     },
     "execution_count": 49,
     "metadata": {},
     "output_type": "execute_result"
    }
   ],
   "source": [
    "df.loc[dates[0]]"
   ]
  },
  {
   "cell_type": "code",
   "execution_count": 50,
   "metadata": {
    "collapsed": false
   },
   "outputs": [
    {
     "data": {
      "text/plain": [
       "A    1.605464\n",
       "B   -1.008836\n",
       "C    0.543037\n",
       "D   -1.364347\n",
       "Name: 2013-01-01 00:00:00, dtype: float64"
      ]
     },
     "execution_count": 50,
     "metadata": {},
     "output_type": "execute_result"
    }
   ],
   "source": [
    "df.loc[dates[0]]"
   ]
  },
  {
   "cell_type": "code",
   "execution_count": 51,
   "metadata": {
    "collapsed": false
   },
   "outputs": [
    {
     "data": {
      "text/html": [
       "<div>\n",
       "<table border=\"1\" class=\"dataframe\">\n",
       "  <thead>\n",
       "    <tr style=\"text-align: right;\">\n",
       "      <th></th>\n",
       "      <th>A</th>\n",
       "      <th>C</th>\n",
       "    </tr>\n",
       "  </thead>\n",
       "  <tbody>\n",
       "    <tr>\n",
       "      <th>2013-01-01</th>\n",
       "      <td>1.605464</td>\n",
       "      <td>0.543037</td>\n",
       "    </tr>\n",
       "    <tr>\n",
       "      <th>2013-01-02</th>\n",
       "      <td>0.716080</td>\n",
       "      <td>-1.022393</td>\n",
       "    </tr>\n",
       "    <tr>\n",
       "      <th>2013-01-03</th>\n",
       "      <td>-2.572954</td>\n",
       "      <td>-0.697321</td>\n",
       "    </tr>\n",
       "    <tr>\n",
       "      <th>2013-01-04</th>\n",
       "      <td>1.099196</td>\n",
       "      <td>1.781234</td>\n",
       "    </tr>\n",
       "    <tr>\n",
       "      <th>2013-01-05</th>\n",
       "      <td>0.842961</td>\n",
       "      <td>-0.127934</td>\n",
       "    </tr>\n",
       "    <tr>\n",
       "      <th>2013-01-06</th>\n",
       "      <td>-1.062399</td>\n",
       "      <td>0.541247</td>\n",
       "    </tr>\n",
       "  </tbody>\n",
       "</table>\n",
       "</div>"
      ],
      "text/plain": [
       "                   A         C\n",
       "2013-01-01  1.605464  0.543037\n",
       "2013-01-02  0.716080 -1.022393\n",
       "2013-01-03 -2.572954 -0.697321\n",
       "2013-01-04  1.099196  1.781234\n",
       "2013-01-05  0.842961 -0.127934\n",
       "2013-01-06 -1.062399  0.541247"
      ]
     },
     "execution_count": 51,
     "metadata": {},
     "output_type": "execute_result"
    }
   ],
   "source": [
    "df.loc[:,['A','C']]"
   ]
  },
  {
   "cell_type": "code",
   "execution_count": 52,
   "metadata": {
    "collapsed": false
   },
   "outputs": [
    {
     "data": {
      "text/html": [
       "<div>\n",
       "<table border=\"1\" class=\"dataframe\">\n",
       "  <thead>\n",
       "    <tr style=\"text-align: right;\">\n",
       "      <th></th>\n",
       "      <th>A</th>\n",
       "      <th>C</th>\n",
       "    </tr>\n",
       "  </thead>\n",
       "  <tbody>\n",
       "    <tr>\n",
       "      <th>2013-01-01</th>\n",
       "      <td>1.605464</td>\n",
       "      <td>0.543037</td>\n",
       "    </tr>\n",
       "    <tr>\n",
       "      <th>2013-01-02</th>\n",
       "      <td>0.716080</td>\n",
       "      <td>-1.022393</td>\n",
       "    </tr>\n",
       "    <tr>\n",
       "      <th>2013-01-03</th>\n",
       "      <td>-2.572954</td>\n",
       "      <td>-0.697321</td>\n",
       "    </tr>\n",
       "    <tr>\n",
       "      <th>2013-01-04</th>\n",
       "      <td>1.099196</td>\n",
       "      <td>1.781234</td>\n",
       "    </tr>\n",
       "    <tr>\n",
       "      <th>2013-01-05</th>\n",
       "      <td>0.842961</td>\n",
       "      <td>-0.127934</td>\n",
       "    </tr>\n",
       "    <tr>\n",
       "      <th>2013-01-06</th>\n",
       "      <td>-1.062399</td>\n",
       "      <td>0.541247</td>\n",
       "    </tr>\n",
       "  </tbody>\n",
       "</table>\n",
       "</div>"
      ],
      "text/plain": [
       "                   A         C\n",
       "2013-01-01  1.605464  0.543037\n",
       "2013-01-02  0.716080 -1.022393\n",
       "2013-01-03 -2.572954 -0.697321\n",
       "2013-01-04  1.099196  1.781234\n",
       "2013-01-05  0.842961 -0.127934\n",
       "2013-01-06 -1.062399  0.541247"
      ]
     },
     "execution_count": 52,
     "metadata": {},
     "output_type": "execute_result"
    }
   ],
   "source": [
    "df.loc[:,['A','C']]"
   ]
  },
  {
   "cell_type": "code",
   "execution_count": 53,
   "metadata": {
    "collapsed": false
   },
   "outputs": [
    {
     "data": {
      "text/html": [
       "<div>\n",
       "<table border=\"1\" class=\"dataframe\">\n",
       "  <thead>\n",
       "    <tr style=\"text-align: right;\">\n",
       "      <th></th>\n",
       "      <th>A</th>\n",
       "      <th>B</th>\n",
       "    </tr>\n",
       "  </thead>\n",
       "  <tbody>\n",
       "    <tr>\n",
       "      <th>2013-01-02</th>\n",
       "      <td>0.716080</td>\n",
       "      <td>0.654727</td>\n",
       "    </tr>\n",
       "    <tr>\n",
       "      <th>2013-01-03</th>\n",
       "      <td>-2.572954</td>\n",
       "      <td>0.157874</td>\n",
       "    </tr>\n",
       "    <tr>\n",
       "      <th>2013-01-04</th>\n",
       "      <td>1.099196</td>\n",
       "      <td>-0.704623</td>\n",
       "    </tr>\n",
       "  </tbody>\n",
       "</table>\n",
       "</div>"
      ],
      "text/plain": [
       "                   A         B\n",
       "2013-01-02  0.716080  0.654727\n",
       "2013-01-03 -2.572954  0.157874\n",
       "2013-01-04  1.099196 -0.704623"
      ]
     },
     "execution_count": 53,
     "metadata": {},
     "output_type": "execute_result"
    }
   ],
   "source": [
    "df.loc['20130102':'20130104',['A','B']]"
   ]
  },
  {
   "cell_type": "code",
   "execution_count": 54,
   "metadata": {
    "collapsed": false
   },
   "outputs": [
    {
     "ename": "SyntaxError",
     "evalue": "invalid syntax (<ipython-input-54-240566fbdf6e>, line 1)",
     "output_type": "error",
     "traceback": [
      "\u001b[1;36m  File \u001b[1;32m\"<ipython-input-54-240566fbdf6e>\"\u001b[1;36m, line \u001b[1;32m1\u001b[0m\n\u001b[1;33m    df.loc[[1:2],['A','B']]\u001b[0m\n\u001b[1;37m             ^\u001b[0m\n\u001b[1;31mSyntaxError\u001b[0m\u001b[1;31m:\u001b[0m invalid syntax\n"
     ]
    }
   ],
   "source": [
    "df.loc[[1:2],['A','B']]"
   ]
  },
  {
   "cell_type": "code",
   "execution_count": 55,
   "metadata": {
    "collapsed": false
   },
   "outputs": [
    {
     "data": {
      "text/html": [
       "<div>\n",
       "<table border=\"1\" class=\"dataframe\">\n",
       "  <thead>\n",
       "    <tr style=\"text-align: right;\">\n",
       "      <th></th>\n",
       "      <th>A</th>\n",
       "      <th>B</th>\n",
       "      <th>C</th>\n",
       "      <th>D</th>\n",
       "    </tr>\n",
       "  </thead>\n",
       "  <tbody>\n",
       "    <tr>\n",
       "      <th>2013-01-01</th>\n",
       "      <td>1.605464</td>\n",
       "      <td>-1.008836</td>\n",
       "      <td>0.543037</td>\n",
       "      <td>-1.364347</td>\n",
       "    </tr>\n",
       "    <tr>\n",
       "      <th>2013-01-02</th>\n",
       "      <td>0.716080</td>\n",
       "      <td>0.654727</td>\n",
       "      <td>-1.022393</td>\n",
       "      <td>-1.119203</td>\n",
       "    </tr>\n",
       "    <tr>\n",
       "      <th>2013-01-03</th>\n",
       "      <td>-2.572954</td>\n",
       "      <td>0.157874</td>\n",
       "      <td>-0.697321</td>\n",
       "      <td>0.424914</td>\n",
       "    </tr>\n",
       "    <tr>\n",
       "      <th>2013-01-04</th>\n",
       "      <td>1.099196</td>\n",
       "      <td>-0.704623</td>\n",
       "      <td>1.781234</td>\n",
       "      <td>-0.053827</td>\n",
       "    </tr>\n",
       "    <tr>\n",
       "      <th>2013-01-05</th>\n",
       "      <td>0.842961</td>\n",
       "      <td>0.238317</td>\n",
       "      <td>-0.127934</td>\n",
       "      <td>-1.578623</td>\n",
       "    </tr>\n",
       "    <tr>\n",
       "      <th>2013-01-06</th>\n",
       "      <td>-1.062399</td>\n",
       "      <td>0.258596</td>\n",
       "      <td>0.541247</td>\n",
       "      <td>0.670675</td>\n",
       "    </tr>\n",
       "  </tbody>\n",
       "</table>\n",
       "</div>"
      ],
      "text/plain": [
       "                   A         B         C         D\n",
       "2013-01-01  1.605464 -1.008836  0.543037 -1.364347\n",
       "2013-01-02  0.716080  0.654727 -1.022393 -1.119203\n",
       "2013-01-03 -2.572954  0.157874 -0.697321  0.424914\n",
       "2013-01-04  1.099196 -0.704623  1.781234 -0.053827\n",
       "2013-01-05  0.842961  0.238317 -0.127934 -1.578623\n",
       "2013-01-06 -1.062399  0.258596  0.541247  0.670675"
      ]
     },
     "execution_count": 55,
     "metadata": {},
     "output_type": "execute_result"
    }
   ],
   "source": [
    "df"
   ]
  },
  {
   "cell_type": "code",
   "execution_count": 56,
   "metadata": {
    "collapsed": false
   },
   "outputs": [],
   "source": [
    "df.loc[:,'E'] = np.array([3] * len(df))"
   ]
  },
  {
   "cell_type": "code",
   "execution_count": 57,
   "metadata": {
    "collapsed": false
   },
   "outputs": [
    {
     "data": {
      "text/html": [
       "<div>\n",
       "<table border=\"1\" class=\"dataframe\">\n",
       "  <thead>\n",
       "    <tr style=\"text-align: right;\">\n",
       "      <th></th>\n",
       "      <th>A</th>\n",
       "      <th>B</th>\n",
       "      <th>C</th>\n",
       "      <th>D</th>\n",
       "      <th>E</th>\n",
       "    </tr>\n",
       "  </thead>\n",
       "  <tbody>\n",
       "    <tr>\n",
       "      <th>2013-01-01</th>\n",
       "      <td>1.605464</td>\n",
       "      <td>-1.008836</td>\n",
       "      <td>0.543037</td>\n",
       "      <td>-1.364347</td>\n",
       "      <td>3</td>\n",
       "    </tr>\n",
       "    <tr>\n",
       "      <th>2013-01-02</th>\n",
       "      <td>0.716080</td>\n",
       "      <td>0.654727</td>\n",
       "      <td>-1.022393</td>\n",
       "      <td>-1.119203</td>\n",
       "      <td>3</td>\n",
       "    </tr>\n",
       "    <tr>\n",
       "      <th>2013-01-03</th>\n",
       "      <td>-2.572954</td>\n",
       "      <td>0.157874</td>\n",
       "      <td>-0.697321</td>\n",
       "      <td>0.424914</td>\n",
       "      <td>3</td>\n",
       "    </tr>\n",
       "    <tr>\n",
       "      <th>2013-01-04</th>\n",
       "      <td>1.099196</td>\n",
       "      <td>-0.704623</td>\n",
       "      <td>1.781234</td>\n",
       "      <td>-0.053827</td>\n",
       "      <td>3</td>\n",
       "    </tr>\n",
       "    <tr>\n",
       "      <th>2013-01-05</th>\n",
       "      <td>0.842961</td>\n",
       "      <td>0.238317</td>\n",
       "      <td>-0.127934</td>\n",
       "      <td>-1.578623</td>\n",
       "      <td>3</td>\n",
       "    </tr>\n",
       "    <tr>\n",
       "      <th>2013-01-06</th>\n",
       "      <td>-1.062399</td>\n",
       "      <td>0.258596</td>\n",
       "      <td>0.541247</td>\n",
       "      <td>0.670675</td>\n",
       "      <td>3</td>\n",
       "    </tr>\n",
       "  </tbody>\n",
       "</table>\n",
       "</div>"
      ],
      "text/plain": [
       "                   A         B         C         D  E\n",
       "2013-01-01  1.605464 -1.008836  0.543037 -1.364347  3\n",
       "2013-01-02  0.716080  0.654727 -1.022393 -1.119203  3\n",
       "2013-01-03 -2.572954  0.157874 -0.697321  0.424914  3\n",
       "2013-01-04  1.099196 -0.704623  1.781234 -0.053827  3\n",
       "2013-01-05  0.842961  0.238317 -0.127934 -1.578623  3\n",
       "2013-01-06 -1.062399  0.258596  0.541247  0.670675  3"
      ]
     },
     "execution_count": 57,
     "metadata": {},
     "output_type": "execute_result"
    }
   ],
   "source": [
    "df"
   ]
  },
  {
   "cell_type": "code",
   "execution_count": 58,
   "metadata": {
    "collapsed": false
   },
   "outputs": [
    {
     "data": {
      "text/plain": [
       "6"
      ]
     },
     "execution_count": 58,
     "metadata": {},
     "output_type": "execute_result"
    }
   ],
   "source": [
    "len(df)"
   ]
  },
  {
   "cell_type": "code",
   "execution_count": 59,
   "metadata": {
    "collapsed": true
   },
   "outputs": [],
   "source": [
    "df2 = df.copy()"
   ]
  },
  {
   "cell_type": "markdown",
   "metadata": {},
   "source": [
    "df2"
   ]
  },
  {
   "cell_type": "code",
   "execution_count": 60,
   "metadata": {
    "collapsed": false
   },
   "outputs": [
    {
     "data": {
      "text/html": [
       "<div>\n",
       "<table border=\"1\" class=\"dataframe\">\n",
       "  <thead>\n",
       "    <tr style=\"text-align: right;\">\n",
       "      <th></th>\n",
       "      <th>A</th>\n",
       "      <th>B</th>\n",
       "      <th>C</th>\n",
       "      <th>D</th>\n",
       "      <th>E</th>\n",
       "    </tr>\n",
       "  </thead>\n",
       "  <tbody>\n",
       "    <tr>\n",
       "      <th>2013-01-01</th>\n",
       "      <td>1.605464</td>\n",
       "      <td>-1.008836</td>\n",
       "      <td>0.543037</td>\n",
       "      <td>-1.364347</td>\n",
       "      <td>3</td>\n",
       "    </tr>\n",
       "    <tr>\n",
       "      <th>2013-01-02</th>\n",
       "      <td>0.716080</td>\n",
       "      <td>0.654727</td>\n",
       "      <td>-1.022393</td>\n",
       "      <td>-1.119203</td>\n",
       "      <td>3</td>\n",
       "    </tr>\n",
       "    <tr>\n",
       "      <th>2013-01-03</th>\n",
       "      <td>-2.572954</td>\n",
       "      <td>0.157874</td>\n",
       "      <td>-0.697321</td>\n",
       "      <td>0.424914</td>\n",
       "      <td>3</td>\n",
       "    </tr>\n",
       "    <tr>\n",
       "      <th>2013-01-04</th>\n",
       "      <td>1.099196</td>\n",
       "      <td>-0.704623</td>\n",
       "      <td>1.781234</td>\n",
       "      <td>-0.053827</td>\n",
       "      <td>3</td>\n",
       "    </tr>\n",
       "    <tr>\n",
       "      <th>2013-01-05</th>\n",
       "      <td>0.842961</td>\n",
       "      <td>0.238317</td>\n",
       "      <td>-0.127934</td>\n",
       "      <td>-1.578623</td>\n",
       "      <td>3</td>\n",
       "    </tr>\n",
       "    <tr>\n",
       "      <th>2013-01-06</th>\n",
       "      <td>-1.062399</td>\n",
       "      <td>0.258596</td>\n",
       "      <td>0.541247</td>\n",
       "      <td>0.670675</td>\n",
       "      <td>3</td>\n",
       "    </tr>\n",
       "  </tbody>\n",
       "</table>\n",
       "</div>"
      ],
      "text/plain": [
       "                   A         B         C         D  E\n",
       "2013-01-01  1.605464 -1.008836  0.543037 -1.364347  3\n",
       "2013-01-02  0.716080  0.654727 -1.022393 -1.119203  3\n",
       "2013-01-03 -2.572954  0.157874 -0.697321  0.424914  3\n",
       "2013-01-04  1.099196 -0.704623  1.781234 -0.053827  3\n",
       "2013-01-05  0.842961  0.238317 -0.127934 -1.578623  3\n",
       "2013-01-06 -1.062399  0.258596  0.541247  0.670675  3"
      ]
     },
     "execution_count": 60,
     "metadata": {},
     "output_type": "execute_result"
    }
   ],
   "source": [
    "df2"
   ]
  },
  {
   "cell_type": "code",
   "execution_count": 61,
   "metadata": {
    "collapsed": true
   },
   "outputs": [],
   "source": [
    "df2[df2 > 0] = -df2"
   ]
  },
  {
   "cell_type": "code",
   "execution_count": 62,
   "metadata": {
    "collapsed": false
   },
   "outputs": [
    {
     "data": {
      "text/html": [
       "<div>\n",
       "<table border=\"1\" class=\"dataframe\">\n",
       "  <thead>\n",
       "    <tr style=\"text-align: right;\">\n",
       "      <th></th>\n",
       "      <th>A</th>\n",
       "      <th>B</th>\n",
       "      <th>C</th>\n",
       "      <th>D</th>\n",
       "      <th>E</th>\n",
       "    </tr>\n",
       "  </thead>\n",
       "  <tbody>\n",
       "    <tr>\n",
       "      <th>2013-01-01</th>\n",
       "      <td>-1.605464</td>\n",
       "      <td>-1.008836</td>\n",
       "      <td>-0.543037</td>\n",
       "      <td>-1.364347</td>\n",
       "      <td>-3</td>\n",
       "    </tr>\n",
       "    <tr>\n",
       "      <th>2013-01-02</th>\n",
       "      <td>-0.716080</td>\n",
       "      <td>-0.654727</td>\n",
       "      <td>-1.022393</td>\n",
       "      <td>-1.119203</td>\n",
       "      <td>-3</td>\n",
       "    </tr>\n",
       "    <tr>\n",
       "      <th>2013-01-03</th>\n",
       "      <td>-2.572954</td>\n",
       "      <td>-0.157874</td>\n",
       "      <td>-0.697321</td>\n",
       "      <td>-0.424914</td>\n",
       "      <td>-3</td>\n",
       "    </tr>\n",
       "    <tr>\n",
       "      <th>2013-01-04</th>\n",
       "      <td>-1.099196</td>\n",
       "      <td>-0.704623</td>\n",
       "      <td>-1.781234</td>\n",
       "      <td>-0.053827</td>\n",
       "      <td>-3</td>\n",
       "    </tr>\n",
       "    <tr>\n",
       "      <th>2013-01-05</th>\n",
       "      <td>-0.842961</td>\n",
       "      <td>-0.238317</td>\n",
       "      <td>-0.127934</td>\n",
       "      <td>-1.578623</td>\n",
       "      <td>-3</td>\n",
       "    </tr>\n",
       "    <tr>\n",
       "      <th>2013-01-06</th>\n",
       "      <td>-1.062399</td>\n",
       "      <td>-0.258596</td>\n",
       "      <td>-0.541247</td>\n",
       "      <td>-0.670675</td>\n",
       "      <td>-3</td>\n",
       "    </tr>\n",
       "  </tbody>\n",
       "</table>\n",
       "</div>"
      ],
      "text/plain": [
       "                   A         B         C         D  E\n",
       "2013-01-01 -1.605464 -1.008836 -0.543037 -1.364347 -3\n",
       "2013-01-02 -0.716080 -0.654727 -1.022393 -1.119203 -3\n",
       "2013-01-03 -2.572954 -0.157874 -0.697321 -0.424914 -3\n",
       "2013-01-04 -1.099196 -0.704623 -1.781234 -0.053827 -3\n",
       "2013-01-05 -0.842961 -0.238317 -0.127934 -1.578623 -3\n",
       "2013-01-06 -1.062399 -0.258596 -0.541247 -0.670675 -3"
      ]
     },
     "execution_count": 62,
     "metadata": {},
     "output_type": "execute_result"
    }
   ],
   "source": [
    "df2"
   ]
  },
  {
   "cell_type": "code",
   "execution_count": 63,
   "metadata": {
    "collapsed": false
   },
   "outputs": [
    {
     "data": {
      "text/html": [
       "<div>\n",
       "<table border=\"1\" class=\"dataframe\">\n",
       "  <thead>\n",
       "    <tr style=\"text-align: right;\">\n",
       "      <th></th>\n",
       "      <th>A</th>\n",
       "      <th>B</th>\n",
       "      <th>C</th>\n",
       "      <th>D</th>\n",
       "      <th>E</th>\n",
       "    </tr>\n",
       "  </thead>\n",
       "  <tbody>\n",
       "    <tr>\n",
       "      <th>2013-01-01</th>\n",
       "      <td>-1.605464</td>\n",
       "      <td>-1.008836</td>\n",
       "      <td>-0.543037</td>\n",
       "      <td>-1.364347</td>\n",
       "      <td>-3</td>\n",
       "    </tr>\n",
       "    <tr>\n",
       "      <th>2013-01-02</th>\n",
       "      <td>-0.716080</td>\n",
       "      <td>-0.654727</td>\n",
       "      <td>-1.022393</td>\n",
       "      <td>-1.119203</td>\n",
       "      <td>-3</td>\n",
       "    </tr>\n",
       "    <tr>\n",
       "      <th>2013-01-03</th>\n",
       "      <td>-2.572954</td>\n",
       "      <td>-0.157874</td>\n",
       "      <td>-0.697321</td>\n",
       "      <td>-0.424914</td>\n",
       "      <td>-3</td>\n",
       "    </tr>\n",
       "    <tr>\n",
       "      <th>2013-01-04</th>\n",
       "      <td>-1.099196</td>\n",
       "      <td>-0.704623</td>\n",
       "      <td>-1.781234</td>\n",
       "      <td>-0.053827</td>\n",
       "      <td>-3</td>\n",
       "    </tr>\n",
       "    <tr>\n",
       "      <th>2013-01-05</th>\n",
       "      <td>-0.842961</td>\n",
       "      <td>-0.238317</td>\n",
       "      <td>-0.127934</td>\n",
       "      <td>-1.578623</td>\n",
       "      <td>-3</td>\n",
       "    </tr>\n",
       "    <tr>\n",
       "      <th>2013-01-06</th>\n",
       "      <td>-1.062399</td>\n",
       "      <td>-0.258596</td>\n",
       "      <td>-0.541247</td>\n",
       "      <td>-0.670675</td>\n",
       "      <td>-3</td>\n",
       "    </tr>\n",
       "  </tbody>\n",
       "</table>\n",
       "</div>"
      ],
      "text/plain": [
       "                   A         B         C         D  E\n",
       "2013-01-01 -1.605464 -1.008836 -0.543037 -1.364347 -3\n",
       "2013-01-02 -0.716080 -0.654727 -1.022393 -1.119203 -3\n",
       "2013-01-03 -2.572954 -0.157874 -0.697321 -0.424914 -3\n",
       "2013-01-04 -1.099196 -0.704623 -1.781234 -0.053827 -3\n",
       "2013-01-05 -0.842961 -0.238317 -0.127934 -1.578623 -3\n",
       "2013-01-06 -1.062399 -0.258596 -0.541247 -0.670675 -3"
      ]
     },
     "execution_count": 63,
     "metadata": {},
     "output_type": "execute_result"
    }
   ],
   "source": [
    "df2 = df.copy()\n",
    "\n",
    "df2[df2 > 0] = -df2\n",
    "\n",
    "df2"
   ]
  },
  {
   "cell_type": "code",
   "execution_count": 64,
   "metadata": {
    "collapsed": false
   },
   "outputs": [
    {
     "ename": "SyntaxError",
     "evalue": "invalid syntax (<ipython-input-64-40e60f353257>, line 1)",
     "output_type": "error",
     "traceback": [
      "\u001b[1;36m  File \u001b[1;32m\"<ipython-input-64-40e60f353257>\"\u001b[1;36m, line \u001b[1;32m1\u001b[0m\n\u001b[1;33m    Out[54]:\u001b[0m\n\u001b[1;37m           ^\u001b[0m\n\u001b[1;31mSyntaxError\u001b[0m\u001b[1;31m:\u001b[0m invalid syntax\n"
     ]
    }
   ],
   "source": [
    "Out[54]: \n",
    "                   A         B         C  D    F\n",
    "2013-01-01  0.000000  0.000000 -1.509059 -5  NaN\n",
    "2013-01-02 -1.212112 -0.173215 -0.119209 -5 -1.0\n",
    "2013-01-03 -0.861849 -2.104569 -0.494929 -5 -2.0\n",
    "2013-01-04 -0.721555 -0.706771 -1.039575 -5 -3.0\n",
    "2013-01-05 -0.424972 -0.567020 -0.276232 -5 -4.0\n",
    "2013-01-06 -0.673690 -0.113648 -1.478427 -5 -5.0\n",
    "\n",
    "Missing Data\n",
    "\n",
    "pandas primarily uses the value np.nan to represent missing data. It is by default not included in computations. See the Missing Data section\n",
    "\n",
    "Reindexing allows you to change/add/delete the index on a specified axis. This returns a copy of the data."
   ]
  },
  {
   "cell_type": "code",
   "execution_count": 65,
   "metadata": {
    "collapsed": false
   },
   "outputs": [
    {
     "data": {
      "text/html": [
       "<div>\n",
       "<table border=\"1\" class=\"dataframe\">\n",
       "  <thead>\n",
       "    <tr style=\"text-align: right;\">\n",
       "      <th></th>\n",
       "      <th>A</th>\n",
       "      <th>B</th>\n",
       "      <th>C</th>\n",
       "      <th>D</th>\n",
       "      <th>E</th>\n",
       "      <th>E</th>\n",
       "    </tr>\n",
       "  </thead>\n",
       "  <tbody>\n",
       "    <tr>\n",
       "      <th>2013-01-01</th>\n",
       "      <td>1.605464</td>\n",
       "      <td>-1.008836</td>\n",
       "      <td>0.543037</td>\n",
       "      <td>-1.364347</td>\n",
       "      <td>1</td>\n",
       "      <td>1</td>\n",
       "    </tr>\n",
       "    <tr>\n",
       "      <th>2013-01-02</th>\n",
       "      <td>0.716080</td>\n",
       "      <td>0.654727</td>\n",
       "      <td>-1.022393</td>\n",
       "      <td>-1.119203</td>\n",
       "      <td>1</td>\n",
       "      <td>1</td>\n",
       "    </tr>\n",
       "    <tr>\n",
       "      <th>2013-01-03</th>\n",
       "      <td>-2.572954</td>\n",
       "      <td>0.157874</td>\n",
       "      <td>-0.697321</td>\n",
       "      <td>0.424914</td>\n",
       "      <td>3</td>\n",
       "      <td>3</td>\n",
       "    </tr>\n",
       "    <tr>\n",
       "      <th>2013-01-04</th>\n",
       "      <td>1.099196</td>\n",
       "      <td>-0.704623</td>\n",
       "      <td>1.781234</td>\n",
       "      <td>-0.053827</td>\n",
       "      <td>3</td>\n",
       "      <td>3</td>\n",
       "    </tr>\n",
       "  </tbody>\n",
       "</table>\n",
       "</div>"
      ],
      "text/plain": [
       "                   A         B         C         D  E  E\n",
       "2013-01-01  1.605464 -1.008836  0.543037 -1.364347  1  1\n",
       "2013-01-02  0.716080  0.654727 -1.022393 -1.119203  1  1\n",
       "2013-01-03 -2.572954  0.157874 -0.697321  0.424914  3  3\n",
       "2013-01-04  1.099196 -0.704623  1.781234 -0.053827  3  3"
      ]
     },
     "execution_count": 65,
     "metadata": {},
     "output_type": "execute_result"
    }
   ],
   "source": [
    "df1 = df.reindex(index=dates[0:4], columns=list(df.columns) + ['E'])\n",
    "\n",
    "df1.loc[dates[0]:dates[1],'E'] = 1\n",
    "\n",
    "df1\n",
    "    \n",
    "    "
   ]
  },
  {
   "cell_type": "code",
   "execution_count": 66,
   "metadata": {
    "collapsed": false
   },
   "outputs": [
    {
     "ename": "SyntaxError",
     "evalue": "invalid syntax (<ipython-input-66-b158b536d388>, line 1)",
     "output_type": "error",
     "traceback": [
      "\u001b[1;36m  File \u001b[1;32m\"<ipython-input-66-b158b536d388>\"\u001b[1;36m, line \u001b[1;32m1\u001b[0m\n\u001b[1;33m    Out[57]:\u001b[0m\n\u001b[1;37m           ^\u001b[0m\n\u001b[1;31mSyntaxError\u001b[0m\u001b[1;31m:\u001b[0m invalid syntax\n"
     ]
    }
   ],
   "source": [
    "Out[57]: \n",
    "                   A         B         C  D    F    E\n",
    "2013-01-01  0.000000  0.000000 -1.509059  5  NaN  1.0\n",
    "2013-01-02  1.212112 -0.173215  0.119209  5  1.0  1.0\n",
    "2013-01-03 -0.861849 -2.104569 -0.494929  5  2.0  NaN\n",
    "2013-01-04  0.721555 -0.706771 -1.039575  5  3.0  NaN"
   ]
  },
  {
   "cell_type": "code",
   "execution_count": 67,
   "metadata": {
    "collapsed": false
   },
   "outputs": [
    {
     "data": {
      "text/html": [
       "<div>\n",
       "<table border=\"1\" class=\"dataframe\">\n",
       "  <thead>\n",
       "    <tr style=\"text-align: right;\">\n",
       "      <th></th>\n",
       "      <th>A</th>\n",
       "      <th>B</th>\n",
       "      <th>C</th>\n",
       "      <th>D</th>\n",
       "      <th>E</th>\n",
       "      <th>E</th>\n",
       "    </tr>\n",
       "  </thead>\n",
       "  <tbody>\n",
       "    <tr>\n",
       "      <th>2013-01-01</th>\n",
       "      <td>1.605464</td>\n",
       "      <td>-1.008836</td>\n",
       "      <td>0.543037</td>\n",
       "      <td>-1.364347</td>\n",
       "      <td>1</td>\n",
       "      <td>1</td>\n",
       "    </tr>\n",
       "    <tr>\n",
       "      <th>2013-01-02</th>\n",
       "      <td>0.716080</td>\n",
       "      <td>0.654727</td>\n",
       "      <td>-1.022393</td>\n",
       "      <td>-1.119203</td>\n",
       "      <td>1</td>\n",
       "      <td>1</td>\n",
       "    </tr>\n",
       "    <tr>\n",
       "      <th>2013-01-03</th>\n",
       "      <td>-2.572954</td>\n",
       "      <td>0.157874</td>\n",
       "      <td>-0.697321</td>\n",
       "      <td>0.424914</td>\n",
       "      <td>3</td>\n",
       "      <td>3</td>\n",
       "    </tr>\n",
       "    <tr>\n",
       "      <th>2013-01-04</th>\n",
       "      <td>1.099196</td>\n",
       "      <td>-0.704623</td>\n",
       "      <td>1.781234</td>\n",
       "      <td>-0.053827</td>\n",
       "      <td>3</td>\n",
       "      <td>3</td>\n",
       "    </tr>\n",
       "  </tbody>\n",
       "</table>\n",
       "</div>"
      ],
      "text/plain": [
       "                   A         B         C         D  E  E\n",
       "2013-01-01  1.605464 -1.008836  0.543037 -1.364347  1  1\n",
       "2013-01-02  0.716080  0.654727 -1.022393 -1.119203  1  1\n",
       "2013-01-03 -2.572954  0.157874 -0.697321  0.424914  3  3\n",
       "2013-01-04  1.099196 -0.704623  1.781234 -0.053827  3  3"
      ]
     },
     "execution_count": 67,
     "metadata": {},
     "output_type": "execute_result"
    }
   ],
   "source": [
    "\n",
    "\n",
    "df1.dropna(how='any')"
   ]
  },
  {
   "cell_type": "code",
   "execution_count": 68,
   "metadata": {
    "collapsed": false
   },
   "outputs": [
    {
     "ename": "SyntaxError",
     "evalue": "invalid syntax (<ipython-input-68-bedf35bd4a0c>, line 1)",
     "output_type": "error",
     "traceback": [
      "\u001b[1;36m  File \u001b[1;32m\"<ipython-input-68-bedf35bd4a0c>\"\u001b[1;36m, line \u001b[1;32m1\u001b[0m\n\u001b[1;33m    Out[58]:\u001b[0m\n\u001b[1;37m           ^\u001b[0m\n\u001b[1;31mSyntaxError\u001b[0m\u001b[1;31m:\u001b[0m invalid syntax\n"
     ]
    }
   ],
   "source": [
    "Out[58]: \n",
    "                   A         B         C  D    F    E\n",
    "2013-01-02  1.212112 -0.173215  0.119209  5  1.0  1.0\n",
    "\n",
    "Filling missing data"
   ]
  },
  {
   "cell_type": "code",
   "execution_count": 69,
   "metadata": {
    "collapsed": false
   },
   "outputs": [
    {
     "data": {
      "text/html": [
       "<div>\n",
       "<table border=\"1\" class=\"dataframe\">\n",
       "  <thead>\n",
       "    <tr style=\"text-align: right;\">\n",
       "      <th></th>\n",
       "      <th>A</th>\n",
       "      <th>B</th>\n",
       "      <th>C</th>\n",
       "      <th>D</th>\n",
       "      <th>E</th>\n",
       "      <th>E</th>\n",
       "    </tr>\n",
       "  </thead>\n",
       "  <tbody>\n",
       "    <tr>\n",
       "      <th>2013-01-01</th>\n",
       "      <td>1.605464</td>\n",
       "      <td>-1.008836</td>\n",
       "      <td>0.543037</td>\n",
       "      <td>-1.364347</td>\n",
       "      <td>1</td>\n",
       "      <td>1</td>\n",
       "    </tr>\n",
       "    <tr>\n",
       "      <th>2013-01-02</th>\n",
       "      <td>0.716080</td>\n",
       "      <td>0.654727</td>\n",
       "      <td>-1.022393</td>\n",
       "      <td>-1.119203</td>\n",
       "      <td>1</td>\n",
       "      <td>1</td>\n",
       "    </tr>\n",
       "    <tr>\n",
       "      <th>2013-01-03</th>\n",
       "      <td>-2.572954</td>\n",
       "      <td>0.157874</td>\n",
       "      <td>-0.697321</td>\n",
       "      <td>0.424914</td>\n",
       "      <td>3</td>\n",
       "      <td>3</td>\n",
       "    </tr>\n",
       "    <tr>\n",
       "      <th>2013-01-04</th>\n",
       "      <td>1.099196</td>\n",
       "      <td>-0.704623</td>\n",
       "      <td>1.781234</td>\n",
       "      <td>-0.053827</td>\n",
       "      <td>3</td>\n",
       "      <td>3</td>\n",
       "    </tr>\n",
       "  </tbody>\n",
       "</table>\n",
       "</div>"
      ],
      "text/plain": [
       "                   A         B         C         D  E  E\n",
       "2013-01-01  1.605464 -1.008836  0.543037 -1.364347  1  1\n",
       "2013-01-02  0.716080  0.654727 -1.022393 -1.119203  1  1\n",
       "2013-01-03 -2.572954  0.157874 -0.697321  0.424914  3  3\n",
       "2013-01-04  1.099196 -0.704623  1.781234 -0.053827  3  3"
      ]
     },
     "execution_count": 69,
     "metadata": {},
     "output_type": "execute_result"
    }
   ],
   "source": [
    "In [59]: df1.fillna(value=5)\n",
    "    "
   ]
  },
  {
   "cell_type": "code",
   "execution_count": 70,
   "metadata": {
    "collapsed": false
   },
   "outputs": [
    {
     "ename": "SyntaxError",
     "evalue": "invalid syntax (<ipython-input-70-a7e52bd119ca>, line 1)",
     "output_type": "error",
     "traceback": [
      "\u001b[1;36m  File \u001b[1;32m\"<ipython-input-70-a7e52bd119ca>\"\u001b[1;36m, line \u001b[1;32m1\u001b[0m\n\u001b[1;33m    Out[59]:\u001b[0m\n\u001b[1;37m           ^\u001b[0m\n\u001b[1;31mSyntaxError\u001b[0m\u001b[1;31m:\u001b[0m invalid syntax\n"
     ]
    }
   ],
   "source": [
    "Out[59]: \n",
    "                   A         B         C  D    F    E\n",
    "2013-01-01  0.000000  0.000000 -1.509059  5  5.0  1.0\n",
    "2013-01-02  1.212112 -0.173215  0.119209  5  1.0  1.0\n",
    "2013-01-03 -0.861849 -2.104569 -0.494929  5  2.0  5.0\n",
    "2013-01-04  0.721555 -0.706771 -1.039575  5  3.0  5.0\n",
    "\n",
    "To get the boolean mask where values are nan"
   ]
  },
  {
   "cell_type": "code",
   "execution_count": 71,
   "metadata": {
    "collapsed": false
   },
   "outputs": [
    {
     "data": {
      "text/html": [
       "<div>\n",
       "<table border=\"1\" class=\"dataframe\">\n",
       "  <thead>\n",
       "    <tr style=\"text-align: right;\">\n",
       "      <th></th>\n",
       "      <th>A</th>\n",
       "      <th>B</th>\n",
       "      <th>C</th>\n",
       "      <th>D</th>\n",
       "      <th>E</th>\n",
       "      <th>E</th>\n",
       "    </tr>\n",
       "  </thead>\n",
       "  <tbody>\n",
       "    <tr>\n",
       "      <th>2013-01-01</th>\n",
       "      <td>False</td>\n",
       "      <td>False</td>\n",
       "      <td>False</td>\n",
       "      <td>False</td>\n",
       "      <td>False</td>\n",
       "      <td>False</td>\n",
       "    </tr>\n",
       "    <tr>\n",
       "      <th>2013-01-02</th>\n",
       "      <td>False</td>\n",
       "      <td>False</td>\n",
       "      <td>False</td>\n",
       "      <td>False</td>\n",
       "      <td>False</td>\n",
       "      <td>False</td>\n",
       "    </tr>\n",
       "    <tr>\n",
       "      <th>2013-01-03</th>\n",
       "      <td>False</td>\n",
       "      <td>False</td>\n",
       "      <td>False</td>\n",
       "      <td>False</td>\n",
       "      <td>False</td>\n",
       "      <td>False</td>\n",
       "    </tr>\n",
       "    <tr>\n",
       "      <th>2013-01-04</th>\n",
       "      <td>False</td>\n",
       "      <td>False</td>\n",
       "      <td>False</td>\n",
       "      <td>False</td>\n",
       "      <td>False</td>\n",
       "      <td>False</td>\n",
       "    </tr>\n",
       "  </tbody>\n",
       "</table>\n",
       "</div>"
      ],
      "text/plain": [
       "                A      B      C      D      E      E\n",
       "2013-01-01  False  False  False  False  False  False\n",
       "2013-01-02  False  False  False  False  False  False\n",
       "2013-01-03  False  False  False  False  False  False\n",
       "2013-01-04  False  False  False  False  False  False"
      ]
     },
     "execution_count": 71,
     "metadata": {},
     "output_type": "execute_result"
    }
   ],
   "source": [
    "In [60]: pd.isnull(df1)"
   ]
  },
  {
   "cell_type": "code",
   "execution_count": 72,
   "metadata": {
    "collapsed": false
   },
   "outputs": [
    {
     "ename": "SyntaxError",
     "evalue": "invalid syntax (<ipython-input-72-0ea43fecf841>, line 1)",
     "output_type": "error",
     "traceback": [
      "\u001b[1;36m  File \u001b[1;32m\"<ipython-input-72-0ea43fecf841>\"\u001b[1;36m, line \u001b[1;32m1\u001b[0m\n\u001b[1;33m    Out[60]:\u001b[0m\n\u001b[1;37m           ^\u001b[0m\n\u001b[1;31mSyntaxError\u001b[0m\u001b[1;31m:\u001b[0m invalid syntax\n"
     ]
    }
   ],
   "source": [
    "Out[60]: \n",
    "                A      B      C      D      F      E\n",
    "2013-01-01  False  False  False  False   True  False\n",
    "2013-01-02  False  False  False  False  False  False\n",
    "2013-01-03  False  False  False  False  False   True\n",
    "2013-01-04  False  False  False  False  False   True\n",
    "\n",
    "Operations\n",
    "\n",
    "See the Basic section on Binary Ops\n",
    "Stats\n",
    "\n",
    "Operations in general exclude missing data.\n",
    "\n",
    "Performing a descriptive statistic"
   ]
  },
  {
   "cell_type": "code",
   "execution_count": 73,
   "metadata": {
    "collapsed": false
   },
   "outputs": [
    {
     "data": {
      "text/plain": [
       "A    0.104725\n",
       "B   -0.067324\n",
       "C    0.169645\n",
       "D   -0.503402\n",
       "E    3.000000\n",
       "dtype: float64"
      ]
     },
     "execution_count": 73,
     "metadata": {},
     "output_type": "execute_result"
    }
   ],
   "source": [
    "In [61]: df.mean()\n",
    "    "
   ]
  },
  {
   "cell_type": "code",
   "execution_count": 74,
   "metadata": {
    "collapsed": false
   },
   "outputs": [
    {
     "ename": "SyntaxError",
     "evalue": "invalid syntax (<ipython-input-74-55af5d96737e>, line 1)",
     "output_type": "error",
     "traceback": [
      "\u001b[1;36m  File \u001b[1;32m\"<ipython-input-74-55af5d96737e>\"\u001b[1;36m, line \u001b[1;32m1\u001b[0m\n\u001b[1;33m    Out[61]:\u001b[0m\n\u001b[1;37m           ^\u001b[0m\n\u001b[1;31mSyntaxError\u001b[0m\u001b[1;31m:\u001b[0m invalid syntax\n"
     ]
    }
   ],
   "source": [
    "Out[61]: \n",
    "A   -0.004474\n",
    "B   -0.383981\n",
    "C   -0.687758\n",
    "D    5.000000\n",
    "F    3.000000\n",
    "dtype: float64\n",
    "\n",
    "Same operation on the other axis"
   ]
  },
  {
   "cell_type": "code",
   "execution_count": 75,
   "metadata": {
    "collapsed": false
   },
   "outputs": [
    {
     "data": {
      "text/plain": [
       "2013-01-01    0.555064\n",
       "2013-01-02    0.445842\n",
       "2013-01-03    0.062503\n",
       "2013-01-04    1.024396\n",
       "2013-01-05    0.474944\n",
       "2013-01-06    0.681624\n",
       "Freq: D, dtype: float64"
      ]
     },
     "execution_count": 75,
     "metadata": {},
     "output_type": "execute_result"
    }
   ],
   "source": [
    "In [62]: df.mean(1)\n",
    "    "
   ]
  },
  {
   "cell_type": "code",
   "execution_count": 76,
   "metadata": {
    "collapsed": false
   },
   "outputs": [
    {
     "ename": "SyntaxError",
     "evalue": "invalid syntax (<ipython-input-76-2629c38e8c62>, line 1)",
     "output_type": "error",
     "traceback": [
      "\u001b[1;36m  File \u001b[1;32m\"<ipython-input-76-2629c38e8c62>\"\u001b[1;36m, line \u001b[1;32m1\u001b[0m\n\u001b[1;33m    Out[62]:\u001b[0m\n\u001b[1;37m           ^\u001b[0m\n\u001b[1;31mSyntaxError\u001b[0m\u001b[1;31m:\u001b[0m invalid syntax\n"
     ]
    }
   ],
   "source": [
    "Out[62]: \n",
    "2013-01-01    0.872735\n",
    "2013-01-02    1.431621\n",
    "2013-01-03    0.707731\n",
    "2013-01-04    1.395042\n",
    "2013-01-05    1.883656\n",
    "2013-01-06    1.592306\n",
    "Freq: D, dtype: float64\n",
    "\n",
    "Operating with objects that have different dimensionality and need alignment. In addition, pandas automatically broadcasts along the specified dimension."
   ]
  },
  {
   "cell_type": "code",
   "execution_count": 77,
   "metadata": {
    "collapsed": true
   },
   "outputs": [],
   "source": [
    "s = pd.Series([1,3,5,np.nan,6,8], index=dates).shift(2)"
   ]
  },
  {
   "cell_type": "code",
   "execution_count": 78,
   "metadata": {
    "collapsed": false
   },
   "outputs": [
    {
     "data": {
      "text/plain": [
       "2013-01-01    NaN\n",
       "2013-01-02    NaN\n",
       "2013-01-03    1.0\n",
       "2013-01-04    3.0\n",
       "2013-01-05    5.0\n",
       "2013-01-06    NaN\n",
       "Freq: D, dtype: float64"
      ]
     },
     "execution_count": 78,
     "metadata": {},
     "output_type": "execute_result"
    }
   ],
   "source": [
    "s\n",
    "    \n",
    "    "
   ]
  },
  {
   "cell_type": "code",
   "execution_count": 79,
   "metadata": {
    "collapsed": false
   },
   "outputs": [
    {
     "ename": "SyntaxError",
     "evalue": "invalid syntax (<ipython-input-79-6504f67e3f62>, line 1)",
     "output_type": "error",
     "traceback": [
      "\u001b[1;36m  File \u001b[1;32m\"<ipython-input-79-6504f67e3f62>\"\u001b[1;36m, line \u001b[1;32m1\u001b[0m\n\u001b[1;33m    Out[64]:\u001b[0m\n\u001b[1;37m           ^\u001b[0m\n\u001b[1;31mSyntaxError\u001b[0m\u001b[1;31m:\u001b[0m invalid syntax\n"
     ]
    }
   ],
   "source": [
    "Out[64]: \n",
    "2013-01-01    NaN\n",
    "2013-01-02    NaN\n",
    "2013-01-03    1.0\n",
    "2013-01-04    3.0\n",
    "2013-01-05    5.0\n",
    "2013-01-06    NaN\n",
    "Freq: D, dtype: float64"
   ]
  },
  {
   "cell_type": "code",
   "execution_count": null,
   "metadata": {
    "collapsed": false
   },
   "outputs": [],
   "source": [
    "df.sub(s, axis='index')"
   ]
  },
  {
   "cell_type": "code",
   "execution_count": 80,
   "metadata": {
    "collapsed": false
   },
   "outputs": [
    {
     "ename": "SyntaxError",
     "evalue": "invalid syntax (<ipython-input-80-be58d031bb16>, line 1)",
     "output_type": "error",
     "traceback": [
      "\u001b[1;36m  File \u001b[1;32m\"<ipython-input-80-be58d031bb16>\"\u001b[1;36m, line \u001b[1;32m1\u001b[0m\n\u001b[1;33m    Out[65]:\u001b[0m\n\u001b[1;37m           ^\u001b[0m\n\u001b[1;31mSyntaxError\u001b[0m\u001b[1;31m:\u001b[0m invalid syntax\n"
     ]
    }
   ],
   "source": [
    "Out[65]: \n",
    "                   A         B         C    D    F\n",
    "2013-01-01       NaN       NaN       NaN  NaN  NaN\n",
    "2013-01-02       NaN       NaN       NaN  NaN  NaN\n",
    "2013-01-03 -1.861849 -3.104569 -1.494929  4.0  1.0\n",
    "2013-01-04 -2.278445 -3.706771 -4.039575  2.0  0.0\n",
    "2013-01-05 -5.424972 -4.432980 -4.723768  0.0 -1.0\n",
    "2013-01-06       NaN       NaN       NaN  NaN  NaN\n",
    "\n",
    "Apply\n",
    "\n",
    "Applying functions to the data"
   ]
  },
  {
   "cell_type": "code",
   "execution_count": 81,
   "metadata": {
    "collapsed": false
   },
   "outputs": [
    {
     "data": {
      "text/html": [
       "<div>\n",
       "<table border=\"1\" class=\"dataframe\">\n",
       "  <thead>\n",
       "    <tr style=\"text-align: right;\">\n",
       "      <th></th>\n",
       "      <th>A</th>\n",
       "      <th>B</th>\n",
       "      <th>C</th>\n",
       "      <th>D</th>\n",
       "      <th>E</th>\n",
       "    </tr>\n",
       "  </thead>\n",
       "  <tbody>\n",
       "    <tr>\n",
       "      <th>2013-01-01</th>\n",
       "      <td>1.605464</td>\n",
       "      <td>-1.008836</td>\n",
       "      <td>0.543037</td>\n",
       "      <td>-1.364347</td>\n",
       "      <td>3</td>\n",
       "    </tr>\n",
       "    <tr>\n",
       "      <th>2013-01-02</th>\n",
       "      <td>2.321545</td>\n",
       "      <td>-0.354108</td>\n",
       "      <td>-0.479356</td>\n",
       "      <td>-2.483550</td>\n",
       "      <td>6</td>\n",
       "    </tr>\n",
       "    <tr>\n",
       "      <th>2013-01-03</th>\n",
       "      <td>-0.251409</td>\n",
       "      <td>-0.196234</td>\n",
       "      <td>-1.176677</td>\n",
       "      <td>-2.058636</td>\n",
       "      <td>9</td>\n",
       "    </tr>\n",
       "    <tr>\n",
       "      <th>2013-01-04</th>\n",
       "      <td>0.847786</td>\n",
       "      <td>-0.900857</td>\n",
       "      <td>0.604558</td>\n",
       "      <td>-2.112464</td>\n",
       "      <td>12</td>\n",
       "    </tr>\n",
       "    <tr>\n",
       "      <th>2013-01-05</th>\n",
       "      <td>1.690747</td>\n",
       "      <td>-0.662540</td>\n",
       "      <td>0.476624</td>\n",
       "      <td>-3.691086</td>\n",
       "      <td>15</td>\n",
       "    </tr>\n",
       "    <tr>\n",
       "      <th>2013-01-06</th>\n",
       "      <td>0.628348</td>\n",
       "      <td>-0.403944</td>\n",
       "      <td>1.017871</td>\n",
       "      <td>-3.020412</td>\n",
       "      <td>18</td>\n",
       "    </tr>\n",
       "  </tbody>\n",
       "</table>\n",
       "</div>"
      ],
      "text/plain": [
       "                   A         B         C         D   E\n",
       "2013-01-01  1.605464 -1.008836  0.543037 -1.364347   3\n",
       "2013-01-02  2.321545 -0.354108 -0.479356 -2.483550   6\n",
       "2013-01-03 -0.251409 -0.196234 -1.176677 -2.058636   9\n",
       "2013-01-04  0.847786 -0.900857  0.604558 -2.112464  12\n",
       "2013-01-05  1.690747 -0.662540  0.476624 -3.691086  15\n",
       "2013-01-06  0.628348 -0.403944  1.017871 -3.020412  18"
      ]
     },
     "execution_count": 81,
     "metadata": {},
     "output_type": "execute_result"
    }
   ],
   "source": [
    "In [66]: df.apply(np.cumsum)\n",
    "    "
   ]
  },
  {
   "cell_type": "code",
   "execution_count": 82,
   "metadata": {
    "collapsed": false
   },
   "outputs": [
    {
     "ename": "SyntaxError",
     "evalue": "invalid syntax (<ipython-input-82-30b057d44883>, line 1)",
     "output_type": "error",
     "traceback": [
      "\u001b[1;36m  File \u001b[1;32m\"<ipython-input-82-30b057d44883>\"\u001b[1;36m, line \u001b[1;32m1\u001b[0m\n\u001b[1;33m    Out[66]:\u001b[0m\n\u001b[1;37m           ^\u001b[0m\n\u001b[1;31mSyntaxError\u001b[0m\u001b[1;31m:\u001b[0m invalid syntax\n"
     ]
    }
   ],
   "source": [
    "Out[66]: \n",
    "                   A         B         C   D     F\n",
    "2013-01-01  0.000000  0.000000 -1.509059   5   NaN\n",
    "2013-01-02  1.212112 -0.173215 -1.389850  10   1.0\n",
    "2013-01-03  0.350263 -2.277784 -1.884779  15   3.0\n",
    "2013-01-04  1.071818 -2.984555 -2.924354  20   6.0\n",
    "2013-01-05  0.646846 -2.417535 -2.648122  25  10.0\n",
    "2013-01-06 -0.026844 -2.303886 -4.126549  30  15.0"
   ]
  },
  {
   "cell_type": "code",
   "execution_count": 83,
   "metadata": {
    "collapsed": false
   },
   "outputs": [
    {
     "data": {
      "text/plain": [
       "A    4.178418\n",
       "B    1.663563\n",
       "C    2.803627\n",
       "D    2.249297\n",
       "E    0.000000\n",
       "dtype: float64"
      ]
     },
     "execution_count": 83,
     "metadata": {},
     "output_type": "execute_result"
    }
   ],
   "source": [
    "df.apply(lambda x: x.max() - x.min())"
   ]
  },
  {
   "cell_type": "code",
   "execution_count": 84,
   "metadata": {
    "collapsed": false
   },
   "outputs": [
    {
     "ename": "SyntaxError",
     "evalue": "invalid syntax (<ipython-input-84-a047ad7ce2ea>, line 1)",
     "output_type": "error",
     "traceback": [
      "\u001b[1;36m  File \u001b[1;32m\"<ipython-input-84-a047ad7ce2ea>\"\u001b[1;36m, line \u001b[1;32m1\u001b[0m\n\u001b[1;33m    Out[67]:\u001b[0m\n\u001b[1;37m           ^\u001b[0m\n\u001b[1;31mSyntaxError\u001b[0m\u001b[1;31m:\u001b[0m invalid syntax\n"
     ]
    }
   ],
   "source": [
    "Out[67]: \n",
    "A    2.073961\n",
    "B    2.671590\n",
    "C    1.785291\n",
    "D    0.000000\n",
    "F    4.000000\n",
    "dtype: float64\n",
    "\n",
    "Histogramming\n",
    "\n",
    "See more at Histogramming and Discretization"
   ]
  },
  {
   "cell_type": "code",
   "execution_count": 85,
   "metadata": {
    "collapsed": true
   },
   "outputs": [],
   "source": [
    "s = pd.Series(np.random.randint(0, 7, size=10))"
   ]
  },
  {
   "cell_type": "code",
   "execution_count": 86,
   "metadata": {
    "collapsed": false
   },
   "outputs": [
    {
     "data": {
      "text/plain": [
       "0    6\n",
       "1    1\n",
       "2    1\n",
       "3    1\n",
       "4    5\n",
       "5    3\n",
       "6    6\n",
       "7    3\n",
       "8    4\n",
       "9    0\n",
       "dtype: int32"
      ]
     },
     "execution_count": 86,
     "metadata": {},
     "output_type": "execute_result"
    }
   ],
   "source": [
    "s"
   ]
  },
  {
   "cell_type": "code",
   "execution_count": 87,
   "metadata": {
    "collapsed": false
   },
   "outputs": [
    {
     "ename": "SyntaxError",
     "evalue": "invalid syntax (<ipython-input-87-4ff4e71cf221>, line 1)",
     "output_type": "error",
     "traceback": [
      "\u001b[1;36m  File \u001b[1;32m\"<ipython-input-87-4ff4e71cf221>\"\u001b[1;36m, line \u001b[1;32m1\u001b[0m\n\u001b[1;33m    Out[69]:\u001b[0m\n\u001b[1;37m           ^\u001b[0m\n\u001b[1;31mSyntaxError\u001b[0m\u001b[1;31m:\u001b[0m invalid syntax\n"
     ]
    }
   ],
   "source": [
    "Out[69]: \n",
    "0    4\n",
    "1    2\n",
    "2    1\n",
    "3    2\n",
    "4    6\n",
    "5    4\n",
    "6    4\n",
    "7    6\n",
    "8    4\n",
    "9    4\n",
    "dtype: int64\n",
    "\n",
    "    "
   ]
  },
  {
   "cell_type": "code",
   "execution_count": 88,
   "metadata": {
    "collapsed": false
   },
   "outputs": [
    {
     "data": {
      "text/plain": [
       "1    3\n",
       "6    2\n",
       "3    2\n",
       "5    1\n",
       "4    1\n",
       "0    1\n",
       "dtype: int64"
      ]
     },
     "execution_count": 88,
     "metadata": {},
     "output_type": "execute_result"
    }
   ],
   "source": [
    "s.value_counts()\n",
    "    "
   ]
  },
  {
   "cell_type": "code",
   "execution_count": 89,
   "metadata": {
    "collapsed": false
   },
   "outputs": [
    {
     "ename": "SyntaxError",
     "evalue": "invalid syntax (<ipython-input-89-62c7562f6895>, line 1)",
     "output_type": "error",
     "traceback": [
      "\u001b[1;36m  File \u001b[1;32m\"<ipython-input-89-62c7562f6895>\"\u001b[1;36m, line \u001b[1;32m1\u001b[0m\n\u001b[1;33m    Out[70]:\u001b[0m\n\u001b[1;37m           ^\u001b[0m\n\u001b[1;31mSyntaxError\u001b[0m\u001b[1;31m:\u001b[0m invalid syntax\n"
     ]
    }
   ],
   "source": [
    "Out[70]: \n",
    "4    5\n",
    "6    2\n",
    "2    2\n",
    "1    1\n",
    "dtype: int64\n",
    "\n",
    "String Methods\n",
    "\n",
    "Series is equipped with a set of string processing methods in the str attribute that make it easy to operate on each element of the array, as in the code snippet below. Note that pattern-matching in str generally uses regular expressions by default (and in some cases always uses them). See more at Vectorized String Methods."
   ]
  },
  {
   "cell_type": "code",
   "execution_count": 90,
   "metadata": {
    "collapsed": false
   },
   "outputs": [
    {
     "data": {
      "text/plain": [
       "0       a\n",
       "1       b\n",
       "2       c\n",
       "3    aaba\n",
       "4    baca\n",
       "5     NaN\n",
       "6    caba\n",
       "7     dog\n",
       "8     cat\n",
       "dtype: object"
      ]
     },
     "execution_count": 90,
     "metadata": {},
     "output_type": "execute_result"
    }
   ],
   "source": [
    "In [71]: s = pd.Series(['A', 'B', 'C', 'Aaba', 'Baca', np.nan, 'CABA', 'dog', 'cat'])\n",
    "\n",
    "In [72]: s.str.lower()\n",
    "    \n",
    "    "
   ]
  },
  {
   "cell_type": "code",
   "execution_count": 91,
   "metadata": {
    "collapsed": false
   },
   "outputs": [
    {
     "ename": "SyntaxError",
     "evalue": "invalid syntax (<ipython-input-91-9e0255d0afa0>, line 1)",
     "output_type": "error",
     "traceback": [
      "\u001b[1;36m  File \u001b[1;32m\"<ipython-input-91-9e0255d0afa0>\"\u001b[1;36m, line \u001b[1;32m1\u001b[0m\n\u001b[1;33m    Out[72]:\u001b[0m\n\u001b[1;37m           ^\u001b[0m\n\u001b[1;31mSyntaxError\u001b[0m\u001b[1;31m:\u001b[0m invalid syntax\n"
     ]
    }
   ],
   "source": [
    "Out[72]: \n",
    "0       a\n",
    "1       b\n",
    "2       c\n",
    "3    aaba\n",
    "4    baca\n",
    "5     NaN\n",
    "6    caba\n",
    "7     dog\n",
    "8     cat\n",
    "dtype: object\n",
    "\n",
    "Merge\n",
    "Concat\n",
    "\n",
    "pandas provides various facilities for easily combining together Series, DataFrame, and Panel objects with various kinds of set logic for the indexes and relational algebra functionality in the case of join / merge-type operations.\n",
    "\n",
    "See the Merging section\n",
    "\n",
    "Concatenating pandas objects together with concat():"
   ]
  },
  {
   "cell_type": "code",
   "execution_count": 92,
   "metadata": {
    "collapsed": false
   },
   "outputs": [
    {
     "data": {
      "text/html": [
       "<div>\n",
       "<table border=\"1\" class=\"dataframe\">\n",
       "  <thead>\n",
       "    <tr style=\"text-align: right;\">\n",
       "      <th></th>\n",
       "      <th>0</th>\n",
       "      <th>1</th>\n",
       "      <th>2</th>\n",
       "      <th>3</th>\n",
       "    </tr>\n",
       "  </thead>\n",
       "  <tbody>\n",
       "    <tr>\n",
       "      <th>0</th>\n",
       "      <td>0.055880</td>\n",
       "      <td>-0.092765</td>\n",
       "      <td>-0.115379</td>\n",
       "      <td>1.127017</td>\n",
       "    </tr>\n",
       "    <tr>\n",
       "      <th>1</th>\n",
       "      <td>1.003882</td>\n",
       "      <td>0.477479</td>\n",
       "      <td>0.169149</td>\n",
       "      <td>-1.355692</td>\n",
       "    </tr>\n",
       "    <tr>\n",
       "      <th>2</th>\n",
       "      <td>-0.096093</td>\n",
       "      <td>-0.999915</td>\n",
       "      <td>-0.076737</td>\n",
       "      <td>-0.063701</td>\n",
       "    </tr>\n",
       "    <tr>\n",
       "      <th>3</th>\n",
       "      <td>-0.758583</td>\n",
       "      <td>0.303422</td>\n",
       "      <td>-1.543244</td>\n",
       "      <td>-0.087671</td>\n",
       "    </tr>\n",
       "    <tr>\n",
       "      <th>4</th>\n",
       "      <td>0.053460</td>\n",
       "      <td>-0.366127</td>\n",
       "      <td>0.189222</td>\n",
       "      <td>-0.577355</td>\n",
       "    </tr>\n",
       "    <tr>\n",
       "      <th>5</th>\n",
       "      <td>-1.107621</td>\n",
       "      <td>1.007769</td>\n",
       "      <td>1.037378</td>\n",
       "      <td>-0.961204</td>\n",
       "    </tr>\n",
       "    <tr>\n",
       "      <th>6</th>\n",
       "      <td>-1.211693</td>\n",
       "      <td>-0.281846</td>\n",
       "      <td>-0.946050</td>\n",
       "      <td>2.406350</td>\n",
       "    </tr>\n",
       "    <tr>\n",
       "      <th>7</th>\n",
       "      <td>1.978900</td>\n",
       "      <td>-0.661534</td>\n",
       "      <td>0.116926</td>\n",
       "      <td>-1.181027</td>\n",
       "    </tr>\n",
       "    <tr>\n",
       "      <th>8</th>\n",
       "      <td>0.587403</td>\n",
       "      <td>0.312974</td>\n",
       "      <td>-0.467879</td>\n",
       "      <td>0.433828</td>\n",
       "    </tr>\n",
       "    <tr>\n",
       "      <th>9</th>\n",
       "      <td>0.677977</td>\n",
       "      <td>-0.503188</td>\n",
       "      <td>-0.554357</td>\n",
       "      <td>0.199265</td>\n",
       "    </tr>\n",
       "  </tbody>\n",
       "</table>\n",
       "</div>"
      ],
      "text/plain": [
       "          0         1         2         3\n",
       "0  0.055880 -0.092765 -0.115379  1.127017\n",
       "1  1.003882  0.477479  0.169149 -1.355692\n",
       "2 -0.096093 -0.999915 -0.076737 -0.063701\n",
       "3 -0.758583  0.303422 -1.543244 -0.087671\n",
       "4  0.053460 -0.366127  0.189222 -0.577355\n",
       "5 -1.107621  1.007769  1.037378 -0.961204\n",
       "6 -1.211693 -0.281846 -0.946050  2.406350\n",
       "7  1.978900 -0.661534  0.116926 -1.181027\n",
       "8  0.587403  0.312974 -0.467879  0.433828\n",
       "9  0.677977 -0.503188 -0.554357  0.199265"
      ]
     },
     "execution_count": 92,
     "metadata": {},
     "output_type": "execute_result"
    }
   ],
   "source": [
    "df = pd.DataFrame(np.random.randn(10, 4))\n",
    "\n",
    "df\n",
    "    "
   ]
  },
  {
   "cell_type": "code",
   "execution_count": 93,
   "metadata": {
    "collapsed": false
   },
   "outputs": [
    {
     "ename": "SyntaxError",
     "evalue": "invalid syntax (<ipython-input-93-0c760bea46d2>, line 1)",
     "output_type": "error",
     "traceback": [
      "\u001b[1;36m  File \u001b[1;32m\"<ipython-input-93-0c760bea46d2>\"\u001b[1;36m, line \u001b[1;32m1\u001b[0m\n\u001b[1;33m    Out[74]:\u001b[0m\n\u001b[1;37m           ^\u001b[0m\n\u001b[1;31mSyntaxError\u001b[0m\u001b[1;31m:\u001b[0m invalid syntax\n"
     ]
    }
   ],
   "source": [
    "Out[74]: \n",
    "          0         1         2         3\n",
    "0 -0.548702  1.467327 -1.015962 -0.483075\n",
    "1  1.637550 -1.217659 -0.291519 -1.745505\n",
    "2 -0.263952  0.991460 -0.919069  0.266046\n",
    "3 -0.709661  1.669052  1.037882 -1.705775\n",
    "4 -0.919854 -0.042379  1.247642 -0.009920\n",
    "5  0.290213  0.495767  0.362949  1.548106\n",
    "6 -1.131345 -0.089329  0.337863 -0.945867\n",
    "7 -0.932132  1.956030  0.017587 -0.016692\n",
    "8 -0.575247  0.254161 -1.143704  0.215897\n",
    "9  1.193555 -0.077118 -0.408530 -0.862495\n",
    "\n",
    "# break it into pieces"
   ]
  },
  {
   "cell_type": "code",
   "execution_count": 94,
   "metadata": {
    "collapsed": false
   },
   "outputs": [
    {
     "data": {
      "text/html": [
       "<div>\n",
       "<table border=\"1\" class=\"dataframe\">\n",
       "  <thead>\n",
       "    <tr style=\"text-align: right;\">\n",
       "      <th></th>\n",
       "      <th>0</th>\n",
       "      <th>1</th>\n",
       "      <th>2</th>\n",
       "      <th>3</th>\n",
       "    </tr>\n",
       "  </thead>\n",
       "  <tbody>\n",
       "    <tr>\n",
       "      <th>0</th>\n",
       "      <td>0.055880</td>\n",
       "      <td>-0.092765</td>\n",
       "      <td>-0.115379</td>\n",
       "      <td>1.127017</td>\n",
       "    </tr>\n",
       "    <tr>\n",
       "      <th>1</th>\n",
       "      <td>1.003882</td>\n",
       "      <td>0.477479</td>\n",
       "      <td>0.169149</td>\n",
       "      <td>-1.355692</td>\n",
       "    </tr>\n",
       "    <tr>\n",
       "      <th>2</th>\n",
       "      <td>-0.096093</td>\n",
       "      <td>-0.999915</td>\n",
       "      <td>-0.076737</td>\n",
       "      <td>-0.063701</td>\n",
       "    </tr>\n",
       "    <tr>\n",
       "      <th>3</th>\n",
       "      <td>-0.758583</td>\n",
       "      <td>0.303422</td>\n",
       "      <td>-1.543244</td>\n",
       "      <td>-0.087671</td>\n",
       "    </tr>\n",
       "    <tr>\n",
       "      <th>4</th>\n",
       "      <td>0.053460</td>\n",
       "      <td>-0.366127</td>\n",
       "      <td>0.189222</td>\n",
       "      <td>-0.577355</td>\n",
       "    </tr>\n",
       "    <tr>\n",
       "      <th>5</th>\n",
       "      <td>-1.107621</td>\n",
       "      <td>1.007769</td>\n",
       "      <td>1.037378</td>\n",
       "      <td>-0.961204</td>\n",
       "    </tr>\n",
       "    <tr>\n",
       "      <th>6</th>\n",
       "      <td>-1.211693</td>\n",
       "      <td>-0.281846</td>\n",
       "      <td>-0.946050</td>\n",
       "      <td>2.406350</td>\n",
       "    </tr>\n",
       "    <tr>\n",
       "      <th>7</th>\n",
       "      <td>1.978900</td>\n",
       "      <td>-0.661534</td>\n",
       "      <td>0.116926</td>\n",
       "      <td>-1.181027</td>\n",
       "    </tr>\n",
       "    <tr>\n",
       "      <th>8</th>\n",
       "      <td>0.587403</td>\n",
       "      <td>0.312974</td>\n",
       "      <td>-0.467879</td>\n",
       "      <td>0.433828</td>\n",
       "    </tr>\n",
       "    <tr>\n",
       "      <th>9</th>\n",
       "      <td>0.677977</td>\n",
       "      <td>-0.503188</td>\n",
       "      <td>-0.554357</td>\n",
       "      <td>0.199265</td>\n",
       "    </tr>\n",
       "  </tbody>\n",
       "</table>\n",
       "</div>"
      ],
      "text/plain": [
       "          0         1         2         3\n",
       "0  0.055880 -0.092765 -0.115379  1.127017\n",
       "1  1.003882  0.477479  0.169149 -1.355692\n",
       "2 -0.096093 -0.999915 -0.076737 -0.063701\n",
       "3 -0.758583  0.303422 -1.543244 -0.087671\n",
       "4  0.053460 -0.366127  0.189222 -0.577355\n",
       "5 -1.107621  1.007769  1.037378 -0.961204\n",
       "6 -1.211693 -0.281846 -0.946050  2.406350\n",
       "7  1.978900 -0.661534  0.116926 -1.181027\n",
       "8  0.587403  0.312974 -0.467879  0.433828\n",
       "9  0.677977 -0.503188 -0.554357  0.199265"
      ]
     },
     "execution_count": 94,
     "metadata": {},
     "output_type": "execute_result"
    }
   ],
   "source": [
    "pieces = [df[:3], df[3:7], df[7:]]\n",
    "\n",
    "pd.concat(pieces)\n",
    "    "
   ]
  },
  {
   "cell_type": "code",
   "execution_count": 95,
   "metadata": {
    "collapsed": false
   },
   "outputs": [
    {
     "ename": "SyntaxError",
     "evalue": "invalid syntax (<ipython-input-95-35bfba566af5>, line 1)",
     "output_type": "error",
     "traceback": [
      "\u001b[1;36m  File \u001b[1;32m\"<ipython-input-95-35bfba566af5>\"\u001b[1;36m, line \u001b[1;32m1\u001b[0m\n\u001b[1;33m    Out[76]:\u001b[0m\n\u001b[1;37m           ^\u001b[0m\n\u001b[1;31mSyntaxError\u001b[0m\u001b[1;31m:\u001b[0m invalid syntax\n"
     ]
    }
   ],
   "source": [
    "Out[76]: \n",
    "          0         1         2         3\n",
    "0 -0.548702  1.467327 -1.015962 -0.483075\n",
    "1  1.637550 -1.217659 -0.291519 -1.745505\n",
    "2 -0.263952  0.991460 -0.919069  0.266046\n",
    "3 -0.709661  1.669052  1.037882 -1.705775\n",
    "4 -0.919854 -0.042379  1.247642 -0.009920\n",
    "5  0.290213  0.495767  0.362949  1.548106\n",
    "6 -1.131345 -0.089329  0.337863 -0.945867\n",
    "7 -0.932132  1.956030  0.017587 -0.016692\n",
    "8 -0.575247  0.254161 -1.143704  0.215897\n",
    "9  1.193555 -0.077118 -0.408530 -0.862495\n",
    "\n",
    "Join\n",
    "\n",
    "SQL style merges. See the Database style joining"
   ]
  },
  {
   "cell_type": "code",
   "execution_count": 96,
   "metadata": {
    "collapsed": false
   },
   "outputs": [
    {
     "data": {
      "text/html": [
       "<div>\n",
       "<table border=\"1\" class=\"dataframe\">\n",
       "  <thead>\n",
       "    <tr style=\"text-align: right;\">\n",
       "      <th></th>\n",
       "      <th>key</th>\n",
       "      <th>lval</th>\n",
       "    </tr>\n",
       "  </thead>\n",
       "  <tbody>\n",
       "    <tr>\n",
       "      <th>0</th>\n",
       "      <td>foo</td>\n",
       "      <td>1</td>\n",
       "    </tr>\n",
       "    <tr>\n",
       "      <th>1</th>\n",
       "      <td>foo</td>\n",
       "      <td>2</td>\n",
       "    </tr>\n",
       "  </tbody>\n",
       "</table>\n",
       "</div>"
      ],
      "text/plain": [
       "   key  lval\n",
       "0  foo     1\n",
       "1  foo     2"
      ]
     },
     "execution_count": 96,
     "metadata": {},
     "output_type": "execute_result"
    }
   ],
   "source": [
    "left = pd.DataFrame({'key': ['foo', 'foo'], 'lval': [1, 2]})\n",
    "\n",
    "right = pd.DataFrame({'key': ['foo', 'foo'], 'rval': [4, 5]})\n",
    "\n",
    "left\n",
    "    "
   ]
  },
  {
   "cell_type": "code",
   "execution_count": 97,
   "metadata": {
    "collapsed": false
   },
   "outputs": [
    {
     "ename": "SyntaxError",
     "evalue": "invalid syntax (<ipython-input-97-1e636b0a6246>, line 1)",
     "output_type": "error",
     "traceback": [
      "\u001b[1;36m  File \u001b[1;32m\"<ipython-input-97-1e636b0a6246>\"\u001b[1;36m, line \u001b[1;32m1\u001b[0m\n\u001b[1;33m    Out[79]:\u001b[0m\n\u001b[1;37m           ^\u001b[0m\n\u001b[1;31mSyntaxError\u001b[0m\u001b[1;31m:\u001b[0m invalid syntax\n"
     ]
    }
   ],
   "source": [
    "Out[79]: \n",
    "   key  lval\n",
    "0  foo     1\n",
    "1  foo     2"
   ]
  },
  {
   "cell_type": "code",
   "execution_count": 98,
   "metadata": {
    "collapsed": false
   },
   "outputs": [
    {
     "data": {
      "text/html": [
       "<div>\n",
       "<table border=\"1\" class=\"dataframe\">\n",
       "  <thead>\n",
       "    <tr style=\"text-align: right;\">\n",
       "      <th></th>\n",
       "      <th>key</th>\n",
       "      <th>rval</th>\n",
       "    </tr>\n",
       "  </thead>\n",
       "  <tbody>\n",
       "    <tr>\n",
       "      <th>0</th>\n",
       "      <td>foo</td>\n",
       "      <td>4</td>\n",
       "    </tr>\n",
       "    <tr>\n",
       "      <th>1</th>\n",
       "      <td>foo</td>\n",
       "      <td>5</td>\n",
       "    </tr>\n",
       "  </tbody>\n",
       "</table>\n",
       "</div>"
      ],
      "text/plain": [
       "   key  rval\n",
       "0  foo     4\n",
       "1  foo     5"
      ]
     },
     "execution_count": 98,
     "metadata": {},
     "output_type": "execute_result"
    }
   ],
   "source": [
    "In [80]: right"
   ]
  },
  {
   "cell_type": "code",
   "execution_count": 99,
   "metadata": {
    "collapsed": false
   },
   "outputs": [
    {
     "ename": "SyntaxError",
     "evalue": "invalid syntax (<ipython-input-99-098ea60aa713>, line 1)",
     "output_type": "error",
     "traceback": [
      "\u001b[1;36m  File \u001b[1;32m\"<ipython-input-99-098ea60aa713>\"\u001b[1;36m, line \u001b[1;32m1\u001b[0m\n\u001b[1;33m    Out[80]:\u001b[0m\n\u001b[1;37m           ^\u001b[0m\n\u001b[1;31mSyntaxError\u001b[0m\u001b[1;31m:\u001b[0m invalid syntax\n"
     ]
    }
   ],
   "source": [
    "Out[80]: "
   ]
  },
  {
   "cell_type": "code",
   "execution_count": 100,
   "metadata": {
    "collapsed": false
   },
   "outputs": [
    {
     "ename": "SyntaxError",
     "evalue": "invalid syntax (<ipython-input-100-cf7fbd804895>, line 1)",
     "output_type": "error",
     "traceback": [
      "\u001b[1;36m  File \u001b[1;32m\"<ipython-input-100-cf7fbd804895>\"\u001b[1;36m, line \u001b[1;32m1\u001b[0m\n\u001b[1;33m    key  rval\u001b[0m\n\u001b[1;37m            ^\u001b[0m\n\u001b[1;31mSyntaxError\u001b[0m\u001b[1;31m:\u001b[0m invalid syntax\n"
     ]
    }
   ],
   "source": [
    "   key  rval\n",
    "0  foo     4\n",
    "1  foo     5"
   ]
  },
  {
   "cell_type": "code",
   "execution_count": 101,
   "metadata": {
    "collapsed": false
   },
   "outputs": [
    {
     "data": {
      "text/html": [
       "<div>\n",
       "<table border=\"1\" class=\"dataframe\">\n",
       "  <thead>\n",
       "    <tr style=\"text-align: right;\">\n",
       "      <th></th>\n",
       "      <th>key</th>\n",
       "      <th>lval</th>\n",
       "      <th>rval</th>\n",
       "    </tr>\n",
       "  </thead>\n",
       "  <tbody>\n",
       "    <tr>\n",
       "      <th>0</th>\n",
       "      <td>foo</td>\n",
       "      <td>1</td>\n",
       "      <td>4</td>\n",
       "    </tr>\n",
       "    <tr>\n",
       "      <th>1</th>\n",
       "      <td>foo</td>\n",
       "      <td>1</td>\n",
       "      <td>5</td>\n",
       "    </tr>\n",
       "    <tr>\n",
       "      <th>2</th>\n",
       "      <td>foo</td>\n",
       "      <td>2</td>\n",
       "      <td>4</td>\n",
       "    </tr>\n",
       "    <tr>\n",
       "      <th>3</th>\n",
       "      <td>foo</td>\n",
       "      <td>2</td>\n",
       "      <td>5</td>\n",
       "    </tr>\n",
       "  </tbody>\n",
       "</table>\n",
       "</div>"
      ],
      "text/plain": [
       "   key  lval  rval\n",
       "0  foo     1     4\n",
       "1  foo     1     5\n",
       "2  foo     2     4\n",
       "3  foo     2     5"
      ]
     },
     "execution_count": 101,
     "metadata": {},
     "output_type": "execute_result"
    }
   ],
   "source": [
    "pd.merge(left, right, on='key')"
   ]
  },
  {
   "cell_type": "code",
   "execution_count": 102,
   "metadata": {
    "collapsed": false
   },
   "outputs": [
    {
     "ename": "SyntaxError",
     "evalue": "invalid syntax (<ipython-input-102-289a51fa9dce>, line 1)",
     "output_type": "error",
     "traceback": [
      "\u001b[1;36m  File \u001b[1;32m\"<ipython-input-102-289a51fa9dce>\"\u001b[1;36m, line \u001b[1;32m1\u001b[0m\n\u001b[1;33m    Out[81]:\u001b[0m\n\u001b[1;37m           ^\u001b[0m\n\u001b[1;31mSyntaxError\u001b[0m\u001b[1;31m:\u001b[0m invalid syntax\n"
     ]
    }
   ],
   "source": [
    "Out[81]: \n",
    "   key  lval  rval\n",
    "0  foo     1     4\n",
    "1  foo     1     5\n",
    "2  foo     2     4\n",
    "3  foo     2     5\n",
    "\n",
    "Another example that can be given is:"
   ]
  },
  {
   "cell_type": "code",
   "execution_count": 103,
   "metadata": {
    "collapsed": false
   },
   "outputs": [
    {
     "data": {
      "text/html": [
       "<div>\n",
       "<table border=\"1\" class=\"dataframe\">\n",
       "  <thead>\n",
       "    <tr style=\"text-align: right;\">\n",
       "      <th></th>\n",
       "      <th>key</th>\n",
       "      <th>lval</th>\n",
       "    </tr>\n",
       "  </thead>\n",
       "  <tbody>\n",
       "    <tr>\n",
       "      <th>0</th>\n",
       "      <td>foo</td>\n",
       "      <td>1</td>\n",
       "    </tr>\n",
       "    <tr>\n",
       "      <th>1</th>\n",
       "      <td>bar</td>\n",
       "      <td>2</td>\n",
       "    </tr>\n",
       "  </tbody>\n",
       "</table>\n",
       "</div>"
      ],
      "text/plain": [
       "   key  lval\n",
       "0  foo     1\n",
       "1  bar     2"
      ]
     },
     "execution_count": 103,
     "metadata": {},
     "output_type": "execute_result"
    }
   ],
   "source": [
    "In [82]: left = pd.DataFrame({'key': ['foo', 'bar'], 'lval': [1, 2]})\n",
    "\n",
    "In [83]: right = pd.DataFrame({'key': ['foo', 'bar'], 'rval': [4, 5]})\n",
    "\n",
    "In [84]: left"
   ]
  },
  {
   "cell_type": "code",
   "execution_count": 104,
   "metadata": {
    "collapsed": false
   },
   "outputs": [
    {
     "ename": "SyntaxError",
     "evalue": "invalid syntax (<ipython-input-104-b761068bc880>, line 1)",
     "output_type": "error",
     "traceback": [
      "\u001b[1;36m  File \u001b[1;32m\"<ipython-input-104-b761068bc880>\"\u001b[1;36m, line \u001b[1;32m1\u001b[0m\n\u001b[1;33m    Out[84]:\u001b[0m\n\u001b[1;37m           ^\u001b[0m\n\u001b[1;31mSyntaxError\u001b[0m\u001b[1;31m:\u001b[0m invalid syntax\n"
     ]
    }
   ],
   "source": [
    "Out[84]: \n",
    "   key  lval\n",
    "0  foo     1\n",
    "1  bar     2"
   ]
  },
  {
   "cell_type": "code",
   "execution_count": 105,
   "metadata": {
    "collapsed": false
   },
   "outputs": [
    {
     "data": {
      "text/html": [
       "<div>\n",
       "<table border=\"1\" class=\"dataframe\">\n",
       "  <thead>\n",
       "    <tr style=\"text-align: right;\">\n",
       "      <th></th>\n",
       "      <th>key</th>\n",
       "      <th>rval</th>\n",
       "    </tr>\n",
       "  </thead>\n",
       "  <tbody>\n",
       "    <tr>\n",
       "      <th>0</th>\n",
       "      <td>foo</td>\n",
       "      <td>4</td>\n",
       "    </tr>\n",
       "    <tr>\n",
       "      <th>1</th>\n",
       "      <td>bar</td>\n",
       "      <td>5</td>\n",
       "    </tr>\n",
       "  </tbody>\n",
       "</table>\n",
       "</div>"
      ],
      "text/plain": [
       "   key  rval\n",
       "0  foo     4\n",
       "1  bar     5"
      ]
     },
     "execution_count": 105,
     "metadata": {},
     "output_type": "execute_result"
    }
   ],
   "source": [
    "In [85]: right\n",
    "    "
   ]
  },
  {
   "cell_type": "code",
   "execution_count": 106,
   "metadata": {
    "collapsed": false
   },
   "outputs": [
    {
     "ename": "SyntaxError",
     "evalue": "invalid syntax (<ipython-input-106-b7b8289201ae>, line 1)",
     "output_type": "error",
     "traceback": [
      "\u001b[1;36m  File \u001b[1;32m\"<ipython-input-106-b7b8289201ae>\"\u001b[1;36m, line \u001b[1;32m1\u001b[0m\n\u001b[1;33m    Out[85]:\u001b[0m\n\u001b[1;37m           ^\u001b[0m\n\u001b[1;31mSyntaxError\u001b[0m\u001b[1;31m:\u001b[0m invalid syntax\n"
     ]
    }
   ],
   "source": [
    "Out[85]: \n",
    "   key  rval\n",
    "0  foo     4\n",
    "1  bar     5"
   ]
  },
  {
   "cell_type": "code",
   "execution_count": 107,
   "metadata": {
    "collapsed": false
   },
   "outputs": [
    {
     "data": {
      "text/html": [
       "<div>\n",
       "<table border=\"1\" class=\"dataframe\">\n",
       "  <thead>\n",
       "    <tr style=\"text-align: right;\">\n",
       "      <th></th>\n",
       "      <th>key</th>\n",
       "      <th>lval</th>\n",
       "      <th>rval</th>\n",
       "    </tr>\n",
       "  </thead>\n",
       "  <tbody>\n",
       "    <tr>\n",
       "      <th>0</th>\n",
       "      <td>foo</td>\n",
       "      <td>1</td>\n",
       "      <td>4</td>\n",
       "    </tr>\n",
       "    <tr>\n",
       "      <th>1</th>\n",
       "      <td>bar</td>\n",
       "      <td>2</td>\n",
       "      <td>5</td>\n",
       "    </tr>\n",
       "  </tbody>\n",
       "</table>\n",
       "</div>"
      ],
      "text/plain": [
       "   key  lval  rval\n",
       "0  foo     1     4\n",
       "1  bar     2     5"
      ]
     },
     "execution_count": 107,
     "metadata": {},
     "output_type": "execute_result"
    }
   ],
   "source": [
    "pd.merge(left, right, on='key')"
   ]
  },
  {
   "cell_type": "code",
   "execution_count": 108,
   "metadata": {
    "collapsed": false
   },
   "outputs": [
    {
     "ename": "SyntaxError",
     "evalue": "invalid syntax (<ipython-input-108-9ddd23aa98aa>, line 1)",
     "output_type": "error",
     "traceback": [
      "\u001b[1;36m  File \u001b[1;32m\"<ipython-input-108-9ddd23aa98aa>\"\u001b[1;36m, line \u001b[1;32m1\u001b[0m\n\u001b[1;33m    Out[86]:\u001b[0m\n\u001b[1;37m           ^\u001b[0m\n\u001b[1;31mSyntaxError\u001b[0m\u001b[1;31m:\u001b[0m invalid syntax\n"
     ]
    }
   ],
   "source": [
    "Out[86]: \n",
    "   key  lval  rval\n",
    "0  foo     1     4\n",
    "1  bar     2     5\n",
    "\n",
    "Append\n",
    "\n",
    "Append rows to a dataframe. See the Appending"
   ]
  },
  {
   "cell_type": "code",
   "execution_count": 109,
   "metadata": {
    "collapsed": false
   },
   "outputs": [
    {
     "data": {
      "text/html": [
       "<div>\n",
       "<table border=\"1\" class=\"dataframe\">\n",
       "  <thead>\n",
       "    <tr style=\"text-align: right;\">\n",
       "      <th></th>\n",
       "      <th>A</th>\n",
       "      <th>B</th>\n",
       "      <th>C</th>\n",
       "      <th>D</th>\n",
       "    </tr>\n",
       "  </thead>\n",
       "  <tbody>\n",
       "    <tr>\n",
       "      <th>0</th>\n",
       "      <td>-0.143587</td>\n",
       "      <td>0.690733</td>\n",
       "      <td>1.085274</td>\n",
       "      <td>0.772952</td>\n",
       "    </tr>\n",
       "    <tr>\n",
       "      <th>1</th>\n",
       "      <td>-0.516968</td>\n",
       "      <td>2.090992</td>\n",
       "      <td>-2.191816</td>\n",
       "      <td>-0.899787</td>\n",
       "    </tr>\n",
       "    <tr>\n",
       "      <th>2</th>\n",
       "      <td>-0.254395</td>\n",
       "      <td>-0.101168</td>\n",
       "      <td>-0.318974</td>\n",
       "      <td>-0.175519</td>\n",
       "    </tr>\n",
       "    <tr>\n",
       "      <th>3</th>\n",
       "      <td>-1.258991</td>\n",
       "      <td>0.148581</td>\n",
       "      <td>1.862921</td>\n",
       "      <td>-0.006487</td>\n",
       "    </tr>\n",
       "    <tr>\n",
       "      <th>4</th>\n",
       "      <td>1.659694</td>\n",
       "      <td>0.695126</td>\n",
       "      <td>-0.200171</td>\n",
       "      <td>-0.141751</td>\n",
       "    </tr>\n",
       "    <tr>\n",
       "      <th>5</th>\n",
       "      <td>1.173659</td>\n",
       "      <td>-0.873048</td>\n",
       "      <td>-0.949126</td>\n",
       "      <td>0.208895</td>\n",
       "    </tr>\n",
       "    <tr>\n",
       "      <th>6</th>\n",
       "      <td>-1.185347</td>\n",
       "      <td>-1.293548</td>\n",
       "      <td>-0.886372</td>\n",
       "      <td>-1.148140</td>\n",
       "    </tr>\n",
       "    <tr>\n",
       "      <th>7</th>\n",
       "      <td>2.263999</td>\n",
       "      <td>-0.895910</td>\n",
       "      <td>-1.220421</td>\n",
       "      <td>0.155917</td>\n",
       "    </tr>\n",
       "  </tbody>\n",
       "</table>\n",
       "</div>"
      ],
      "text/plain": [
       "          A         B         C         D\n",
       "0 -0.143587  0.690733  1.085274  0.772952\n",
       "1 -0.516968  2.090992 -2.191816 -0.899787\n",
       "2 -0.254395 -0.101168 -0.318974 -0.175519\n",
       "3 -1.258991  0.148581  1.862921 -0.006487\n",
       "4  1.659694  0.695126 -0.200171 -0.141751\n",
       "5  1.173659 -0.873048 -0.949126  0.208895\n",
       "6 -1.185347 -1.293548 -0.886372 -1.148140\n",
       "7  2.263999 -0.895910 -1.220421  0.155917"
      ]
     },
     "execution_count": 109,
     "metadata": {},
     "output_type": "execute_result"
    }
   ],
   "source": [
    "In [87]: df = pd.DataFrame(np.random.randn(8, 4), columns=['A','B','C','D'])\n",
    "\n",
    "In [88]: df"
   ]
  },
  {
   "cell_type": "code",
   "execution_count": 110,
   "metadata": {
    "collapsed": false
   },
   "outputs": [
    {
     "ename": "SyntaxError",
     "evalue": "invalid syntax (<ipython-input-110-5528f9a3e4ec>, line 1)",
     "output_type": "error",
     "traceback": [
      "\u001b[1;36m  File \u001b[1;32m\"<ipython-input-110-5528f9a3e4ec>\"\u001b[1;36m, line \u001b[1;32m1\u001b[0m\n\u001b[1;33m    Out[88]:\u001b[0m\n\u001b[1;37m           ^\u001b[0m\n\u001b[1;31mSyntaxError\u001b[0m\u001b[1;31m:\u001b[0m invalid syntax\n"
     ]
    }
   ],
   "source": [
    "Out[88]: \n",
    "          A         B         C         D\n",
    "0  1.346061  1.511763  1.627081 -0.990582\n",
    "1 -0.441652  1.211526  0.268520  0.024580\n",
    "2 -1.577585  0.396823 -0.105381 -0.532532\n",
    "3  1.453749  1.208843 -0.080952 -0.264610\n",
    "4 -0.727965 -0.589346  0.339969 -0.693205\n",
    "5 -0.339355  0.593616  0.884345  1.591431\n",
    "6  0.141809  0.220390  0.435589  0.192451\n",
    "7 -0.096701  0.803351  1.715071 -0.708758"
   ]
  },
  {
   "cell_type": "code",
   "execution_count": 111,
   "metadata": {
    "collapsed": false
   },
   "outputs": [
    {
     "ename": "TypeError",
     "evalue": "cannot concatenate a non-NDFrame object",
     "output_type": "error",
     "traceback": [
      "\u001b[1;31m---------------------------------------------------------------------------\u001b[0m",
      "\u001b[1;31mTypeError\u001b[0m                                 Traceback (most recent call last)",
      "\u001b[1;32m<ipython-input-111-10e3c0cc608d>\u001b[0m in \u001b[0;36m<module>\u001b[1;34m()\u001b[0m\n\u001b[0;32m      2\u001b[0m \u001b[1;33m[\u001b[0m\u001b[1;36m3\u001b[0m\u001b[1;33m]\u001b[0m\u001b[1;33m\u001b[0m\u001b[0m\n\u001b[0;32m      3\u001b[0m \u001b[1;33m\u001b[0m\u001b[0m\n\u001b[1;32m----> 4\u001b[1;33m \u001b[0mdf\u001b[0m\u001b[1;33m.\u001b[0m\u001b[0mappend\u001b[0m\u001b[1;33m(\u001b[0m\u001b[0ms\u001b[0m\u001b[1;33m,\u001b[0m \u001b[0mignore_index\u001b[0m\u001b[1;33m=\u001b[0m\u001b[0mTrue\u001b[0m\u001b[1;33m)\u001b[0m\u001b[1;33m\u001b[0m\u001b[0m\n\u001b[0m",
      "\u001b[1;32mC:\\Users\\Toshiba\\Anaconda3\\lib\\site-packages\\pandas\\core\\frame.pyc\u001b[0m in \u001b[0;36mappend\u001b[1;34m(self, other, ignore_index, verify_integrity)\u001b[0m\n\u001b[0;32m   4433\u001b[0m             \u001b[0mto_concat\u001b[0m \u001b[1;33m=\u001b[0m \u001b[1;33m[\u001b[0m\u001b[0mself\u001b[0m\u001b[1;33m,\u001b[0m \u001b[0mother\u001b[0m\u001b[1;33m]\u001b[0m\u001b[1;33m\u001b[0m\u001b[0m\n\u001b[0;32m   4434\u001b[0m         return concat(to_concat, ignore_index=ignore_index,\n\u001b[1;32m-> 4435\u001b[1;33m                       verify_integrity=verify_integrity)\n\u001b[0m\u001b[0;32m   4436\u001b[0m \u001b[1;33m\u001b[0m\u001b[0m\n\u001b[0;32m   4437\u001b[0m     def join(self, other, on=None, how='left', lsuffix='', rsuffix='',\n",
      "\u001b[1;32mC:\\Users\\Toshiba\\Anaconda3\\lib\\site-packages\\pandas\\tools\\merge.pyc\u001b[0m in \u001b[0;36mconcat\u001b[1;34m(objs, axis, join, join_axes, ignore_index, keys, levels, names, verify_integrity, copy)\u001b[0m\n\u001b[0;32m   1449\u001b[0m                        \u001b[0mkeys\u001b[0m\u001b[1;33m=\u001b[0m\u001b[0mkeys\u001b[0m\u001b[1;33m,\u001b[0m \u001b[0mlevels\u001b[0m\u001b[1;33m=\u001b[0m\u001b[0mlevels\u001b[0m\u001b[1;33m,\u001b[0m \u001b[0mnames\u001b[0m\u001b[1;33m=\u001b[0m\u001b[0mnames\u001b[0m\u001b[1;33m,\u001b[0m\u001b[1;33m\u001b[0m\u001b[0m\n\u001b[0;32m   1450\u001b[0m                        \u001b[0mverify_integrity\u001b[0m\u001b[1;33m=\u001b[0m\u001b[0mverify_integrity\u001b[0m\u001b[1;33m,\u001b[0m\u001b[1;33m\u001b[0m\u001b[0m\n\u001b[1;32m-> 1451\u001b[1;33m                        copy=copy)\n\u001b[0m\u001b[0;32m   1452\u001b[0m     \u001b[1;32mreturn\u001b[0m \u001b[0mop\u001b[0m\u001b[1;33m.\u001b[0m\u001b[0mget_result\u001b[0m\u001b[1;33m(\u001b[0m\u001b[1;33m)\u001b[0m\u001b[1;33m\u001b[0m\u001b[0m\n\u001b[0;32m   1453\u001b[0m \u001b[1;33m\u001b[0m\u001b[0m\n",
      "\u001b[1;32mC:\\Users\\Toshiba\\Anaconda3\\lib\\site-packages\\pandas\\tools\\merge.pyc\u001b[0m in \u001b[0;36m__init__\u001b[1;34m(self, objs, axis, join, join_axes, keys, levels, names, ignore_index, verify_integrity, copy)\u001b[0m\n\u001b[0;32m   1506\u001b[0m         \u001b[1;32mfor\u001b[0m \u001b[0mobj\u001b[0m \u001b[1;32min\u001b[0m \u001b[0mobjs\u001b[0m\u001b[1;33m:\u001b[0m\u001b[1;33m\u001b[0m\u001b[0m\n\u001b[0;32m   1507\u001b[0m             \u001b[1;32mif\u001b[0m \u001b[1;32mnot\u001b[0m \u001b[0misinstance\u001b[0m\u001b[1;33m(\u001b[0m\u001b[0mobj\u001b[0m\u001b[1;33m,\u001b[0m \u001b[0mNDFrame\u001b[0m\u001b[1;33m)\u001b[0m\u001b[1;33m:\u001b[0m\u001b[1;33m\u001b[0m\u001b[0m\n\u001b[1;32m-> 1508\u001b[1;33m                 \u001b[1;32mraise\u001b[0m \u001b[0mTypeError\u001b[0m\u001b[1;33m(\u001b[0m\u001b[1;34m\"cannot concatenate a non-NDFrame object\"\u001b[0m\u001b[1;33m)\u001b[0m\u001b[1;33m\u001b[0m\u001b[0m\n\u001b[0m\u001b[0;32m   1509\u001b[0m \u001b[1;33m\u001b[0m\u001b[0m\n\u001b[0;32m   1510\u001b[0m             \u001b[1;31m# consolidate\u001b[0m\u001b[1;33m\u001b[0m\u001b[1;33m\u001b[0m\u001b[0m\n",
      "\u001b[1;31mTypeError\u001b[0m: cannot concatenate a non-NDFrame object"
     ]
    }
   ],
   "source": [
    "s = df.iloc \n",
    "[3]\n",
    "\n",
    "df.append(s, ignore_index=True)"
   ]
  },
  {
   "cell_type": "code",
   "execution_count": 112,
   "metadata": {
    "collapsed": false
   },
   "outputs": [
    {
     "ename": "SyntaxError",
     "evalue": "invalid syntax (<ipython-input-112-919030613ee5>, line 1)",
     "output_type": "error",
     "traceback": [
      "\u001b[1;36m  File \u001b[1;32m\"<ipython-input-112-919030613ee5>\"\u001b[1;36m, line \u001b[1;32m1\u001b[0m\n\u001b[1;33m    Out[90]:\u001b[0m\n\u001b[1;37m           ^\u001b[0m\n\u001b[1;31mSyntaxError\u001b[0m\u001b[1;31m:\u001b[0m invalid syntax\n"
     ]
    }
   ],
   "source": [
    "Out[90]: \n",
    "          A         B         C         D\n",
    "0  1.346061  1.511763  1.627081 -0.990582\n",
    "1 -0.441652  1.211526  0.268520  0.024580\n",
    "2 -1.577585  0.396823 -0.105381 -0.532532\n",
    "3  1.453749  1.208843 -0.080952 -0.264610\n",
    "4 -0.727965 -0.589346  0.339969 -0.693205\n",
    "5 -0.339355  0.593616  0.884345  1.591431\n",
    "6  0.141809  0.220390  0.435589  0.192451\n",
    "7 -0.096701  0.803351  1.715071 -0.708758\n",
    "8  1.453749  1.208843 -0.080952 -0.264610\n",
    "\n",
    "Grouping\n",
    "\n",
    "By “group by” we are referring to a process involving one or more of the following steps\n",
    "\n",
    "        Splitting the data into groups based on some criteria\n",
    "        Applying a function to each group independently\n",
    "        Combining the results into a data structure\n",
    "\n",
    "See the Grouping section"
   ]
  },
  {
   "cell_type": "code",
   "execution_count": 113,
   "metadata": {
    "collapsed": false
   },
   "outputs": [
    {
     "data": {
      "text/html": [
       "<div>\n",
       "<table border=\"1\" class=\"dataframe\">\n",
       "  <thead>\n",
       "    <tr style=\"text-align: right;\">\n",
       "      <th></th>\n",
       "      <th>A</th>\n",
       "      <th>B</th>\n",
       "      <th>C</th>\n",
       "      <th>D</th>\n",
       "    </tr>\n",
       "  </thead>\n",
       "  <tbody>\n",
       "    <tr>\n",
       "      <th>0</th>\n",
       "      <td>foo</td>\n",
       "      <td>one</td>\n",
       "      <td>0.396972</td>\n",
       "      <td>0.291744</td>\n",
       "    </tr>\n",
       "    <tr>\n",
       "      <th>1</th>\n",
       "      <td>bar</td>\n",
       "      <td>one</td>\n",
       "      <td>1.529083</td>\n",
       "      <td>0.627222</td>\n",
       "    </tr>\n",
       "    <tr>\n",
       "      <th>2</th>\n",
       "      <td>foo</td>\n",
       "      <td>two</td>\n",
       "      <td>-2.323360</td>\n",
       "      <td>0.359978</td>\n",
       "    </tr>\n",
       "    <tr>\n",
       "      <th>3</th>\n",
       "      <td>bar</td>\n",
       "      <td>three</td>\n",
       "      <td>-1.946869</td>\n",
       "      <td>-0.515512</td>\n",
       "    </tr>\n",
       "    <tr>\n",
       "      <th>4</th>\n",
       "      <td>foo</td>\n",
       "      <td>two</td>\n",
       "      <td>-2.580255</td>\n",
       "      <td>-0.598623</td>\n",
       "    </tr>\n",
       "    <tr>\n",
       "      <th>5</th>\n",
       "      <td>bar</td>\n",
       "      <td>two</td>\n",
       "      <td>-0.981773</td>\n",
       "      <td>0.319673</td>\n",
       "    </tr>\n",
       "    <tr>\n",
       "      <th>6</th>\n",
       "      <td>foo</td>\n",
       "      <td>one</td>\n",
       "      <td>0.152747</td>\n",
       "      <td>0.222755</td>\n",
       "    </tr>\n",
       "    <tr>\n",
       "      <th>7</th>\n",
       "      <td>foo</td>\n",
       "      <td>three</td>\n",
       "      <td>-0.483507</td>\n",
       "      <td>-0.449665</td>\n",
       "    </tr>\n",
       "  </tbody>\n",
       "</table>\n",
       "</div>"
      ],
      "text/plain": [
       "     A      B         C         D\n",
       "0  foo    one  0.396972  0.291744\n",
       "1  bar    one  1.529083  0.627222\n",
       "2  foo    two -2.323360  0.359978\n",
       "3  bar  three -1.946869 -0.515512\n",
       "4  foo    two -2.580255 -0.598623\n",
       "5  bar    two -0.981773  0.319673\n",
       "6  foo    one  0.152747  0.222755\n",
       "7  foo  three -0.483507 -0.449665"
      ]
     },
     "execution_count": 113,
     "metadata": {},
     "output_type": "execute_result"
    }
   ],
   "source": [
    "In [91]: df = pd.DataFrame({'A' : ['foo', 'bar', 'foo', 'bar',\n",
    "   ....:                           'foo', 'bar', 'foo', 'foo'],\n",
    "   ....:                    'B' : ['one', 'one', 'two', 'three',\n",
    "   ....:                           'two', 'two', 'one', 'three'],\n",
    "   ....:                    'C' : np.random.randn(8),\n",
    "   ....:                    'D' : np.random.randn(8)})\n",
    "   ....: \n",
    "\n",
    "In [92]: df"
   ]
  },
  {
   "cell_type": "code",
   "execution_count": 114,
   "metadata": {
    "collapsed": false
   },
   "outputs": [
    {
     "ename": "SyntaxError",
     "evalue": "invalid syntax (<ipython-input-114-e22fd8623902>, line 1)",
     "output_type": "error",
     "traceback": [
      "\u001b[1;36m  File \u001b[1;32m\"<ipython-input-114-e22fd8623902>\"\u001b[1;36m, line \u001b[1;32m1\u001b[0m\n\u001b[1;33m    Out[92]:\u001b[0m\n\u001b[1;37m           ^\u001b[0m\n\u001b[1;31mSyntaxError\u001b[0m\u001b[1;31m:\u001b[0m invalid syntax\n"
     ]
    }
   ],
   "source": [
    "Out[92]: \n",
    "     A      B         C         D\n",
    "0  foo    one -1.202872 -0.055224\n",
    "1  bar    one -1.814470  2.395985\n",
    "2  foo    two  1.018601  1.552825\n",
    "3  bar  three -0.595447  0.166599\n",
    "4  foo    two  1.395433  0.047609\n",
    "5  bar    two -0.392670 -0.136473\n",
    "6  foo    one  0.007207 -0.561757\n",
    "7  foo  three  1.928123 -1.623033\n",
    "\n",
    "Grouping and then applying a function sum to the resulting groups."
   ]
  },
  {
   "cell_type": "code",
   "execution_count": 115,
   "metadata": {
    "collapsed": false
   },
   "outputs": [
    {
     "data": {
      "text/html": [
       "<div>\n",
       "<table border=\"1\" class=\"dataframe\">\n",
       "  <thead>\n",
       "    <tr style=\"text-align: right;\">\n",
       "      <th></th>\n",
       "      <th>C</th>\n",
       "      <th>D</th>\n",
       "    </tr>\n",
       "    <tr>\n",
       "      <th>A</th>\n",
       "      <th></th>\n",
       "      <th></th>\n",
       "    </tr>\n",
       "  </thead>\n",
       "  <tbody>\n",
       "    <tr>\n",
       "      <th>bar</th>\n",
       "      <td>-1.399559</td>\n",
       "      <td>0.431383</td>\n",
       "    </tr>\n",
       "    <tr>\n",
       "      <th>foo</th>\n",
       "      <td>-4.837404</td>\n",
       "      <td>-0.173811</td>\n",
       "    </tr>\n",
       "  </tbody>\n",
       "</table>\n",
       "</div>"
      ],
      "text/plain": [
       "            C         D\n",
       "A                      \n",
       "bar -1.399559  0.431383\n",
       "foo -4.837404 -0.173811"
      ]
     },
     "execution_count": 115,
     "metadata": {},
     "output_type": "execute_result"
    }
   ],
   "source": [
    "In [93]: df.groupby('A').sum()"
   ]
  },
  {
   "cell_type": "code",
   "execution_count": 116,
   "metadata": {
    "collapsed": false
   },
   "outputs": [
    {
     "ename": "SyntaxError",
     "evalue": "invalid syntax (<ipython-input-116-f605ed5bd012>, line 1)",
     "output_type": "error",
     "traceback": [
      "\u001b[1;36m  File \u001b[1;32m\"<ipython-input-116-f605ed5bd012>\"\u001b[1;36m, line \u001b[1;32m1\u001b[0m\n\u001b[1;33m    Out[93]:\u001b[0m\n\u001b[1;37m           ^\u001b[0m\n\u001b[1;31mSyntaxError\u001b[0m\u001b[1;31m:\u001b[0m invalid syntax\n"
     ]
    }
   ],
   "source": [
    "Out[93]: \n",
    "            C        D\n",
    "A                     \n",
    "bar -2.802588  2.42611\n",
    "foo  3.146492 -0.63958\n",
    "\n",
    "Grouping by multiple columns forms a hierarchical index, which we then apply the function."
   ]
  },
  {
   "cell_type": "code",
   "execution_count": 117,
   "metadata": {
    "collapsed": false
   },
   "outputs": [
    {
     "data": {
      "text/html": [
       "<div>\n",
       "<table border=\"1\" class=\"dataframe\">\n",
       "  <thead>\n",
       "    <tr style=\"text-align: right;\">\n",
       "      <th></th>\n",
       "      <th></th>\n",
       "      <th>C</th>\n",
       "      <th>D</th>\n",
       "    </tr>\n",
       "    <tr>\n",
       "      <th>A</th>\n",
       "      <th>B</th>\n",
       "      <th></th>\n",
       "      <th></th>\n",
       "    </tr>\n",
       "  </thead>\n",
       "  <tbody>\n",
       "    <tr>\n",
       "      <th rowspan=\"3\" valign=\"top\">bar</th>\n",
       "      <th>one</th>\n",
       "      <td>1.529083</td>\n",
       "      <td>0.627222</td>\n",
       "    </tr>\n",
       "    <tr>\n",
       "      <th>three</th>\n",
       "      <td>-1.946869</td>\n",
       "      <td>-0.515512</td>\n",
       "    </tr>\n",
       "    <tr>\n",
       "      <th>two</th>\n",
       "      <td>-0.981773</td>\n",
       "      <td>0.319673</td>\n",
       "    </tr>\n",
       "    <tr>\n",
       "      <th rowspan=\"3\" valign=\"top\">foo</th>\n",
       "      <th>one</th>\n",
       "      <td>0.549719</td>\n",
       "      <td>0.514500</td>\n",
       "    </tr>\n",
       "    <tr>\n",
       "      <th>three</th>\n",
       "      <td>-0.483507</td>\n",
       "      <td>-0.449665</td>\n",
       "    </tr>\n",
       "    <tr>\n",
       "      <th>two</th>\n",
       "      <td>-4.903615</td>\n",
       "      <td>-0.238645</td>\n",
       "    </tr>\n",
       "  </tbody>\n",
       "</table>\n",
       "</div>"
      ],
      "text/plain": [
       "                  C         D\n",
       "A   B                        \n",
       "bar one    1.529083  0.627222\n",
       "    three -1.946869 -0.515512\n",
       "    two   -0.981773  0.319673\n",
       "foo one    0.549719  0.514500\n",
       "    three -0.483507 -0.449665\n",
       "    two   -4.903615 -0.238645"
      ]
     },
     "execution_count": 117,
     "metadata": {},
     "output_type": "execute_result"
    }
   ],
   "source": [
    "In [94]: df.groupby(['A','B']).sum()"
   ]
  },
  {
   "cell_type": "code",
   "execution_count": 118,
   "metadata": {
    "collapsed": false
   },
   "outputs": [
    {
     "ename": "SyntaxError",
     "evalue": "invalid syntax (<ipython-input-118-64631ab8603f>, line 1)",
     "output_type": "error",
     "traceback": [
      "\u001b[1;36m  File \u001b[1;32m\"<ipython-input-118-64631ab8603f>\"\u001b[1;36m, line \u001b[1;32m1\u001b[0m\n\u001b[1;33m    Out[94]:\u001b[0m\n\u001b[1;37m           ^\u001b[0m\n\u001b[1;31mSyntaxError\u001b[0m\u001b[1;31m:\u001b[0m invalid syntax\n"
     ]
    }
   ],
   "source": [
    "Out[94]: \n",
    "                  C         D\n",
    "A   B                        \n",
    "bar one   -1.814470  2.395985\n",
    "    three -0.595447  0.166599\n",
    "    two   -0.392670 -0.136473\n",
    "foo one   -1.195665 -0.616981\n",
    "    three  1.928123 -1.623033\n",
    "    two    2.414034  1.600434\n",
    "\n",
    "Reshaping\n",
    "\n",
    "See the sections on Hierarchical Indexing and Reshaping.\n",
    "Stack"
   ]
  },
  {
   "cell_type": "code",
   "execution_count": 119,
   "metadata": {
    "collapsed": false
   },
   "outputs": [
    {
     "data": {
      "text/html": [
       "<div>\n",
       "<table border=\"1\" class=\"dataframe\">\n",
       "  <thead>\n",
       "    <tr style=\"text-align: right;\">\n",
       "      <th></th>\n",
       "      <th></th>\n",
       "      <th>A</th>\n",
       "      <th>B</th>\n",
       "    </tr>\n",
       "    <tr>\n",
       "      <th>first</th>\n",
       "      <th>second</th>\n",
       "      <th></th>\n",
       "      <th></th>\n",
       "    </tr>\n",
       "  </thead>\n",
       "  <tbody>\n",
       "    <tr>\n",
       "      <th rowspan=\"2\" valign=\"top\">bar</th>\n",
       "      <th>one</th>\n",
       "      <td>2.861203</td>\n",
       "      <td>1.231796</td>\n",
       "    </tr>\n",
       "    <tr>\n",
       "      <th>two</th>\n",
       "      <td>-0.091735</td>\n",
       "      <td>0.064573</td>\n",
       "    </tr>\n",
       "    <tr>\n",
       "      <th rowspan=\"2\" valign=\"top\">baz</th>\n",
       "      <th>one</th>\n",
       "      <td>1.197961</td>\n",
       "      <td>-0.919291</td>\n",
       "    </tr>\n",
       "    <tr>\n",
       "      <th>two</th>\n",
       "      <td>0.757132</td>\n",
       "      <td>-0.524422</td>\n",
       "    </tr>\n",
       "  </tbody>\n",
       "</table>\n",
       "</div>"
      ],
      "text/plain": [
       "                     A         B\n",
       "first second                    \n",
       "bar   one     2.861203  1.231796\n",
       "      two    -0.091735  0.064573\n",
       "baz   one     1.197961 -0.919291\n",
       "      two     0.757132 -0.524422"
      ]
     },
     "execution_count": 119,
     "metadata": {},
     "output_type": "execute_result"
    }
   ],
   "source": [
    "In [95]: tuples = list(zip(*[['bar', 'bar', 'baz', 'baz',\n",
    "   ....:                      'foo', 'foo', 'qux', 'qux'],\n",
    "   ....:                     ['one', 'two', 'one', 'two',\n",
    "   ....:                      'one', 'two', 'one', 'two']]))\n",
    "   ....: \n",
    "\n",
    "In [96]: index = pd.MultiIndex.from_tuples(tuples, names=['first', 'second'])\n",
    "\n",
    "In [97]: df = pd.DataFrame(np.random.randn(8, 2), index=index, columns=['A', 'B'])\n",
    "\n",
    "In [98]: df2 = df[:4]\n",
    "\n",
    "In [99]: df2"
   ]
  },
  {
   "cell_type": "code",
   "execution_count": 120,
   "metadata": {
    "collapsed": false
   },
   "outputs": [
    {
     "ename": "SyntaxError",
     "evalue": "invalid syntax (<ipython-input-120-28059634d2f1>, line 1)",
     "output_type": "error",
     "traceback": [
      "\u001b[1;36m  File \u001b[1;32m\"<ipython-input-120-28059634d2f1>\"\u001b[1;36m, line \u001b[1;32m1\u001b[0m\n\u001b[1;33m    Out[99]:\u001b[0m\n\u001b[1;37m           ^\u001b[0m\n\u001b[1;31mSyntaxError\u001b[0m\u001b[1;31m:\u001b[0m invalid syntax\n"
     ]
    }
   ],
   "source": [
    "Out[99]: \n",
    "                     A         B\n",
    "first second                    \n",
    "bar   one     0.029399 -0.542108\n",
    "      two     0.282696 -0.087302\n",
    "baz   one    -1.575170  1.771208\n",
    "      two     0.816482  1.100230\n",
    "\n",
    "The stack() method “compresses” a level in the DataFrame’s columns."
   ]
  },
  {
   "cell_type": "code",
   "execution_count": 121,
   "metadata": {
    "collapsed": false
   },
   "outputs": [
    {
     "data": {
      "text/plain": [
       "first  second   \n",
       "bar    one     A    2.861203\n",
       "               B    1.231796\n",
       "       two     A   -0.091735\n",
       "               B    0.064573\n",
       "baz    one     A    1.197961\n",
       "               B   -0.919291\n",
       "       two     A    0.757132\n",
       "               B   -0.524422\n",
       "dtype: float64"
      ]
     },
     "execution_count": 121,
     "metadata": {},
     "output_type": "execute_result"
    }
   ],
   "source": [
    "In [100]: stacked = df2.stack()\n",
    "\n",
    "In [101]: stacked"
   ]
  },
  {
   "cell_type": "code",
   "execution_count": 122,
   "metadata": {
    "collapsed": false
   },
   "outputs": [
    {
     "ename": "SyntaxError",
     "evalue": "invalid syntax (<ipython-input-122-43f31abf6980>, line 1)",
     "output_type": "error",
     "traceback": [
      "\u001b[1;36m  File \u001b[1;32m\"<ipython-input-122-43f31abf6980>\"\u001b[1;36m, line \u001b[1;32m1\u001b[0m\n\u001b[1;33m    Out[101]:\u001b[0m\n\u001b[1;37m            ^\u001b[0m\n\u001b[1;31mSyntaxError\u001b[0m\u001b[1;31m:\u001b[0m invalid syntax\n"
     ]
    }
   ],
   "source": [
    "Out[101]: \n",
    "first  second   \n",
    "bar    one     A    0.029399\n",
    "               B   -0.542108\n",
    "       two     A    0.282696\n",
    "               B   -0.087302\n",
    "baz    one     A   -1.575170\n",
    "               B    1.771208\n",
    "       two     A    0.816482\n",
    "               B    1.100230\n",
    "dtype: float64\n",
    "\n",
    "With a “stacked” DataFrame or Series (having a MultiIndex as the index), the inverse operation of stack() is unstack(), which by default unstacks the last level:"
   ]
  },
  {
   "cell_type": "code",
   "execution_count": 123,
   "metadata": {
    "collapsed": false
   },
   "outputs": [
    {
     "data": {
      "text/html": [
       "<div>\n",
       "<table border=\"1\" class=\"dataframe\">\n",
       "  <thead>\n",
       "    <tr style=\"text-align: right;\">\n",
       "      <th></th>\n",
       "      <th></th>\n",
       "      <th>A</th>\n",
       "      <th>B</th>\n",
       "    </tr>\n",
       "    <tr>\n",
       "      <th>first</th>\n",
       "      <th>second</th>\n",
       "      <th></th>\n",
       "      <th></th>\n",
       "    </tr>\n",
       "  </thead>\n",
       "  <tbody>\n",
       "    <tr>\n",
       "      <th rowspan=\"2\" valign=\"top\">bar</th>\n",
       "      <th>one</th>\n",
       "      <td>2.861203</td>\n",
       "      <td>1.231796</td>\n",
       "    </tr>\n",
       "    <tr>\n",
       "      <th>two</th>\n",
       "      <td>-0.091735</td>\n",
       "      <td>0.064573</td>\n",
       "    </tr>\n",
       "    <tr>\n",
       "      <th rowspan=\"2\" valign=\"top\">baz</th>\n",
       "      <th>one</th>\n",
       "      <td>1.197961</td>\n",
       "      <td>-0.919291</td>\n",
       "    </tr>\n",
       "    <tr>\n",
       "      <th>two</th>\n",
       "      <td>0.757132</td>\n",
       "      <td>-0.524422</td>\n",
       "    </tr>\n",
       "  </tbody>\n",
       "</table>\n",
       "</div>"
      ],
      "text/plain": [
       "                     A         B\n",
       "first second                    \n",
       "bar   one     2.861203  1.231796\n",
       "      two    -0.091735  0.064573\n",
       "baz   one     1.197961 -0.919291\n",
       "      two     0.757132 -0.524422"
      ]
     },
     "execution_count": 123,
     "metadata": {},
     "output_type": "execute_result"
    }
   ],
   "source": [
    "In [102]: stacked.unstack()"
   ]
  },
  {
   "cell_type": "code",
   "execution_count": 124,
   "metadata": {
    "collapsed": false
   },
   "outputs": [
    {
     "ename": "SyntaxError",
     "evalue": "invalid syntax (<ipython-input-124-0a7466d56f31>, line 1)",
     "output_type": "error",
     "traceback": [
      "\u001b[1;36m  File \u001b[1;32m\"<ipython-input-124-0a7466d56f31>\"\u001b[1;36m, line \u001b[1;32m1\u001b[0m\n\u001b[1;33m    Out[102]:\u001b[0m\n\u001b[1;37m            ^\u001b[0m\n\u001b[1;31mSyntaxError\u001b[0m\u001b[1;31m:\u001b[0m invalid syntax\n"
     ]
    }
   ],
   "source": [
    "Out[102]: \n",
    "                     A         B\n",
    "first second                    \n",
    "bar   one     0.029399 -0.542108\n",
    "      two     0.282696 -0.087302\n",
    "baz   one    -1.575170  1.771208\n",
    "      two     0.816482  1.100230"
   ]
  },
  {
   "cell_type": "code",
   "execution_count": 125,
   "metadata": {
    "collapsed": false
   },
   "outputs": [
    {
     "data": {
      "text/html": [
       "<div>\n",
       "<table border=\"1\" class=\"dataframe\">\n",
       "  <thead>\n",
       "    <tr style=\"text-align: right;\">\n",
       "      <th></th>\n",
       "      <th>second</th>\n",
       "      <th>one</th>\n",
       "      <th>two</th>\n",
       "    </tr>\n",
       "    <tr>\n",
       "      <th>first</th>\n",
       "      <th></th>\n",
       "      <th></th>\n",
       "      <th></th>\n",
       "    </tr>\n",
       "  </thead>\n",
       "  <tbody>\n",
       "    <tr>\n",
       "      <th rowspan=\"2\" valign=\"top\">bar</th>\n",
       "      <th>A</th>\n",
       "      <td>2.861203</td>\n",
       "      <td>-0.091735</td>\n",
       "    </tr>\n",
       "    <tr>\n",
       "      <th>B</th>\n",
       "      <td>1.231796</td>\n",
       "      <td>0.064573</td>\n",
       "    </tr>\n",
       "    <tr>\n",
       "      <th rowspan=\"2\" valign=\"top\">baz</th>\n",
       "      <th>A</th>\n",
       "      <td>1.197961</td>\n",
       "      <td>0.757132</td>\n",
       "    </tr>\n",
       "    <tr>\n",
       "      <th>B</th>\n",
       "      <td>-0.919291</td>\n",
       "      <td>-0.524422</td>\n",
       "    </tr>\n",
       "  </tbody>\n",
       "</table>\n",
       "</div>"
      ],
      "text/plain": [
       "second        one       two\n",
       "first                      \n",
       "bar   A  2.861203 -0.091735\n",
       "      B  1.231796  0.064573\n",
       "baz   A  1.197961  0.757132\n",
       "      B -0.919291 -0.524422"
      ]
     },
     "execution_count": 125,
     "metadata": {},
     "output_type": "execute_result"
    }
   ],
   "source": [
    "In [103]: stacked.unstack(1)"
   ]
  },
  {
   "cell_type": "code",
   "execution_count": 126,
   "metadata": {
    "collapsed": false
   },
   "outputs": [
    {
     "ename": "SyntaxError",
     "evalue": "invalid syntax (<ipython-input-126-ebf846c66cf7>, line 1)",
     "output_type": "error",
     "traceback": [
      "\u001b[1;36m  File \u001b[1;32m\"<ipython-input-126-ebf846c66cf7>\"\u001b[1;36m, line \u001b[1;32m1\u001b[0m\n\u001b[1;33m    Out[103]:\u001b[0m\n\u001b[1;37m            ^\u001b[0m\n\u001b[1;31mSyntaxError\u001b[0m\u001b[1;31m:\u001b[0m invalid syntax\n"
     ]
    }
   ],
   "source": [
    "Out[103]: \n",
    "second        one       two\n",
    "first                      \n",
    "bar   A  0.029399  0.282696\n",
    "      B -0.542108 -0.087302\n",
    "baz   A -1.575170  0.816482\n",
    "      B  1.771208  1.100230"
   ]
  },
  {
   "cell_type": "code",
   "execution_count": 127,
   "metadata": {
    "collapsed": false
   },
   "outputs": [
    {
     "data": {
      "text/html": [
       "<div>\n",
       "<table border=\"1\" class=\"dataframe\">\n",
       "  <thead>\n",
       "    <tr style=\"text-align: right;\">\n",
       "      <th></th>\n",
       "      <th>first</th>\n",
       "      <th>bar</th>\n",
       "      <th>baz</th>\n",
       "    </tr>\n",
       "    <tr>\n",
       "      <th>second</th>\n",
       "      <th></th>\n",
       "      <th></th>\n",
       "      <th></th>\n",
       "    </tr>\n",
       "  </thead>\n",
       "  <tbody>\n",
       "    <tr>\n",
       "      <th rowspan=\"2\" valign=\"top\">one</th>\n",
       "      <th>A</th>\n",
       "      <td>2.861203</td>\n",
       "      <td>1.197961</td>\n",
       "    </tr>\n",
       "    <tr>\n",
       "      <th>B</th>\n",
       "      <td>1.231796</td>\n",
       "      <td>-0.919291</td>\n",
       "    </tr>\n",
       "    <tr>\n",
       "      <th rowspan=\"2\" valign=\"top\">two</th>\n",
       "      <th>A</th>\n",
       "      <td>-0.091735</td>\n",
       "      <td>0.757132</td>\n",
       "    </tr>\n",
       "    <tr>\n",
       "      <th>B</th>\n",
       "      <td>0.064573</td>\n",
       "      <td>-0.524422</td>\n",
       "    </tr>\n",
       "  </tbody>\n",
       "</table>\n",
       "</div>"
      ],
      "text/plain": [
       "first          bar       baz\n",
       "second                      \n",
       "one    A  2.861203  1.197961\n",
       "       B  1.231796 -0.919291\n",
       "two    A -0.091735  0.757132\n",
       "       B  0.064573 -0.524422"
      ]
     },
     "execution_count": 127,
     "metadata": {},
     "output_type": "execute_result"
    }
   ],
   "source": [
    "In [104]: stacked.unstack(0)"
   ]
  },
  {
   "cell_type": "code",
   "execution_count": 128,
   "metadata": {
    "collapsed": false
   },
   "outputs": [
    {
     "ename": "SyntaxError",
     "evalue": "invalid syntax (<ipython-input-128-363e1af8e3c8>, line 1)",
     "output_type": "error",
     "traceback": [
      "\u001b[1;36m  File \u001b[1;32m\"<ipython-input-128-363e1af8e3c8>\"\u001b[1;36m, line \u001b[1;32m1\u001b[0m\n\u001b[1;33m    Out[104]:\u001b[0m\n\u001b[1;37m            ^\u001b[0m\n\u001b[1;31mSyntaxError\u001b[0m\u001b[1;31m:\u001b[0m invalid syntax\n"
     ]
    }
   ],
   "source": [
    "Out[104]: \n",
    "first          bar       baz\n",
    "second                      \n",
    "one    A  0.029399 -1.575170\n",
    "       B -0.542108  1.771208\n",
    "two    A  0.282696  0.816482\n",
    "       B -0.087302  1.100230\n",
    "\n",
    "Pivot Tables\n",
    "\n",
    "See the section on Pivot Tables."
   ]
  },
  {
   "cell_type": "code",
   "execution_count": 129,
   "metadata": {
    "collapsed": false
   },
   "outputs": [
    {
     "data": {
      "text/html": [
       "<div>\n",
       "<table border=\"1\" class=\"dataframe\">\n",
       "  <thead>\n",
       "    <tr style=\"text-align: right;\">\n",
       "      <th></th>\n",
       "      <th>A</th>\n",
       "      <th>B</th>\n",
       "      <th>C</th>\n",
       "      <th>D</th>\n",
       "      <th>E</th>\n",
       "    </tr>\n",
       "  </thead>\n",
       "  <tbody>\n",
       "    <tr>\n",
       "      <th>0</th>\n",
       "      <td>one</td>\n",
       "      <td>A</td>\n",
       "      <td>foo</td>\n",
       "      <td>1.030829</td>\n",
       "      <td>-0.382259</td>\n",
       "    </tr>\n",
       "    <tr>\n",
       "      <th>1</th>\n",
       "      <td>one</td>\n",
       "      <td>B</td>\n",
       "      <td>foo</td>\n",
       "      <td>0.734285</td>\n",
       "      <td>-1.795424</td>\n",
       "    </tr>\n",
       "    <tr>\n",
       "      <th>2</th>\n",
       "      <td>two</td>\n",
       "      <td>C</td>\n",
       "      <td>foo</td>\n",
       "      <td>-0.803434</td>\n",
       "      <td>1.018345</td>\n",
       "    </tr>\n",
       "    <tr>\n",
       "      <th>3</th>\n",
       "      <td>three</td>\n",
       "      <td>A</td>\n",
       "      <td>bar</td>\n",
       "      <td>-0.443237</td>\n",
       "      <td>2.419779</td>\n",
       "    </tr>\n",
       "    <tr>\n",
       "      <th>4</th>\n",
       "      <td>one</td>\n",
       "      <td>B</td>\n",
       "      <td>bar</td>\n",
       "      <td>0.459786</td>\n",
       "      <td>-1.096184</td>\n",
       "    </tr>\n",
       "    <tr>\n",
       "      <th>5</th>\n",
       "      <td>one</td>\n",
       "      <td>C</td>\n",
       "      <td>bar</td>\n",
       "      <td>0.979071</td>\n",
       "      <td>-0.395997</td>\n",
       "    </tr>\n",
       "    <tr>\n",
       "      <th>6</th>\n",
       "      <td>two</td>\n",
       "      <td>A</td>\n",
       "      <td>foo</td>\n",
       "      <td>0.384108</td>\n",
       "      <td>-0.079094</td>\n",
       "    </tr>\n",
       "    <tr>\n",
       "      <th>7</th>\n",
       "      <td>three</td>\n",
       "      <td>B</td>\n",
       "      <td>foo</td>\n",
       "      <td>0.276975</td>\n",
       "      <td>-0.383296</td>\n",
       "    </tr>\n",
       "    <tr>\n",
       "      <th>8</th>\n",
       "      <td>one</td>\n",
       "      <td>C</td>\n",
       "      <td>foo</td>\n",
       "      <td>-0.689331</td>\n",
       "      <td>-0.218557</td>\n",
       "    </tr>\n",
       "    <tr>\n",
       "      <th>9</th>\n",
       "      <td>one</td>\n",
       "      <td>A</td>\n",
       "      <td>bar</td>\n",
       "      <td>-2.507583</td>\n",
       "      <td>-1.998129</td>\n",
       "    </tr>\n",
       "    <tr>\n",
       "      <th>10</th>\n",
       "      <td>two</td>\n",
       "      <td>B</td>\n",
       "      <td>bar</td>\n",
       "      <td>-1.930826</td>\n",
       "      <td>1.195988</td>\n",
       "    </tr>\n",
       "    <tr>\n",
       "      <th>11</th>\n",
       "      <td>three</td>\n",
       "      <td>C</td>\n",
       "      <td>bar</td>\n",
       "      <td>0.451053</td>\n",
       "      <td>-1.000851</td>\n",
       "    </tr>\n",
       "  </tbody>\n",
       "</table>\n",
       "</div>"
      ],
      "text/plain": [
       "        A  B    C         D         E\n",
       "0     one  A  foo  1.030829 -0.382259\n",
       "1     one  B  foo  0.734285 -1.795424\n",
       "2     two  C  foo -0.803434  1.018345\n",
       "3   three  A  bar -0.443237  2.419779\n",
       "4     one  B  bar  0.459786 -1.096184\n",
       "5     one  C  bar  0.979071 -0.395997\n",
       "6     two  A  foo  0.384108 -0.079094\n",
       "7   three  B  foo  0.276975 -0.383296\n",
       "8     one  C  foo -0.689331 -0.218557\n",
       "9     one  A  bar -2.507583 -1.998129\n",
       "10    two  B  bar -1.930826  1.195988\n",
       "11  three  C  bar  0.451053 -1.000851"
      ]
     },
     "execution_count": 129,
     "metadata": {},
     "output_type": "execute_result"
    }
   ],
   "source": [
    "In [105]: df = pd.DataFrame({'A' : ['one', 'one', 'two', 'three'] * 3,\n",
    "   .....:                    'B' : ['A', 'B', 'C'] * 4,\n",
    "   .....:                    'C' : ['foo', 'foo', 'foo', 'bar', 'bar', 'bar'] * 2,\n",
    "   .....:                    'D' : np.random.randn(12),\n",
    "   .....:                    'E' : np.random.randn(12)})\n",
    "   .....: \n",
    "\n",
    "In [106]: df"
   ]
  },
  {
   "cell_type": "code",
   "execution_count": 130,
   "metadata": {
    "collapsed": false
   },
   "outputs": [
    {
     "ename": "SyntaxError",
     "evalue": "invalid syntax (<ipython-input-130-654f3933a699>, line 1)",
     "output_type": "error",
     "traceback": [
      "\u001b[1;36m  File \u001b[1;32m\"<ipython-input-130-654f3933a699>\"\u001b[1;36m, line \u001b[1;32m1\u001b[0m\n\u001b[1;33m    Out[106]:\u001b[0m\n\u001b[1;37m            ^\u001b[0m\n\u001b[1;31mSyntaxError\u001b[0m\u001b[1;31m:\u001b[0m invalid syntax\n"
     ]
    }
   ],
   "source": [
    "Out[106]: \n",
    "        A  B    C         D         E\n",
    "0     one  A  foo  1.418757 -0.179666\n",
    "1     one  B  foo -1.879024  1.291836\n",
    "2     two  C  foo  0.536826 -0.009614\n",
    "3   three  A  bar  1.006160  0.392149\n",
    "4     one  B  bar -0.029716  0.264599\n",
    "5     one  C  bar -1.146178 -0.057409\n",
    "6     two  A  foo  0.100900 -1.425638\n",
    "7   three  B  foo -1.035018  1.024098\n",
    "8     one  C  foo  0.314665 -0.106062\n",
    "9     one  A  bar -0.773723  1.824375\n",
    "10    two  B  bar -1.170653  0.595974\n",
    "11  three  C  bar  0.648740  1.167115\n",
    "\n",
    "We can produce pivot tables from this data very easily:"
   ]
  },
  {
   "cell_type": "code",
   "execution_count": 131,
   "metadata": {
    "collapsed": false
   },
   "outputs": [
    {
     "data": {
      "text/html": [
       "<div>\n",
       "<table border=\"1\" class=\"dataframe\">\n",
       "  <thead>\n",
       "    <tr style=\"text-align: right;\">\n",
       "      <th></th>\n",
       "      <th>C</th>\n",
       "      <th>bar</th>\n",
       "      <th>foo</th>\n",
       "    </tr>\n",
       "    <tr>\n",
       "      <th>A</th>\n",
       "      <th>B</th>\n",
       "      <th></th>\n",
       "      <th></th>\n",
       "    </tr>\n",
       "  </thead>\n",
       "  <tbody>\n",
       "    <tr>\n",
       "      <th rowspan=\"3\" valign=\"top\">one</th>\n",
       "      <th>A</th>\n",
       "      <td>-2.507583</td>\n",
       "      <td>1.030829</td>\n",
       "    </tr>\n",
       "    <tr>\n",
       "      <th>B</th>\n",
       "      <td>0.459786</td>\n",
       "      <td>0.734285</td>\n",
       "    </tr>\n",
       "    <tr>\n",
       "      <th>C</th>\n",
       "      <td>0.979071</td>\n",
       "      <td>-0.689331</td>\n",
       "    </tr>\n",
       "    <tr>\n",
       "      <th rowspan=\"3\" valign=\"top\">three</th>\n",
       "      <th>A</th>\n",
       "      <td>-0.443237</td>\n",
       "      <td>NaN</td>\n",
       "    </tr>\n",
       "    <tr>\n",
       "      <th>B</th>\n",
       "      <td>NaN</td>\n",
       "      <td>0.276975</td>\n",
       "    </tr>\n",
       "    <tr>\n",
       "      <th>C</th>\n",
       "      <td>0.451053</td>\n",
       "      <td>NaN</td>\n",
       "    </tr>\n",
       "    <tr>\n",
       "      <th rowspan=\"3\" valign=\"top\">two</th>\n",
       "      <th>A</th>\n",
       "      <td>NaN</td>\n",
       "      <td>0.384108</td>\n",
       "    </tr>\n",
       "    <tr>\n",
       "      <th>B</th>\n",
       "      <td>-1.930826</td>\n",
       "      <td>NaN</td>\n",
       "    </tr>\n",
       "    <tr>\n",
       "      <th>C</th>\n",
       "      <td>NaN</td>\n",
       "      <td>-0.803434</td>\n",
       "    </tr>\n",
       "  </tbody>\n",
       "</table>\n",
       "</div>"
      ],
      "text/plain": [
       "C             bar       foo\n",
       "A     B                    \n",
       "one   A -2.507583  1.030829\n",
       "      B  0.459786  0.734285\n",
       "      C  0.979071 -0.689331\n",
       "three A -0.443237       NaN\n",
       "      B       NaN  0.276975\n",
       "      C  0.451053       NaN\n",
       "two   A       NaN  0.384108\n",
       "      B -1.930826       NaN\n",
       "      C       NaN -0.803434"
      ]
     },
     "execution_count": 131,
     "metadata": {},
     "output_type": "execute_result"
    }
   ],
   "source": [
    "In [107]: pd.pivot_table(df, values='D', index=['A', 'B'], columns=['C'])"
   ]
  },
  {
   "cell_type": "code",
   "execution_count": 132,
   "metadata": {
    "collapsed": false
   },
   "outputs": [
    {
     "ename": "SyntaxError",
     "evalue": "invalid syntax (<ipython-input-132-9e9a64be7b92>, line 1)",
     "output_type": "error",
     "traceback": [
      "\u001b[1;36m  File \u001b[1;32m\"<ipython-input-132-9e9a64be7b92>\"\u001b[1;36m, line \u001b[1;32m1\u001b[0m\n\u001b[1;33m    Out[107]:\u001b[0m\n\u001b[1;37m            ^\u001b[0m\n\u001b[1;31mSyntaxError\u001b[0m\u001b[1;31m:\u001b[0m invalid syntax\n"
     ]
    }
   ],
   "source": [
    "Out[107]: \n",
    "C             bar       foo\n",
    "A     B                    \n",
    "one   A -0.773723  1.418757\n",
    "      B -0.029716 -1.879024\n",
    "      C -1.146178  0.314665\n",
    "three A  1.006160       NaN\n",
    "      B       NaN -1.035018\n",
    "      C  0.648740       NaN\n",
    "two   A       NaN  0.100900\n",
    "      B -1.170653       NaN\n",
    "      C       NaN  0.536826\n",
    "\n",
    "Time Series\n",
    "\n",
    "pandas has simple, powerful, and efficient functionality for performing resampling operations during frequency conversion (e.g., converting secondly data into 5-minutely data). This is extremely common in, but not limited to, financial applications. See the Time Series section"
   ]
  },
  {
   "cell_type": "code",
   "execution_count": 133,
   "metadata": {
    "collapsed": false
   },
   "outputs": [
    {
     "data": {
      "text/plain": [
       "2012-01-01    26378\n",
       "Freq: 5T, dtype: int32"
      ]
     },
     "execution_count": 133,
     "metadata": {},
     "output_type": "execute_result"
    }
   ],
   "source": [
    "In [108]: rng = pd.date_range('1/1/2012', periods=100, freq='S')\n",
    "\n",
    "In [109]: ts = pd.Series(np.random.randint(0, 500, len(rng)), index=rng)\n",
    "\n",
    "In [110]: ts.resample('5Min').sum()"
   ]
  },
  {
   "cell_type": "code",
   "execution_count": 134,
   "metadata": {
    "collapsed": false
   },
   "outputs": [
    {
     "ename": "SyntaxError",
     "evalue": "invalid syntax (<ipython-input-134-49c8ac990e59>, line 1)",
     "output_type": "error",
     "traceback": [
      "\u001b[1;36m  File \u001b[1;32m\"<ipython-input-134-49c8ac990e59>\"\u001b[1;36m, line \u001b[1;32m1\u001b[0m\n\u001b[1;33m    Out[110]:\u001b[0m\n\u001b[1;37m            ^\u001b[0m\n\u001b[1;31mSyntaxError\u001b[0m\u001b[1;31m:\u001b[0m invalid syntax\n"
     ]
    }
   ],
   "source": [
    "Out[110]: \n",
    "2012-01-01    25083\n",
    "Freq: 5T, dtype: int64\n",
    "\n",
    "Time zone representation"
   ]
  },
  {
   "cell_type": "code",
   "execution_count": 135,
   "metadata": {
    "collapsed": false
   },
   "outputs": [
    {
     "data": {
      "text/plain": [
       "2012-03-06    0.380287\n",
       "2012-03-07   -1.953428\n",
       "2012-03-08    1.664972\n",
       "2012-03-09   -0.481884\n",
       "2012-03-10   -1.191343\n",
       "Freq: D, dtype: float64"
      ]
     },
     "execution_count": 135,
     "metadata": {},
     "output_type": "execute_result"
    }
   ],
   "source": [
    "In [111]: rng = pd.date_range('3/6/2012 00:00', periods=5, freq='D')\n",
    "\n",
    "In [112]: ts = pd.Series(np.random.randn(len(rng)), rng)\n",
    "\n",
    "In [113]: ts"
   ]
  },
  {
   "cell_type": "code",
   "execution_count": 136,
   "metadata": {
    "collapsed": false
   },
   "outputs": [
    {
     "ename": "SyntaxError",
     "evalue": "invalid syntax (<ipython-input-136-ced921571034>, line 1)",
     "output_type": "error",
     "traceback": [
      "\u001b[1;36m  File \u001b[1;32m\"<ipython-input-136-ced921571034>\"\u001b[1;36m, line \u001b[1;32m1\u001b[0m\n\u001b[1;33m    Out[113]:\u001b[0m\n\u001b[1;37m            ^\u001b[0m\n\u001b[1;31mSyntaxError\u001b[0m\u001b[1;31m:\u001b[0m invalid syntax\n"
     ]
    }
   ],
   "source": [
    "Out[113]: \n",
    "2012-03-06    0.464000\n",
    "2012-03-07    0.227371\n",
    "2012-03-08   -0.496922\n",
    "2012-03-09    0.306389\n",
    "2012-03-10   -2.290613\n",
    "Freq: D, dtype: float64"
   ]
  },
  {
   "cell_type": "code",
   "execution_count": 137,
   "metadata": {
    "collapsed": false
   },
   "outputs": [
    {
     "data": {
      "text/plain": [
       "2012-03-06 00:00:00+00:00    0.380287\n",
       "2012-03-07 00:00:00+00:00   -1.953428\n",
       "2012-03-08 00:00:00+00:00    1.664972\n",
       "2012-03-09 00:00:00+00:00   -0.481884\n",
       "2012-03-10 00:00:00+00:00   -1.191343\n",
       "Freq: D, dtype: float64"
      ]
     },
     "execution_count": 137,
     "metadata": {},
     "output_type": "execute_result"
    }
   ],
   "source": [
    "In [114]: ts_utc = ts.tz_localize('UTC')\n",
    "\n",
    "In [115]: ts_utc"
   ]
  },
  {
   "cell_type": "code",
   "execution_count": 138,
   "metadata": {
    "collapsed": false
   },
   "outputs": [
    {
     "ename": "SyntaxError",
     "evalue": "invalid syntax (<ipython-input-138-72a87f1bc029>, line 1)",
     "output_type": "error",
     "traceback": [
      "\u001b[1;36m  File \u001b[1;32m\"<ipython-input-138-72a87f1bc029>\"\u001b[1;36m, line \u001b[1;32m1\u001b[0m\n\u001b[1;33m    Out[115]:\u001b[0m\n\u001b[1;37m            ^\u001b[0m\n\u001b[1;31mSyntaxError\u001b[0m\u001b[1;31m:\u001b[0m invalid syntax\n"
     ]
    }
   ],
   "source": [
    "Out[115]: \n",
    "2012-03-06 00:00:00+00:00    0.464000\n",
    "2012-03-07 00:00:00+00:00    0.227371\n",
    "2012-03-08 00:00:00+00:00   -0.496922\n",
    "2012-03-09 00:00:00+00:00    0.306389\n",
    "2012-03-10 00:00:00+00:00   -2.290613\n",
    "Freq: D, dtype: float64\n",
    "\n",
    "Convert to another time zone"
   ]
  },
  {
   "cell_type": "code",
   "execution_count": 139,
   "metadata": {
    "collapsed": false
   },
   "outputs": [
    {
     "data": {
      "text/plain": [
       "2012-03-05 19:00:00-05:00    0.380287\n",
       "2012-03-06 19:00:00-05:00   -1.953428\n",
       "2012-03-07 19:00:00-05:00    1.664972\n",
       "2012-03-08 19:00:00-05:00   -0.481884\n",
       "2012-03-09 19:00:00-05:00   -1.191343\n",
       "Freq: D, dtype: float64"
      ]
     },
     "execution_count": 139,
     "metadata": {},
     "output_type": "execute_result"
    }
   ],
   "source": [
    "In [116]: ts_utc.tz_convert('US/Eastern')"
   ]
  },
  {
   "cell_type": "code",
   "execution_count": 140,
   "metadata": {
    "collapsed": false
   },
   "outputs": [
    {
     "ename": "SyntaxError",
     "evalue": "invalid syntax (<ipython-input-140-2b33249d0e44>, line 1)",
     "output_type": "error",
     "traceback": [
      "\u001b[1;36m  File \u001b[1;32m\"<ipython-input-140-2b33249d0e44>\"\u001b[1;36m, line \u001b[1;32m1\u001b[0m\n\u001b[1;33m    Out[116]:\u001b[0m\n\u001b[1;37m            ^\u001b[0m\n\u001b[1;31mSyntaxError\u001b[0m\u001b[1;31m:\u001b[0m invalid syntax\n"
     ]
    }
   ],
   "source": [
    "Out[116]: \n",
    "2012-03-05 19:00:00-05:00    0.464000\n",
    "2012-03-06 19:00:00-05:00    0.227371\n",
    "2012-03-07 19:00:00-05:00   -0.496922\n",
    "2012-03-08 19:00:00-05:00    0.306389\n",
    "2012-03-09 19:00:00-05:00   -2.290613\n",
    "Freq: D, dtype: float64\n",
    "\n",
    "Converting between time span representations"
   ]
  },
  {
   "cell_type": "code",
   "execution_count": null,
   "metadata": {
    "collapsed": false
   },
   "outputs": [],
   "source": [
    "In [117]: rng = pd.date_range('1/1/2012', periods=5, freq='M')\n",
    "\n",
    "In [118]: ts = pd.Series(np.random.randn(len(rng)), index=rng)\n",
    "\n",
    "In [119]: ts"
   ]
  },
  {
   "cell_type": "code",
   "execution_count": null,
   "metadata": {
    "collapsed": true
   },
   "outputs": [],
   "source": [
    "Out[119]: \n",
    "2012-01-31   -1.134623\n",
    "2012-02-29   -1.561819\n",
    "2012-03-31   -0.260838\n",
    "2012-04-30    0.281957\n",
    "2012-05-31    1.523962\n",
    "Freq: M, dtype: float64"
   ]
  },
  {
   "cell_type": "code",
   "execution_count": null,
   "metadata": {
    "collapsed": false
   },
   "outputs": [],
   "source": [
    "In [120]: ps = ts.to_period()\n",
    "\n",
    "In [121]: ps"
   ]
  },
  {
   "cell_type": "code",
   "execution_count": null,
   "metadata": {
    "collapsed": true
   },
   "outputs": [],
   "source": [
    "Out[121]: \n",
    "2012-01   -1.134623\n",
    "2012-02   -1.561819\n",
    "2012-03   -0.260838\n",
    "2012-04    0.281957\n",
    "2012-05    1.523962\n",
    "Freq: M, dtype: float64"
   ]
  },
  {
   "cell_type": "code",
   "execution_count": null,
   "metadata": {
    "collapsed": false
   },
   "outputs": [],
   "source": [
    "In [122]: ps.to_timestamp()"
   ]
  },
  {
   "cell_type": "code",
   "execution_count": null,
   "metadata": {
    "collapsed": true
   },
   "outputs": [],
   "source": [
    "Out[122]: \n",
    "2012-01-01   -1.134623\n",
    "2012-02-01   -1.561819\n",
    "2012-03-01   -0.260838\n",
    "2012-04-01    0.281957\n",
    "2012-05-01    1.523962\n",
    "Freq: MS, dtype: float64\n",
    "\n",
    "Converting between period and timestamp enables some convenient arithmetic functions to be used. In the following example, we convert a quarterly frequency with year ending in November to 9am of the end of the month following the quarter end:"
   ]
  },
  {
   "cell_type": "code",
   "execution_count": null,
   "metadata": {
    "collapsed": false
   },
   "outputs": [],
   "source": [
    "In [123]: prng = pd.period_range('1990Q1', '2000Q4', freq='Q-NOV')\n",
    "\n",
    "In [124]: ts = pd.Series(np.random.randn(len(prng)), prng)\n",
    "\n",
    "In [125]: ts.index = (prng.asfreq('M', 'e') + 1).asfreq('H', 's') + 9\n",
    "\n",
    "In [126]: ts.head()"
   ]
  },
  {
   "cell_type": "code",
   "execution_count": null,
   "metadata": {
    "collapsed": true
   },
   "outputs": [],
   "source": [
    "Out[126]: \n",
    "1990-03-01 09:00   -0.902937\n",
    "1990-06-01 09:00    0.068159\n",
    "1990-09-01 09:00   -0.057873\n",
    "1990-12-01 09:00   -0.368204\n",
    "1991-03-01 09:00   -1.144073\n",
    "Freq: H, dtype: float64\n",
    "\n",
    "Categoricals\n",
    "\n",
    "Since version 0.15, pandas can include categorical data in a DataFrame. For full docs, see the categorical introduction and the API documentation."
   ]
  },
  {
   "cell_type": "code",
   "execution_count": null,
   "metadata": {
    "collapsed": true
   },
   "outputs": [],
   "source": [
    "In [127]: df = pd.DataFrame({\"id\":[1,2,3,4,5,6], \"raw_grade\":['a', 'b', 'b', 'a', 'a', 'e']})"
   ]
  },
  {
   "cell_type": "code",
   "execution_count": null,
   "metadata": {
    "collapsed": true
   },
   "outputs": [],
   "source": [
    "Convert the raw grades to a categorical data type."
   ]
  },
  {
   "cell_type": "code",
   "execution_count": null,
   "metadata": {
    "collapsed": false
   },
   "outputs": [],
   "source": [
    "df[\"grade\"] = df[\"raw_grade\"].astype(\"category\")\n",
    "\n",
    "df[\"grade\"]"
   ]
  },
  {
   "cell_type": "code",
   "execution_count": null,
   "metadata": {
    "collapsed": false
   },
   "outputs": [],
   "source": [
    "Out[129]: \n",
    "0    a\n",
    "1    b\n",
    "2    b\n",
    "3    a\n",
    "4    a\n",
    "5    e\n",
    "Name: grade, dtype: category\n",
    "Categories (3, object): [a, b, e]\n",
    "\n",
    "Rename the categories to more meaningful names (assigning to Series.cat.categories is inplace!)"
   ]
  },
  {
   "cell_type": "code",
   "execution_count": 141,
   "metadata": {
    "collapsed": false
   },
   "outputs": [
    {
     "ename": "KeyError",
     "evalue": "'grade'",
     "output_type": "error",
     "traceback": [
      "\u001b[1;31m---------------------------------------------------------------------------\u001b[0m",
      "\u001b[1;31mKeyError\u001b[0m                                  Traceback (most recent call last)",
      "\u001b[1;32m<ipython-input-141-aa3bb22993be>\u001b[0m in \u001b[0;36m<module>\u001b[1;34m()\u001b[0m\n\u001b[1;32m----> 1\u001b[1;33m \u001b[0mdf\u001b[0m\u001b[1;33m[\u001b[0m\u001b[1;34m\"grade\"\u001b[0m\u001b[1;33m]\u001b[0m\u001b[1;33m.\u001b[0m\u001b[0mcat\u001b[0m\u001b[1;33m.\u001b[0m\u001b[0mcategories\u001b[0m \u001b[1;33m=\u001b[0m \u001b[1;33m[\u001b[0m\u001b[1;34m\"very good\"\u001b[0m\u001b[1;33m,\u001b[0m \u001b[1;34m\"good\"\u001b[0m\u001b[1;33m,\u001b[0m \u001b[1;34m\"very bad\"\u001b[0m\u001b[1;33m]\u001b[0m\u001b[1;33m\u001b[0m\u001b[0m\n\u001b[0m",
      "\u001b[1;32mC:\\Users\\Toshiba\\Anaconda3\\lib\\site-packages\\pandas\\core\\frame.pyc\u001b[0m in \u001b[0;36m__getitem__\u001b[1;34m(self, key)\u001b[0m\n\u001b[0;32m   2057\u001b[0m             \u001b[1;32mreturn\u001b[0m \u001b[0mself\u001b[0m\u001b[1;33m.\u001b[0m\u001b[0m_getitem_multilevel\u001b[0m\u001b[1;33m(\u001b[0m\u001b[0mkey\u001b[0m\u001b[1;33m)\u001b[0m\u001b[1;33m\u001b[0m\u001b[0m\n\u001b[0;32m   2058\u001b[0m         \u001b[1;32melse\u001b[0m\u001b[1;33m:\u001b[0m\u001b[1;33m\u001b[0m\u001b[0m\n\u001b[1;32m-> 2059\u001b[1;33m             \u001b[1;32mreturn\u001b[0m \u001b[0mself\u001b[0m\u001b[1;33m.\u001b[0m\u001b[0m_getitem_column\u001b[0m\u001b[1;33m(\u001b[0m\u001b[0mkey\u001b[0m\u001b[1;33m)\u001b[0m\u001b[1;33m\u001b[0m\u001b[0m\n\u001b[0m\u001b[0;32m   2060\u001b[0m \u001b[1;33m\u001b[0m\u001b[0m\n\u001b[0;32m   2061\u001b[0m     \u001b[1;32mdef\u001b[0m \u001b[0m_getitem_column\u001b[0m\u001b[1;33m(\u001b[0m\u001b[0mself\u001b[0m\u001b[1;33m,\u001b[0m \u001b[0mkey\u001b[0m\u001b[1;33m)\u001b[0m\u001b[1;33m:\u001b[0m\u001b[1;33m\u001b[0m\u001b[0m\n",
      "\u001b[1;32mC:\\Users\\Toshiba\\Anaconda3\\lib\\site-packages\\pandas\\core\\frame.pyc\u001b[0m in \u001b[0;36m_getitem_column\u001b[1;34m(self, key)\u001b[0m\n\u001b[0;32m   2064\u001b[0m         \u001b[1;31m# get column\u001b[0m\u001b[1;33m\u001b[0m\u001b[1;33m\u001b[0m\u001b[0m\n\u001b[0;32m   2065\u001b[0m         \u001b[1;32mif\u001b[0m \u001b[0mself\u001b[0m\u001b[1;33m.\u001b[0m\u001b[0mcolumns\u001b[0m\u001b[1;33m.\u001b[0m\u001b[0mis_unique\u001b[0m\u001b[1;33m:\u001b[0m\u001b[1;33m\u001b[0m\u001b[0m\n\u001b[1;32m-> 2066\u001b[1;33m             \u001b[1;32mreturn\u001b[0m \u001b[0mself\u001b[0m\u001b[1;33m.\u001b[0m\u001b[0m_get_item_cache\u001b[0m\u001b[1;33m(\u001b[0m\u001b[0mkey\u001b[0m\u001b[1;33m)\u001b[0m\u001b[1;33m\u001b[0m\u001b[0m\n\u001b[0m\u001b[0;32m   2067\u001b[0m \u001b[1;33m\u001b[0m\u001b[0m\n\u001b[0;32m   2068\u001b[0m         \u001b[1;31m# duplicate columns & possible reduce dimensionality\u001b[0m\u001b[1;33m\u001b[0m\u001b[1;33m\u001b[0m\u001b[0m\n",
      "\u001b[1;32mC:\\Users\\Toshiba\\Anaconda3\\lib\\site-packages\\pandas\\core\\generic.pyc\u001b[0m in \u001b[0;36m_get_item_cache\u001b[1;34m(self, item)\u001b[0m\n\u001b[0;32m   1384\u001b[0m         \u001b[0mres\u001b[0m \u001b[1;33m=\u001b[0m \u001b[0mcache\u001b[0m\u001b[1;33m.\u001b[0m\u001b[0mget\u001b[0m\u001b[1;33m(\u001b[0m\u001b[0mitem\u001b[0m\u001b[1;33m)\u001b[0m\u001b[1;33m\u001b[0m\u001b[0m\n\u001b[0;32m   1385\u001b[0m         \u001b[1;32mif\u001b[0m \u001b[0mres\u001b[0m \u001b[1;32mis\u001b[0m \u001b[0mNone\u001b[0m\u001b[1;33m:\u001b[0m\u001b[1;33m\u001b[0m\u001b[0m\n\u001b[1;32m-> 1386\u001b[1;33m             \u001b[0mvalues\u001b[0m \u001b[1;33m=\u001b[0m \u001b[0mself\u001b[0m\u001b[1;33m.\u001b[0m\u001b[0m_data\u001b[0m\u001b[1;33m.\u001b[0m\u001b[0mget\u001b[0m\u001b[1;33m(\u001b[0m\u001b[0mitem\u001b[0m\u001b[1;33m)\u001b[0m\u001b[1;33m\u001b[0m\u001b[0m\n\u001b[0m\u001b[0;32m   1387\u001b[0m             \u001b[0mres\u001b[0m \u001b[1;33m=\u001b[0m \u001b[0mself\u001b[0m\u001b[1;33m.\u001b[0m\u001b[0m_box_item_values\u001b[0m\u001b[1;33m(\u001b[0m\u001b[0mitem\u001b[0m\u001b[1;33m,\u001b[0m \u001b[0mvalues\u001b[0m\u001b[1;33m)\u001b[0m\u001b[1;33m\u001b[0m\u001b[0m\n\u001b[0;32m   1388\u001b[0m             \u001b[0mcache\u001b[0m\u001b[1;33m[\u001b[0m\u001b[0mitem\u001b[0m\u001b[1;33m]\u001b[0m \u001b[1;33m=\u001b[0m \u001b[0mres\u001b[0m\u001b[1;33m\u001b[0m\u001b[0m\n",
      "\u001b[1;32mC:\\Users\\Toshiba\\Anaconda3\\lib\\site-packages\\pandas\\core\\internals.pyc\u001b[0m in \u001b[0;36mget\u001b[1;34m(self, item, fastpath)\u001b[0m\n\u001b[0;32m   3541\u001b[0m \u001b[1;33m\u001b[0m\u001b[0m\n\u001b[0;32m   3542\u001b[0m             \u001b[1;32mif\u001b[0m \u001b[1;32mnot\u001b[0m \u001b[0misnull\u001b[0m\u001b[1;33m(\u001b[0m\u001b[0mitem\u001b[0m\u001b[1;33m)\u001b[0m\u001b[1;33m:\u001b[0m\u001b[1;33m\u001b[0m\u001b[0m\n\u001b[1;32m-> 3543\u001b[1;33m                 \u001b[0mloc\u001b[0m \u001b[1;33m=\u001b[0m \u001b[0mself\u001b[0m\u001b[1;33m.\u001b[0m\u001b[0mitems\u001b[0m\u001b[1;33m.\u001b[0m\u001b[0mget_loc\u001b[0m\u001b[1;33m(\u001b[0m\u001b[0mitem\u001b[0m\u001b[1;33m)\u001b[0m\u001b[1;33m\u001b[0m\u001b[0m\n\u001b[0m\u001b[0;32m   3544\u001b[0m             \u001b[1;32melse\u001b[0m\u001b[1;33m:\u001b[0m\u001b[1;33m\u001b[0m\u001b[0m\n\u001b[0;32m   3545\u001b[0m                 \u001b[0mindexer\u001b[0m \u001b[1;33m=\u001b[0m \u001b[0mnp\u001b[0m\u001b[1;33m.\u001b[0m\u001b[0marange\u001b[0m\u001b[1;33m(\u001b[0m\u001b[0mlen\u001b[0m\u001b[1;33m(\u001b[0m\u001b[0mself\u001b[0m\u001b[1;33m.\u001b[0m\u001b[0mitems\u001b[0m\u001b[1;33m)\u001b[0m\u001b[1;33m)\u001b[0m\u001b[1;33m[\u001b[0m\u001b[0misnull\u001b[0m\u001b[1;33m(\u001b[0m\u001b[0mself\u001b[0m\u001b[1;33m.\u001b[0m\u001b[0mitems\u001b[0m\u001b[1;33m)\u001b[0m\u001b[1;33m]\u001b[0m\u001b[1;33m\u001b[0m\u001b[0m\n",
      "\u001b[1;32mC:\\Users\\Toshiba\\Anaconda3\\lib\\site-packages\\pandas\\indexes\\base.pyc\u001b[0m in \u001b[0;36mget_loc\u001b[1;34m(self, key, method, tolerance)\u001b[0m\n\u001b[0;32m   2134\u001b[0m                 \u001b[1;32mreturn\u001b[0m \u001b[0mself\u001b[0m\u001b[1;33m.\u001b[0m\u001b[0m_engine\u001b[0m\u001b[1;33m.\u001b[0m\u001b[0mget_loc\u001b[0m\u001b[1;33m(\u001b[0m\u001b[0mkey\u001b[0m\u001b[1;33m)\u001b[0m\u001b[1;33m\u001b[0m\u001b[0m\n\u001b[0;32m   2135\u001b[0m             \u001b[1;32mexcept\u001b[0m \u001b[0mKeyError\u001b[0m\u001b[1;33m:\u001b[0m\u001b[1;33m\u001b[0m\u001b[0m\n\u001b[1;32m-> 2136\u001b[1;33m                 \u001b[1;32mreturn\u001b[0m \u001b[0mself\u001b[0m\u001b[1;33m.\u001b[0m\u001b[0m_engine\u001b[0m\u001b[1;33m.\u001b[0m\u001b[0mget_loc\u001b[0m\u001b[1;33m(\u001b[0m\u001b[0mself\u001b[0m\u001b[1;33m.\u001b[0m\u001b[0m_maybe_cast_indexer\u001b[0m\u001b[1;33m(\u001b[0m\u001b[0mkey\u001b[0m\u001b[1;33m)\u001b[0m\u001b[1;33m)\u001b[0m\u001b[1;33m\u001b[0m\u001b[0m\n\u001b[0m\u001b[0;32m   2137\u001b[0m \u001b[1;33m\u001b[0m\u001b[0m\n\u001b[0;32m   2138\u001b[0m         \u001b[0mindexer\u001b[0m \u001b[1;33m=\u001b[0m \u001b[0mself\u001b[0m\u001b[1;33m.\u001b[0m\u001b[0mget_indexer\u001b[0m\u001b[1;33m(\u001b[0m\u001b[1;33m[\u001b[0m\u001b[0mkey\u001b[0m\u001b[1;33m]\u001b[0m\u001b[1;33m,\u001b[0m \u001b[0mmethod\u001b[0m\u001b[1;33m=\u001b[0m\u001b[0mmethod\u001b[0m\u001b[1;33m,\u001b[0m \u001b[0mtolerance\u001b[0m\u001b[1;33m=\u001b[0m\u001b[0mtolerance\u001b[0m\u001b[1;33m)\u001b[0m\u001b[1;33m\u001b[0m\u001b[0m\n",
      "\u001b[1;32mpandas\\index.pyx\u001b[0m in \u001b[0;36mpandas.index.IndexEngine.get_loc (pandas\\index.c:4433)\u001b[1;34m()\u001b[0m\n",
      "\u001b[1;32mpandas\\index.pyx\u001b[0m in \u001b[0;36mpandas.index.IndexEngine.get_loc (pandas\\index.c:4279)\u001b[1;34m()\u001b[0m\n",
      "\u001b[1;32mpandas\\src\\hashtable_class_helper.pxi\u001b[0m in \u001b[0;36mpandas.hashtable.PyObjectHashTable.get_item (pandas\\hashtable.c:13742)\u001b[1;34m()\u001b[0m\n",
      "\u001b[1;32mpandas\\src\\hashtable_class_helper.pxi\u001b[0m in \u001b[0;36mpandas.hashtable.PyObjectHashTable.get_item (pandas\\hashtable.c:13696)\u001b[1;34m()\u001b[0m\n",
      "\u001b[1;31mKeyError\u001b[0m: 'grade'"
     ]
    }
   ],
   "source": [
    "df[\"grade\"].cat.categories = [\"very good\", \"good\", \"very bad\"]"
   ]
  },
  {
   "cell_type": "code",
   "execution_count": 142,
   "metadata": {
    "collapsed": false
   },
   "outputs": [
    {
     "ename": "SyntaxError",
     "evalue": "invalid syntax (<ipython-input-142-bdd0be16b91d>, line 1)",
     "output_type": "error",
     "traceback": [
      "\u001b[1;36m  File \u001b[1;32m\"<ipython-input-142-bdd0be16b91d>\"\u001b[1;36m, line \u001b[1;32m1\u001b[0m\n\u001b[1;33m    Reorder the categories and simultaneously add the missing categories (methods under Series .cat return a new Series per default).\u001b[0m\n\u001b[1;37m              ^\u001b[0m\n\u001b[1;31mSyntaxError\u001b[0m\u001b[1;31m:\u001b[0m invalid syntax\n"
     ]
    }
   ],
   "source": [
    "Reorder the categories and simultaneously add the missing categories (methods under Series .cat return a new Series per default)."
   ]
  },
  {
   "cell_type": "code",
   "execution_count": 143,
   "metadata": {
    "collapsed": false
   },
   "outputs": [
    {
     "ename": "KeyError",
     "evalue": "'grade'",
     "output_type": "error",
     "traceback": [
      "\u001b[1;31m---------------------------------------------------------------------------\u001b[0m",
      "\u001b[1;31mKeyError\u001b[0m                                  Traceback (most recent call last)",
      "\u001b[1;32m<ipython-input-143-0f5054b89972>\u001b[0m in \u001b[0;36m<module>\u001b[1;34m()\u001b[0m\n\u001b[1;32m----> 1\u001b[1;33m \u001b[0mdf\u001b[0m\u001b[1;33m[\u001b[0m\u001b[1;34m\"grade\"\u001b[0m\u001b[1;33m]\u001b[0m \u001b[1;33m=\u001b[0m \u001b[0mdf\u001b[0m\u001b[1;33m[\u001b[0m\u001b[1;34m\"grade\"\u001b[0m\u001b[1;33m]\u001b[0m\u001b[1;33m.\u001b[0m\u001b[0mcat\u001b[0m\u001b[1;33m.\u001b[0m\u001b[0mset_categories\u001b[0m\u001b[1;33m(\u001b[0m\u001b[1;33m[\u001b[0m\u001b[1;34m\"very bad\"\u001b[0m\u001b[1;33m,\u001b[0m \u001b[1;34m\"bad\"\u001b[0m\u001b[1;33m,\u001b[0m \u001b[1;34m\"medium\"\u001b[0m\u001b[1;33m,\u001b[0m \u001b[1;34m\"good\"\u001b[0m\u001b[1;33m,\u001b[0m \u001b[1;34m\"very good\"\u001b[0m\u001b[1;33m]\u001b[0m\u001b[1;33m)\u001b[0m\u001b[1;33m\u001b[0m\u001b[0m\n\u001b[0m\u001b[0;32m      2\u001b[0m \u001b[1;33m\u001b[0m\u001b[0m\n\u001b[0;32m      3\u001b[0m \u001b[0mdf\u001b[0m\u001b[1;33m[\u001b[0m\u001b[1;34m\"grade\"\u001b[0m\u001b[1;33m]\u001b[0m\u001b[1;33m\u001b[0m\u001b[0m\n",
      "\u001b[1;32mC:\\Users\\Toshiba\\Anaconda3\\lib\\site-packages\\pandas\\core\\frame.pyc\u001b[0m in \u001b[0;36m__getitem__\u001b[1;34m(self, key)\u001b[0m\n\u001b[0;32m   2057\u001b[0m             \u001b[1;32mreturn\u001b[0m \u001b[0mself\u001b[0m\u001b[1;33m.\u001b[0m\u001b[0m_getitem_multilevel\u001b[0m\u001b[1;33m(\u001b[0m\u001b[0mkey\u001b[0m\u001b[1;33m)\u001b[0m\u001b[1;33m\u001b[0m\u001b[0m\n\u001b[0;32m   2058\u001b[0m         \u001b[1;32melse\u001b[0m\u001b[1;33m:\u001b[0m\u001b[1;33m\u001b[0m\u001b[0m\n\u001b[1;32m-> 2059\u001b[1;33m             \u001b[1;32mreturn\u001b[0m \u001b[0mself\u001b[0m\u001b[1;33m.\u001b[0m\u001b[0m_getitem_column\u001b[0m\u001b[1;33m(\u001b[0m\u001b[0mkey\u001b[0m\u001b[1;33m)\u001b[0m\u001b[1;33m\u001b[0m\u001b[0m\n\u001b[0m\u001b[0;32m   2060\u001b[0m \u001b[1;33m\u001b[0m\u001b[0m\n\u001b[0;32m   2061\u001b[0m     \u001b[1;32mdef\u001b[0m \u001b[0m_getitem_column\u001b[0m\u001b[1;33m(\u001b[0m\u001b[0mself\u001b[0m\u001b[1;33m,\u001b[0m \u001b[0mkey\u001b[0m\u001b[1;33m)\u001b[0m\u001b[1;33m:\u001b[0m\u001b[1;33m\u001b[0m\u001b[0m\n",
      "\u001b[1;32mC:\\Users\\Toshiba\\Anaconda3\\lib\\site-packages\\pandas\\core\\frame.pyc\u001b[0m in \u001b[0;36m_getitem_column\u001b[1;34m(self, key)\u001b[0m\n\u001b[0;32m   2064\u001b[0m         \u001b[1;31m# get column\u001b[0m\u001b[1;33m\u001b[0m\u001b[1;33m\u001b[0m\u001b[0m\n\u001b[0;32m   2065\u001b[0m         \u001b[1;32mif\u001b[0m \u001b[0mself\u001b[0m\u001b[1;33m.\u001b[0m\u001b[0mcolumns\u001b[0m\u001b[1;33m.\u001b[0m\u001b[0mis_unique\u001b[0m\u001b[1;33m:\u001b[0m\u001b[1;33m\u001b[0m\u001b[0m\n\u001b[1;32m-> 2066\u001b[1;33m             \u001b[1;32mreturn\u001b[0m \u001b[0mself\u001b[0m\u001b[1;33m.\u001b[0m\u001b[0m_get_item_cache\u001b[0m\u001b[1;33m(\u001b[0m\u001b[0mkey\u001b[0m\u001b[1;33m)\u001b[0m\u001b[1;33m\u001b[0m\u001b[0m\n\u001b[0m\u001b[0;32m   2067\u001b[0m \u001b[1;33m\u001b[0m\u001b[0m\n\u001b[0;32m   2068\u001b[0m         \u001b[1;31m# duplicate columns & possible reduce dimensionality\u001b[0m\u001b[1;33m\u001b[0m\u001b[1;33m\u001b[0m\u001b[0m\n",
      "\u001b[1;32mC:\\Users\\Toshiba\\Anaconda3\\lib\\site-packages\\pandas\\core\\generic.pyc\u001b[0m in \u001b[0;36m_get_item_cache\u001b[1;34m(self, item)\u001b[0m\n\u001b[0;32m   1384\u001b[0m         \u001b[0mres\u001b[0m \u001b[1;33m=\u001b[0m \u001b[0mcache\u001b[0m\u001b[1;33m.\u001b[0m\u001b[0mget\u001b[0m\u001b[1;33m(\u001b[0m\u001b[0mitem\u001b[0m\u001b[1;33m)\u001b[0m\u001b[1;33m\u001b[0m\u001b[0m\n\u001b[0;32m   1385\u001b[0m         \u001b[1;32mif\u001b[0m \u001b[0mres\u001b[0m \u001b[1;32mis\u001b[0m \u001b[0mNone\u001b[0m\u001b[1;33m:\u001b[0m\u001b[1;33m\u001b[0m\u001b[0m\n\u001b[1;32m-> 1386\u001b[1;33m             \u001b[0mvalues\u001b[0m \u001b[1;33m=\u001b[0m \u001b[0mself\u001b[0m\u001b[1;33m.\u001b[0m\u001b[0m_data\u001b[0m\u001b[1;33m.\u001b[0m\u001b[0mget\u001b[0m\u001b[1;33m(\u001b[0m\u001b[0mitem\u001b[0m\u001b[1;33m)\u001b[0m\u001b[1;33m\u001b[0m\u001b[0m\n\u001b[0m\u001b[0;32m   1387\u001b[0m             \u001b[0mres\u001b[0m \u001b[1;33m=\u001b[0m \u001b[0mself\u001b[0m\u001b[1;33m.\u001b[0m\u001b[0m_box_item_values\u001b[0m\u001b[1;33m(\u001b[0m\u001b[0mitem\u001b[0m\u001b[1;33m,\u001b[0m \u001b[0mvalues\u001b[0m\u001b[1;33m)\u001b[0m\u001b[1;33m\u001b[0m\u001b[0m\n\u001b[0;32m   1388\u001b[0m             \u001b[0mcache\u001b[0m\u001b[1;33m[\u001b[0m\u001b[0mitem\u001b[0m\u001b[1;33m]\u001b[0m \u001b[1;33m=\u001b[0m \u001b[0mres\u001b[0m\u001b[1;33m\u001b[0m\u001b[0m\n",
      "\u001b[1;32mC:\\Users\\Toshiba\\Anaconda3\\lib\\site-packages\\pandas\\core\\internals.pyc\u001b[0m in \u001b[0;36mget\u001b[1;34m(self, item, fastpath)\u001b[0m\n\u001b[0;32m   3541\u001b[0m \u001b[1;33m\u001b[0m\u001b[0m\n\u001b[0;32m   3542\u001b[0m             \u001b[1;32mif\u001b[0m \u001b[1;32mnot\u001b[0m \u001b[0misnull\u001b[0m\u001b[1;33m(\u001b[0m\u001b[0mitem\u001b[0m\u001b[1;33m)\u001b[0m\u001b[1;33m:\u001b[0m\u001b[1;33m\u001b[0m\u001b[0m\n\u001b[1;32m-> 3543\u001b[1;33m                 \u001b[0mloc\u001b[0m \u001b[1;33m=\u001b[0m \u001b[0mself\u001b[0m\u001b[1;33m.\u001b[0m\u001b[0mitems\u001b[0m\u001b[1;33m.\u001b[0m\u001b[0mget_loc\u001b[0m\u001b[1;33m(\u001b[0m\u001b[0mitem\u001b[0m\u001b[1;33m)\u001b[0m\u001b[1;33m\u001b[0m\u001b[0m\n\u001b[0m\u001b[0;32m   3544\u001b[0m             \u001b[1;32melse\u001b[0m\u001b[1;33m:\u001b[0m\u001b[1;33m\u001b[0m\u001b[0m\n\u001b[0;32m   3545\u001b[0m                 \u001b[0mindexer\u001b[0m \u001b[1;33m=\u001b[0m \u001b[0mnp\u001b[0m\u001b[1;33m.\u001b[0m\u001b[0marange\u001b[0m\u001b[1;33m(\u001b[0m\u001b[0mlen\u001b[0m\u001b[1;33m(\u001b[0m\u001b[0mself\u001b[0m\u001b[1;33m.\u001b[0m\u001b[0mitems\u001b[0m\u001b[1;33m)\u001b[0m\u001b[1;33m)\u001b[0m\u001b[1;33m[\u001b[0m\u001b[0misnull\u001b[0m\u001b[1;33m(\u001b[0m\u001b[0mself\u001b[0m\u001b[1;33m.\u001b[0m\u001b[0mitems\u001b[0m\u001b[1;33m)\u001b[0m\u001b[1;33m]\u001b[0m\u001b[1;33m\u001b[0m\u001b[0m\n",
      "\u001b[1;32mC:\\Users\\Toshiba\\Anaconda3\\lib\\site-packages\\pandas\\indexes\\base.pyc\u001b[0m in \u001b[0;36mget_loc\u001b[1;34m(self, key, method, tolerance)\u001b[0m\n\u001b[0;32m   2134\u001b[0m                 \u001b[1;32mreturn\u001b[0m \u001b[0mself\u001b[0m\u001b[1;33m.\u001b[0m\u001b[0m_engine\u001b[0m\u001b[1;33m.\u001b[0m\u001b[0mget_loc\u001b[0m\u001b[1;33m(\u001b[0m\u001b[0mkey\u001b[0m\u001b[1;33m)\u001b[0m\u001b[1;33m\u001b[0m\u001b[0m\n\u001b[0;32m   2135\u001b[0m             \u001b[1;32mexcept\u001b[0m \u001b[0mKeyError\u001b[0m\u001b[1;33m:\u001b[0m\u001b[1;33m\u001b[0m\u001b[0m\n\u001b[1;32m-> 2136\u001b[1;33m                 \u001b[1;32mreturn\u001b[0m \u001b[0mself\u001b[0m\u001b[1;33m.\u001b[0m\u001b[0m_engine\u001b[0m\u001b[1;33m.\u001b[0m\u001b[0mget_loc\u001b[0m\u001b[1;33m(\u001b[0m\u001b[0mself\u001b[0m\u001b[1;33m.\u001b[0m\u001b[0m_maybe_cast_indexer\u001b[0m\u001b[1;33m(\u001b[0m\u001b[0mkey\u001b[0m\u001b[1;33m)\u001b[0m\u001b[1;33m)\u001b[0m\u001b[1;33m\u001b[0m\u001b[0m\n\u001b[0m\u001b[0;32m   2137\u001b[0m \u001b[1;33m\u001b[0m\u001b[0m\n\u001b[0;32m   2138\u001b[0m         \u001b[0mindexer\u001b[0m \u001b[1;33m=\u001b[0m \u001b[0mself\u001b[0m\u001b[1;33m.\u001b[0m\u001b[0mget_indexer\u001b[0m\u001b[1;33m(\u001b[0m\u001b[1;33m[\u001b[0m\u001b[0mkey\u001b[0m\u001b[1;33m]\u001b[0m\u001b[1;33m,\u001b[0m \u001b[0mmethod\u001b[0m\u001b[1;33m=\u001b[0m\u001b[0mmethod\u001b[0m\u001b[1;33m,\u001b[0m \u001b[0mtolerance\u001b[0m\u001b[1;33m=\u001b[0m\u001b[0mtolerance\u001b[0m\u001b[1;33m)\u001b[0m\u001b[1;33m\u001b[0m\u001b[0m\n",
      "\u001b[1;32mpandas\\index.pyx\u001b[0m in \u001b[0;36mpandas.index.IndexEngine.get_loc (pandas\\index.c:4433)\u001b[1;34m()\u001b[0m\n",
      "\u001b[1;32mpandas\\index.pyx\u001b[0m in \u001b[0;36mpandas.index.IndexEngine.get_loc (pandas\\index.c:4279)\u001b[1;34m()\u001b[0m\n",
      "\u001b[1;32mpandas\\src\\hashtable_class_helper.pxi\u001b[0m in \u001b[0;36mpandas.hashtable.PyObjectHashTable.get_item (pandas\\hashtable.c:13742)\u001b[1;34m()\u001b[0m\n",
      "\u001b[1;32mpandas\\src\\hashtable_class_helper.pxi\u001b[0m in \u001b[0;36mpandas.hashtable.PyObjectHashTable.get_item (pandas\\hashtable.c:13696)\u001b[1;34m()\u001b[0m\n",
      "\u001b[1;31mKeyError\u001b[0m: 'grade'"
     ]
    }
   ],
   "source": [
    "df[\"grade\"] = df[\"grade\"].cat.set_categories([\"very bad\", \"bad\", \"medium\", \"good\", \"very good\"])\n",
    "\n",
    "df[\"grade\"]"
   ]
  },
  {
   "cell_type": "code",
   "execution_count": 144,
   "metadata": {
    "collapsed": false
   },
   "outputs": [
    {
     "ename": "SyntaxError",
     "evalue": "invalid syntax (<ipython-input-144-60f14d20d20c>, line 1)",
     "output_type": "error",
     "traceback": [
      "\u001b[1;36m  File \u001b[1;32m\"<ipython-input-144-60f14d20d20c>\"\u001b[1;36m, line \u001b[1;32m1\u001b[0m\n\u001b[1;33m    Out[132]:\u001b[0m\n\u001b[1;37m            ^\u001b[0m\n\u001b[1;31mSyntaxError\u001b[0m\u001b[1;31m:\u001b[0m invalid syntax\n"
     ]
    }
   ],
   "source": [
    "Out[132]: \n",
    "0    very good\n",
    "1         good\n",
    "2         good\n",
    "3    very good\n",
    "4    very good\n",
    "5     very bad\n",
    "Name: grade, dtype: category\n",
    "Categories (5, object): [very bad, bad, medium, good, very good]\n",
    "\n",
    "Sorting is per order in the categories, not lexical order."
   ]
  },
  {
   "cell_type": "code",
   "execution_count": 145,
   "metadata": {
    "collapsed": false
   },
   "outputs": [
    {
     "ename": "KeyError",
     "evalue": "'grade'",
     "output_type": "error",
     "traceback": [
      "\u001b[1;31m---------------------------------------------------------------------------\u001b[0m",
      "\u001b[1;31mKeyError\u001b[0m                                  Traceback (most recent call last)",
      "\u001b[1;32m<ipython-input-145-eb88fe84c736>\u001b[0m in \u001b[0;36m<module>\u001b[1;34m()\u001b[0m\n\u001b[1;32m----> 1\u001b[1;33m \u001b[0mdf\u001b[0m\u001b[1;33m.\u001b[0m\u001b[0msort_values\u001b[0m\u001b[1;33m(\u001b[0m\u001b[0mby\u001b[0m\u001b[1;33m=\u001b[0m\u001b[1;34m\"grade\"\u001b[0m\u001b[1;33m)\u001b[0m\u001b[1;33m\u001b[0m\u001b[0m\n\u001b[0m\u001b[0;32m      2\u001b[0m \u001b[1;33m\u001b[0m\u001b[0m\n",
      "\u001b[1;32mC:\\Users\\Toshiba\\Anaconda3\\lib\\site-packages\\pandas\\core\\frame.pyc\u001b[0m in \u001b[0;36msort_values\u001b[1;34m(self, by, axis, ascending, inplace, kind, na_position)\u001b[0m\n\u001b[0;32m   3228\u001b[0m \u001b[1;33m\u001b[0m\u001b[0m\n\u001b[0;32m   3229\u001b[0m             \u001b[0mby\u001b[0m \u001b[1;33m=\u001b[0m \u001b[0mby\u001b[0m\u001b[1;33m[\u001b[0m\u001b[1;36m0\u001b[0m\u001b[1;33m]\u001b[0m\u001b[1;33m\u001b[0m\u001b[0m\n\u001b[1;32m-> 3230\u001b[1;33m             \u001b[0mk\u001b[0m \u001b[1;33m=\u001b[0m \u001b[0mself\u001b[0m\u001b[1;33m.\u001b[0m\u001b[0mxs\u001b[0m\u001b[1;33m(\u001b[0m\u001b[0mby\u001b[0m\u001b[1;33m,\u001b[0m \u001b[0maxis\u001b[0m\u001b[1;33m=\u001b[0m\u001b[0mother_axis\u001b[0m\u001b[1;33m)\u001b[0m\u001b[1;33m.\u001b[0m\u001b[0mvalues\u001b[0m\u001b[1;33m\u001b[0m\u001b[0m\n\u001b[0m\u001b[0;32m   3231\u001b[0m             \u001b[1;32mif\u001b[0m \u001b[0mk\u001b[0m\u001b[1;33m.\u001b[0m\u001b[0mndim\u001b[0m \u001b[1;33m==\u001b[0m \u001b[1;36m2\u001b[0m\u001b[1;33m:\u001b[0m\u001b[1;33m\u001b[0m\u001b[0m\n\u001b[0;32m   3232\u001b[0m \u001b[1;33m\u001b[0m\u001b[0m\n",
      "\u001b[1;32mC:\\Users\\Toshiba\\Anaconda3\\lib\\site-packages\\pandas\\core\\generic.pyc\u001b[0m in \u001b[0;36mxs\u001b[1;34m(self, key, axis, level, drop_level)\u001b[0m\n\u001b[0;32m   1768\u001b[0m \u001b[1;33m\u001b[0m\u001b[0m\n\u001b[0;32m   1769\u001b[0m         \u001b[1;32mif\u001b[0m \u001b[0maxis\u001b[0m \u001b[1;33m==\u001b[0m \u001b[1;36m1\u001b[0m\u001b[1;33m:\u001b[0m\u001b[1;33m\u001b[0m\u001b[0m\n\u001b[1;32m-> 1770\u001b[1;33m             \u001b[1;32mreturn\u001b[0m \u001b[0mself\u001b[0m\u001b[1;33m[\u001b[0m\u001b[0mkey\u001b[0m\u001b[1;33m]\u001b[0m\u001b[1;33m\u001b[0m\u001b[0m\n\u001b[0m\u001b[0;32m   1771\u001b[0m \u001b[1;33m\u001b[0m\u001b[0m\n\u001b[0;32m   1772\u001b[0m         \u001b[0mself\u001b[0m\u001b[1;33m.\u001b[0m\u001b[0m_consolidate_inplace\u001b[0m\u001b[1;33m(\u001b[0m\u001b[1;33m)\u001b[0m\u001b[1;33m\u001b[0m\u001b[0m\n",
      "\u001b[1;32mC:\\Users\\Toshiba\\Anaconda3\\lib\\site-packages\\pandas\\core\\frame.pyc\u001b[0m in \u001b[0;36m__getitem__\u001b[1;34m(self, key)\u001b[0m\n\u001b[0;32m   2057\u001b[0m             \u001b[1;32mreturn\u001b[0m \u001b[0mself\u001b[0m\u001b[1;33m.\u001b[0m\u001b[0m_getitem_multilevel\u001b[0m\u001b[1;33m(\u001b[0m\u001b[0mkey\u001b[0m\u001b[1;33m)\u001b[0m\u001b[1;33m\u001b[0m\u001b[0m\n\u001b[0;32m   2058\u001b[0m         \u001b[1;32melse\u001b[0m\u001b[1;33m:\u001b[0m\u001b[1;33m\u001b[0m\u001b[0m\n\u001b[1;32m-> 2059\u001b[1;33m             \u001b[1;32mreturn\u001b[0m \u001b[0mself\u001b[0m\u001b[1;33m.\u001b[0m\u001b[0m_getitem_column\u001b[0m\u001b[1;33m(\u001b[0m\u001b[0mkey\u001b[0m\u001b[1;33m)\u001b[0m\u001b[1;33m\u001b[0m\u001b[0m\n\u001b[0m\u001b[0;32m   2060\u001b[0m \u001b[1;33m\u001b[0m\u001b[0m\n\u001b[0;32m   2061\u001b[0m     \u001b[1;32mdef\u001b[0m \u001b[0m_getitem_column\u001b[0m\u001b[1;33m(\u001b[0m\u001b[0mself\u001b[0m\u001b[1;33m,\u001b[0m \u001b[0mkey\u001b[0m\u001b[1;33m)\u001b[0m\u001b[1;33m:\u001b[0m\u001b[1;33m\u001b[0m\u001b[0m\n",
      "\u001b[1;32mC:\\Users\\Toshiba\\Anaconda3\\lib\\site-packages\\pandas\\core\\frame.pyc\u001b[0m in \u001b[0;36m_getitem_column\u001b[1;34m(self, key)\u001b[0m\n\u001b[0;32m   2064\u001b[0m         \u001b[1;31m# get column\u001b[0m\u001b[1;33m\u001b[0m\u001b[1;33m\u001b[0m\u001b[0m\n\u001b[0;32m   2065\u001b[0m         \u001b[1;32mif\u001b[0m \u001b[0mself\u001b[0m\u001b[1;33m.\u001b[0m\u001b[0mcolumns\u001b[0m\u001b[1;33m.\u001b[0m\u001b[0mis_unique\u001b[0m\u001b[1;33m:\u001b[0m\u001b[1;33m\u001b[0m\u001b[0m\n\u001b[1;32m-> 2066\u001b[1;33m             \u001b[1;32mreturn\u001b[0m \u001b[0mself\u001b[0m\u001b[1;33m.\u001b[0m\u001b[0m_get_item_cache\u001b[0m\u001b[1;33m(\u001b[0m\u001b[0mkey\u001b[0m\u001b[1;33m)\u001b[0m\u001b[1;33m\u001b[0m\u001b[0m\n\u001b[0m\u001b[0;32m   2067\u001b[0m \u001b[1;33m\u001b[0m\u001b[0m\n\u001b[0;32m   2068\u001b[0m         \u001b[1;31m# duplicate columns & possible reduce dimensionality\u001b[0m\u001b[1;33m\u001b[0m\u001b[1;33m\u001b[0m\u001b[0m\n",
      "\u001b[1;32mC:\\Users\\Toshiba\\Anaconda3\\lib\\site-packages\\pandas\\core\\generic.pyc\u001b[0m in \u001b[0;36m_get_item_cache\u001b[1;34m(self, item)\u001b[0m\n\u001b[0;32m   1384\u001b[0m         \u001b[0mres\u001b[0m \u001b[1;33m=\u001b[0m \u001b[0mcache\u001b[0m\u001b[1;33m.\u001b[0m\u001b[0mget\u001b[0m\u001b[1;33m(\u001b[0m\u001b[0mitem\u001b[0m\u001b[1;33m)\u001b[0m\u001b[1;33m\u001b[0m\u001b[0m\n\u001b[0;32m   1385\u001b[0m         \u001b[1;32mif\u001b[0m \u001b[0mres\u001b[0m \u001b[1;32mis\u001b[0m \u001b[0mNone\u001b[0m\u001b[1;33m:\u001b[0m\u001b[1;33m\u001b[0m\u001b[0m\n\u001b[1;32m-> 1386\u001b[1;33m             \u001b[0mvalues\u001b[0m \u001b[1;33m=\u001b[0m \u001b[0mself\u001b[0m\u001b[1;33m.\u001b[0m\u001b[0m_data\u001b[0m\u001b[1;33m.\u001b[0m\u001b[0mget\u001b[0m\u001b[1;33m(\u001b[0m\u001b[0mitem\u001b[0m\u001b[1;33m)\u001b[0m\u001b[1;33m\u001b[0m\u001b[0m\n\u001b[0m\u001b[0;32m   1387\u001b[0m             \u001b[0mres\u001b[0m \u001b[1;33m=\u001b[0m \u001b[0mself\u001b[0m\u001b[1;33m.\u001b[0m\u001b[0m_box_item_values\u001b[0m\u001b[1;33m(\u001b[0m\u001b[0mitem\u001b[0m\u001b[1;33m,\u001b[0m \u001b[0mvalues\u001b[0m\u001b[1;33m)\u001b[0m\u001b[1;33m\u001b[0m\u001b[0m\n\u001b[0;32m   1388\u001b[0m             \u001b[0mcache\u001b[0m\u001b[1;33m[\u001b[0m\u001b[0mitem\u001b[0m\u001b[1;33m]\u001b[0m \u001b[1;33m=\u001b[0m \u001b[0mres\u001b[0m\u001b[1;33m\u001b[0m\u001b[0m\n",
      "\u001b[1;32mC:\\Users\\Toshiba\\Anaconda3\\lib\\site-packages\\pandas\\core\\internals.pyc\u001b[0m in \u001b[0;36mget\u001b[1;34m(self, item, fastpath)\u001b[0m\n\u001b[0;32m   3541\u001b[0m \u001b[1;33m\u001b[0m\u001b[0m\n\u001b[0;32m   3542\u001b[0m             \u001b[1;32mif\u001b[0m \u001b[1;32mnot\u001b[0m \u001b[0misnull\u001b[0m\u001b[1;33m(\u001b[0m\u001b[0mitem\u001b[0m\u001b[1;33m)\u001b[0m\u001b[1;33m:\u001b[0m\u001b[1;33m\u001b[0m\u001b[0m\n\u001b[1;32m-> 3543\u001b[1;33m                 \u001b[0mloc\u001b[0m \u001b[1;33m=\u001b[0m \u001b[0mself\u001b[0m\u001b[1;33m.\u001b[0m\u001b[0mitems\u001b[0m\u001b[1;33m.\u001b[0m\u001b[0mget_loc\u001b[0m\u001b[1;33m(\u001b[0m\u001b[0mitem\u001b[0m\u001b[1;33m)\u001b[0m\u001b[1;33m\u001b[0m\u001b[0m\n\u001b[0m\u001b[0;32m   3544\u001b[0m             \u001b[1;32melse\u001b[0m\u001b[1;33m:\u001b[0m\u001b[1;33m\u001b[0m\u001b[0m\n\u001b[0;32m   3545\u001b[0m                 \u001b[0mindexer\u001b[0m \u001b[1;33m=\u001b[0m \u001b[0mnp\u001b[0m\u001b[1;33m.\u001b[0m\u001b[0marange\u001b[0m\u001b[1;33m(\u001b[0m\u001b[0mlen\u001b[0m\u001b[1;33m(\u001b[0m\u001b[0mself\u001b[0m\u001b[1;33m.\u001b[0m\u001b[0mitems\u001b[0m\u001b[1;33m)\u001b[0m\u001b[1;33m)\u001b[0m\u001b[1;33m[\u001b[0m\u001b[0misnull\u001b[0m\u001b[1;33m(\u001b[0m\u001b[0mself\u001b[0m\u001b[1;33m.\u001b[0m\u001b[0mitems\u001b[0m\u001b[1;33m)\u001b[0m\u001b[1;33m]\u001b[0m\u001b[1;33m\u001b[0m\u001b[0m\n",
      "\u001b[1;32mC:\\Users\\Toshiba\\Anaconda3\\lib\\site-packages\\pandas\\indexes\\base.pyc\u001b[0m in \u001b[0;36mget_loc\u001b[1;34m(self, key, method, tolerance)\u001b[0m\n\u001b[0;32m   2134\u001b[0m                 \u001b[1;32mreturn\u001b[0m \u001b[0mself\u001b[0m\u001b[1;33m.\u001b[0m\u001b[0m_engine\u001b[0m\u001b[1;33m.\u001b[0m\u001b[0mget_loc\u001b[0m\u001b[1;33m(\u001b[0m\u001b[0mkey\u001b[0m\u001b[1;33m)\u001b[0m\u001b[1;33m\u001b[0m\u001b[0m\n\u001b[0;32m   2135\u001b[0m             \u001b[1;32mexcept\u001b[0m \u001b[0mKeyError\u001b[0m\u001b[1;33m:\u001b[0m\u001b[1;33m\u001b[0m\u001b[0m\n\u001b[1;32m-> 2136\u001b[1;33m                 \u001b[1;32mreturn\u001b[0m \u001b[0mself\u001b[0m\u001b[1;33m.\u001b[0m\u001b[0m_engine\u001b[0m\u001b[1;33m.\u001b[0m\u001b[0mget_loc\u001b[0m\u001b[1;33m(\u001b[0m\u001b[0mself\u001b[0m\u001b[1;33m.\u001b[0m\u001b[0m_maybe_cast_indexer\u001b[0m\u001b[1;33m(\u001b[0m\u001b[0mkey\u001b[0m\u001b[1;33m)\u001b[0m\u001b[1;33m)\u001b[0m\u001b[1;33m\u001b[0m\u001b[0m\n\u001b[0m\u001b[0;32m   2137\u001b[0m \u001b[1;33m\u001b[0m\u001b[0m\n\u001b[0;32m   2138\u001b[0m         \u001b[0mindexer\u001b[0m \u001b[1;33m=\u001b[0m \u001b[0mself\u001b[0m\u001b[1;33m.\u001b[0m\u001b[0mget_indexer\u001b[0m\u001b[1;33m(\u001b[0m\u001b[1;33m[\u001b[0m\u001b[0mkey\u001b[0m\u001b[1;33m]\u001b[0m\u001b[1;33m,\u001b[0m \u001b[0mmethod\u001b[0m\u001b[1;33m=\u001b[0m\u001b[0mmethod\u001b[0m\u001b[1;33m,\u001b[0m \u001b[0mtolerance\u001b[0m\u001b[1;33m=\u001b[0m\u001b[0mtolerance\u001b[0m\u001b[1;33m)\u001b[0m\u001b[1;33m\u001b[0m\u001b[0m\n",
      "\u001b[1;32mpandas\\index.pyx\u001b[0m in \u001b[0;36mpandas.index.IndexEngine.get_loc (pandas\\index.c:4433)\u001b[1;34m()\u001b[0m\n",
      "\u001b[1;32mpandas\\index.pyx\u001b[0m in \u001b[0;36mpandas.index.IndexEngine.get_loc (pandas\\index.c:4279)\u001b[1;34m()\u001b[0m\n",
      "\u001b[1;32mpandas\\src\\hashtable_class_helper.pxi\u001b[0m in \u001b[0;36mpandas.hashtable.PyObjectHashTable.get_item (pandas\\hashtable.c:13742)\u001b[1;34m()\u001b[0m\n",
      "\u001b[1;32mpandas\\src\\hashtable_class_helper.pxi\u001b[0m in \u001b[0;36mpandas.hashtable.PyObjectHashTable.get_item (pandas\\hashtable.c:13696)\u001b[1;34m()\u001b[0m\n",
      "\u001b[1;31mKeyError\u001b[0m: 'grade'"
     ]
    }
   ],
   "source": [
    "df.sort_values(by=\"grade\")\n",
    "    "
   ]
  },
  {
   "cell_type": "code",
   "execution_count": 146,
   "metadata": {
    "collapsed": false
   },
   "outputs": [
    {
     "ename": "SyntaxError",
     "evalue": "invalid syntax (<ipython-input-146-7253639cd6da>, line 1)",
     "output_type": "error",
     "traceback": [
      "\u001b[1;36m  File \u001b[1;32m\"<ipython-input-146-7253639cd6da>\"\u001b[1;36m, line \u001b[1;32m1\u001b[0m\n\u001b[1;33m    Out[133]:\u001b[0m\n\u001b[1;37m            ^\u001b[0m\n\u001b[1;31mSyntaxError\u001b[0m\u001b[1;31m:\u001b[0m invalid syntax\n"
     ]
    }
   ],
   "source": [
    "Out[133]: \n",
    "   id raw_grade      grade\n",
    "5   6         e   very bad\n",
    "1   2         b       good\n",
    "2   3         b       good\n",
    "0   1         a  very good\n",
    "3   4         a  very good\n",
    "4   5         a  very good\n",
    "\n",
    "Grouping by a categorical column shows also empty categories."
   ]
  },
  {
   "cell_type": "code",
   "execution_count": 147,
   "metadata": {
    "collapsed": false
   },
   "outputs": [
    {
     "ename": "KeyError",
     "evalue": "'grade'",
     "output_type": "error",
     "traceback": [
      "\u001b[1;31m---------------------------------------------------------------------------\u001b[0m",
      "\u001b[1;31mKeyError\u001b[0m                                  Traceback (most recent call last)",
      "\u001b[1;32m<ipython-input-147-d8e387418f9d>\u001b[0m in \u001b[0;36m<module>\u001b[1;34m()\u001b[0m\n\u001b[1;32m----> 1\u001b[1;33m \u001b[0mdf\u001b[0m\u001b[1;33m.\u001b[0m\u001b[0mgroupby\u001b[0m\u001b[1;33m(\u001b[0m\u001b[1;34m\"grade\"\u001b[0m\u001b[1;33m)\u001b[0m\u001b[1;33m.\u001b[0m\u001b[0msize\u001b[0m\u001b[1;33m(\u001b[0m\u001b[1;33m)\u001b[0m\u001b[1;33m\u001b[0m\u001b[0m\n\u001b[0m",
      "\u001b[1;32mC:\\Users\\Toshiba\\Anaconda3\\lib\\site-packages\\pandas\\core\\generic.pyc\u001b[0m in \u001b[0;36mgroupby\u001b[1;34m(self, by, axis, level, as_index, sort, group_keys, squeeze, **kwargs)\u001b[0m\n\u001b[0;32m   3989\u001b[0m         return groupby(self, by=by, axis=axis, level=level, as_index=as_index,\n\u001b[0;32m   3990\u001b[0m                        \u001b[0msort\u001b[0m\u001b[1;33m=\u001b[0m\u001b[0msort\u001b[0m\u001b[1;33m,\u001b[0m \u001b[0mgroup_keys\u001b[0m\u001b[1;33m=\u001b[0m\u001b[0mgroup_keys\u001b[0m\u001b[1;33m,\u001b[0m \u001b[0msqueeze\u001b[0m\u001b[1;33m=\u001b[0m\u001b[0msqueeze\u001b[0m\u001b[1;33m,\u001b[0m\u001b[1;33m\u001b[0m\u001b[0m\n\u001b[1;32m-> 3991\u001b[1;33m                        **kwargs)\n\u001b[0m\u001b[0;32m   3992\u001b[0m \u001b[1;33m\u001b[0m\u001b[0m\n\u001b[0;32m   3993\u001b[0m     \u001b[1;32mdef\u001b[0m \u001b[0masfreq\u001b[0m\u001b[1;33m(\u001b[0m\u001b[0mself\u001b[0m\u001b[1;33m,\u001b[0m \u001b[0mfreq\u001b[0m\u001b[1;33m,\u001b[0m \u001b[0mmethod\u001b[0m\u001b[1;33m=\u001b[0m\u001b[0mNone\u001b[0m\u001b[1;33m,\u001b[0m \u001b[0mhow\u001b[0m\u001b[1;33m=\u001b[0m\u001b[0mNone\u001b[0m\u001b[1;33m,\u001b[0m \u001b[0mnormalize\u001b[0m\u001b[1;33m=\u001b[0m\u001b[0mFalse\u001b[0m\u001b[1;33m)\u001b[0m\u001b[1;33m:\u001b[0m\u001b[1;33m\u001b[0m\u001b[0m\n",
      "\u001b[1;32mC:\\Users\\Toshiba\\Anaconda3\\lib\\site-packages\\pandas\\core\\groupby.pyc\u001b[0m in \u001b[0;36mgroupby\u001b[1;34m(obj, by, **kwds)\u001b[0m\n\u001b[0;32m   1509\u001b[0m         \u001b[1;32mraise\u001b[0m \u001b[0mTypeError\u001b[0m\u001b[1;33m(\u001b[0m\u001b[1;34m'invalid type: %s'\u001b[0m \u001b[1;33m%\u001b[0m \u001b[0mtype\u001b[0m\u001b[1;33m(\u001b[0m\u001b[0mobj\u001b[0m\u001b[1;33m)\u001b[0m\u001b[1;33m)\u001b[0m\u001b[1;33m\u001b[0m\u001b[0m\n\u001b[0;32m   1510\u001b[0m \u001b[1;33m\u001b[0m\u001b[0m\n\u001b[1;32m-> 1511\u001b[1;33m     \u001b[1;32mreturn\u001b[0m \u001b[0mklass\u001b[0m\u001b[1;33m(\u001b[0m\u001b[0mobj\u001b[0m\u001b[1;33m,\u001b[0m \u001b[0mby\u001b[0m\u001b[1;33m,\u001b[0m \u001b[1;33m**\u001b[0m\u001b[0mkwds\u001b[0m\u001b[1;33m)\u001b[0m\u001b[1;33m\u001b[0m\u001b[0m\n\u001b[0m\u001b[0;32m   1512\u001b[0m \u001b[1;33m\u001b[0m\u001b[0m\n\u001b[0;32m   1513\u001b[0m \u001b[1;33m\u001b[0m\u001b[0m\n",
      "\u001b[1;32mC:\\Users\\Toshiba\\Anaconda3\\lib\\site-packages\\pandas\\core\\groupby.pyc\u001b[0m in \u001b[0;36m__init__\u001b[1;34m(self, obj, keys, axis, level, grouper, exclusions, selection, as_index, sort, group_keys, squeeze, **kwargs)\u001b[0m\n\u001b[0;32m    368\u001b[0m                                                     \u001b[0mlevel\u001b[0m\u001b[1;33m=\u001b[0m\u001b[0mlevel\u001b[0m\u001b[1;33m,\u001b[0m\u001b[1;33m\u001b[0m\u001b[0m\n\u001b[0;32m    369\u001b[0m                                                     \u001b[0msort\u001b[0m\u001b[1;33m=\u001b[0m\u001b[0msort\u001b[0m\u001b[1;33m,\u001b[0m\u001b[1;33m\u001b[0m\u001b[0m\n\u001b[1;32m--> 370\u001b[1;33m                                                     mutated=self.mutated)\n\u001b[0m\u001b[0;32m    371\u001b[0m \u001b[1;33m\u001b[0m\u001b[0m\n\u001b[0;32m    372\u001b[0m         \u001b[0mself\u001b[0m\u001b[1;33m.\u001b[0m\u001b[0mobj\u001b[0m \u001b[1;33m=\u001b[0m \u001b[0mobj\u001b[0m\u001b[1;33m\u001b[0m\u001b[0m\n",
      "\u001b[1;32mC:\\Users\\Toshiba\\Anaconda3\\lib\\site-packages\\pandas\\core\\groupby.pyc\u001b[0m in \u001b[0;36m_get_grouper\u001b[1;34m(obj, key, axis, level, sort, mutated)\u001b[0m\n\u001b[0;32m   2460\u001b[0m \u001b[1;33m\u001b[0m\u001b[0m\n\u001b[0;32m   2461\u001b[0m         \u001b[1;32melif\u001b[0m \u001b[0mis_in_axis\u001b[0m\u001b[1;33m(\u001b[0m\u001b[0mgpr\u001b[0m\u001b[1;33m)\u001b[0m\u001b[1;33m:\u001b[0m  \u001b[1;31m# df.groupby('name')\u001b[0m\u001b[1;33m\u001b[0m\u001b[0m\n\u001b[1;32m-> 2462\u001b[1;33m             \u001b[0min_axis\u001b[0m\u001b[1;33m,\u001b[0m \u001b[0mname\u001b[0m\u001b[1;33m,\u001b[0m \u001b[0mgpr\u001b[0m \u001b[1;33m=\u001b[0m \u001b[0mTrue\u001b[0m\u001b[1;33m,\u001b[0m \u001b[0mgpr\u001b[0m\u001b[1;33m,\u001b[0m \u001b[0mobj\u001b[0m\u001b[1;33m[\u001b[0m\u001b[0mgpr\u001b[0m\u001b[1;33m]\u001b[0m\u001b[1;33m\u001b[0m\u001b[0m\n\u001b[0m\u001b[0;32m   2463\u001b[0m             \u001b[0mexclusions\u001b[0m\u001b[1;33m.\u001b[0m\u001b[0mappend\u001b[0m\u001b[1;33m(\u001b[0m\u001b[0mname\u001b[0m\u001b[1;33m)\u001b[0m\u001b[1;33m\u001b[0m\u001b[0m\n\u001b[0;32m   2464\u001b[0m         \u001b[1;32melif\u001b[0m \u001b[0misinstance\u001b[0m\u001b[1;33m(\u001b[0m\u001b[0mgpr\u001b[0m\u001b[1;33m,\u001b[0m \u001b[0mGrouper\u001b[0m\u001b[1;33m)\u001b[0m \u001b[1;32mand\u001b[0m \u001b[0mgpr\u001b[0m\u001b[1;33m.\u001b[0m\u001b[0mkey\u001b[0m \u001b[1;32mis\u001b[0m \u001b[1;32mnot\u001b[0m \u001b[0mNone\u001b[0m\u001b[1;33m:\u001b[0m\u001b[1;33m\u001b[0m\u001b[0m\n",
      "\u001b[1;32mC:\\Users\\Toshiba\\Anaconda3\\lib\\site-packages\\pandas\\core\\frame.pyc\u001b[0m in \u001b[0;36m__getitem__\u001b[1;34m(self, key)\u001b[0m\n\u001b[0;32m   2057\u001b[0m             \u001b[1;32mreturn\u001b[0m \u001b[0mself\u001b[0m\u001b[1;33m.\u001b[0m\u001b[0m_getitem_multilevel\u001b[0m\u001b[1;33m(\u001b[0m\u001b[0mkey\u001b[0m\u001b[1;33m)\u001b[0m\u001b[1;33m\u001b[0m\u001b[0m\n\u001b[0;32m   2058\u001b[0m         \u001b[1;32melse\u001b[0m\u001b[1;33m:\u001b[0m\u001b[1;33m\u001b[0m\u001b[0m\n\u001b[1;32m-> 2059\u001b[1;33m             \u001b[1;32mreturn\u001b[0m \u001b[0mself\u001b[0m\u001b[1;33m.\u001b[0m\u001b[0m_getitem_column\u001b[0m\u001b[1;33m(\u001b[0m\u001b[0mkey\u001b[0m\u001b[1;33m)\u001b[0m\u001b[1;33m\u001b[0m\u001b[0m\n\u001b[0m\u001b[0;32m   2060\u001b[0m \u001b[1;33m\u001b[0m\u001b[0m\n\u001b[0;32m   2061\u001b[0m     \u001b[1;32mdef\u001b[0m \u001b[0m_getitem_column\u001b[0m\u001b[1;33m(\u001b[0m\u001b[0mself\u001b[0m\u001b[1;33m,\u001b[0m \u001b[0mkey\u001b[0m\u001b[1;33m)\u001b[0m\u001b[1;33m:\u001b[0m\u001b[1;33m\u001b[0m\u001b[0m\n",
      "\u001b[1;32mC:\\Users\\Toshiba\\Anaconda3\\lib\\site-packages\\pandas\\core\\frame.pyc\u001b[0m in \u001b[0;36m_getitem_column\u001b[1;34m(self, key)\u001b[0m\n\u001b[0;32m   2064\u001b[0m         \u001b[1;31m# get column\u001b[0m\u001b[1;33m\u001b[0m\u001b[1;33m\u001b[0m\u001b[0m\n\u001b[0;32m   2065\u001b[0m         \u001b[1;32mif\u001b[0m \u001b[0mself\u001b[0m\u001b[1;33m.\u001b[0m\u001b[0mcolumns\u001b[0m\u001b[1;33m.\u001b[0m\u001b[0mis_unique\u001b[0m\u001b[1;33m:\u001b[0m\u001b[1;33m\u001b[0m\u001b[0m\n\u001b[1;32m-> 2066\u001b[1;33m             \u001b[1;32mreturn\u001b[0m \u001b[0mself\u001b[0m\u001b[1;33m.\u001b[0m\u001b[0m_get_item_cache\u001b[0m\u001b[1;33m(\u001b[0m\u001b[0mkey\u001b[0m\u001b[1;33m)\u001b[0m\u001b[1;33m\u001b[0m\u001b[0m\n\u001b[0m\u001b[0;32m   2067\u001b[0m \u001b[1;33m\u001b[0m\u001b[0m\n\u001b[0;32m   2068\u001b[0m         \u001b[1;31m# duplicate columns & possible reduce dimensionality\u001b[0m\u001b[1;33m\u001b[0m\u001b[1;33m\u001b[0m\u001b[0m\n",
      "\u001b[1;32mC:\\Users\\Toshiba\\Anaconda3\\lib\\site-packages\\pandas\\core\\generic.pyc\u001b[0m in \u001b[0;36m_get_item_cache\u001b[1;34m(self, item)\u001b[0m\n\u001b[0;32m   1384\u001b[0m         \u001b[0mres\u001b[0m \u001b[1;33m=\u001b[0m \u001b[0mcache\u001b[0m\u001b[1;33m.\u001b[0m\u001b[0mget\u001b[0m\u001b[1;33m(\u001b[0m\u001b[0mitem\u001b[0m\u001b[1;33m)\u001b[0m\u001b[1;33m\u001b[0m\u001b[0m\n\u001b[0;32m   1385\u001b[0m         \u001b[1;32mif\u001b[0m \u001b[0mres\u001b[0m \u001b[1;32mis\u001b[0m \u001b[0mNone\u001b[0m\u001b[1;33m:\u001b[0m\u001b[1;33m\u001b[0m\u001b[0m\n\u001b[1;32m-> 1386\u001b[1;33m             \u001b[0mvalues\u001b[0m \u001b[1;33m=\u001b[0m \u001b[0mself\u001b[0m\u001b[1;33m.\u001b[0m\u001b[0m_data\u001b[0m\u001b[1;33m.\u001b[0m\u001b[0mget\u001b[0m\u001b[1;33m(\u001b[0m\u001b[0mitem\u001b[0m\u001b[1;33m)\u001b[0m\u001b[1;33m\u001b[0m\u001b[0m\n\u001b[0m\u001b[0;32m   1387\u001b[0m             \u001b[0mres\u001b[0m \u001b[1;33m=\u001b[0m \u001b[0mself\u001b[0m\u001b[1;33m.\u001b[0m\u001b[0m_box_item_values\u001b[0m\u001b[1;33m(\u001b[0m\u001b[0mitem\u001b[0m\u001b[1;33m,\u001b[0m \u001b[0mvalues\u001b[0m\u001b[1;33m)\u001b[0m\u001b[1;33m\u001b[0m\u001b[0m\n\u001b[0;32m   1388\u001b[0m             \u001b[0mcache\u001b[0m\u001b[1;33m[\u001b[0m\u001b[0mitem\u001b[0m\u001b[1;33m]\u001b[0m \u001b[1;33m=\u001b[0m \u001b[0mres\u001b[0m\u001b[1;33m\u001b[0m\u001b[0m\n",
      "\u001b[1;32mC:\\Users\\Toshiba\\Anaconda3\\lib\\site-packages\\pandas\\core\\internals.pyc\u001b[0m in \u001b[0;36mget\u001b[1;34m(self, item, fastpath)\u001b[0m\n\u001b[0;32m   3541\u001b[0m \u001b[1;33m\u001b[0m\u001b[0m\n\u001b[0;32m   3542\u001b[0m             \u001b[1;32mif\u001b[0m \u001b[1;32mnot\u001b[0m \u001b[0misnull\u001b[0m\u001b[1;33m(\u001b[0m\u001b[0mitem\u001b[0m\u001b[1;33m)\u001b[0m\u001b[1;33m:\u001b[0m\u001b[1;33m\u001b[0m\u001b[0m\n\u001b[1;32m-> 3543\u001b[1;33m                 \u001b[0mloc\u001b[0m \u001b[1;33m=\u001b[0m \u001b[0mself\u001b[0m\u001b[1;33m.\u001b[0m\u001b[0mitems\u001b[0m\u001b[1;33m.\u001b[0m\u001b[0mget_loc\u001b[0m\u001b[1;33m(\u001b[0m\u001b[0mitem\u001b[0m\u001b[1;33m)\u001b[0m\u001b[1;33m\u001b[0m\u001b[0m\n\u001b[0m\u001b[0;32m   3544\u001b[0m             \u001b[1;32melse\u001b[0m\u001b[1;33m:\u001b[0m\u001b[1;33m\u001b[0m\u001b[0m\n\u001b[0;32m   3545\u001b[0m                 \u001b[0mindexer\u001b[0m \u001b[1;33m=\u001b[0m \u001b[0mnp\u001b[0m\u001b[1;33m.\u001b[0m\u001b[0marange\u001b[0m\u001b[1;33m(\u001b[0m\u001b[0mlen\u001b[0m\u001b[1;33m(\u001b[0m\u001b[0mself\u001b[0m\u001b[1;33m.\u001b[0m\u001b[0mitems\u001b[0m\u001b[1;33m)\u001b[0m\u001b[1;33m)\u001b[0m\u001b[1;33m[\u001b[0m\u001b[0misnull\u001b[0m\u001b[1;33m(\u001b[0m\u001b[0mself\u001b[0m\u001b[1;33m.\u001b[0m\u001b[0mitems\u001b[0m\u001b[1;33m)\u001b[0m\u001b[1;33m]\u001b[0m\u001b[1;33m\u001b[0m\u001b[0m\n",
      "\u001b[1;32mC:\\Users\\Toshiba\\Anaconda3\\lib\\site-packages\\pandas\\indexes\\base.pyc\u001b[0m in \u001b[0;36mget_loc\u001b[1;34m(self, key, method, tolerance)\u001b[0m\n\u001b[0;32m   2134\u001b[0m                 \u001b[1;32mreturn\u001b[0m \u001b[0mself\u001b[0m\u001b[1;33m.\u001b[0m\u001b[0m_engine\u001b[0m\u001b[1;33m.\u001b[0m\u001b[0mget_loc\u001b[0m\u001b[1;33m(\u001b[0m\u001b[0mkey\u001b[0m\u001b[1;33m)\u001b[0m\u001b[1;33m\u001b[0m\u001b[0m\n\u001b[0;32m   2135\u001b[0m             \u001b[1;32mexcept\u001b[0m \u001b[0mKeyError\u001b[0m\u001b[1;33m:\u001b[0m\u001b[1;33m\u001b[0m\u001b[0m\n\u001b[1;32m-> 2136\u001b[1;33m                 \u001b[1;32mreturn\u001b[0m \u001b[0mself\u001b[0m\u001b[1;33m.\u001b[0m\u001b[0m_engine\u001b[0m\u001b[1;33m.\u001b[0m\u001b[0mget_loc\u001b[0m\u001b[1;33m(\u001b[0m\u001b[0mself\u001b[0m\u001b[1;33m.\u001b[0m\u001b[0m_maybe_cast_indexer\u001b[0m\u001b[1;33m(\u001b[0m\u001b[0mkey\u001b[0m\u001b[1;33m)\u001b[0m\u001b[1;33m)\u001b[0m\u001b[1;33m\u001b[0m\u001b[0m\n\u001b[0m\u001b[0;32m   2137\u001b[0m \u001b[1;33m\u001b[0m\u001b[0m\n\u001b[0;32m   2138\u001b[0m         \u001b[0mindexer\u001b[0m \u001b[1;33m=\u001b[0m \u001b[0mself\u001b[0m\u001b[1;33m.\u001b[0m\u001b[0mget_indexer\u001b[0m\u001b[1;33m(\u001b[0m\u001b[1;33m[\u001b[0m\u001b[0mkey\u001b[0m\u001b[1;33m]\u001b[0m\u001b[1;33m,\u001b[0m \u001b[0mmethod\u001b[0m\u001b[1;33m=\u001b[0m\u001b[0mmethod\u001b[0m\u001b[1;33m,\u001b[0m \u001b[0mtolerance\u001b[0m\u001b[1;33m=\u001b[0m\u001b[0mtolerance\u001b[0m\u001b[1;33m)\u001b[0m\u001b[1;33m\u001b[0m\u001b[0m\n",
      "\u001b[1;32mpandas\\index.pyx\u001b[0m in \u001b[0;36mpandas.index.IndexEngine.get_loc (pandas\\index.c:4433)\u001b[1;34m()\u001b[0m\n",
      "\u001b[1;32mpandas\\index.pyx\u001b[0m in \u001b[0;36mpandas.index.IndexEngine.get_loc (pandas\\index.c:4279)\u001b[1;34m()\u001b[0m\n",
      "\u001b[1;32mpandas\\src\\hashtable_class_helper.pxi\u001b[0m in \u001b[0;36mpandas.hashtable.PyObjectHashTable.get_item (pandas\\hashtable.c:13742)\u001b[1;34m()\u001b[0m\n",
      "\u001b[1;32mpandas\\src\\hashtable_class_helper.pxi\u001b[0m in \u001b[0;36mpandas.hashtable.PyObjectHashTable.get_item (pandas\\hashtable.c:13696)\u001b[1;34m()\u001b[0m\n",
      "\u001b[1;31mKeyError\u001b[0m: 'grade'"
     ]
    }
   ],
   "source": [
    "df.groupby(\"grade\").size()"
   ]
  },
  {
   "cell_type": "code",
   "execution_count": null,
   "metadata": {
    "collapsed": true
   },
   "outputs": [],
   "source": [
    "Out[134]: \n",
    "grade\n",
    "very bad     1\n",
    "bad          0\n",
    "medium       0\n",
    "good         2\n",
    "very good    3\n",
    "dtype: int64\n",
    "\n",
    "Plotting\n",
    "\n",
    "Plotting docs."
   ]
  },
  {
   "cell_type": "code",
   "execution_count": null,
   "metadata": {
    "collapsed": false
   },
   "outputs": [],
   "source": [
    "ts = pd.Series(np.random.randn(1000), index=pd.date_range('1/1/2000', periods=1000))\n",
    "\n",
    "ts = ts.cumsum()\n",
    "\n",
    "ts.plot()"
   ]
  },
  {
   "cell_type": "code",
   "execution_count": 130,
   "metadata": {
    "collapsed": false
   },
   "outputs": [],
   "source": [
    "plt.show(\n",
    ")"
   ]
  },
  {
   "cell_type": "code",
   "execution_count": 118,
   "metadata": {
    "collapsed": false
   },
   "outputs": [
    {
     "ename": "SyntaxError",
     "evalue": "invalid syntax (<ipython-input-118-6d6f1d7ec272>, line 1)",
     "output_type": "error",
     "traceback": [
      "\u001b[1;36m  File \u001b[1;32m\"<ipython-input-118-6d6f1d7ec272>\"\u001b[1;36m, line \u001b[1;32m1\u001b[0m\n\u001b[1;33m    Out[137]: <matplotlib.axes._subplots.AxesSubplot at 0x7ff2ab2af550>\u001b[0m\n\u001b[1;37m            ^\u001b[0m\n\u001b[1;31mSyntaxError\u001b[0m\u001b[1;31m:\u001b[0m invalid syntax\n"
     ]
    }
   ],
   "source": [
    "Out[137]: <matplotlib.axes._subplots.AxesSubplot at 0x7ff2ab2af550>\n",
    "\n",
    "_images/series_plot_basic.png\n",
    "\n",
    "On DataFrame, plot() is a convenience to plot all of the columns with labels:"
   ]
  },
  {
   "cell_type": "code",
   "execution_count": 131,
   "metadata": {
    "collapsed": false
   },
   "outputs": [
    {
     "data": {
      "text/plain": [
       "<matplotlib.legend.Legend at 0xc397278>"
      ]
     },
     "execution_count": 131,
     "metadata": {},
     "output_type": "execute_result"
    },
    {
     "data": {
      "text/plain": [
       "<matplotlib.figure.Figure at 0xc846940>"
      ]
     },
     "metadata": {},
     "output_type": "display_data"
    },
    {
     "data": {
      "image/png": "[encoded data removed]",
      "text/plain": [
       "<matplotlib.figure.Figure at 0xc3bc320>"
      ]
     },
     "metadata": {},
     "output_type": "display_data"
    }
   ],
   "source": [
    "In [138]: df = pd.DataFrame(np.random.randn(1000, 4), index=ts.index,\n",
    "   .....:                   columns=['A', 'B', 'C', 'D'])\n",
    "   .....: \n",
    "\n",
    "In [139]: df = df.cumsum()\n",
    "\n",
    "In [140]: plt.figure(); df.plot(); plt.legend(loc='best')"
   ]
  },
  {
   "cell_type": "code",
   "execution_count": 132,
   "metadata": {
    "collapsed": false
   },
   "outputs": [
    {
     "ename": "SyntaxError",
     "evalue": "invalid syntax (<ipython-input-132-fef6c5e75f1c>, line 1)",
     "output_type": "error",
     "traceback": [
      "\u001b[1;36m  File \u001b[1;32m\"<ipython-input-132-fef6c5e75f1c>\"\u001b[1;36m, line \u001b[1;32m1\u001b[0m\n\u001b[1;33m    Out[140]: <matplotlib.legend.Legend at 0x7ff29c8163d0>\u001b[0m\n\u001b[1;37m            ^\u001b[0m\n\u001b[1;31mSyntaxError\u001b[0m\u001b[1;31m:\u001b[0m invalid syntax\n"
     ]
    }
   ],
   "source": [
    "Out[140]: <matplotlib.legend.Legend at 0x7ff29c8163d0>\n",
    "\n",
    "_images/frame_plot_basic.png\n",
    "Getting Data In/Out\n",
    "CSV\n",
    "\n",
    "Writing to a csv file"
   ]
  },
  {
   "cell_type": "code",
   "execution_count": 133,
   "metadata": {
    "collapsed": true
   },
   "outputs": [],
   "source": [
    "In [141]: df.to_csv('foo.csv')"
   ]
  },
  {
   "cell_type": "code",
   "execution_count": null,
   "metadata": {
    "collapsed": true
   },
   "outputs": [],
   "source": [
    "Reading from a csv file"
   ]
  },
  {
   "cell_type": "code",
   "execution_count": 134,
   "metadata": {
    "collapsed": false
   },
   "outputs": [
    {
     "data": {
      "text/html": [
       "<div>\n",
       "<table border=\"1\" class=\"dataframe\">\n",
       "  <thead>\n",
       "    <tr style=\"text-align: right;\">\n",
       "      <th></th>\n",
       "      <th>Unnamed: 0</th>\n",
       "      <th>A</th>\n",
       "      <th>B</th>\n",
       "      <th>C</th>\n",
       "      <th>D</th>\n",
       "    </tr>\n",
       "  </thead>\n",
       "  <tbody>\n",
       "    <tr>\n",
       "      <th>0</th>\n",
       "      <td>2000-01-01</td>\n",
       "      <td>-0.374862</td>\n",
       "      <td>-2.332321</td>\n",
       "      <td>-0.909627</td>\n",
       "      <td>-0.624352</td>\n",
       "    </tr>\n",
       "    <tr>\n",
       "      <th>1</th>\n",
       "      <td>2000-01-02</td>\n",
       "      <td>0.279535</td>\n",
       "      <td>-4.535729</td>\n",
       "      <td>-0.205998</td>\n",
       "      <td>0.330567</td>\n",
       "    </tr>\n",
       "    <tr>\n",
       "      <th>2</th>\n",
       "      <td>2000-01-03</td>\n",
       "      <td>0.222263</td>\n",
       "      <td>-5.225389</td>\n",
       "      <td>-0.762330</td>\n",
       "      <td>0.700626</td>\n",
       "    </tr>\n",
       "    <tr>\n",
       "      <th>3</th>\n",
       "      <td>2000-01-04</td>\n",
       "      <td>0.477506</td>\n",
       "      <td>-6.021761</td>\n",
       "      <td>-0.836414</td>\n",
       "      <td>1.683644</td>\n",
       "    </tr>\n",
       "    <tr>\n",
       "      <th>4</th>\n",
       "      <td>2000-01-05</td>\n",
       "      <td>0.153063</td>\n",
       "      <td>-6.463161</td>\n",
       "      <td>-0.163964</td>\n",
       "      <td>1.621722</td>\n",
       "    </tr>\n",
       "    <tr>\n",
       "      <th>5</th>\n",
       "      <td>2000-01-06</td>\n",
       "      <td>0.546361</td>\n",
       "      <td>-6.333321</td>\n",
       "      <td>-0.790293</td>\n",
       "      <td>0.693513</td>\n",
       "    </tr>\n",
       "    <tr>\n",
       "      <th>6</th>\n",
       "      <td>2000-01-07</td>\n",
       "      <td>0.270588</td>\n",
       "      <td>-6.365477</td>\n",
       "      <td>-2.110827</td>\n",
       "      <td>1.433418</td>\n",
       "    </tr>\n",
       "    <tr>\n",
       "      <th>7</th>\n",
       "      <td>2000-01-08</td>\n",
       "      <td>0.945931</td>\n",
       "      <td>-6.453357</td>\n",
       "      <td>-1.875680</td>\n",
       "      <td>3.248859</td>\n",
       "    </tr>\n",
       "    <tr>\n",
       "      <th>8</th>\n",
       "      <td>2000-01-09</td>\n",
       "      <td>1.268655</td>\n",
       "      <td>-6.053466</td>\n",
       "      <td>-0.867543</td>\n",
       "      <td>3.460709</td>\n",
       "    </tr>\n",
       "    <tr>\n",
       "      <th>9</th>\n",
       "      <td>2000-01-10</td>\n",
       "      <td>0.467834</td>\n",
       "      <td>-4.158317</td>\n",
       "      <td>0.865048</td>\n",
       "      <td>4.921038</td>\n",
       "    </tr>\n",
       "    <tr>\n",
       "      <th>10</th>\n",
       "      <td>2000-01-11</td>\n",
       "      <td>0.139619</td>\n",
       "      <td>-4.831049</td>\n",
       "      <td>1.898438</td>\n",
       "      <td>4.310980</td>\n",
       "    </tr>\n",
       "    <tr>\n",
       "      <th>11</th>\n",
       "      <td>2000-01-12</td>\n",
       "      <td>1.632310</td>\n",
       "      <td>-5.250725</td>\n",
       "      <td>1.354515</td>\n",
       "      <td>3.898451</td>\n",
       "    </tr>\n",
       "    <tr>\n",
       "      <th>12</th>\n",
       "      <td>2000-01-13</td>\n",
       "      <td>1.944442</td>\n",
       "      <td>-5.407815</td>\n",
       "      <td>1.465950</td>\n",
       "      <td>4.226573</td>\n",
       "    </tr>\n",
       "    <tr>\n",
       "      <th>13</th>\n",
       "      <td>2000-01-14</td>\n",
       "      <td>0.079409</td>\n",
       "      <td>-4.428747</td>\n",
       "      <td>0.041989</td>\n",
       "      <td>2.748530</td>\n",
       "    </tr>\n",
       "    <tr>\n",
       "      <th>14</th>\n",
       "      <td>2000-01-15</td>\n",
       "      <td>0.259218</td>\n",
       "      <td>-4.895352</td>\n",
       "      <td>0.408666</td>\n",
       "      <td>4.679820</td>\n",
       "    </tr>\n",
       "    <tr>\n",
       "      <th>15</th>\n",
       "      <td>2000-01-16</td>\n",
       "      <td>0.968626</td>\n",
       "      <td>-3.442957</td>\n",
       "      <td>-0.452943</td>\n",
       "      <td>3.610525</td>\n",
       "    </tr>\n",
       "    <tr>\n",
       "      <th>16</th>\n",
       "      <td>2000-01-17</td>\n",
       "      <td>1.615055</td>\n",
       "      <td>-3.205465</td>\n",
       "      <td>0.312586</td>\n",
       "      <td>3.371675</td>\n",
       "    </tr>\n",
       "    <tr>\n",
       "      <th>17</th>\n",
       "      <td>2000-01-18</td>\n",
       "      <td>2.593186</td>\n",
       "      <td>-2.636498</td>\n",
       "      <td>0.751906</td>\n",
       "      <td>3.329491</td>\n",
       "    </tr>\n",
       "    <tr>\n",
       "      <th>18</th>\n",
       "      <td>2000-01-19</td>\n",
       "      <td>3.875129</td>\n",
       "      <td>-1.305657</td>\n",
       "      <td>-0.830709</td>\n",
       "      <td>1.943439</td>\n",
       "    </tr>\n",
       "    <tr>\n",
       "      <th>19</th>\n",
       "      <td>2000-01-20</td>\n",
       "      <td>3.258523</td>\n",
       "      <td>-1.441766</td>\n",
       "      <td>-1.411189</td>\n",
       "      <td>1.699124</td>\n",
       "    </tr>\n",
       "    <tr>\n",
       "      <th>20</th>\n",
       "      <td>2000-01-21</td>\n",
       "      <td>3.055713</td>\n",
       "      <td>-0.841788</td>\n",
       "      <td>-1.614983</td>\n",
       "      <td>0.983513</td>\n",
       "    </tr>\n",
       "    <tr>\n",
       "      <th>21</th>\n",
       "      <td>2000-01-22</td>\n",
       "      <td>2.402097</td>\n",
       "      <td>0.519746</td>\n",
       "      <td>-1.868350</td>\n",
       "      <td>1.435551</td>\n",
       "    </tr>\n",
       "    <tr>\n",
       "      <th>22</th>\n",
       "      <td>2000-01-23</td>\n",
       "      <td>5.082941</td>\n",
       "      <td>0.521779</td>\n",
       "      <td>-1.514559</td>\n",
       "      <td>2.086023</td>\n",
       "    </tr>\n",
       "    <tr>\n",
       "      <th>23</th>\n",
       "      <td>2000-01-24</td>\n",
       "      <td>5.032837</td>\n",
       "      <td>-0.729632</td>\n",
       "      <td>-2.016643</td>\n",
       "      <td>2.342127</td>\n",
       "    </tr>\n",
       "    <tr>\n",
       "      <th>24</th>\n",
       "      <td>2000-01-25</td>\n",
       "      <td>5.542239</td>\n",
       "      <td>-2.181959</td>\n",
       "      <td>-1.153834</td>\n",
       "      <td>2.043360</td>\n",
       "    </tr>\n",
       "    <tr>\n",
       "      <th>25</th>\n",
       "      <td>2000-01-26</td>\n",
       "      <td>6.178030</td>\n",
       "      <td>-2.503378</td>\n",
       "      <td>-0.490715</td>\n",
       "      <td>0.159805</td>\n",
       "    </tr>\n",
       "    <tr>\n",
       "      <th>26</th>\n",
       "      <td>2000-01-27</td>\n",
       "      <td>7.318851</td>\n",
       "      <td>-4.040834</td>\n",
       "      <td>-0.091447</td>\n",
       "      <td>0.976448</td>\n",
       "    </tr>\n",
       "    <tr>\n",
       "      <th>27</th>\n",
       "      <td>2000-01-28</td>\n",
       "      <td>9.010050</td>\n",
       "      <td>-3.435796</td>\n",
       "      <td>-1.131733</td>\n",
       "      <td>0.253991</td>\n",
       "    </tr>\n",
       "    <tr>\n",
       "      <th>28</th>\n",
       "      <td>2000-01-29</td>\n",
       "      <td>10.413380</td>\n",
       "      <td>-5.176062</td>\n",
       "      <td>-1.215502</td>\n",
       "      <td>1.000754</td>\n",
       "    </tr>\n",
       "    <tr>\n",
       "      <th>29</th>\n",
       "      <td>2000-01-30</td>\n",
       "      <td>9.867032</td>\n",
       "      <td>-5.539547</td>\n",
       "      <td>0.719688</td>\n",
       "      <td>0.700317</td>\n",
       "    </tr>\n",
       "    <tr>\n",
       "      <th>...</th>\n",
       "      <td>...</td>\n",
       "      <td>...</td>\n",
       "      <td>...</td>\n",
       "      <td>...</td>\n",
       "      <td>...</td>\n",
       "    </tr>\n",
       "    <tr>\n",
       "      <th>970</th>\n",
       "      <td>2002-08-28</td>\n",
       "      <td>34.538342</td>\n",
       "      <td>-43.317100</td>\n",
       "      <td>10.144316</td>\n",
       "      <td>50.713818</td>\n",
       "    </tr>\n",
       "    <tr>\n",
       "      <th>971</th>\n",
       "      <td>2002-08-29</td>\n",
       "      <td>34.024299</td>\n",
       "      <td>-42.370602</td>\n",
       "      <td>9.839708</td>\n",
       "      <td>51.291510</td>\n",
       "    </tr>\n",
       "    <tr>\n",
       "      <th>972</th>\n",
       "      <td>2002-08-30</td>\n",
       "      <td>34.009870</td>\n",
       "      <td>-41.335393</td>\n",
       "      <td>9.338406</td>\n",
       "      <td>50.773863</td>\n",
       "    </tr>\n",
       "    <tr>\n",
       "      <th>973</th>\n",
       "      <td>2002-08-31</td>\n",
       "      <td>35.244688</td>\n",
       "      <td>-41.922434</td>\n",
       "      <td>9.060169</td>\n",
       "      <td>49.274616</td>\n",
       "    </tr>\n",
       "    <tr>\n",
       "      <th>974</th>\n",
       "      <td>2002-09-01</td>\n",
       "      <td>34.401448</td>\n",
       "      <td>-41.648057</td>\n",
       "      <td>9.161511</td>\n",
       "      <td>50.325450</td>\n",
       "    </tr>\n",
       "    <tr>\n",
       "      <th>975</th>\n",
       "      <td>2002-09-02</td>\n",
       "      <td>35.875202</td>\n",
       "      <td>-42.645495</td>\n",
       "      <td>9.846712</td>\n",
       "      <td>50.353301</td>\n",
       "    </tr>\n",
       "    <tr>\n",
       "      <th>976</th>\n",
       "      <td>2002-09-03</td>\n",
       "      <td>36.291180</td>\n",
       "      <td>-42.842957</td>\n",
       "      <td>10.173971</td>\n",
       "      <td>50.114211</td>\n",
       "    </tr>\n",
       "    <tr>\n",
       "      <th>977</th>\n",
       "      <td>2002-09-04</td>\n",
       "      <td>35.946825</td>\n",
       "      <td>-42.318869</td>\n",
       "      <td>8.903615</td>\n",
       "      <td>48.824355</td>\n",
       "    </tr>\n",
       "    <tr>\n",
       "      <th>978</th>\n",
       "      <td>2002-09-05</td>\n",
       "      <td>35.302259</td>\n",
       "      <td>-42.232567</td>\n",
       "      <td>8.346273</td>\n",
       "      <td>48.171635</td>\n",
       "    </tr>\n",
       "    <tr>\n",
       "      <th>979</th>\n",
       "      <td>2002-09-06</td>\n",
       "      <td>35.431627</td>\n",
       "      <td>-41.580251</td>\n",
       "      <td>9.263648</td>\n",
       "      <td>47.397050</td>\n",
       "    </tr>\n",
       "    <tr>\n",
       "      <th>980</th>\n",
       "      <td>2002-09-07</td>\n",
       "      <td>35.767791</td>\n",
       "      <td>-41.125013</td>\n",
       "      <td>9.512514</td>\n",
       "      <td>48.047541</td>\n",
       "    </tr>\n",
       "    <tr>\n",
       "      <th>981</th>\n",
       "      <td>2002-09-08</td>\n",
       "      <td>34.889118</td>\n",
       "      <td>-40.453168</td>\n",
       "      <td>7.637032</td>\n",
       "      <td>48.856826</td>\n",
       "    </tr>\n",
       "    <tr>\n",
       "      <th>982</th>\n",
       "      <td>2002-09-09</td>\n",
       "      <td>33.886988</td>\n",
       "      <td>-41.447963</td>\n",
       "      <td>6.901829</td>\n",
       "      <td>47.708346</td>\n",
       "    </tr>\n",
       "    <tr>\n",
       "      <th>983</th>\n",
       "      <td>2002-09-10</td>\n",
       "      <td>33.575431</td>\n",
       "      <td>-41.020275</td>\n",
       "      <td>6.881122</td>\n",
       "      <td>48.633180</td>\n",
       "    </tr>\n",
       "    <tr>\n",
       "      <th>984</th>\n",
       "      <td>2002-09-11</td>\n",
       "      <td>33.639317</td>\n",
       "      <td>-40.510780</td>\n",
       "      <td>4.485422</td>\n",
       "      <td>47.982989</td>\n",
       "    </tr>\n",
       "    <tr>\n",
       "      <th>985</th>\n",
       "      <td>2002-09-12</td>\n",
       "      <td>33.925595</td>\n",
       "      <td>-40.210762</td>\n",
       "      <td>4.692683</td>\n",
       "      <td>44.655274</td>\n",
       "    </tr>\n",
       "    <tr>\n",
       "      <th>986</th>\n",
       "      <td>2002-09-13</td>\n",
       "      <td>32.807155</td>\n",
       "      <td>-42.328156</td>\n",
       "      <td>4.448662</td>\n",
       "      <td>44.311345</td>\n",
       "    </tr>\n",
       "    <tr>\n",
       "      <th>987</th>\n",
       "      <td>2002-09-14</td>\n",
       "      <td>32.510217</td>\n",
       "      <td>-42.784840</td>\n",
       "      <td>4.217595</td>\n",
       "      <td>43.050410</td>\n",
       "    </tr>\n",
       "    <tr>\n",
       "      <th>988</th>\n",
       "      <td>2002-09-15</td>\n",
       "      <td>33.057431</td>\n",
       "      <td>-42.516790</td>\n",
       "      <td>2.813631</td>\n",
       "      <td>42.422251</td>\n",
       "    </tr>\n",
       "    <tr>\n",
       "      <th>989</th>\n",
       "      <td>2002-09-16</td>\n",
       "      <td>32.109010</td>\n",
       "      <td>-41.916611</td>\n",
       "      <td>3.287005</td>\n",
       "      <td>43.643499</td>\n",
       "    </tr>\n",
       "    <tr>\n",
       "      <th>990</th>\n",
       "      <td>2002-09-17</td>\n",
       "      <td>33.937532</td>\n",
       "      <td>-41.863943</td>\n",
       "      <td>3.519666</td>\n",
       "      <td>45.189391</td>\n",
       "    </tr>\n",
       "    <tr>\n",
       "      <th>991</th>\n",
       "      <td>2002-09-18</td>\n",
       "      <td>33.138966</td>\n",
       "      <td>-43.085447</td>\n",
       "      <td>2.371634</td>\n",
       "      <td>45.010690</td>\n",
       "    </tr>\n",
       "    <tr>\n",
       "      <th>992</th>\n",
       "      <td>2002-09-19</td>\n",
       "      <td>33.392659</td>\n",
       "      <td>-43.502959</td>\n",
       "      <td>1.995154</td>\n",
       "      <td>44.233050</td>\n",
       "    </tr>\n",
       "    <tr>\n",
       "      <th>993</th>\n",
       "      <td>2002-09-20</td>\n",
       "      <td>33.564180</td>\n",
       "      <td>-42.430155</td>\n",
       "      <td>1.145698</td>\n",
       "      <td>42.484156</td>\n",
       "    </tr>\n",
       "    <tr>\n",
       "      <th>994</th>\n",
       "      <td>2002-09-21</td>\n",
       "      <td>35.586590</td>\n",
       "      <td>-43.630036</td>\n",
       "      <td>-0.598838</td>\n",
       "      <td>43.184219</td>\n",
       "    </tr>\n",
       "    <tr>\n",
       "      <th>995</th>\n",
       "      <td>2002-09-22</td>\n",
       "      <td>36.946953</td>\n",
       "      <td>-44.314295</td>\n",
       "      <td>-0.178156</td>\n",
       "      <td>42.025499</td>\n",
       "    </tr>\n",
       "    <tr>\n",
       "      <th>996</th>\n",
       "      <td>2002-09-23</td>\n",
       "      <td>39.550007</td>\n",
       "      <td>-43.128136</td>\n",
       "      <td>-0.714878</td>\n",
       "      <td>42.941234</td>\n",
       "    </tr>\n",
       "    <tr>\n",
       "      <th>997</th>\n",
       "      <td>2002-09-24</td>\n",
       "      <td>39.973672</td>\n",
       "      <td>-43.006453</td>\n",
       "      <td>-1.120942</td>\n",
       "      <td>43.036772</td>\n",
       "    </tr>\n",
       "    <tr>\n",
       "      <th>998</th>\n",
       "      <td>2002-09-25</td>\n",
       "      <td>41.500045</td>\n",
       "      <td>-41.888115</td>\n",
       "      <td>-1.399600</td>\n",
       "      <td>41.841281</td>\n",
       "    </tr>\n",
       "    <tr>\n",
       "      <th>999</th>\n",
       "      <td>2002-09-26</td>\n",
       "      <td>40.396882</td>\n",
       "      <td>-42.248124</td>\n",
       "      <td>-2.431798</td>\n",
       "      <td>40.389383</td>\n",
       "    </tr>\n",
       "  </tbody>\n",
       "</table>\n",
       "<p>1000 rows × 5 columns</p>\n",
       "</div>"
      ],
      "text/plain": [
       "     Unnamed: 0          A          B          C          D\n",
       "0    2000-01-01  -0.374862  -2.332321  -0.909627  -0.624352\n",
       "1    2000-01-02   0.279535  -4.535729  -0.205998   0.330567\n",
       "2    2000-01-03   0.222263  -5.225389  -0.762330   0.700626\n",
       "3    2000-01-04   0.477506  -6.021761  -0.836414   1.683644\n",
       "4    2000-01-05   0.153063  -6.463161  -0.163964   1.621722\n",
       "5    2000-01-06   0.546361  -6.333321  -0.790293   0.693513\n",
       "6    2000-01-07   0.270588  -6.365477  -2.110827   1.433418\n",
       "7    2000-01-08   0.945931  -6.453357  -1.875680   3.248859\n",
       "8    2000-01-09   1.268655  -6.053466  -0.867543   3.460709\n",
       "9    2000-01-10   0.467834  -4.158317   0.865048   4.921038\n",
       "10   2000-01-11   0.139619  -4.831049   1.898438   4.310980\n",
       "11   2000-01-12   1.632310  -5.250725   1.354515   3.898451\n",
       "12   2000-01-13   1.944442  -5.407815   1.465950   4.226573\n",
       "13   2000-01-14   0.079409  -4.428747   0.041989   2.748530\n",
       "14   2000-01-15   0.259218  -4.895352   0.408666   4.679820\n",
       "15   2000-01-16   0.968626  -3.442957  -0.452943   3.610525\n",
       "16   2000-01-17   1.615055  -3.205465   0.312586   3.371675\n",
       "17   2000-01-18   2.593186  -2.636498   0.751906   3.329491\n",
       "18   2000-01-19   3.875129  -1.305657  -0.830709   1.943439\n",
       "19   2000-01-20   3.258523  -1.441766  -1.411189   1.699124\n",
       "20   2000-01-21   3.055713  -0.841788  -1.614983   0.983513\n",
       "21   2000-01-22   2.402097   0.519746  -1.868350   1.435551\n",
       "22   2000-01-23   5.082941   0.521779  -1.514559   2.086023\n",
       "23   2000-01-24   5.032837  -0.729632  -2.016643   2.342127\n",
       "24   2000-01-25   5.542239  -2.181959  -1.153834   2.043360\n",
       "25   2000-01-26   6.178030  -2.503378  -0.490715   0.159805\n",
       "26   2000-01-27   7.318851  -4.040834  -0.091447   0.976448\n",
       "27   2000-01-28   9.010050  -3.435796  -1.131733   0.253991\n",
       "28   2000-01-29  10.413380  -5.176062  -1.215502   1.000754\n",
       "29   2000-01-30   9.867032  -5.539547   0.719688   0.700317\n",
       "..          ...        ...        ...        ...        ...\n",
       "970  2002-08-28  34.538342 -43.317100  10.144316  50.713818\n",
       "971  2002-08-29  34.024299 -42.370602   9.839708  51.291510\n",
       "972  2002-08-30  34.009870 -41.335393   9.338406  50.773863\n",
       "973  2002-08-31  35.244688 -41.922434   9.060169  49.274616\n",
       "974  2002-09-01  34.401448 -41.648057   9.161511  50.325450\n",
       "975  2002-09-02  35.875202 -42.645495   9.846712  50.353301\n",
       "976  2002-09-03  36.291180 -42.842957  10.173971  50.114211\n",
       "977  2002-09-04  35.946825 -42.318869   8.903615  48.824355\n",
       "978  2002-09-05  35.302259 -42.232567   8.346273  48.171635\n",
       "979  2002-09-06  35.431627 -41.580251   9.263648  47.397050\n",
       "980  2002-09-07  35.767791 -41.125013   9.512514  48.047541\n",
       "981  2002-09-08  34.889118 -40.453168   7.637032  48.856826\n",
       "982  2002-09-09  33.886988 -41.447963   6.901829  47.708346\n",
       "983  2002-09-10  33.575431 -41.020275   6.881122  48.633180\n",
       "984  2002-09-11  33.639317 -40.510780   4.485422  47.982989\n",
       "985  2002-09-12  33.925595 -40.210762   4.692683  44.655274\n",
       "986  2002-09-13  32.807155 -42.328156   4.448662  44.311345\n",
       "987  2002-09-14  32.510217 -42.784840   4.217595  43.050410\n",
       "988  2002-09-15  33.057431 -42.516790   2.813631  42.422251\n",
       "989  2002-09-16  32.109010 -41.916611   3.287005  43.643499\n",
       "990  2002-09-17  33.937532 -41.863943   3.519666  45.189391\n",
       "991  2002-09-18  33.138966 -43.085447   2.371634  45.010690\n",
       "992  2002-09-19  33.392659 -43.502959   1.995154  44.233050\n",
       "993  2002-09-20  33.564180 -42.430155   1.145698  42.484156\n",
       "994  2002-09-21  35.586590 -43.630036  -0.598838  43.184219\n",
       "995  2002-09-22  36.946953 -44.314295  -0.178156  42.025499\n",
       "996  2002-09-23  39.550007 -43.128136  -0.714878  42.941234\n",
       "997  2002-09-24  39.973672 -43.006453  -1.120942  43.036772\n",
       "998  2002-09-25  41.500045 -41.888115  -1.399600  41.841281\n",
       "999  2002-09-26  40.396882 -42.248124  -2.431798  40.389383\n",
       "\n",
       "[1000 rows x 5 columns]"
      ]
     },
     "execution_count": 134,
     "metadata": {},
     "output_type": "execute_result"
    }
   ],
   "source": []
  },
  {
   "cell_type": "code",
   "execution_count": null,
   "metadata": {
    "collapsed": true
   },
   "outputs": [],
   "source": [
    "Out[142]: \n",
    "     Unnamed: 0          A          B         C          D\n",
    "0    2000-01-01   0.266457  -0.399641 -0.219582   1.186860\n",
    "1    2000-01-02  -1.170732  -0.345873  1.653061  -0.282953\n",
    "2    2000-01-03  -1.734933   0.530468  2.060811  -0.515536\n",
    "3    2000-01-04  -1.555121   1.452620  0.239859  -1.156896\n",
    "4    2000-01-05   0.578117   0.511371  0.103552  -2.428202\n",
    "5    2000-01-06   0.478344   0.449933 -0.741620  -1.962409\n",
    "6    2000-01-07   1.235339  -0.091757 -1.543861  -1.084753\n",
    "..          ...        ...        ...       ...        ...\n",
    "993  2002-09-20 -10.628548  -9.153563 -7.883146  28.313940\n",
    "994  2002-09-21 -10.390377  -8.727491 -6.399645  30.914107\n",
    "995  2002-09-22  -8.985362  -8.485624 -4.669462  31.367740\n",
    "996  2002-09-23  -9.558560  -8.781216 -4.499815  30.518439\n",
    "997  2002-09-24  -9.902058  -9.340490 -4.386639  30.105593\n",
    "998  2002-09-25 -10.216020  -9.480682 -3.933802  29.758560\n",
    "999  2002-09-26 -11.856774 -10.671012 -3.216025  29.369368\n",
    "\n",
    "[1000 rows x 5 columns]\n",
    "\n",
    "HDF5\n",
    "\n",
    "Reading and writing to HDFStores\n",
    "\n",
    "Writing to a HDF5 Store"
   ]
  },
  {
   "cell_type": "code",
   "execution_count": 111,
   "metadata": {
    "collapsed": true
   },
   "outputs": [],
   "source": [
    "In [143]: df.to_hdf('foo.h5','df')"
   ]
  },
  {
   "cell_type": "code",
   "execution_count": null,
   "metadata": {
    "collapsed": true
   },
   "outputs": [],
   "source": [
    "Reading from a HDF5 Store"
   ]
  },
  {
   "cell_type": "code",
   "execution_count": 112,
   "metadata": {
    "collapsed": false
   },
   "outputs": [
    {
     "data": {
      "text/html": [
       "<div>\n",
       "<table border=\"1\" class=\"dataframe\">\n",
       "  <thead>\n",
       "    <tr style=\"text-align: right;\">\n",
       "      <th></th>\n",
       "      <th>A</th>\n",
       "      <th>B</th>\n",
       "      <th>C</th>\n",
       "      <th>D</th>\n",
       "    </tr>\n",
       "  </thead>\n",
       "  <tbody>\n",
       "    <tr>\n",
       "      <th>2000-01-01</th>\n",
       "      <td>1.302039</td>\n",
       "      <td>1.120921</td>\n",
       "      <td>-0.025825</td>\n",
       "      <td>-0.076658</td>\n",
       "    </tr>\n",
       "    <tr>\n",
       "      <th>2000-01-02</th>\n",
       "      <td>1.333523</td>\n",
       "      <td>1.226283</td>\n",
       "      <td>1.145051</td>\n",
       "      <td>0.177068</td>\n",
       "    </tr>\n",
       "    <tr>\n",
       "      <th>2000-01-03</th>\n",
       "      <td>0.900853</td>\n",
       "      <td>0.870940</td>\n",
       "      <td>0.325124</td>\n",
       "      <td>0.407452</td>\n",
       "    </tr>\n",
       "    <tr>\n",
       "      <th>2000-01-04</th>\n",
       "      <td>1.528383</td>\n",
       "      <td>-0.411104</td>\n",
       "      <td>-0.158835</td>\n",
       "      <td>1.331825</td>\n",
       "    </tr>\n",
       "    <tr>\n",
       "      <th>2000-01-05</th>\n",
       "      <td>1.803418</td>\n",
       "      <td>1.617323</td>\n",
       "      <td>0.594930</td>\n",
       "      <td>1.540856</td>\n",
       "    </tr>\n",
       "    <tr>\n",
       "      <th>2000-01-06</th>\n",
       "      <td>2.624560</td>\n",
       "      <td>0.787224</td>\n",
       "      <td>0.579673</td>\n",
       "      <td>2.459954</td>\n",
       "    </tr>\n",
       "    <tr>\n",
       "      <th>2000-01-07</th>\n",
       "      <td>2.866519</td>\n",
       "      <td>2.891073</td>\n",
       "      <td>2.012427</td>\n",
       "      <td>3.269770</td>\n",
       "    </tr>\n",
       "    <tr>\n",
       "      <th>2000-01-08</th>\n",
       "      <td>2.138549</td>\n",
       "      <td>0.746247</td>\n",
       "      <td>2.036314</td>\n",
       "      <td>5.568257</td>\n",
       "    </tr>\n",
       "    <tr>\n",
       "      <th>2000-01-09</th>\n",
       "      <td>1.825600</td>\n",
       "      <td>0.467407</td>\n",
       "      <td>2.405927</td>\n",
       "      <td>6.235586</td>\n",
       "    </tr>\n",
       "    <tr>\n",
       "      <th>2000-01-10</th>\n",
       "      <td>0.871719</td>\n",
       "      <td>0.307752</td>\n",
       "      <td>1.343619</td>\n",
       "      <td>5.985360</td>\n",
       "    </tr>\n",
       "    <tr>\n",
       "      <th>2000-01-11</th>\n",
       "      <td>1.662678</td>\n",
       "      <td>0.856243</td>\n",
       "      <td>1.526078</td>\n",
       "      <td>6.799656</td>\n",
       "    </tr>\n",
       "    <tr>\n",
       "      <th>2000-01-12</th>\n",
       "      <td>1.244264</td>\n",
       "      <td>-0.532331</td>\n",
       "      <td>1.694564</td>\n",
       "      <td>5.968185</td>\n",
       "    </tr>\n",
       "    <tr>\n",
       "      <th>2000-01-13</th>\n",
       "      <td>0.382544</td>\n",
       "      <td>-2.009676</td>\n",
       "      <td>0.631079</td>\n",
       "      <td>6.083829</td>\n",
       "    </tr>\n",
       "    <tr>\n",
       "      <th>2000-01-14</th>\n",
       "      <td>-0.185245</td>\n",
       "      <td>-2.888692</td>\n",
       "      <td>0.450303</td>\n",
       "      <td>6.731147</td>\n",
       "    </tr>\n",
       "    <tr>\n",
       "      <th>2000-01-15</th>\n",
       "      <td>-0.830980</td>\n",
       "      <td>-4.419945</td>\n",
       "      <td>0.819839</td>\n",
       "      <td>5.264469</td>\n",
       "    </tr>\n",
       "    <tr>\n",
       "      <th>2000-01-16</th>\n",
       "      <td>-0.852712</td>\n",
       "      <td>-3.424634</td>\n",
       "      <td>2.181103</td>\n",
       "      <td>3.101601</td>\n",
       "    </tr>\n",
       "    <tr>\n",
       "      <th>2000-01-17</th>\n",
       "      <td>-1.350124</td>\n",
       "      <td>-4.108304</td>\n",
       "      <td>2.345701</td>\n",
       "      <td>2.065371</td>\n",
       "    </tr>\n",
       "    <tr>\n",
       "      <th>2000-01-18</th>\n",
       "      <td>-0.790253</td>\n",
       "      <td>-4.695319</td>\n",
       "      <td>2.641610</td>\n",
       "      <td>2.136965</td>\n",
       "    </tr>\n",
       "    <tr>\n",
       "      <th>2000-01-19</th>\n",
       "      <td>-2.141130</td>\n",
       "      <td>-4.512189</td>\n",
       "      <td>3.486203</td>\n",
       "      <td>2.572234</td>\n",
       "    </tr>\n",
       "    <tr>\n",
       "      <th>2000-01-20</th>\n",
       "      <td>-0.852535</td>\n",
       "      <td>-3.912423</td>\n",
       "      <td>3.300640</td>\n",
       "      <td>3.445932</td>\n",
       "    </tr>\n",
       "    <tr>\n",
       "      <th>2000-01-21</th>\n",
       "      <td>-0.789490</td>\n",
       "      <td>-4.159436</td>\n",
       "      <td>4.226658</td>\n",
       "      <td>2.490886</td>\n",
       "    </tr>\n",
       "    <tr>\n",
       "      <th>2000-01-22</th>\n",
       "      <td>-0.225349</td>\n",
       "      <td>-5.483116</td>\n",
       "      <td>4.712430</td>\n",
       "      <td>2.454593</td>\n",
       "    </tr>\n",
       "    <tr>\n",
       "      <th>2000-01-23</th>\n",
       "      <td>0.681364</td>\n",
       "      <td>-5.287941</td>\n",
       "      <td>4.190231</td>\n",
       "      <td>3.395019</td>\n",
       "    </tr>\n",
       "    <tr>\n",
       "      <th>2000-01-24</th>\n",
       "      <td>0.973463</td>\n",
       "      <td>-4.831677</td>\n",
       "      <td>3.614021</td>\n",
       "      <td>4.257623</td>\n",
       "    </tr>\n",
       "    <tr>\n",
       "      <th>2000-01-25</th>\n",
       "      <td>1.596975</td>\n",
       "      <td>-6.484190</td>\n",
       "      <td>2.690858</td>\n",
       "      <td>4.768042</td>\n",
       "    </tr>\n",
       "    <tr>\n",
       "      <th>2000-01-26</th>\n",
       "      <td>0.949131</td>\n",
       "      <td>-7.185105</td>\n",
       "      <td>2.706478</td>\n",
       "      <td>4.255422</td>\n",
       "    </tr>\n",
       "    <tr>\n",
       "      <th>2000-01-27</th>\n",
       "      <td>3.220783</td>\n",
       "      <td>-6.665028</td>\n",
       "      <td>2.285534</td>\n",
       "      <td>4.009021</td>\n",
       "    </tr>\n",
       "    <tr>\n",
       "      <th>2000-01-28</th>\n",
       "      <td>2.993553</td>\n",
       "      <td>-7.384882</td>\n",
       "      <td>0.932043</td>\n",
       "      <td>3.612723</td>\n",
       "    </tr>\n",
       "    <tr>\n",
       "      <th>2000-01-29</th>\n",
       "      <td>2.135178</td>\n",
       "      <td>-7.271582</td>\n",
       "      <td>0.545911</td>\n",
       "      <td>3.975948</td>\n",
       "    </tr>\n",
       "    <tr>\n",
       "      <th>2000-01-30</th>\n",
       "      <td>2.046369</td>\n",
       "      <td>-6.724152</td>\n",
       "      <td>0.425625</td>\n",
       "      <td>4.639914</td>\n",
       "    </tr>\n",
       "    <tr>\n",
       "      <th>...</th>\n",
       "      <td>...</td>\n",
       "      <td>...</td>\n",
       "      <td>...</td>\n",
       "      <td>...</td>\n",
       "    </tr>\n",
       "    <tr>\n",
       "      <th>2002-08-28</th>\n",
       "      <td>-19.986348</td>\n",
       "      <td>-29.195226</td>\n",
       "      <td>42.238828</td>\n",
       "      <td>-47.137339</td>\n",
       "    </tr>\n",
       "    <tr>\n",
       "      <th>2002-08-29</th>\n",
       "      <td>-18.449175</td>\n",
       "      <td>-30.923867</td>\n",
       "      <td>42.595429</td>\n",
       "      <td>-46.290658</td>\n",
       "    </tr>\n",
       "    <tr>\n",
       "      <th>2002-08-30</th>\n",
       "      <td>-18.835572</td>\n",
       "      <td>-29.169728</td>\n",
       "      <td>42.028694</td>\n",
       "      <td>-47.650441</td>\n",
       "    </tr>\n",
       "    <tr>\n",
       "      <th>2002-08-31</th>\n",
       "      <td>-19.106116</td>\n",
       "      <td>-29.371218</td>\n",
       "      <td>43.649964</td>\n",
       "      <td>-45.782644</td>\n",
       "    </tr>\n",
       "    <tr>\n",
       "      <th>2002-09-01</th>\n",
       "      <td>-19.708356</td>\n",
       "      <td>-30.226805</td>\n",
       "      <td>40.959782</td>\n",
       "      <td>-44.770770</td>\n",
       "    </tr>\n",
       "    <tr>\n",
       "      <th>2002-09-02</th>\n",
       "      <td>-21.550217</td>\n",
       "      <td>-31.329121</td>\n",
       "      <td>41.921030</td>\n",
       "      <td>-45.925128</td>\n",
       "    </tr>\n",
       "    <tr>\n",
       "      <th>2002-09-03</th>\n",
       "      <td>-22.401981</td>\n",
       "      <td>-32.784567</td>\n",
       "      <td>42.789221</td>\n",
       "      <td>-46.771711</td>\n",
       "    </tr>\n",
       "    <tr>\n",
       "      <th>2002-09-04</th>\n",
       "      <td>-22.530667</td>\n",
       "      <td>-32.514076</td>\n",
       "      <td>42.610135</td>\n",
       "      <td>-46.741645</td>\n",
       "    </tr>\n",
       "    <tr>\n",
       "      <th>2002-09-05</th>\n",
       "      <td>-23.875834</td>\n",
       "      <td>-31.953343</td>\n",
       "      <td>41.949581</td>\n",
       "      <td>-47.088891</td>\n",
       "    </tr>\n",
       "    <tr>\n",
       "      <th>2002-09-06</th>\n",
       "      <td>-21.620021</td>\n",
       "      <td>-32.150053</td>\n",
       "      <td>43.846537</td>\n",
       "      <td>-46.233636</td>\n",
       "    </tr>\n",
       "    <tr>\n",
       "      <th>2002-09-07</th>\n",
       "      <td>-23.291473</td>\n",
       "      <td>-31.768384</td>\n",
       "      <td>44.479938</td>\n",
       "      <td>-47.656274</td>\n",
       "    </tr>\n",
       "    <tr>\n",
       "      <th>2002-09-08</th>\n",
       "      <td>-23.246087</td>\n",
       "      <td>-30.055938</td>\n",
       "      <td>45.529125</td>\n",
       "      <td>-49.256669</td>\n",
       "    </tr>\n",
       "    <tr>\n",
       "      <th>2002-09-09</th>\n",
       "      <td>-23.913204</td>\n",
       "      <td>-29.699937</td>\n",
       "      <td>45.560250</td>\n",
       "      <td>-49.980157</td>\n",
       "    </tr>\n",
       "    <tr>\n",
       "      <th>2002-09-10</th>\n",
       "      <td>-23.298265</td>\n",
       "      <td>-29.568243</td>\n",
       "      <td>46.824868</td>\n",
       "      <td>-50.094311</td>\n",
       "    </tr>\n",
       "    <tr>\n",
       "      <th>2002-09-11</th>\n",
       "      <td>-23.420028</td>\n",
       "      <td>-31.155543</td>\n",
       "      <td>46.885018</td>\n",
       "      <td>-50.621828</td>\n",
       "    </tr>\n",
       "    <tr>\n",
       "      <th>2002-09-12</th>\n",
       "      <td>-24.490843</td>\n",
       "      <td>-32.500088</td>\n",
       "      <td>46.648115</td>\n",
       "      <td>-51.082379</td>\n",
       "    </tr>\n",
       "    <tr>\n",
       "      <th>2002-09-13</th>\n",
       "      <td>-24.764403</td>\n",
       "      <td>-31.880688</td>\n",
       "      <td>48.160199</td>\n",
       "      <td>-51.152120</td>\n",
       "    </tr>\n",
       "    <tr>\n",
       "      <th>2002-09-14</th>\n",
       "      <td>-24.903937</td>\n",
       "      <td>-33.911078</td>\n",
       "      <td>48.915370</td>\n",
       "      <td>-49.522732</td>\n",
       "    </tr>\n",
       "    <tr>\n",
       "      <th>2002-09-15</th>\n",
       "      <td>-24.520265</td>\n",
       "      <td>-34.210058</td>\n",
       "      <td>48.752712</td>\n",
       "      <td>-49.449829</td>\n",
       "    </tr>\n",
       "    <tr>\n",
       "      <th>2002-09-16</th>\n",
       "      <td>-24.474435</td>\n",
       "      <td>-33.330978</td>\n",
       "      <td>49.054544</td>\n",
       "      <td>-51.375119</td>\n",
       "    </tr>\n",
       "    <tr>\n",
       "      <th>2002-09-17</th>\n",
       "      <td>-25.240788</td>\n",
       "      <td>-34.291075</td>\n",
       "      <td>48.751892</td>\n",
       "      <td>-50.242467</td>\n",
       "    </tr>\n",
       "    <tr>\n",
       "      <th>2002-09-18</th>\n",
       "      <td>-24.276673</td>\n",
       "      <td>-34.683486</td>\n",
       "      <td>47.581630</td>\n",
       "      <td>-51.047342</td>\n",
       "    </tr>\n",
       "    <tr>\n",
       "      <th>2002-09-19</th>\n",
       "      <td>-25.315086</td>\n",
       "      <td>-36.107832</td>\n",
       "      <td>47.803583</td>\n",
       "      <td>-51.679314</td>\n",
       "    </tr>\n",
       "    <tr>\n",
       "      <th>2002-09-20</th>\n",
       "      <td>-25.535211</td>\n",
       "      <td>-35.265704</td>\n",
       "      <td>48.695758</td>\n",
       "      <td>-53.688362</td>\n",
       "    </tr>\n",
       "    <tr>\n",
       "      <th>2002-09-21</th>\n",
       "      <td>-25.450982</td>\n",
       "      <td>-34.233461</td>\n",
       "      <td>49.925614</td>\n",
       "      <td>-56.242390</td>\n",
       "    </tr>\n",
       "    <tr>\n",
       "      <th>2002-09-22</th>\n",
       "      <td>-27.733914</td>\n",
       "      <td>-32.708170</td>\n",
       "      <td>48.960955</td>\n",
       "      <td>-56.269605</td>\n",
       "    </tr>\n",
       "    <tr>\n",
       "      <th>2002-09-23</th>\n",
       "      <td>-27.986411</td>\n",
       "      <td>-32.652852</td>\n",
       "      <td>47.932649</td>\n",
       "      <td>-58.025936</td>\n",
       "    </tr>\n",
       "    <tr>\n",
       "      <th>2002-09-24</th>\n",
       "      <td>-27.501387</td>\n",
       "      <td>-34.091422</td>\n",
       "      <td>47.486179</td>\n",
       "      <td>-57.920705</td>\n",
       "    </tr>\n",
       "    <tr>\n",
       "      <th>2002-09-25</th>\n",
       "      <td>-28.809141</td>\n",
       "      <td>-35.994322</td>\n",
       "      <td>48.519651</td>\n",
       "      <td>-56.532319</td>\n",
       "    </tr>\n",
       "    <tr>\n",
       "      <th>2002-09-26</th>\n",
       "      <td>-28.902800</td>\n",
       "      <td>-34.588860</td>\n",
       "      <td>47.545586</td>\n",
       "      <td>-56.048025</td>\n",
       "    </tr>\n",
       "  </tbody>\n",
       "</table>\n",
       "<p>1000 rows × 4 columns</p>\n",
       "</div>"
      ],
      "text/plain": [
       "                    A          B          C          D\n",
       "2000-01-01   1.302039   1.120921  -0.025825  -0.076658\n",
       "2000-01-02   1.333523   1.226283   1.145051   0.177068\n",
       "2000-01-03   0.900853   0.870940   0.325124   0.407452\n",
       "2000-01-04   1.528383  -0.411104  -0.158835   1.331825\n",
       "2000-01-05   1.803418   1.617323   0.594930   1.540856\n",
       "2000-01-06   2.624560   0.787224   0.579673   2.459954\n",
       "2000-01-07   2.866519   2.891073   2.012427   3.269770\n",
       "2000-01-08   2.138549   0.746247   2.036314   5.568257\n",
       "2000-01-09   1.825600   0.467407   2.405927   6.235586\n",
       "2000-01-10   0.871719   0.307752   1.343619   5.985360\n",
       "2000-01-11   1.662678   0.856243   1.526078   6.799656\n",
       "2000-01-12   1.244264  -0.532331   1.694564   5.968185\n",
       "2000-01-13   0.382544  -2.009676   0.631079   6.083829\n",
       "2000-01-14  -0.185245  -2.888692   0.450303   6.731147\n",
       "2000-01-15  -0.830980  -4.419945   0.819839   5.264469\n",
       "2000-01-16  -0.852712  -3.424634   2.181103   3.101601\n",
       "2000-01-17  -1.350124  -4.108304   2.345701   2.065371\n",
       "2000-01-18  -0.790253  -4.695319   2.641610   2.136965\n",
       "2000-01-19  -2.141130  -4.512189   3.486203   2.572234\n",
       "2000-01-20  -0.852535  -3.912423   3.300640   3.445932\n",
       "2000-01-21  -0.789490  -4.159436   4.226658   2.490886\n",
       "2000-01-22  -0.225349  -5.483116   4.712430   2.454593\n",
       "2000-01-23   0.681364  -5.287941   4.190231   3.395019\n",
       "2000-01-24   0.973463  -4.831677   3.614021   4.257623\n",
       "2000-01-25   1.596975  -6.484190   2.690858   4.768042\n",
       "2000-01-26   0.949131  -7.185105   2.706478   4.255422\n",
       "2000-01-27   3.220783  -6.665028   2.285534   4.009021\n",
       "2000-01-28   2.993553  -7.384882   0.932043   3.612723\n",
       "2000-01-29   2.135178  -7.271582   0.545911   3.975948\n",
       "2000-01-30   2.046369  -6.724152   0.425625   4.639914\n",
       "...               ...        ...        ...        ...\n",
       "2002-08-28 -19.986348 -29.195226  42.238828 -47.137339\n",
       "2002-08-29 -18.449175 -30.923867  42.595429 -46.290658\n",
       "2002-08-30 -18.835572 -29.169728  42.028694 -47.650441\n",
       "2002-08-31 -19.106116 -29.371218  43.649964 -45.782644\n",
       "2002-09-01 -19.708356 -30.226805  40.959782 -44.770770\n",
       "2002-09-02 -21.550217 -31.329121  41.921030 -45.925128\n",
       "2002-09-03 -22.401981 -32.784567  42.789221 -46.771711\n",
       "2002-09-04 -22.530667 -32.514076  42.610135 -46.741645\n",
       "2002-09-05 -23.875834 -31.953343  41.949581 -47.088891\n",
       "2002-09-06 -21.620021 -32.150053  43.846537 -46.233636\n",
       "2002-09-07 -23.291473 -31.768384  44.479938 -47.656274\n",
       "2002-09-08 -23.246087 -30.055938  45.529125 -49.256669\n",
       "2002-09-09 -23.913204 -29.699937  45.560250 -49.980157\n",
       "2002-09-10 -23.298265 -29.568243  46.824868 -50.094311\n",
       "2002-09-11 -23.420028 -31.155543  46.885018 -50.621828\n",
       "2002-09-12 -24.490843 -32.500088  46.648115 -51.082379\n",
       "2002-09-13 -24.764403 -31.880688  48.160199 -51.152120\n",
       "2002-09-14 -24.903937 -33.911078  48.915370 -49.522732\n",
       "2002-09-15 -24.520265 -34.210058  48.752712 -49.449829\n",
       "2002-09-16 -24.474435 -33.330978  49.054544 -51.375119\n",
       "2002-09-17 -25.240788 -34.291075  48.751892 -50.242467\n",
       "2002-09-18 -24.276673 -34.683486  47.581630 -51.047342\n",
       "2002-09-19 -25.315086 -36.107832  47.803583 -51.679314\n",
       "2002-09-20 -25.535211 -35.265704  48.695758 -53.688362\n",
       "2002-09-21 -25.450982 -34.233461  49.925614 -56.242390\n",
       "2002-09-22 -27.733914 -32.708170  48.960955 -56.269605\n",
       "2002-09-23 -27.986411 -32.652852  47.932649 -58.025936\n",
       "2002-09-24 -27.501387 -34.091422  47.486179 -57.920705\n",
       "2002-09-25 -28.809141 -35.994322  48.519651 -56.532319\n",
       "2002-09-26 -28.902800 -34.588860  47.545586 -56.048025\n",
       "\n",
       "[1000 rows x 4 columns]"
      ]
     },
     "execution_count": 112,
     "metadata": {},
     "output_type": "execute_result"
    }
   ],
   "source": [
    "In [144]: pd.read_hdf('foo.h5','df')"
   ]
  },
  {
   "cell_type": "code",
   "execution_count": null,
   "metadata": {
    "collapsed": true
   },
   "outputs": [],
   "source": [
    "Out[144]: \n",
    "                    A          B         C          D\n",
    "2000-01-01   0.266457  -0.399641 -0.219582   1.186860\n",
    "2000-01-02  -1.170732  -0.345873  1.653061  -0.282953\n",
    "2000-01-03  -1.734933   0.530468  2.060811  -0.515536\n",
    "2000-01-04  -1.555121   1.452620  0.239859  -1.156896\n",
    "2000-01-05   0.578117   0.511371  0.103552  -2.428202\n",
    "2000-01-06   0.478344   0.449933 -0.741620  -1.962409\n",
    "2000-01-07   1.235339  -0.091757 -1.543861  -1.084753\n",
    "...               ...        ...       ...        ...\n",
    "2002-09-20 -10.628548  -9.153563 -7.883146  28.313940\n",
    "2002-09-21 -10.390377  -8.727491 -6.399645  30.914107\n",
    "2002-09-22  -8.985362  -8.485624 -4.669462  31.367740\n",
    "2002-09-23  -9.558560  -8.781216 -4.499815  30.518439\n",
    "2002-09-24  -9.902058  -9.340490 -4.386639  30.105593\n",
    "2002-09-25 -10.216020  -9.480682 -3.933802  29.758560\n",
    "2002-09-26 -11.856774 -10.671012 -3.216025  29.369368\n",
    "\n",
    "[1000 rows x 4 columns]\n",
    "\n",
    "Excel\n",
    "\n",
    "Reading and writing to MS Excel\n",
    "\n",
    "Writing to an excel file"
   ]
  },
  {
   "cell_type": "code",
   "execution_count": 113,
   "metadata": {
    "collapsed": true
   },
   "outputs": [],
   "source": [
    "In [145]: df.to_excel('foo.xlsx', sheet_name='Sheet1')"
   ]
  },
  {
   "cell_type": "code",
   "execution_count": null,
   "metadata": {
    "collapsed": true
   },
   "outputs": [],
   "source": [
    "Reading from an excel file"
   ]
  },
  {
   "cell_type": "code",
   "execution_count": 114,
   "metadata": {
    "collapsed": false
   },
   "outputs": [
    {
     "data": {
      "text/html": [
       "<div>\n",
       "<table border=\"1\" class=\"dataframe\">\n",
       "  <thead>\n",
       "    <tr style=\"text-align: right;\">\n",
       "      <th></th>\n",
       "      <th>A</th>\n",
       "      <th>B</th>\n",
       "      <th>C</th>\n",
       "      <th>D</th>\n",
       "    </tr>\n",
       "  </thead>\n",
       "  <tbody>\n",
       "    <tr>\n",
       "      <th>2000-01-01</th>\n",
       "      <td>1.302039</td>\n",
       "      <td>1.120921</td>\n",
       "      <td>-0.025825</td>\n",
       "      <td>-0.076658</td>\n",
       "    </tr>\n",
       "    <tr>\n",
       "      <th>2000-01-02</th>\n",
       "      <td>1.333523</td>\n",
       "      <td>1.226283</td>\n",
       "      <td>1.145051</td>\n",
       "      <td>0.177068</td>\n",
       "    </tr>\n",
       "    <tr>\n",
       "      <th>2000-01-03</th>\n",
       "      <td>0.900853</td>\n",
       "      <td>0.870940</td>\n",
       "      <td>0.325124</td>\n",
       "      <td>0.407452</td>\n",
       "    </tr>\n",
       "    <tr>\n",
       "      <th>2000-01-04</th>\n",
       "      <td>1.528383</td>\n",
       "      <td>-0.411104</td>\n",
       "      <td>-0.158835</td>\n",
       "      <td>1.331825</td>\n",
       "    </tr>\n",
       "    <tr>\n",
       "      <th>2000-01-05</th>\n",
       "      <td>1.803418</td>\n",
       "      <td>1.617323</td>\n",
       "      <td>0.594930</td>\n",
       "      <td>1.540856</td>\n",
       "    </tr>\n",
       "    <tr>\n",
       "      <th>2000-01-06</th>\n",
       "      <td>2.624560</td>\n",
       "      <td>0.787224</td>\n",
       "      <td>0.579673</td>\n",
       "      <td>2.459954</td>\n",
       "    </tr>\n",
       "    <tr>\n",
       "      <th>2000-01-07</th>\n",
       "      <td>2.866519</td>\n",
       "      <td>2.891073</td>\n",
       "      <td>2.012427</td>\n",
       "      <td>3.269770</td>\n",
       "    </tr>\n",
       "    <tr>\n",
       "      <th>2000-01-08</th>\n",
       "      <td>2.138549</td>\n",
       "      <td>0.746247</td>\n",
       "      <td>2.036314</td>\n",
       "      <td>5.568257</td>\n",
       "    </tr>\n",
       "    <tr>\n",
       "      <th>2000-01-09</th>\n",
       "      <td>1.825600</td>\n",
       "      <td>0.467407</td>\n",
       "      <td>2.405927</td>\n",
       "      <td>6.235586</td>\n",
       "    </tr>\n",
       "    <tr>\n",
       "      <th>2000-01-10</th>\n",
       "      <td>0.871719</td>\n",
       "      <td>0.307752</td>\n",
       "      <td>1.343619</td>\n",
       "      <td>5.985360</td>\n",
       "    </tr>\n",
       "    <tr>\n",
       "      <th>2000-01-11</th>\n",
       "      <td>1.662678</td>\n",
       "      <td>0.856243</td>\n",
       "      <td>1.526078</td>\n",
       "      <td>6.799656</td>\n",
       "    </tr>\n",
       "    <tr>\n",
       "      <th>2000-01-12</th>\n",
       "      <td>1.244264</td>\n",
       "      <td>-0.532331</td>\n",
       "      <td>1.694564</td>\n",
       "      <td>5.968185</td>\n",
       "    </tr>\n",
       "    <tr>\n",
       "      <th>2000-01-13</th>\n",
       "      <td>0.382544</td>\n",
       "      <td>-2.009676</td>\n",
       "      <td>0.631079</td>\n",
       "      <td>6.083829</td>\n",
       "    </tr>\n",
       "    <tr>\n",
       "      <th>2000-01-14</th>\n",
       "      <td>-0.185245</td>\n",
       "      <td>-2.888692</td>\n",
       "      <td>0.450303</td>\n",
       "      <td>6.731147</td>\n",
       "    </tr>\n",
       "    <tr>\n",
       "      <th>2000-01-15</th>\n",
       "      <td>-0.830980</td>\n",
       "      <td>-4.419945</td>\n",
       "      <td>0.819839</td>\n",
       "      <td>5.264469</td>\n",
       "    </tr>\n",
       "    <tr>\n",
       "      <th>2000-01-16</th>\n",
       "      <td>-0.852712</td>\n",
       "      <td>-3.424634</td>\n",
       "      <td>2.181103</td>\n",
       "      <td>3.101601</td>\n",
       "    </tr>\n",
       "    <tr>\n",
       "      <th>2000-01-17</th>\n",
       "      <td>-1.350124</td>\n",
       "      <td>-4.108304</td>\n",
       "      <td>2.345701</td>\n",
       "      <td>2.065371</td>\n",
       "    </tr>\n",
       "    <tr>\n",
       "      <th>2000-01-18</th>\n",
       "      <td>-0.790253</td>\n",
       "      <td>-4.695319</td>\n",
       "      <td>2.641610</td>\n",
       "      <td>2.136965</td>\n",
       "    </tr>\n",
       "    <tr>\n",
       "      <th>2000-01-19</th>\n",
       "      <td>-2.141130</td>\n",
       "      <td>-4.512189</td>\n",
       "      <td>3.486203</td>\n",
       "      <td>2.572234</td>\n",
       "    </tr>\n",
       "    <tr>\n",
       "      <th>2000-01-20</th>\n",
       "      <td>-0.852535</td>\n",
       "      <td>-3.912423</td>\n",
       "      <td>3.300640</td>\n",
       "      <td>3.445932</td>\n",
       "    </tr>\n",
       "    <tr>\n",
       "      <th>2000-01-21</th>\n",
       "      <td>-0.789490</td>\n",
       "      <td>-4.159436</td>\n",
       "      <td>4.226658</td>\n",
       "      <td>2.490886</td>\n",
       "    </tr>\n",
       "    <tr>\n",
       "      <th>2000-01-22</th>\n",
       "      <td>-0.225349</td>\n",
       "      <td>-5.483116</td>\n",
       "      <td>4.712430</td>\n",
       "      <td>2.454593</td>\n",
       "    </tr>\n",
       "    <tr>\n",
       "      <th>2000-01-23</th>\n",
       "      <td>0.681364</td>\n",
       "      <td>-5.287941</td>\n",
       "      <td>4.190231</td>\n",
       "      <td>3.395019</td>\n",
       "    </tr>\n",
       "    <tr>\n",
       "      <th>2000-01-24</th>\n",
       "      <td>0.973463</td>\n",
       "      <td>-4.831677</td>\n",
       "      <td>3.614021</td>\n",
       "      <td>4.257623</td>\n",
       "    </tr>\n",
       "    <tr>\n",
       "      <th>2000-01-25</th>\n",
       "      <td>1.596975</td>\n",
       "      <td>-6.484190</td>\n",
       "      <td>2.690858</td>\n",
       "      <td>4.768042</td>\n",
       "    </tr>\n",
       "    <tr>\n",
       "      <th>2000-01-26</th>\n",
       "      <td>0.949131</td>\n",
       "      <td>-7.185105</td>\n",
       "      <td>2.706478</td>\n",
       "      <td>4.255422</td>\n",
       "    </tr>\n",
       "    <tr>\n",
       "      <th>2000-01-27</th>\n",
       "      <td>3.220783</td>\n",
       "      <td>-6.665028</td>\n",
       "      <td>2.285534</td>\n",
       "      <td>4.009021</td>\n",
       "    </tr>\n",
       "    <tr>\n",
       "      <th>2000-01-28</th>\n",
       "      <td>2.993553</td>\n",
       "      <td>-7.384882</td>\n",
       "      <td>0.932043</td>\n",
       "      <td>3.612723</td>\n",
       "    </tr>\n",
       "    <tr>\n",
       "      <th>2000-01-29</th>\n",
       "      <td>2.135178</td>\n",
       "      <td>-7.271582</td>\n",
       "      <td>0.545911</td>\n",
       "      <td>3.975948</td>\n",
       "    </tr>\n",
       "    <tr>\n",
       "      <th>2000-01-30</th>\n",
       "      <td>2.046369</td>\n",
       "      <td>-6.724152</td>\n",
       "      <td>0.425625</td>\n",
       "      <td>4.639914</td>\n",
       "    </tr>\n",
       "    <tr>\n",
       "      <th>...</th>\n",
       "      <td>...</td>\n",
       "      <td>...</td>\n",
       "      <td>...</td>\n",
       "      <td>...</td>\n",
       "    </tr>\n",
       "    <tr>\n",
       "      <th>2002-08-28</th>\n",
       "      <td>-19.986348</td>\n",
       "      <td>-29.195226</td>\n",
       "      <td>42.238828</td>\n",
       "      <td>-47.137339</td>\n",
       "    </tr>\n",
       "    <tr>\n",
       "      <th>2002-08-29</th>\n",
       "      <td>-18.449175</td>\n",
       "      <td>-30.923867</td>\n",
       "      <td>42.595429</td>\n",
       "      <td>-46.290658</td>\n",
       "    </tr>\n",
       "    <tr>\n",
       "      <th>2002-08-30</th>\n",
       "      <td>-18.835572</td>\n",
       "      <td>-29.169728</td>\n",
       "      <td>42.028694</td>\n",
       "      <td>-47.650441</td>\n",
       "    </tr>\n",
       "    <tr>\n",
       "      <th>2002-08-31</th>\n",
       "      <td>-19.106116</td>\n",
       "      <td>-29.371218</td>\n",
       "      <td>43.649964</td>\n",
       "      <td>-45.782644</td>\n",
       "    </tr>\n",
       "    <tr>\n",
       "      <th>2002-09-01</th>\n",
       "      <td>-19.708356</td>\n",
       "      <td>-30.226805</td>\n",
       "      <td>40.959782</td>\n",
       "      <td>-44.770770</td>\n",
       "    </tr>\n",
       "    <tr>\n",
       "      <th>2002-09-02</th>\n",
       "      <td>-21.550217</td>\n",
       "      <td>-31.329121</td>\n",
       "      <td>41.921030</td>\n",
       "      <td>-45.925128</td>\n",
       "    </tr>\n",
       "    <tr>\n",
       "      <th>2002-09-03</th>\n",
       "      <td>-22.401981</td>\n",
       "      <td>-32.784567</td>\n",
       "      <td>42.789221</td>\n",
       "      <td>-46.771711</td>\n",
       "    </tr>\n",
       "    <tr>\n",
       "      <th>2002-09-04</th>\n",
       "      <td>-22.530667</td>\n",
       "      <td>-32.514076</td>\n",
       "      <td>42.610135</td>\n",
       "      <td>-46.741645</td>\n",
       "    </tr>\n",
       "    <tr>\n",
       "      <th>2002-09-05</th>\n",
       "      <td>-23.875834</td>\n",
       "      <td>-31.953343</td>\n",
       "      <td>41.949581</td>\n",
       "      <td>-47.088891</td>\n",
       "    </tr>\n",
       "    <tr>\n",
       "      <th>2002-09-06</th>\n",
       "      <td>-21.620021</td>\n",
       "      <td>-32.150053</td>\n",
       "      <td>43.846537</td>\n",
       "      <td>-46.233636</td>\n",
       "    </tr>\n",
       "    <tr>\n",
       "      <th>2002-09-07</th>\n",
       "      <td>-23.291473</td>\n",
       "      <td>-31.768384</td>\n",
       "      <td>44.479938</td>\n",
       "      <td>-47.656274</td>\n",
       "    </tr>\n",
       "    <tr>\n",
       "      <th>2002-09-08</th>\n",
       "      <td>-23.246087</td>\n",
       "      <td>-30.055938</td>\n",
       "      <td>45.529125</td>\n",
       "      <td>-49.256669</td>\n",
       "    </tr>\n",
       "    <tr>\n",
       "      <th>2002-09-09</th>\n",
       "      <td>-23.913204</td>\n",
       "      <td>-29.699937</td>\n",
       "      <td>45.560250</td>\n",
       "      <td>-49.980157</td>\n",
       "    </tr>\n",
       "    <tr>\n",
       "      <th>2002-09-10</th>\n",
       "      <td>-23.298265</td>\n",
       "      <td>-29.568243</td>\n",
       "      <td>46.824868</td>\n",
       "      <td>-50.094311</td>\n",
       "    </tr>\n",
       "    <tr>\n",
       "      <th>2002-09-11</th>\n",
       "      <td>-23.420028</td>\n",
       "      <td>-31.155543</td>\n",
       "      <td>46.885018</td>\n",
       "      <td>-50.621828</td>\n",
       "    </tr>\n",
       "    <tr>\n",
       "      <th>2002-09-12</th>\n",
       "      <td>-24.490843</td>\n",
       "      <td>-32.500088</td>\n",
       "      <td>46.648115</td>\n",
       "      <td>-51.082379</td>\n",
       "    </tr>\n",
       "    <tr>\n",
       "      <th>2002-09-13</th>\n",
       "      <td>-24.764403</td>\n",
       "      <td>-31.880688</td>\n",
       "      <td>48.160199</td>\n",
       "      <td>-51.152120</td>\n",
       "    </tr>\n",
       "    <tr>\n",
       "      <th>2002-09-14</th>\n",
       "      <td>-24.903937</td>\n",
       "      <td>-33.911078</td>\n",
       "      <td>48.915370</td>\n",
       "      <td>-49.522732</td>\n",
       "    </tr>\n",
       "    <tr>\n",
       "      <th>2002-09-15</th>\n",
       "      <td>-24.520265</td>\n",
       "      <td>-34.210058</td>\n",
       "      <td>48.752712</td>\n",
       "      <td>-49.449829</td>\n",
       "    </tr>\n",
       "    <tr>\n",
       "      <th>2002-09-16</th>\n",
       "      <td>-24.474435</td>\n",
       "      <td>-33.330978</td>\n",
       "      <td>49.054544</td>\n",
       "      <td>-51.375119</td>\n",
       "    </tr>\n",
       "    <tr>\n",
       "      <th>2002-09-17</th>\n",
       "      <td>-25.240788</td>\n",
       "      <td>-34.291075</td>\n",
       "      <td>48.751892</td>\n",
       "      <td>-50.242467</td>\n",
       "    </tr>\n",
       "    <tr>\n",
       "      <th>2002-09-18</th>\n",
       "      <td>-24.276673</td>\n",
       "      <td>-34.683486</td>\n",
       "      <td>47.581630</td>\n",
       "      <td>-51.047342</td>\n",
       "    </tr>\n",
       "    <tr>\n",
       "      <th>2002-09-19</th>\n",
       "      <td>-25.315086</td>\n",
       "      <td>-36.107832</td>\n",
       "      <td>47.803583</td>\n",
       "      <td>-51.679314</td>\n",
       "    </tr>\n",
       "    <tr>\n",
       "      <th>2002-09-20</th>\n",
       "      <td>-25.535211</td>\n",
       "      <td>-35.265704</td>\n",
       "      <td>48.695758</td>\n",
       "      <td>-53.688362</td>\n",
       "    </tr>\n",
       "    <tr>\n",
       "      <th>2002-09-21</th>\n",
       "      <td>-25.450982</td>\n",
       "      <td>-34.233461</td>\n",
       "      <td>49.925614</td>\n",
       "      <td>-56.242390</td>\n",
       "    </tr>\n",
       "    <tr>\n",
       "      <th>2002-09-22</th>\n",
       "      <td>-27.733914</td>\n",
       "      <td>-32.708170</td>\n",
       "      <td>48.960955</td>\n",
       "      <td>-56.269605</td>\n",
       "    </tr>\n",
       "    <tr>\n",
       "      <th>2002-09-23</th>\n",
       "      <td>-27.986411</td>\n",
       "      <td>-32.652852</td>\n",
       "      <td>47.932649</td>\n",
       "      <td>-58.025936</td>\n",
       "    </tr>\n",
       "    <tr>\n",
       "      <th>2002-09-24</th>\n",
       "      <td>-27.501387</td>\n",
       "      <td>-34.091422</td>\n",
       "      <td>47.486179</td>\n",
       "      <td>-57.920705</td>\n",
       "    </tr>\n",
       "    <tr>\n",
       "      <th>2002-09-25</th>\n",
       "      <td>-28.809141</td>\n",
       "      <td>-35.994322</td>\n",
       "      <td>48.519651</td>\n",
       "      <td>-56.532319</td>\n",
       "    </tr>\n",
       "    <tr>\n",
       "      <th>2002-09-26</th>\n",
       "      <td>-28.902800</td>\n",
       "      <td>-34.588860</td>\n",
       "      <td>47.545586</td>\n",
       "      <td>-56.048025</td>\n",
       "    </tr>\n",
       "  </tbody>\n",
       "</table>\n",
       "<p>1000 rows × 4 columns</p>\n",
       "</div>"
      ],
      "text/plain": [
       "                    A          B          C          D\n",
       "2000-01-01   1.302039   1.120921  -0.025825  -0.076658\n",
       "2000-01-02   1.333523   1.226283   1.145051   0.177068\n",
       "2000-01-03   0.900853   0.870940   0.325124   0.407452\n",
       "2000-01-04   1.528383  -0.411104  -0.158835   1.331825\n",
       "2000-01-05   1.803418   1.617323   0.594930   1.540856\n",
       "2000-01-06   2.624560   0.787224   0.579673   2.459954\n",
       "2000-01-07   2.866519   2.891073   2.012427   3.269770\n",
       "2000-01-08   2.138549   0.746247   2.036314   5.568257\n",
       "2000-01-09   1.825600   0.467407   2.405927   6.235586\n",
       "2000-01-10   0.871719   0.307752   1.343619   5.985360\n",
       "2000-01-11   1.662678   0.856243   1.526078   6.799656\n",
       "2000-01-12   1.244264  -0.532331   1.694564   5.968185\n",
       "2000-01-13   0.382544  -2.009676   0.631079   6.083829\n",
       "2000-01-14  -0.185245  -2.888692   0.450303   6.731147\n",
       "2000-01-15  -0.830980  -4.419945   0.819839   5.264469\n",
       "2000-01-16  -0.852712  -3.424634   2.181103   3.101601\n",
       "2000-01-17  -1.350124  -4.108304   2.345701   2.065371\n",
       "2000-01-18  -0.790253  -4.695319   2.641610   2.136965\n",
       "2000-01-19  -2.141130  -4.512189   3.486203   2.572234\n",
       "2000-01-20  -0.852535  -3.912423   3.300640   3.445932\n",
       "2000-01-21  -0.789490  -4.159436   4.226658   2.490886\n",
       "2000-01-22  -0.225349  -5.483116   4.712430   2.454593\n",
       "2000-01-23   0.681364  -5.287941   4.190231   3.395019\n",
       "2000-01-24   0.973463  -4.831677   3.614021   4.257623\n",
       "2000-01-25   1.596975  -6.484190   2.690858   4.768042\n",
       "2000-01-26   0.949131  -7.185105   2.706478   4.255422\n",
       "2000-01-27   3.220783  -6.665028   2.285534   4.009021\n",
       "2000-01-28   2.993553  -7.384882   0.932043   3.612723\n",
       "2000-01-29   2.135178  -7.271582   0.545911   3.975948\n",
       "2000-01-30   2.046369  -6.724152   0.425625   4.639914\n",
       "...               ...        ...        ...        ...\n",
       "2002-08-28 -19.986348 -29.195226  42.238828 -47.137339\n",
       "2002-08-29 -18.449175 -30.923867  42.595429 -46.290658\n",
       "2002-08-30 -18.835572 -29.169728  42.028694 -47.650441\n",
       "2002-08-31 -19.106116 -29.371218  43.649964 -45.782644\n",
       "2002-09-01 -19.708356 -30.226805  40.959782 -44.770770\n",
       "2002-09-02 -21.550217 -31.329121  41.921030 -45.925128\n",
       "2002-09-03 -22.401981 -32.784567  42.789221 -46.771711\n",
       "2002-09-04 -22.530667 -32.514076  42.610135 -46.741645\n",
       "2002-09-05 -23.875834 -31.953343  41.949581 -47.088891\n",
       "2002-09-06 -21.620021 -32.150053  43.846537 -46.233636\n",
       "2002-09-07 -23.291473 -31.768384  44.479938 -47.656274\n",
       "2002-09-08 -23.246087 -30.055938  45.529125 -49.256669\n",
       "2002-09-09 -23.913204 -29.699937  45.560250 -49.980157\n",
       "2002-09-10 -23.298265 -29.568243  46.824868 -50.094311\n",
       "2002-09-11 -23.420028 -31.155543  46.885018 -50.621828\n",
       "2002-09-12 -24.490843 -32.500088  46.648115 -51.082379\n",
       "2002-09-13 -24.764403 -31.880688  48.160199 -51.152120\n",
       "2002-09-14 -24.903937 -33.911078  48.915370 -49.522732\n",
       "2002-09-15 -24.520265 -34.210058  48.752712 -49.449829\n",
       "2002-09-16 -24.474435 -33.330978  49.054544 -51.375119\n",
       "2002-09-17 -25.240788 -34.291075  48.751892 -50.242467\n",
       "2002-09-18 -24.276673 -34.683486  47.581630 -51.047342\n",
       "2002-09-19 -25.315086 -36.107832  47.803583 -51.679314\n",
       "2002-09-20 -25.535211 -35.265704  48.695758 -53.688362\n",
       "2002-09-21 -25.450982 -34.233461  49.925614 -56.242390\n",
       "2002-09-22 -27.733914 -32.708170  48.960955 -56.269605\n",
       "2002-09-23 -27.986411 -32.652852  47.932649 -58.025936\n",
       "2002-09-24 -27.501387 -34.091422  47.486179 -57.920705\n",
       "2002-09-25 -28.809141 -35.994322  48.519651 -56.532319\n",
       "2002-09-26 -28.902800 -34.588860  47.545586 -56.048025\n",
       "\n",
       "[1000 rows x 4 columns]"
      ]
     },
     "execution_count": 114,
     "metadata": {},
     "output_type": "execute_result"
    }
   ],
   "source": [
    "In [146]: pd.read_excel('foo.xlsx', 'Sheet1', index_col=None, na_values=['NA'])"
   ]
  },
  {
   "cell_type": "code",
   "execution_count": null,
   "metadata": {
    "collapsed": true
   },
   "outputs": [],
   "source": []
  },
  {
   "cell_type": "code",
   "execution_count": null,
   "metadata": {
    "collapsed": false
   },
   "outputs": [],
   "source": [
    "Out[146]: \n",
    "                    A          B         C          D\n",
    "2000-01-01   0.266457  -0.399641 -0.219582   1.186860\n",
    "2000-01-02  -1.170732  -0.345873  1.653061  -0.282953\n",
    "2000-01-03  -1.734933   0.530468  2.060811  -0.515536\n",
    "2000-01-04  -1.555121   1.452620  0.239859  -1.156896\n",
    "2000-01-05   0.578117   0.511371  0.103552  -2.428202\n",
    "2000-01-06   0.478344   0.449933 -0.741620  -1.962409\n",
    "2000-01-07   1.235339  -0.091757 -1.543861  -1.084753\n",
    "...               ...        ...       ...        ...\n",
    "2002-09-20 -10.628548  -9.153563 -7.883146  28.313940\n",
    "2002-09-21 -10.390377  -8.727491 -6.399645  30.914107\n",
    "2002-09-22  -8.985362  -8.485624 -4.669462  31.367740\n",
    "2002-09-23  -9.558560  -8.781216 -4.499815  30.518439\n",
    "2002-09-24  -9.902058  -9.340490 -4.386639  30.105593\n",
    "2002-09-25 -10.216020  -9.480682 -3.933802  29.758560\n",
    "2002-09-26 -11.856774 -10.671012 -3.216025  29.369368\n",
    "\n",
    "[1000 rows x 4 columns]\n",
    "\n",
    "\n",
    "\n",
    "Gotchas\n",
    "\n",
    "If you are trying an operation and you see an exception like:\n",
    "\n",
    ">>> if pd.Series([False, True, False]):\n",
    "    print(\"I was true\")\n",
    "Traceback\n",
    "    ...\n",
    "ValueError: The truth value of an array is ambiguous. Use a.empty, a.any() or a.all().\n",
    "\n",
    "See Comparisons for an explanation and what to do.\n",
    "\n",
    "See Gotchas as well."
   ]
  },
  {
   "cell_type": "code",
   "execution_count": null,
   "metadata": {
    "collapsed": true
   },
   "outputs": [],
   "source": [
    "\n"
   ]
  }
 ],
 "metadata": {
  "celltoolbar": "Raw Cell Format",
  "kernelspec": {
   "display_name": "Python 2",
   "language": "python",
   "name": "python2"
  },
  "language_info": {
   "codemirror_mode": {
    "name": "ipython",
    "version": 2
   },
   "file_extension": ".py",
   "mimetype": "text/x-python",
   "name": "python",
   "nbconvert_exporter": "python",
   "pygments_lexer": "ipython2",
   "version": "2.7.13"
  }
 },
 "nbformat": 4,
 "nbformat_minor": 2
}
