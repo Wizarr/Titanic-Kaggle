{
 "cells": [
  {
   "cell_type": "code",
   "execution_count": 24,
   "metadata": {
    "collapsed": true
   },
   "outputs": [],
   "source": [
    "import pandas as pd\n",
    "\n",
    "import numpy as np\n",
    "\n",
    "import matplotlib.pyplot as plt"
   ]
  },
  {
   "cell_type": "code",
   "execution_count": 25,
   "metadata": {
    "collapsed": true
   },
   "outputs": [],
   "source": [
    "s = pd.Series([1,3,5,np.nan,6,8])"
   ]
  },
  {
   "cell_type": "code",
   "execution_count": 26,
   "metadata": {
    "collapsed": false
   },
   "outputs": [
    {
     "data": {
      "text/plain": [
       "0    1.0\n",
       "1    3.0\n",
       "2    5.0\n",
       "3    NaN\n",
       "4    6.0\n",
       "5    8.0\n",
       "dtype: float64"
      ]
     },
     "execution_count": 26,
     "metadata": {},
     "output_type": "execute_result"
    }
   ],
   "source": [
    "s"
   ]
  },
  {
   "cell_type": "code",
   "execution_count": 27,
   "metadata": {
    "collapsed": true
   },
   "outputs": [],
   "source": [
    "dates = pd.date_range('20130101', periods=6)"
   ]
  },
  {
   "cell_type": "code",
   "execution_count": 28,
   "metadata": {
    "collapsed": false
   },
   "outputs": [
    {
     "data": {
      "text/plain": [
       "DatetimeIndex(['2013-01-01', '2013-01-02', '2013-01-03', '2013-01-04',\n",
       "               '2013-01-05', '2013-01-06'],\n",
       "              dtype='datetime64[ns]', freq='D')"
      ]
     },
     "execution_count": 28,
     "metadata": {},
     "output_type": "execute_result"
    }
   ],
   "source": [
    "dates"
   ]
  },
  {
   "cell_type": "code",
   "execution_count": 29,
   "metadata": {
    "collapsed": true
   },
   "outputs": [],
   "source": [
    "df = pd.DataFrame(np.random.randn(6,4), index=dates, columns=list('ABCD'))"
   ]
  },
  {
   "cell_type": "code",
   "execution_count": 30,
   "metadata": {
    "collapsed": false
   },
   "outputs": [
    {
     "data": {
      "text/html": [
       "<div>\n",
       "<table border=\"1\" class=\"dataframe\">\n",
       "  <thead>\n",
       "    <tr style=\"text-align: right;\">\n",
       "      <th></th>\n",
       "      <th>A</th>\n",
       "      <th>B</th>\n",
       "      <th>C</th>\n",
       "      <th>D</th>\n",
       "    </tr>\n",
       "  </thead>\n",
       "  <tbody>\n",
       "    <tr>\n",
       "      <th>2013-01-01</th>\n",
       "      <td>-0.425488</td>\n",
       "      <td>2.169890</td>\n",
       "      <td>-0.168240</td>\n",
       "      <td>1.343118</td>\n",
       "    </tr>\n",
       "    <tr>\n",
       "      <th>2013-01-02</th>\n",
       "      <td>0.076999</td>\n",
       "      <td>0.773222</td>\n",
       "      <td>-0.475579</td>\n",
       "      <td>0.626561</td>\n",
       "    </tr>\n",
       "    <tr>\n",
       "      <th>2013-01-03</th>\n",
       "      <td>-0.246028</td>\n",
       "      <td>-0.359273</td>\n",
       "      <td>-0.616782</td>\n",
       "      <td>0.114790</td>\n",
       "    </tr>\n",
       "    <tr>\n",
       "      <th>2013-01-04</th>\n",
       "      <td>1.237543</td>\n",
       "      <td>-1.029119</td>\n",
       "      <td>-0.334224</td>\n",
       "      <td>-0.321812</td>\n",
       "    </tr>\n",
       "    <tr>\n",
       "      <th>2013-01-05</th>\n",
       "      <td>1.466021</td>\n",
       "      <td>1.571671</td>\n",
       "      <td>-1.128318</td>\n",
       "      <td>-1.585989</td>\n",
       "    </tr>\n",
       "    <tr>\n",
       "      <th>2013-01-06</th>\n",
       "      <td>-1.328971</td>\n",
       "      <td>-1.336126</td>\n",
       "      <td>-0.085670</td>\n",
       "      <td>-0.630667</td>\n",
       "    </tr>\n",
       "  </tbody>\n",
       "</table>\n",
       "</div>"
      ],
      "text/plain": [
       "                   A         B         C         D\n",
       "2013-01-01 -0.425488  2.169890 -0.168240  1.343118\n",
       "2013-01-02  0.076999  0.773222 -0.475579  0.626561\n",
       "2013-01-03 -0.246028 -0.359273 -0.616782  0.114790\n",
       "2013-01-04  1.237543 -1.029119 -0.334224 -0.321812\n",
       "2013-01-05  1.466021  1.571671 -1.128318 -1.585989\n",
       "2013-01-06 -1.328971 -1.336126 -0.085670 -0.630667"
      ]
     },
     "execution_count": 30,
     "metadata": {},
     "output_type": "execute_result"
    }
   ],
   "source": [
    "df"
   ]
  },
  {
   "cell_type": "code",
   "execution_count": 31,
   "metadata": {
    "collapsed": false
   },
   "outputs": [],
   "source": [
    "df2 = pd.DataFrame({ 'A' : 1.,\n",
    "                     'B' : pd.Timestamp('20130102'),\n",
    "                     'C' : pd.Series(1,index=list(range(4)),dtype='float32'),\n",
    "                     'D' : np.array([3] * 4,dtype='int32'),\n",
    "                     'E' : pd.Categorical([\"test\",\"train\",\"test\",\"train\"]),\n",
    "                     'F' : 'foo' })"
   ]
  },
  {
   "cell_type": "code",
   "execution_count": 32,
   "metadata": {
    "collapsed": false
   },
   "outputs": [
    {
     "data": {
      "text/html": [
       "<div>\n",
       "<table border=\"1\" class=\"dataframe\">\n",
       "  <thead>\n",
       "    <tr style=\"text-align: right;\">\n",
       "      <th></th>\n",
       "      <th>A</th>\n",
       "      <th>B</th>\n",
       "      <th>C</th>\n",
       "      <th>D</th>\n",
       "      <th>E</th>\n",
       "      <th>F</th>\n",
       "    </tr>\n",
       "  </thead>\n",
       "  <tbody>\n",
       "    <tr>\n",
       "      <th>0</th>\n",
       "      <td>1.0</td>\n",
       "      <td>2013-01-02</td>\n",
       "      <td>1.0</td>\n",
       "      <td>3</td>\n",
       "      <td>test</td>\n",
       "      <td>foo</td>\n",
       "    </tr>\n",
       "    <tr>\n",
       "      <th>1</th>\n",
       "      <td>1.0</td>\n",
       "      <td>2013-01-02</td>\n",
       "      <td>1.0</td>\n",
       "      <td>3</td>\n",
       "      <td>train</td>\n",
       "      <td>foo</td>\n",
       "    </tr>\n",
       "    <tr>\n",
       "      <th>2</th>\n",
       "      <td>1.0</td>\n",
       "      <td>2013-01-02</td>\n",
       "      <td>1.0</td>\n",
       "      <td>3</td>\n",
       "      <td>test</td>\n",
       "      <td>foo</td>\n",
       "    </tr>\n",
       "    <tr>\n",
       "      <th>3</th>\n",
       "      <td>1.0</td>\n",
       "      <td>2013-01-02</td>\n",
       "      <td>1.0</td>\n",
       "      <td>3</td>\n",
       "      <td>train</td>\n",
       "      <td>foo</td>\n",
       "    </tr>\n",
       "  </tbody>\n",
       "</table>\n",
       "</div>"
      ],
      "text/plain": [
       "     A          B    C  D      E    F\n",
       "0  1.0 2013-01-02  1.0  3   test  foo\n",
       "1  1.0 2013-01-02  1.0  3  train  foo\n",
       "2  1.0 2013-01-02  1.0  3   test  foo\n",
       "3  1.0 2013-01-02  1.0  3  train  foo"
      ]
     },
     "execution_count": 32,
     "metadata": {},
     "output_type": "execute_result"
    }
   ],
   "source": [
    "df2"
   ]
  },
  {
   "cell_type": "code",
   "execution_count": 33,
   "metadata": {
    "collapsed": false
   },
   "outputs": [
    {
     "data": {
      "text/plain": [
       "A           float64\n",
       "B    datetime64[ns]\n",
       "C           float32\n",
       "D             int32\n",
       "E          category\n",
       "F            object\n",
       "dtype: object"
      ]
     },
     "execution_count": 33,
     "metadata": {},
     "output_type": "execute_result"
    }
   ],
   "source": [
    "df2.dtypes"
   ]
  },
  {
   "cell_type": "code",
   "execution_count": 34,
   "metadata": {
    "collapsed": false
   },
   "outputs": [
    {
     "data": {
      "text/plain": [
       "<bound method DataFrame.corr of      A          B    C  D      E    F\n",
       "0  1.0 2013-01-02  1.0  3   test  foo\n",
       "1  1.0 2013-01-02  1.0  3  train  foo\n",
       "2  1.0 2013-01-02  1.0  3   test  foo\n",
       "3  1.0 2013-01-02  1.0  3  train  foo>"
      ]
     },
     "execution_count": 34,
     "metadata": {},
     "output_type": "execute_result"
    }
   ],
   "source": [
    "df2.corr"
   ]
  },
  {
   "cell_type": "code",
   "execution_count": 35,
   "metadata": {
    "collapsed": false
   },
   "outputs": [
    {
     "data": {
      "text/plain": [
       "<bound method DataFrame.boxplot of      A          B    C  D      E    F\n",
       "0  1.0 2013-01-02  1.0  3   test  foo\n",
       "1  1.0 2013-01-02  1.0  3  train  foo\n",
       "2  1.0 2013-01-02  1.0  3   test  foo\n",
       "3  1.0 2013-01-02  1.0  3  train  foo>"
      ]
     },
     "execution_count": 35,
     "metadata": {},
     "output_type": "execute_result"
    }
   ],
   "source": [
    "df2.boxplot"
   ]
  },
  {
   "cell_type": "code",
   "execution_count": 36,
   "metadata": {
    "collapsed": false
   },
   "outputs": [
    {
     "data": {
      "text/plain": [
       "<bound method DataFrame.head of                    A         B         C         D\n",
       "2013-01-01 -0.425488  2.169890 -0.168240  1.343118\n",
       "2013-01-02  0.076999  0.773222 -0.475579  0.626561\n",
       "2013-01-03 -0.246028 -0.359273 -0.616782  0.114790\n",
       "2013-01-04  1.237543 -1.029119 -0.334224 -0.321812\n",
       "2013-01-05  1.466021  1.571671 -1.128318 -1.585989\n",
       "2013-01-06 -1.328971 -1.336126 -0.085670 -0.630667>"
      ]
     },
     "execution_count": 36,
     "metadata": {},
     "output_type": "execute_result"
    }
   ],
   "source": [
    "df.head\n"
   ]
  },
  {
   "cell_type": "code",
   "execution_count": 43,
   "metadata": {
    "collapsed": false
   },
   "outputs": [
    {
     "data": {
      "text/html": [
       "<div>\n",
       "<table border=\"1\" class=\"dataframe\">\n",
       "  <thead>\n",
       "    <tr style=\"text-align: right;\">\n",
       "      <th></th>\n",
       "      <th>A</th>\n",
       "      <th>B</th>\n",
       "      <th>C</th>\n",
       "      <th>D</th>\n",
       "    </tr>\n",
       "  </thead>\n",
       "  <tbody>\n",
       "    <tr>\n",
       "      <th>2013-01-05</th>\n",
       "      <td>1.466021</td>\n",
       "      <td>1.571671</td>\n",
       "      <td>-1.128318</td>\n",
       "      <td>-1.585989</td>\n",
       "    </tr>\n",
       "    <tr>\n",
       "      <th>2013-01-06</th>\n",
       "      <td>-1.328971</td>\n",
       "      <td>-1.336126</td>\n",
       "      <td>-0.085670</td>\n",
       "      <td>-0.630667</td>\n",
       "    </tr>\n",
       "  </tbody>\n",
       "</table>\n",
       "</div>"
      ],
      "text/plain": [
       "                   A         B         C         D\n",
       "2013-01-05  1.466021  1.571671 -1.128318 -1.585989\n",
       "2013-01-06 -1.328971 -1.336126 -0.085670 -0.630667"
      ]
     },
     "execution_count": 43,
     "metadata": {},
     "output_type": "execute_result"
    }
   ],
   "source": [
    "df.tail(2)"
   ]
  },
  {
   "cell_type": "code",
   "execution_count": 38,
   "metadata": {
    "collapsed": false
   },
   "outputs": [
    {
     "data": {
      "text/html": [
       "<div>\n",
       "<table border=\"1\" class=\"dataframe\">\n",
       "  <thead>\n",
       "    <tr style=\"text-align: right;\">\n",
       "      <th></th>\n",
       "      <th>A</th>\n",
       "      <th>B</th>\n",
       "      <th>C</th>\n",
       "      <th>D</th>\n",
       "    </tr>\n",
       "  </thead>\n",
       "  <tbody>\n",
       "    <tr>\n",
       "      <th>2013-01-04</th>\n",
       "      <td>1.237543</td>\n",
       "      <td>-1.029119</td>\n",
       "      <td>-0.334224</td>\n",
       "      <td>-0.321812</td>\n",
       "    </tr>\n",
       "    <tr>\n",
       "      <th>2013-01-05</th>\n",
       "      <td>1.466021</td>\n",
       "      <td>1.571671</td>\n",
       "      <td>-1.128318</td>\n",
       "      <td>-1.585989</td>\n",
       "    </tr>\n",
       "    <tr>\n",
       "      <th>2013-01-06</th>\n",
       "      <td>-1.328971</td>\n",
       "      <td>-1.336126</td>\n",
       "      <td>-0.085670</td>\n",
       "      <td>-0.630667</td>\n",
       "    </tr>\n",
       "  </tbody>\n",
       "</table>\n",
       "</div>"
      ],
      "text/plain": [
       "                   A         B         C         D\n",
       "2013-01-04  1.237543 -1.029119 -0.334224 -0.321812\n",
       "2013-01-05  1.466021  1.571671 -1.128318 -1.585989\n",
       "2013-01-06 -1.328971 -1.336126 -0.085670 -0.630667"
      ]
     },
     "execution_count": 38,
     "metadata": {},
     "output_type": "execute_result"
    }
   ],
   "source": [
    "df.tail(3)"
   ]
  },
  {
   "cell_type": "code",
   "execution_count": 44,
   "metadata": {
    "collapsed": false
   },
   "outputs": [
    {
     "data": {
      "text/html": [
       "<div>\n",
       "<table border=\"1\" class=\"dataframe\">\n",
       "  <thead>\n",
       "    <tr style=\"text-align: right;\">\n",
       "      <th></th>\n",
       "      <th>A</th>\n",
       "      <th>B</th>\n",
       "      <th>C</th>\n",
       "      <th>D</th>\n",
       "    </tr>\n",
       "  </thead>\n",
       "  <tbody>\n",
       "    <tr>\n",
       "      <th>2013-01-01</th>\n",
       "      <td>-0.425488</td>\n",
       "      <td>2.169890</td>\n",
       "      <td>-0.168240</td>\n",
       "      <td>1.343118</td>\n",
       "    </tr>\n",
       "    <tr>\n",
       "      <th>2013-01-02</th>\n",
       "      <td>0.076999</td>\n",
       "      <td>0.773222</td>\n",
       "      <td>-0.475579</td>\n",
       "      <td>0.626561</td>\n",
       "    </tr>\n",
       "    <tr>\n",
       "      <th>2013-01-03</th>\n",
       "      <td>-0.246028</td>\n",
       "      <td>-0.359273</td>\n",
       "      <td>-0.616782</td>\n",
       "      <td>0.114790</td>\n",
       "    </tr>\n",
       "    <tr>\n",
       "      <th>2013-01-04</th>\n",
       "      <td>1.237543</td>\n",
       "      <td>-1.029119</td>\n",
       "      <td>-0.334224</td>\n",
       "      <td>-0.321812</td>\n",
       "    </tr>\n",
       "    <tr>\n",
       "      <th>2013-01-05</th>\n",
       "      <td>1.466021</td>\n",
       "      <td>1.571671</td>\n",
       "      <td>-1.128318</td>\n",
       "      <td>-1.585989</td>\n",
       "    </tr>\n",
       "  </tbody>\n",
       "</table>\n",
       "</div>"
      ],
      "text/plain": [
       "                   A         B         C         D\n",
       "2013-01-01 -0.425488  2.169890 -0.168240  1.343118\n",
       "2013-01-02  0.076999  0.773222 -0.475579  0.626561\n",
       "2013-01-03 -0.246028 -0.359273 -0.616782  0.114790\n",
       "2013-01-04  1.237543 -1.029119 -0.334224 -0.321812\n",
       "2013-01-05  1.466021  1.571671 -1.128318 -1.585989"
      ]
     },
     "execution_count": 44,
     "metadata": {},
     "output_type": "execute_result"
    }
   ],
   "source": [
    "df.head()"
   ]
  },
  {
   "cell_type": "code",
   "execution_count": 45,
   "metadata": {
    "collapsed": false
   },
   "outputs": [
    {
     "data": {
      "text/plain": [
       "DatetimeIndex(['2013-01-01', '2013-01-02', '2013-01-03', '2013-01-04',\n",
       "               '2013-01-05', '2013-01-06'],\n",
       "              dtype='datetime64[ns]', freq='D')"
      ]
     },
     "execution_count": 45,
     "metadata": {},
     "output_type": "execute_result"
    }
   ],
   "source": [
    "df.index"
   ]
  },
  {
   "cell_type": "code",
   "execution_count": 46,
   "metadata": {
    "collapsed": false
   },
   "outputs": [
    {
     "data": {
      "text/plain": [
       "DatetimeIndex(['2013-01-01', '2013-01-02', '2013-01-03', '2013-01-04',\n",
       "               '2013-01-05', '2013-01-06'],\n",
       "              dtype='datetime64[ns]', freq='D')"
      ]
     },
     "execution_count": 46,
     "metadata": {},
     "output_type": "execute_result"
    }
   ],
   "source": [
    "df.index"
   ]
  },
  {
   "cell_type": "code",
   "execution_count": 47,
   "metadata": {
    "collapsed": false
   },
   "outputs": [
    {
     "data": {
      "text/plain": [
       "Index([u'A', u'B', u'C', u'D'], dtype='object')"
      ]
     },
     "execution_count": 47,
     "metadata": {},
     "output_type": "execute_result"
    }
   ],
   "source": [
    "df.columns"
   ]
  },
  {
   "cell_type": "code",
   "execution_count": 48,
   "metadata": {
    "collapsed": false
   },
   "outputs": [
    {
     "data": {
      "text/plain": [
       "array([[-0.4254878 ,  2.16988999, -0.16824033,  1.34311799],\n",
       "       [ 0.07699883,  0.77322221, -0.47557866,  0.62656083],\n",
       "       [-0.24602789, -0.35927323, -0.61678203,  0.11479031],\n",
       "       [ 1.23754303, -1.02911875, -0.33422425, -0.32181165],\n",
       "       [ 1.46602071,  1.57167102, -1.12831823, -1.5859888 ],\n",
       "       [-1.32897062, -1.33612606, -0.0856701 , -0.6306666 ]])"
      ]
     },
     "execution_count": 48,
     "metadata": {},
     "output_type": "execute_result"
    }
   ],
   "source": [
    "df.values"
   ]
  },
  {
   "cell_type": "code",
   "execution_count": 49,
   "metadata": {
    "collapsed": false
   },
   "outputs": [
    {
     "data": {
      "text/html": [
       "<div>\n",
       "<table border=\"1\" class=\"dataframe\">\n",
       "  <thead>\n",
       "    <tr style=\"text-align: right;\">\n",
       "      <th></th>\n",
       "      <th>A</th>\n",
       "      <th>B</th>\n",
       "      <th>C</th>\n",
       "      <th>D</th>\n",
       "    </tr>\n",
       "  </thead>\n",
       "  <tbody>\n",
       "    <tr>\n",
       "      <th>count</th>\n",
       "      <td>6.000000</td>\n",
       "      <td>6.000000</td>\n",
       "      <td>6.000000</td>\n",
       "      <td>6.000000</td>\n",
       "    </tr>\n",
       "    <tr>\n",
       "      <th>mean</th>\n",
       "      <td>0.130013</td>\n",
       "      <td>0.298378</td>\n",
       "      <td>-0.468136</td>\n",
       "      <td>-0.075666</td>\n",
       "    </tr>\n",
       "    <tr>\n",
       "      <th>std</th>\n",
       "      <td>1.057636</td>\n",
       "      <td>1.429382</td>\n",
       "      <td>0.377397</td>\n",
       "      <td>1.019022</td>\n",
       "    </tr>\n",
       "    <tr>\n",
       "      <th>min</th>\n",
       "      <td>-1.328971</td>\n",
       "      <td>-1.336126</td>\n",
       "      <td>-1.128318</td>\n",
       "      <td>-1.585989</td>\n",
       "    </tr>\n",
       "    <tr>\n",
       "      <th>25%</th>\n",
       "      <td>-0.380623</td>\n",
       "      <td>-0.861657</td>\n",
       "      <td>-0.581481</td>\n",
       "      <td>-0.553453</td>\n",
       "    </tr>\n",
       "    <tr>\n",
       "      <th>50%</th>\n",
       "      <td>-0.084515</td>\n",
       "      <td>0.206974</td>\n",
       "      <td>-0.404901</td>\n",
       "      <td>-0.103511</td>\n",
       "    </tr>\n",
       "    <tr>\n",
       "      <th>75%</th>\n",
       "      <td>0.947407</td>\n",
       "      <td>1.372059</td>\n",
       "      <td>-0.209736</td>\n",
       "      <td>0.498618</td>\n",
       "    </tr>\n",
       "    <tr>\n",
       "      <th>max</th>\n",
       "      <td>1.466021</td>\n",
       "      <td>2.169890</td>\n",
       "      <td>-0.085670</td>\n",
       "      <td>1.343118</td>\n",
       "    </tr>\n",
       "  </tbody>\n",
       "</table>\n",
       "</div>"
      ],
      "text/plain": [
       "              A         B         C         D\n",
       "count  6.000000  6.000000  6.000000  6.000000\n",
       "mean   0.130013  0.298378 -0.468136 -0.075666\n",
       "std    1.057636  1.429382  0.377397  1.019022\n",
       "min   -1.328971 -1.336126 -1.128318 -1.585989\n",
       "25%   -0.380623 -0.861657 -0.581481 -0.553453\n",
       "50%   -0.084515  0.206974 -0.404901 -0.103511\n",
       "75%    0.947407  1.372059 -0.209736  0.498618\n",
       "max    1.466021  2.169890 -0.085670  1.343118"
      ]
     },
     "execution_count": 49,
     "metadata": {},
     "output_type": "execute_result"
    }
   ],
   "source": [
    "df.describe()"
   ]
  },
  {
   "cell_type": "code",
   "execution_count": 50,
   "metadata": {
    "collapsed": false
   },
   "outputs": [
    {
     "data": {
      "text/plain": [
       "<bound method DataFrame.describe of                    A         B         C         D\n",
       "2013-01-01 -0.425488  2.169890 -0.168240  1.343118\n",
       "2013-01-02  0.076999  0.773222 -0.475579  0.626561\n",
       "2013-01-03 -0.246028 -0.359273 -0.616782  0.114790\n",
       "2013-01-04  1.237543 -1.029119 -0.334224 -0.321812\n",
       "2013-01-05  1.466021  1.571671 -1.128318 -1.585989\n",
       "2013-01-06 -1.328971 -1.336126 -0.085670 -0.630667>"
      ]
     },
     "execution_count": 50,
     "metadata": {},
     "output_type": "execute_result"
    }
   ],
   "source": [
    "df.describe"
   ]
  },
  {
   "cell_type": "code",
   "execution_count": 51,
   "metadata": {
    "collapsed": false
   },
   "outputs": [
    {
     "data": {
      "text/html": [
       "<div>\n",
       "<table border=\"1\" class=\"dataframe\">\n",
       "  <thead>\n",
       "    <tr style=\"text-align: right;\">\n",
       "      <th></th>\n",
       "      <th>2013-01-01 00:00:00</th>\n",
       "      <th>2013-01-02 00:00:00</th>\n",
       "      <th>2013-01-03 00:00:00</th>\n",
       "      <th>2013-01-04 00:00:00</th>\n",
       "      <th>2013-01-05 00:00:00</th>\n",
       "      <th>2013-01-06 00:00:00</th>\n",
       "    </tr>\n",
       "  </thead>\n",
       "  <tbody>\n",
       "    <tr>\n",
       "      <th>A</th>\n",
       "      <td>-0.425488</td>\n",
       "      <td>0.076999</td>\n",
       "      <td>-0.246028</td>\n",
       "      <td>1.237543</td>\n",
       "      <td>1.466021</td>\n",
       "      <td>-1.328971</td>\n",
       "    </tr>\n",
       "    <tr>\n",
       "      <th>B</th>\n",
       "      <td>2.169890</td>\n",
       "      <td>0.773222</td>\n",
       "      <td>-0.359273</td>\n",
       "      <td>-1.029119</td>\n",
       "      <td>1.571671</td>\n",
       "      <td>-1.336126</td>\n",
       "    </tr>\n",
       "    <tr>\n",
       "      <th>C</th>\n",
       "      <td>-0.168240</td>\n",
       "      <td>-0.475579</td>\n",
       "      <td>-0.616782</td>\n",
       "      <td>-0.334224</td>\n",
       "      <td>-1.128318</td>\n",
       "      <td>-0.085670</td>\n",
       "    </tr>\n",
       "    <tr>\n",
       "      <th>D</th>\n",
       "      <td>1.343118</td>\n",
       "      <td>0.626561</td>\n",
       "      <td>0.114790</td>\n",
       "      <td>-0.321812</td>\n",
       "      <td>-1.585989</td>\n",
       "      <td>-0.630667</td>\n",
       "    </tr>\n",
       "  </tbody>\n",
       "</table>\n",
       "</div>"
      ],
      "text/plain": [
       "   2013-01-01  2013-01-02  2013-01-03  2013-01-04  2013-01-05  2013-01-06\n",
       "A   -0.425488    0.076999   -0.246028    1.237543    1.466021   -1.328971\n",
       "B    2.169890    0.773222   -0.359273   -1.029119    1.571671   -1.336126\n",
       "C   -0.168240   -0.475579   -0.616782   -0.334224   -1.128318   -0.085670\n",
       "D    1.343118    0.626561    0.114790   -0.321812   -1.585989   -0.630667"
      ]
     },
     "execution_count": 51,
     "metadata": {},
     "output_type": "execute_result"
    }
   ],
   "source": [
    "df.T"
   ]
  },
  {
   "cell_type": "code",
   "execution_count": 52,
   "metadata": {
    "collapsed": false
   },
   "outputs": [
    {
     "data": {
      "text/plain": [
       "<bound method DataFrame.sort of                    A         B         C         D\n",
       "2013-01-01 -0.425488  2.169890 -0.168240  1.343118\n",
       "2013-01-02  0.076999  0.773222 -0.475579  0.626561\n",
       "2013-01-03 -0.246028 -0.359273 -0.616782  0.114790\n",
       "2013-01-04  1.237543 -1.029119 -0.334224 -0.321812\n",
       "2013-01-05  1.466021  1.571671 -1.128318 -1.585989\n",
       "2013-01-06 -1.328971 -1.336126 -0.085670 -0.630667>"
      ]
     },
     "execution_count": 52,
     "metadata": {},
     "output_type": "execute_result"
    }
   ],
   "source": [
    "df.sort"
   ]
  },
  {
   "cell_type": "code",
   "execution_count": 53,
   "metadata": {
    "collapsed": false
   },
   "outputs": [
    {
     "data": {
      "text/html": [
       "<div>\n",
       "<table border=\"1\" class=\"dataframe\">\n",
       "  <thead>\n",
       "    <tr style=\"text-align: right;\">\n",
       "      <th></th>\n",
       "      <th>D</th>\n",
       "      <th>C</th>\n",
       "      <th>B</th>\n",
       "      <th>A</th>\n",
       "    </tr>\n",
       "  </thead>\n",
       "  <tbody>\n",
       "    <tr>\n",
       "      <th>2013-01-01</th>\n",
       "      <td>1.343118</td>\n",
       "      <td>-0.168240</td>\n",
       "      <td>2.169890</td>\n",
       "      <td>-0.425488</td>\n",
       "    </tr>\n",
       "    <tr>\n",
       "      <th>2013-01-02</th>\n",
       "      <td>0.626561</td>\n",
       "      <td>-0.475579</td>\n",
       "      <td>0.773222</td>\n",
       "      <td>0.076999</td>\n",
       "    </tr>\n",
       "    <tr>\n",
       "      <th>2013-01-03</th>\n",
       "      <td>0.114790</td>\n",
       "      <td>-0.616782</td>\n",
       "      <td>-0.359273</td>\n",
       "      <td>-0.246028</td>\n",
       "    </tr>\n",
       "    <tr>\n",
       "      <th>2013-01-04</th>\n",
       "      <td>-0.321812</td>\n",
       "      <td>-0.334224</td>\n",
       "      <td>-1.029119</td>\n",
       "      <td>1.237543</td>\n",
       "    </tr>\n",
       "    <tr>\n",
       "      <th>2013-01-05</th>\n",
       "      <td>-1.585989</td>\n",
       "      <td>-1.128318</td>\n",
       "      <td>1.571671</td>\n",
       "      <td>1.466021</td>\n",
       "    </tr>\n",
       "    <tr>\n",
       "      <th>2013-01-06</th>\n",
       "      <td>-0.630667</td>\n",
       "      <td>-0.085670</td>\n",
       "      <td>-1.336126</td>\n",
       "      <td>-1.328971</td>\n",
       "    </tr>\n",
       "  </tbody>\n",
       "</table>\n",
       "</div>"
      ],
      "text/plain": [
       "                   D         C         B         A\n",
       "2013-01-01  1.343118 -0.168240  2.169890 -0.425488\n",
       "2013-01-02  0.626561 -0.475579  0.773222  0.076999\n",
       "2013-01-03  0.114790 -0.616782 -0.359273 -0.246028\n",
       "2013-01-04 -0.321812 -0.334224 -1.029119  1.237543\n",
       "2013-01-05 -1.585989 -1.128318  1.571671  1.466021\n",
       "2013-01-06 -0.630667 -0.085670 -1.336126 -1.328971"
      ]
     },
     "execution_count": 53,
     "metadata": {},
     "output_type": "execute_result"
    }
   ],
   "source": [
    "df.sort_index(axis=1, ascending=False)"
   ]
  },
  {
   "cell_type": "code",
   "execution_count": 54,
   "metadata": {
    "collapsed": false
   },
   "outputs": [
    {
     "data": {
      "text/html": [
       "<div>\n",
       "<table border=\"1\" class=\"dataframe\">\n",
       "  <thead>\n",
       "    <tr style=\"text-align: right;\">\n",
       "      <th></th>\n",
       "      <th>D</th>\n",
       "      <th>C</th>\n",
       "      <th>B</th>\n",
       "      <th>A</th>\n",
       "    </tr>\n",
       "  </thead>\n",
       "  <tbody>\n",
       "    <tr>\n",
       "      <th>2013-01-01</th>\n",
       "      <td>1.343118</td>\n",
       "      <td>-0.168240</td>\n",
       "      <td>2.169890</td>\n",
       "      <td>-0.425488</td>\n",
       "    </tr>\n",
       "    <tr>\n",
       "      <th>2013-01-02</th>\n",
       "      <td>0.626561</td>\n",
       "      <td>-0.475579</td>\n",
       "      <td>0.773222</td>\n",
       "      <td>0.076999</td>\n",
       "    </tr>\n",
       "    <tr>\n",
       "      <th>2013-01-03</th>\n",
       "      <td>0.114790</td>\n",
       "      <td>-0.616782</td>\n",
       "      <td>-0.359273</td>\n",
       "      <td>-0.246028</td>\n",
       "    </tr>\n",
       "    <tr>\n",
       "      <th>2013-01-04</th>\n",
       "      <td>-0.321812</td>\n",
       "      <td>-0.334224</td>\n",
       "      <td>-1.029119</td>\n",
       "      <td>1.237543</td>\n",
       "    </tr>\n",
       "    <tr>\n",
       "      <th>2013-01-05</th>\n",
       "      <td>-1.585989</td>\n",
       "      <td>-1.128318</td>\n",
       "      <td>1.571671</td>\n",
       "      <td>1.466021</td>\n",
       "    </tr>\n",
       "    <tr>\n",
       "      <th>2013-01-06</th>\n",
       "      <td>-0.630667</td>\n",
       "      <td>-0.085670</td>\n",
       "      <td>-1.336126</td>\n",
       "      <td>-1.328971</td>\n",
       "    </tr>\n",
       "  </tbody>\n",
       "</table>\n",
       "</div>"
      ],
      "text/plain": [
       "                   D         C         B         A\n",
       "2013-01-01  1.343118 -0.168240  2.169890 -0.425488\n",
       "2013-01-02  0.626561 -0.475579  0.773222  0.076999\n",
       "2013-01-03  0.114790 -0.616782 -0.359273 -0.246028\n",
       "2013-01-04 -0.321812 -0.334224 -1.029119  1.237543\n",
       "2013-01-05 -1.585989 -1.128318  1.571671  1.466021\n",
       "2013-01-06 -0.630667 -0.085670 -1.336126 -1.328971"
      ]
     },
     "execution_count": 54,
     "metadata": {},
     "output_type": "execute_result"
    }
   ],
   "source": [
    "df.sort_index(axis=1, ascending=False)"
   ]
  },
  {
   "cell_type": "code",
   "execution_count": 55,
   "metadata": {
    "collapsed": false
   },
   "outputs": [
    {
     "data": {
      "text/html": [
       "<div>\n",
       "<table border=\"1\" class=\"dataframe\">\n",
       "  <thead>\n",
       "    <tr style=\"text-align: right;\">\n",
       "      <th></th>\n",
       "      <th>A</th>\n",
       "      <th>B</th>\n",
       "      <th>C</th>\n",
       "      <th>D</th>\n",
       "    </tr>\n",
       "  </thead>\n",
       "  <tbody>\n",
       "    <tr>\n",
       "      <th>2013-01-06</th>\n",
       "      <td>-1.328971</td>\n",
       "      <td>-1.336126</td>\n",
       "      <td>-0.085670</td>\n",
       "      <td>-0.630667</td>\n",
       "    </tr>\n",
       "    <tr>\n",
       "      <th>2013-01-04</th>\n",
       "      <td>1.237543</td>\n",
       "      <td>-1.029119</td>\n",
       "      <td>-0.334224</td>\n",
       "      <td>-0.321812</td>\n",
       "    </tr>\n",
       "    <tr>\n",
       "      <th>2013-01-03</th>\n",
       "      <td>-0.246028</td>\n",
       "      <td>-0.359273</td>\n",
       "      <td>-0.616782</td>\n",
       "      <td>0.114790</td>\n",
       "    </tr>\n",
       "    <tr>\n",
       "      <th>2013-01-02</th>\n",
       "      <td>0.076999</td>\n",
       "      <td>0.773222</td>\n",
       "      <td>-0.475579</td>\n",
       "      <td>0.626561</td>\n",
       "    </tr>\n",
       "    <tr>\n",
       "      <th>2013-01-05</th>\n",
       "      <td>1.466021</td>\n",
       "      <td>1.571671</td>\n",
       "      <td>-1.128318</td>\n",
       "      <td>-1.585989</td>\n",
       "    </tr>\n",
       "    <tr>\n",
       "      <th>2013-01-01</th>\n",
       "      <td>-0.425488</td>\n",
       "      <td>2.169890</td>\n",
       "      <td>-0.168240</td>\n",
       "      <td>1.343118</td>\n",
       "    </tr>\n",
       "  </tbody>\n",
       "</table>\n",
       "</div>"
      ],
      "text/plain": [
       "                   A         B         C         D\n",
       "2013-01-06 -1.328971 -1.336126 -0.085670 -0.630667\n",
       "2013-01-04  1.237543 -1.029119 -0.334224 -0.321812\n",
       "2013-01-03 -0.246028 -0.359273 -0.616782  0.114790\n",
       "2013-01-02  0.076999  0.773222 -0.475579  0.626561\n",
       "2013-01-05  1.466021  1.571671 -1.128318 -1.585989\n",
       "2013-01-01 -0.425488  2.169890 -0.168240  1.343118"
      ]
     },
     "execution_count": 55,
     "metadata": {},
     "output_type": "execute_result"
    }
   ],
   "source": [
    "df.sort_values(by='B')"
   ]
  },
  {
   "cell_type": "code",
   "execution_count": 56,
   "metadata": {
    "collapsed": false
   },
   "outputs": [
    {
     "data": {
      "text/plain": [
       "2013-01-01   -0.425488\n",
       "2013-01-02    0.076999\n",
       "2013-01-03   -0.246028\n",
       "2013-01-04    1.237543\n",
       "2013-01-05    1.466021\n",
       "2013-01-06   -1.328971\n",
       "Freq: D, Name: A, dtype: float64"
      ]
     },
     "execution_count": 56,
     "metadata": {},
     "output_type": "execute_result"
    }
   ],
   "source": [
    "df['A']"
   ]
  },
  {
   "cell_type": "code",
   "execution_count": 57,
   "metadata": {
    "collapsed": false
   },
   "outputs": [
    {
     "data": {
      "text/html": [
       "<div>\n",
       "<table border=\"1\" class=\"dataframe\">\n",
       "  <thead>\n",
       "    <tr style=\"text-align: right;\">\n",
       "      <th></th>\n",
       "      <th>A</th>\n",
       "      <th>B</th>\n",
       "      <th>C</th>\n",
       "      <th>D</th>\n",
       "    </tr>\n",
       "  </thead>\n",
       "  <tbody>\n",
       "    <tr>\n",
       "      <th>2013-01-03</th>\n",
       "      <td>-0.246028</td>\n",
       "      <td>-0.359273</td>\n",
       "      <td>-0.616782</td>\n",
       "      <td>0.114790</td>\n",
       "    </tr>\n",
       "    <tr>\n",
       "      <th>2013-01-04</th>\n",
       "      <td>1.237543</td>\n",
       "      <td>-1.029119</td>\n",
       "      <td>-0.334224</td>\n",
       "      <td>-0.321812</td>\n",
       "    </tr>\n",
       "  </tbody>\n",
       "</table>\n",
       "</div>"
      ],
      "text/plain": [
       "                   A         B         C         D\n",
       "2013-01-03 -0.246028 -0.359273 -0.616782  0.114790\n",
       "2013-01-04  1.237543 -1.029119 -0.334224 -0.321812"
      ]
     },
     "execution_count": 57,
     "metadata": {},
     "output_type": "execute_result"
    }
   ],
   "source": [
    "df[2:4]"
   ]
  },
  {
   "cell_type": "code",
   "execution_count": 58,
   "metadata": {
    "collapsed": false
   },
   "outputs": [
    {
     "data": {
      "text/html": [
       "<div>\n",
       "<table border=\"1\" class=\"dataframe\">\n",
       "  <thead>\n",
       "    <tr style=\"text-align: right;\">\n",
       "      <th></th>\n",
       "      <th>A</th>\n",
       "      <th>B</th>\n",
       "      <th>C</th>\n",
       "      <th>D</th>\n",
       "    </tr>\n",
       "  </thead>\n",
       "  <tbody>\n",
       "    <tr>\n",
       "      <th>2013-01-02</th>\n",
       "      <td>0.076999</td>\n",
       "      <td>0.773222</td>\n",
       "      <td>-0.475579</td>\n",
       "      <td>0.626561</td>\n",
       "    </tr>\n",
       "    <tr>\n",
       "      <th>2013-01-03</th>\n",
       "      <td>-0.246028</td>\n",
       "      <td>-0.359273</td>\n",
       "      <td>-0.616782</td>\n",
       "      <td>0.114790</td>\n",
       "    </tr>\n",
       "    <tr>\n",
       "      <th>2013-01-04</th>\n",
       "      <td>1.237543</td>\n",
       "      <td>-1.029119</td>\n",
       "      <td>-0.334224</td>\n",
       "      <td>-0.321812</td>\n",
       "    </tr>\n",
       "  </tbody>\n",
       "</table>\n",
       "</div>"
      ],
      "text/plain": [
       "                   A         B         C         D\n",
       "2013-01-02  0.076999  0.773222 -0.475579  0.626561\n",
       "2013-01-03 -0.246028 -0.359273 -0.616782  0.114790\n",
       "2013-01-04  1.237543 -1.029119 -0.334224 -0.321812"
      ]
     },
     "execution_count": 58,
     "metadata": {},
     "output_type": "execute_result"
    }
   ],
   "source": [
    "df['20130102':'20130104']"
   ]
  },
  {
   "cell_type": "code",
   "execution_count": 59,
   "metadata": {
    "collapsed": false
   },
   "outputs": [
    {
     "data": {
      "text/plain": [
       "A   -0.425488\n",
       "B    2.169890\n",
       "C   -0.168240\n",
       "D    1.343118\n",
       "Name: 2013-01-01 00:00:00, dtype: float64"
      ]
     },
     "execution_count": 59,
     "metadata": {},
     "output_type": "execute_result"
    }
   ],
   "source": [
    "df.loc[dates[0]]"
   ]
  },
  {
   "cell_type": "code",
   "execution_count": 60,
   "metadata": {
    "collapsed": false
   },
   "outputs": [
    {
     "data": {
      "text/plain": [
       "A   -0.425488\n",
       "B    2.169890\n",
       "C   -0.168240\n",
       "D    1.343118\n",
       "Name: 2013-01-01 00:00:00, dtype: float64"
      ]
     },
     "execution_count": 60,
     "metadata": {},
     "output_type": "execute_result"
    }
   ],
   "source": [
    "df.loc[dates[0]]"
   ]
  },
  {
   "cell_type": "code",
   "execution_count": 61,
   "metadata": {
    "collapsed": false
   },
   "outputs": [
    {
     "data": {
      "text/html": [
       "<div>\n",
       "<table border=\"1\" class=\"dataframe\">\n",
       "  <thead>\n",
       "    <tr style=\"text-align: right;\">\n",
       "      <th></th>\n",
       "      <th>A</th>\n",
       "      <th>C</th>\n",
       "    </tr>\n",
       "  </thead>\n",
       "  <tbody>\n",
       "    <tr>\n",
       "      <th>2013-01-01</th>\n",
       "      <td>-0.425488</td>\n",
       "      <td>-0.168240</td>\n",
       "    </tr>\n",
       "    <tr>\n",
       "      <th>2013-01-02</th>\n",
       "      <td>0.076999</td>\n",
       "      <td>-0.475579</td>\n",
       "    </tr>\n",
       "    <tr>\n",
       "      <th>2013-01-03</th>\n",
       "      <td>-0.246028</td>\n",
       "      <td>-0.616782</td>\n",
       "    </tr>\n",
       "    <tr>\n",
       "      <th>2013-01-04</th>\n",
       "      <td>1.237543</td>\n",
       "      <td>-0.334224</td>\n",
       "    </tr>\n",
       "    <tr>\n",
       "      <th>2013-01-05</th>\n",
       "      <td>1.466021</td>\n",
       "      <td>-1.128318</td>\n",
       "    </tr>\n",
       "    <tr>\n",
       "      <th>2013-01-06</th>\n",
       "      <td>-1.328971</td>\n",
       "      <td>-0.085670</td>\n",
       "    </tr>\n",
       "  </tbody>\n",
       "</table>\n",
       "</div>"
      ],
      "text/plain": [
       "                   A         C\n",
       "2013-01-01 -0.425488 -0.168240\n",
       "2013-01-02  0.076999 -0.475579\n",
       "2013-01-03 -0.246028 -0.616782\n",
       "2013-01-04  1.237543 -0.334224\n",
       "2013-01-05  1.466021 -1.128318\n",
       "2013-01-06 -1.328971 -0.085670"
      ]
     },
     "execution_count": 61,
     "metadata": {},
     "output_type": "execute_result"
    }
   ],
   "source": [
    "df.loc[:,['A','C']]"
   ]
  },
  {
   "cell_type": "code",
   "execution_count": 62,
   "metadata": {
    "collapsed": false
   },
   "outputs": [
    {
     "data": {
      "text/html": [
       "<div>\n",
       "<table border=\"1\" class=\"dataframe\">\n",
       "  <thead>\n",
       "    <tr style=\"text-align: right;\">\n",
       "      <th></th>\n",
       "      <th>A</th>\n",
       "      <th>C</th>\n",
       "    </tr>\n",
       "  </thead>\n",
       "  <tbody>\n",
       "    <tr>\n",
       "      <th>2013-01-01</th>\n",
       "      <td>-0.425488</td>\n",
       "      <td>-0.168240</td>\n",
       "    </tr>\n",
       "    <tr>\n",
       "      <th>2013-01-02</th>\n",
       "      <td>0.076999</td>\n",
       "      <td>-0.475579</td>\n",
       "    </tr>\n",
       "    <tr>\n",
       "      <th>2013-01-03</th>\n",
       "      <td>-0.246028</td>\n",
       "      <td>-0.616782</td>\n",
       "    </tr>\n",
       "    <tr>\n",
       "      <th>2013-01-04</th>\n",
       "      <td>1.237543</td>\n",
       "      <td>-0.334224</td>\n",
       "    </tr>\n",
       "    <tr>\n",
       "      <th>2013-01-05</th>\n",
       "      <td>1.466021</td>\n",
       "      <td>-1.128318</td>\n",
       "    </tr>\n",
       "    <tr>\n",
       "      <th>2013-01-06</th>\n",
       "      <td>-1.328971</td>\n",
       "      <td>-0.085670</td>\n",
       "    </tr>\n",
       "  </tbody>\n",
       "</table>\n",
       "</div>"
      ],
      "text/plain": [
       "                   A         C\n",
       "2013-01-01 -0.425488 -0.168240\n",
       "2013-01-02  0.076999 -0.475579\n",
       "2013-01-03 -0.246028 -0.616782\n",
       "2013-01-04  1.237543 -0.334224\n",
       "2013-01-05  1.466021 -1.128318\n",
       "2013-01-06 -1.328971 -0.085670"
      ]
     },
     "execution_count": 62,
     "metadata": {},
     "output_type": "execute_result"
    }
   ],
   "source": [
    "df.loc[:,['A','C']]"
   ]
  },
  {
   "cell_type": "code",
   "execution_count": 63,
   "metadata": {
    "collapsed": false
   },
   "outputs": [
    {
     "data": {
      "text/html": [
       "<div>\n",
       "<table border=\"1\" class=\"dataframe\">\n",
       "  <thead>\n",
       "    <tr style=\"text-align: right;\">\n",
       "      <th></th>\n",
       "      <th>A</th>\n",
       "      <th>B</th>\n",
       "    </tr>\n",
       "  </thead>\n",
       "  <tbody>\n",
       "    <tr>\n",
       "      <th>2013-01-02</th>\n",
       "      <td>0.076999</td>\n",
       "      <td>0.773222</td>\n",
       "    </tr>\n",
       "    <tr>\n",
       "      <th>2013-01-03</th>\n",
       "      <td>-0.246028</td>\n",
       "      <td>-0.359273</td>\n",
       "    </tr>\n",
       "    <tr>\n",
       "      <th>2013-01-04</th>\n",
       "      <td>1.237543</td>\n",
       "      <td>-1.029119</td>\n",
       "    </tr>\n",
       "  </tbody>\n",
       "</table>\n",
       "</div>"
      ],
      "text/plain": [
       "                   A         B\n",
       "2013-01-02  0.076999  0.773222\n",
       "2013-01-03 -0.246028 -0.359273\n",
       "2013-01-04  1.237543 -1.029119"
      ]
     },
     "execution_count": 63,
     "metadata": {},
     "output_type": "execute_result"
    }
   ],
   "source": [
    "df.loc['20130102':'20130104',['A','B']]"
   ]
  },
  {
   "cell_type": "code",
   "execution_count": 64,
   "metadata": {
    "collapsed": false
   },
   "outputs": [
    {
     "ename": "SyntaxError",
     "evalue": "invalid syntax (<ipython-input-64-240566fbdf6e>, line 1)",
     "output_type": "error",
     "traceback": [
      "\u001b[1;36m  File \u001b[1;32m\"<ipython-input-64-240566fbdf6e>\"\u001b[1;36m, line \u001b[1;32m1\u001b[0m\n\u001b[1;33m    df.loc[[1:2],['A','B']]\u001b[0m\n\u001b[1;37m             ^\u001b[0m\n\u001b[1;31mSyntaxError\u001b[0m\u001b[1;31m:\u001b[0m invalid syntax\n"
     ]
    }
   ],
   "source": [
    "df.loc[[1:2],['A','B']]"
   ]
  },
  {
   "cell_type": "code",
   "execution_count": 65,
   "metadata": {
    "collapsed": false
   },
   "outputs": [
    {
     "data": {
      "text/html": [
       "<div>\n",
       "<table border=\"1\" class=\"dataframe\">\n",
       "  <thead>\n",
       "    <tr style=\"text-align: right;\">\n",
       "      <th></th>\n",
       "      <th>A</th>\n",
       "      <th>B</th>\n",
       "      <th>C</th>\n",
       "      <th>D</th>\n",
       "    </tr>\n",
       "  </thead>\n",
       "  <tbody>\n",
       "    <tr>\n",
       "      <th>2013-01-01</th>\n",
       "      <td>-0.425488</td>\n",
       "      <td>2.169890</td>\n",
       "      <td>-0.168240</td>\n",
       "      <td>1.343118</td>\n",
       "    </tr>\n",
       "    <tr>\n",
       "      <th>2013-01-02</th>\n",
       "      <td>0.076999</td>\n",
       "      <td>0.773222</td>\n",
       "      <td>-0.475579</td>\n",
       "      <td>0.626561</td>\n",
       "    </tr>\n",
       "    <tr>\n",
       "      <th>2013-01-03</th>\n",
       "      <td>-0.246028</td>\n",
       "      <td>-0.359273</td>\n",
       "      <td>-0.616782</td>\n",
       "      <td>0.114790</td>\n",
       "    </tr>\n",
       "    <tr>\n",
       "      <th>2013-01-04</th>\n",
       "      <td>1.237543</td>\n",
       "      <td>-1.029119</td>\n",
       "      <td>-0.334224</td>\n",
       "      <td>-0.321812</td>\n",
       "    </tr>\n",
       "    <tr>\n",
       "      <th>2013-01-05</th>\n",
       "      <td>1.466021</td>\n",
       "      <td>1.571671</td>\n",
       "      <td>-1.128318</td>\n",
       "      <td>-1.585989</td>\n",
       "    </tr>\n",
       "    <tr>\n",
       "      <th>2013-01-06</th>\n",
       "      <td>-1.328971</td>\n",
       "      <td>-1.336126</td>\n",
       "      <td>-0.085670</td>\n",
       "      <td>-0.630667</td>\n",
       "    </tr>\n",
       "  </tbody>\n",
       "</table>\n",
       "</div>"
      ],
      "text/plain": [
       "                   A         B         C         D\n",
       "2013-01-01 -0.425488  2.169890 -0.168240  1.343118\n",
       "2013-01-02  0.076999  0.773222 -0.475579  0.626561\n",
       "2013-01-03 -0.246028 -0.359273 -0.616782  0.114790\n",
       "2013-01-04  1.237543 -1.029119 -0.334224 -0.321812\n",
       "2013-01-05  1.466021  1.571671 -1.128318 -1.585989\n",
       "2013-01-06 -1.328971 -1.336126 -0.085670 -0.630667"
      ]
     },
     "execution_count": 65,
     "metadata": {},
     "output_type": "execute_result"
    }
   ],
   "source": [
    "df"
   ]
  },
  {
   "cell_type": "code",
   "execution_count": 80,
   "metadata": {
    "collapsed": false
   },
   "outputs": [],
   "source": [
    "df.loc[:,'E'] = np.array([3] * len(df))"
   ]
  },
  {
   "cell_type": "code",
   "execution_count": 77,
   "metadata": {
    "collapsed": false
   },
   "outputs": [
    {
     "data": {
      "text/html": [
       "<div>\n",
       "<table border=\"1\" class=\"dataframe\">\n",
       "  <thead>\n",
       "    <tr style=\"text-align: right;\">\n",
       "      <th></th>\n",
       "      <th>A</th>\n",
       "      <th>B</th>\n",
       "      <th>C</th>\n",
       "      <th>D</th>\n",
       "      <th>E</th>\n",
       "    </tr>\n",
       "  </thead>\n",
       "  <tbody>\n",
       "    <tr>\n",
       "      <th>2013-01-01 00:00:00</th>\n",
       "      <td>-0.425488</td>\n",
       "      <td>2.169890</td>\n",
       "      <td>-0.168240</td>\n",
       "      <td>5.0</td>\n",
       "      <td>3</td>\n",
       "    </tr>\n",
       "    <tr>\n",
       "      <th>2013-01-02 00:00:00</th>\n",
       "      <td>0.076999</td>\n",
       "      <td>0.773222</td>\n",
       "      <td>-0.475579</td>\n",
       "      <td>5.0</td>\n",
       "      <td>3</td>\n",
       "    </tr>\n",
       "    <tr>\n",
       "      <th>2013-01-03 00:00:00</th>\n",
       "      <td>-0.246028</td>\n",
       "      <td>-0.359273</td>\n",
       "      <td>-0.616782</td>\n",
       "      <td>5.0</td>\n",
       "      <td>3</td>\n",
       "    </tr>\n",
       "    <tr>\n",
       "      <th>2013-01-04 00:00:00</th>\n",
       "      <td>1.237543</td>\n",
       "      <td>-1.029119</td>\n",
       "      <td>-0.334224</td>\n",
       "      <td>5.0</td>\n",
       "      <td>3</td>\n",
       "    </tr>\n",
       "    <tr>\n",
       "      <th>2013-01-05 00:00:00</th>\n",
       "      <td>1.466021</td>\n",
       "      <td>1.571671</td>\n",
       "      <td>-1.128318</td>\n",
       "      <td>5.0</td>\n",
       "      <td>3</td>\n",
       "    </tr>\n",
       "    <tr>\n",
       "      <th>2013-01-06 00:00:00</th>\n",
       "      <td>-1.328971</td>\n",
       "      <td>-1.336126</td>\n",
       "      <td>-0.085670</td>\n",
       "      <td>5.0</td>\n",
       "      <td>3</td>\n",
       "    </tr>\n",
       "    <tr>\n",
       "      <th>2</th>\n",
       "      <td>NaN</td>\n",
       "      <td>NaN</td>\n",
       "      <td>NaN</td>\n",
       "      <td>NaN</td>\n",
       "      <td>3</td>\n",
       "    </tr>\n",
       "  </tbody>\n",
       "</table>\n",
       "</div>"
      ],
      "text/plain": [
       "                            A         B         C    D  E\n",
       "2013-01-01 00:00:00 -0.425488  2.169890 -0.168240  5.0  3\n",
       "2013-01-02 00:00:00  0.076999  0.773222 -0.475579  5.0  3\n",
       "2013-01-03 00:00:00 -0.246028 -0.359273 -0.616782  5.0  3\n",
       "2013-01-04 00:00:00  1.237543 -1.029119 -0.334224  5.0  3\n",
       "2013-01-05 00:00:00  1.466021  1.571671 -1.128318  5.0  3\n",
       "2013-01-06 00:00:00 -1.328971 -1.336126 -0.085670  5.0  3\n",
       "2                         NaN       NaN       NaN  NaN  3"
      ]
     },
     "execution_count": 77,
     "metadata": {},
     "output_type": "execute_result"
    }
   ],
   "source": [
    "df"
   ]
  },
  {
   "cell_type": "code",
   "execution_count": 75,
   "metadata": {
    "collapsed": false
   },
   "outputs": [
    {
     "data": {
      "text/plain": [
       "7"
      ]
     },
     "execution_count": 75,
     "metadata": {},
     "output_type": "execute_result"
    }
   ],
   "source": [
    "len(df)"
   ]
  },
  {
   "cell_type": "code",
   "execution_count": 81,
   "metadata": {
    "collapsed": true
   },
   "outputs": [],
   "source": [
    "df2 = df.copy()"
   ]
  },
  {
   "cell_type": "markdown",
   "metadata": {},
   "source": [
    "df2"
   ]
  },
  {
   "cell_type": "code",
   "execution_count": 82,
   "metadata": {
    "collapsed": false
   },
   "outputs": [
    {
     "data": {
      "text/html": [
       "<div>\n",
       "<table border=\"1\" class=\"dataframe\">\n",
       "  <thead>\n",
       "    <tr style=\"text-align: right;\">\n",
       "      <th></th>\n",
       "      <th>A</th>\n",
       "      <th>B</th>\n",
       "      <th>C</th>\n",
       "      <th>D</th>\n",
       "      <th>E</th>\n",
       "    </tr>\n",
       "  </thead>\n",
       "  <tbody>\n",
       "    <tr>\n",
       "      <th>2013-01-01 00:00:00</th>\n",
       "      <td>-0.425488</td>\n",
       "      <td>2.169890</td>\n",
       "      <td>-0.168240</td>\n",
       "      <td>5.0</td>\n",
       "      <td>3</td>\n",
       "    </tr>\n",
       "    <tr>\n",
       "      <th>2013-01-02 00:00:00</th>\n",
       "      <td>0.076999</td>\n",
       "      <td>0.773222</td>\n",
       "      <td>-0.475579</td>\n",
       "      <td>5.0</td>\n",
       "      <td>3</td>\n",
       "    </tr>\n",
       "    <tr>\n",
       "      <th>2013-01-03 00:00:00</th>\n",
       "      <td>-0.246028</td>\n",
       "      <td>-0.359273</td>\n",
       "      <td>-0.616782</td>\n",
       "      <td>5.0</td>\n",
       "      <td>3</td>\n",
       "    </tr>\n",
       "    <tr>\n",
       "      <th>2013-01-04 00:00:00</th>\n",
       "      <td>1.237543</td>\n",
       "      <td>-1.029119</td>\n",
       "      <td>-0.334224</td>\n",
       "      <td>5.0</td>\n",
       "      <td>3</td>\n",
       "    </tr>\n",
       "    <tr>\n",
       "      <th>2013-01-05 00:00:00</th>\n",
       "      <td>1.466021</td>\n",
       "      <td>1.571671</td>\n",
       "      <td>-1.128318</td>\n",
       "      <td>5.0</td>\n",
       "      <td>3</td>\n",
       "    </tr>\n",
       "    <tr>\n",
       "      <th>2013-01-06 00:00:00</th>\n",
       "      <td>-1.328971</td>\n",
       "      <td>-1.336126</td>\n",
       "      <td>-0.085670</td>\n",
       "      <td>5.0</td>\n",
       "      <td>3</td>\n",
       "    </tr>\n",
       "    <tr>\n",
       "      <th>2</th>\n",
       "      <td>NaN</td>\n",
       "      <td>NaN</td>\n",
       "      <td>NaN</td>\n",
       "      <td>NaN</td>\n",
       "      <td>3</td>\n",
       "    </tr>\n",
       "    <tr>\n",
       "      <th>20130103</th>\n",
       "      <td>NaN</td>\n",
       "      <td>NaN</td>\n",
       "      <td>NaN</td>\n",
       "      <td>NaN</td>\n",
       "      <td>3</td>\n",
       "    </tr>\n",
       "    <tr>\n",
       "      <th>20130103</th>\n",
       "      <td>NaN</td>\n",
       "      <td>NaN</td>\n",
       "      <td>NaN</td>\n",
       "      <td>NaN</td>\n",
       "      <td>3</td>\n",
       "    </tr>\n",
       "  </tbody>\n",
       "</table>\n",
       "</div>"
      ],
      "text/plain": [
       "                            A         B         C    D  E\n",
       "2013-01-01 00:00:00 -0.425488  2.169890 -0.168240  5.0  3\n",
       "2013-01-02 00:00:00  0.076999  0.773222 -0.475579  5.0  3\n",
       "2013-01-03 00:00:00 -0.246028 -0.359273 -0.616782  5.0  3\n",
       "2013-01-04 00:00:00  1.237543 -1.029119 -0.334224  5.0  3\n",
       "2013-01-05 00:00:00  1.466021  1.571671 -1.128318  5.0  3\n",
       "2013-01-06 00:00:00 -1.328971 -1.336126 -0.085670  5.0  3\n",
       "2                         NaN       NaN       NaN  NaN  3\n",
       "20130103                  NaN       NaN       NaN  NaN  3\n",
       "20130103                  NaN       NaN       NaN  NaN  3"
      ]
     },
     "execution_count": 82,
     "metadata": {},
     "output_type": "execute_result"
    }
   ],
   "source": [
    "df2"
   ]
  },
  {
   "cell_type": "code",
   "execution_count": 83,
   "metadata": {
    "collapsed": true
   },
   "outputs": [],
   "source": [
    "df2[df2 > 0] = -df2"
   ]
  },
  {
   "cell_type": "code",
   "execution_count": 84,
   "metadata": {
    "collapsed": false
   },
   "outputs": [
    {
     "data": {
      "text/html": [
       "<div>\n",
       "<table border=\"1\" class=\"dataframe\">\n",
       "  <thead>\n",
       "    <tr style=\"text-align: right;\">\n",
       "      <th></th>\n",
       "      <th>A</th>\n",
       "      <th>B</th>\n",
       "      <th>C</th>\n",
       "      <th>D</th>\n",
       "      <th>E</th>\n",
       "    </tr>\n",
       "  </thead>\n",
       "  <tbody>\n",
       "    <tr>\n",
       "      <th>2013-01-01 00:00:00</th>\n",
       "      <td>-0.425488</td>\n",
       "      <td>-2.169890</td>\n",
       "      <td>-0.168240</td>\n",
       "      <td>-5.0</td>\n",
       "      <td>-3</td>\n",
       "    </tr>\n",
       "    <tr>\n",
       "      <th>2013-01-02 00:00:00</th>\n",
       "      <td>-0.076999</td>\n",
       "      <td>-0.773222</td>\n",
       "      <td>-0.475579</td>\n",
       "      <td>-5.0</td>\n",
       "      <td>-3</td>\n",
       "    </tr>\n",
       "    <tr>\n",
       "      <th>2013-01-03 00:00:00</th>\n",
       "      <td>-0.246028</td>\n",
       "      <td>-0.359273</td>\n",
       "      <td>-0.616782</td>\n",
       "      <td>-5.0</td>\n",
       "      <td>-3</td>\n",
       "    </tr>\n",
       "    <tr>\n",
       "      <th>2013-01-04 00:00:00</th>\n",
       "      <td>-1.237543</td>\n",
       "      <td>-1.029119</td>\n",
       "      <td>-0.334224</td>\n",
       "      <td>-5.0</td>\n",
       "      <td>-3</td>\n",
       "    </tr>\n",
       "    <tr>\n",
       "      <th>2013-01-05 00:00:00</th>\n",
       "      <td>-1.466021</td>\n",
       "      <td>-1.571671</td>\n",
       "      <td>-1.128318</td>\n",
       "      <td>-5.0</td>\n",
       "      <td>-3</td>\n",
       "    </tr>\n",
       "    <tr>\n",
       "      <th>2013-01-06 00:00:00</th>\n",
       "      <td>-1.328971</td>\n",
       "      <td>-1.336126</td>\n",
       "      <td>-0.085670</td>\n",
       "      <td>-5.0</td>\n",
       "      <td>-3</td>\n",
       "    </tr>\n",
       "    <tr>\n",
       "      <th>2</th>\n",
       "      <td>NaN</td>\n",
       "      <td>NaN</td>\n",
       "      <td>NaN</td>\n",
       "      <td>NaN</td>\n",
       "      <td>-3</td>\n",
       "    </tr>\n",
       "    <tr>\n",
       "      <th>20130103</th>\n",
       "      <td>NaN</td>\n",
       "      <td>NaN</td>\n",
       "      <td>NaN</td>\n",
       "      <td>NaN</td>\n",
       "      <td>-3</td>\n",
       "    </tr>\n",
       "    <tr>\n",
       "      <th>20130103</th>\n",
       "      <td>NaN</td>\n",
       "      <td>NaN</td>\n",
       "      <td>NaN</td>\n",
       "      <td>NaN</td>\n",
       "      <td>-3</td>\n",
       "    </tr>\n",
       "  </tbody>\n",
       "</table>\n",
       "</div>"
      ],
      "text/plain": [
       "                            A         B         C    D  E\n",
       "2013-01-01 00:00:00 -0.425488 -2.169890 -0.168240 -5.0 -3\n",
       "2013-01-02 00:00:00 -0.076999 -0.773222 -0.475579 -5.0 -3\n",
       "2013-01-03 00:00:00 -0.246028 -0.359273 -0.616782 -5.0 -3\n",
       "2013-01-04 00:00:00 -1.237543 -1.029119 -0.334224 -5.0 -3\n",
       "2013-01-05 00:00:00 -1.466021 -1.571671 -1.128318 -5.0 -3\n",
       "2013-01-06 00:00:00 -1.328971 -1.336126 -0.085670 -5.0 -3\n",
       "2                         NaN       NaN       NaN  NaN -3\n",
       "20130103                  NaN       NaN       NaN  NaN -3\n",
       "20130103                  NaN       NaN       NaN  NaN -3"
      ]
     },
     "execution_count": 84,
     "metadata": {},
     "output_type": "execute_result"
    }
   ],
   "source": [
    "df2"
   ]
  },
  {
   "cell_type": "code",
   "execution_count": 86,
   "metadata": {
    "collapsed": false
   },
   "outputs": [
    {
     "data": {
      "text/html": [
       "<div>\n",
       "<table border=\"1\" class=\"dataframe\">\n",
       "  <thead>\n",
       "    <tr style=\"text-align: right;\">\n",
       "      <th></th>\n",
       "      <th>A</th>\n",
       "      <th>B</th>\n",
       "      <th>C</th>\n",
       "      <th>D</th>\n",
       "      <th>E</th>\n",
       "    </tr>\n",
       "  </thead>\n",
       "  <tbody>\n",
       "    <tr>\n",
       "      <th>2013-01-01 00:00:00</th>\n",
       "      <td>-0.425488</td>\n",
       "      <td>-2.169890</td>\n",
       "      <td>-0.168240</td>\n",
       "      <td>-5.0</td>\n",
       "      <td>-3</td>\n",
       "    </tr>\n",
       "    <tr>\n",
       "      <th>2013-01-02 00:00:00</th>\n",
       "      <td>-0.076999</td>\n",
       "      <td>-0.773222</td>\n",
       "      <td>-0.475579</td>\n",
       "      <td>-5.0</td>\n",
       "      <td>-3</td>\n",
       "    </tr>\n",
       "    <tr>\n",
       "      <th>2013-01-03 00:00:00</th>\n",
       "      <td>-0.246028</td>\n",
       "      <td>-0.359273</td>\n",
       "      <td>-0.616782</td>\n",
       "      <td>-5.0</td>\n",
       "      <td>-3</td>\n",
       "    </tr>\n",
       "    <tr>\n",
       "      <th>2013-01-04 00:00:00</th>\n",
       "      <td>-1.237543</td>\n",
       "      <td>-1.029119</td>\n",
       "      <td>-0.334224</td>\n",
       "      <td>-5.0</td>\n",
       "      <td>-3</td>\n",
       "    </tr>\n",
       "    <tr>\n",
       "      <th>2013-01-05 00:00:00</th>\n",
       "      <td>-1.466021</td>\n",
       "      <td>-1.571671</td>\n",
       "      <td>-1.128318</td>\n",
       "      <td>-5.0</td>\n",
       "      <td>-3</td>\n",
       "    </tr>\n",
       "    <tr>\n",
       "      <th>2013-01-06 00:00:00</th>\n",
       "      <td>-1.328971</td>\n",
       "      <td>-1.336126</td>\n",
       "      <td>-0.085670</td>\n",
       "      <td>-5.0</td>\n",
       "      <td>-3</td>\n",
       "    </tr>\n",
       "    <tr>\n",
       "      <th>2</th>\n",
       "      <td>NaN</td>\n",
       "      <td>NaN</td>\n",
       "      <td>NaN</td>\n",
       "      <td>NaN</td>\n",
       "      <td>-3</td>\n",
       "    </tr>\n",
       "    <tr>\n",
       "      <th>20130103</th>\n",
       "      <td>NaN</td>\n",
       "      <td>NaN</td>\n",
       "      <td>NaN</td>\n",
       "      <td>NaN</td>\n",
       "      <td>-3</td>\n",
       "    </tr>\n",
       "    <tr>\n",
       "      <th>20130103</th>\n",
       "      <td>NaN</td>\n",
       "      <td>NaN</td>\n",
       "      <td>NaN</td>\n",
       "      <td>NaN</td>\n",
       "      <td>-3</td>\n",
       "    </tr>\n",
       "  </tbody>\n",
       "</table>\n",
       "</div>"
      ],
      "text/plain": [
       "                            A         B         C    D  E\n",
       "2013-01-01 00:00:00 -0.425488 -2.169890 -0.168240 -5.0 -3\n",
       "2013-01-02 00:00:00 -0.076999 -0.773222 -0.475579 -5.0 -3\n",
       "2013-01-03 00:00:00 -0.246028 -0.359273 -0.616782 -5.0 -3\n",
       "2013-01-04 00:00:00 -1.237543 -1.029119 -0.334224 -5.0 -3\n",
       "2013-01-05 00:00:00 -1.466021 -1.571671 -1.128318 -5.0 -3\n",
       "2013-01-06 00:00:00 -1.328971 -1.336126 -0.085670 -5.0 -3\n",
       "2                         NaN       NaN       NaN  NaN -3\n",
       "20130103                  NaN       NaN       NaN  NaN -3\n",
       "20130103                  NaN       NaN       NaN  NaN -3"
      ]
     },
     "execution_count": 86,
     "metadata": {},
     "output_type": "execute_result"
    }
   ],
   "source": [
    "df2 = df.copy()\n",
    "\n",
    "df2[df2 > 0] = -df2\n",
    "\n",
    "df2"
   ]
  },
  {
   "cell_type": "code",
   "execution_count": null,
   "metadata": {
    "collapsed": true
   },
   "outputs": [],
   "source": [
    "Out[54]: \n",
    "                   A         B         C  D    F\n",
    "2013-01-01  0.000000  0.000000 -1.509059 -5  NaN\n",
    "2013-01-02 -1.212112 -0.173215 -0.119209 -5 -1.0\n",
    "2013-01-03 -0.861849 -2.104569 -0.494929 -5 -2.0\n",
    "2013-01-04 -0.721555 -0.706771 -1.039575 -5 -3.0\n",
    "2013-01-05 -0.424972 -0.567020 -0.276232 -5 -4.0\n",
    "2013-01-06 -0.673690 -0.113648 -1.478427 -5 -5.0\n",
    "\n",
    "Missing Data\n",
    "\n",
    "pandas primarily uses the value np.nan to represent missing data. It is by default not included in computations. See the Missing Data section\n",
    "\n",
    "Reindexing allows you to change/add/delete the index on a specified axis. This returns a copy of the data."
   ]
  },
  {
   "cell_type": "code",
   "execution_count": 89,
   "metadata": {
    "collapsed": false
   },
   "outputs": [
    {
     "data": {
      "text/html": [
       "<div>\n",
       "<table border=\"1\" class=\"dataframe\">\n",
       "  <thead>\n",
       "    <tr style=\"text-align: right;\">\n",
       "      <th></th>\n",
       "      <th>A</th>\n",
       "      <th>B</th>\n",
       "      <th>C</th>\n",
       "      <th>D</th>\n",
       "      <th>E</th>\n",
       "      <th>E</th>\n",
       "    </tr>\n",
       "  </thead>\n",
       "  <tbody>\n",
       "    <tr>\n",
       "      <th>2013-01-01</th>\n",
       "      <td>-0.425488</td>\n",
       "      <td>2.169890</td>\n",
       "      <td>-0.168240</td>\n",
       "      <td>5.0</td>\n",
       "      <td>1</td>\n",
       "      <td>1</td>\n",
       "    </tr>\n",
       "    <tr>\n",
       "      <th>2013-01-02</th>\n",
       "      <td>0.076999</td>\n",
       "      <td>0.773222</td>\n",
       "      <td>-0.475579</td>\n",
       "      <td>5.0</td>\n",
       "      <td>1</td>\n",
       "      <td>1</td>\n",
       "    </tr>\n",
       "    <tr>\n",
       "      <th>2013-01-03</th>\n",
       "      <td>-0.246028</td>\n",
       "      <td>-0.359273</td>\n",
       "      <td>-0.616782</td>\n",
       "      <td>5.0</td>\n",
       "      <td>3</td>\n",
       "      <td>3</td>\n",
       "    </tr>\n",
       "    <tr>\n",
       "      <th>2013-01-04</th>\n",
       "      <td>1.237543</td>\n",
       "      <td>-1.029119</td>\n",
       "      <td>-0.334224</td>\n",
       "      <td>5.0</td>\n",
       "      <td>3</td>\n",
       "      <td>3</td>\n",
       "    </tr>\n",
       "  </tbody>\n",
       "</table>\n",
       "</div>"
      ],
      "text/plain": [
       "                   A         B         C    D  E  E\n",
       "2013-01-01 -0.425488  2.169890 -0.168240  5.0  1  1\n",
       "2013-01-02  0.076999  0.773222 -0.475579  5.0  1  1\n",
       "2013-01-03 -0.246028 -0.359273 -0.616782  5.0  3  3\n",
       "2013-01-04  1.237543 -1.029119 -0.334224  5.0  3  3"
      ]
     },
     "execution_count": 89,
     "metadata": {},
     "output_type": "execute_result"
    }
   ],
   "source": [
    "df1 = df.reindex(index=dates[0:4], columns=list(df.columns) + ['E'])\n",
    "\n",
    "df1.loc[dates[0]:dates[1],'E'] = 1\n",
    "\n",
    "df1\n",
    "    \n",
    "    "
   ]
  },
  {
   "cell_type": "code",
   "execution_count": null,
   "metadata": {
    "collapsed": true
   },
   "outputs": [],
   "source": [
    "Out[57]: \n",
    "                   A         B         C  D    F    E\n",
    "2013-01-01  0.000000  0.000000 -1.509059  5  NaN  1.0\n",
    "2013-01-02  1.212112 -0.173215  0.119209  5  1.0  1.0\n",
    "2013-01-03 -0.861849 -2.104569 -0.494929  5  2.0  NaN\n",
    "2013-01-04  0.721555 -0.706771 -1.039575  5  3.0  NaN"
   ]
  },
  {
   "cell_type": "code",
   "execution_count": 92,
   "metadata": {
    "collapsed": false
   },
   "outputs": [
    {
     "data": {
      "text/html": [
       "<div>\n",
       "<table border=\"1\" class=\"dataframe\">\n",
       "  <thead>\n",
       "    <tr style=\"text-align: right;\">\n",
       "      <th></th>\n",
       "      <th>A</th>\n",
       "      <th>B</th>\n",
       "      <th>C</th>\n",
       "      <th>D</th>\n",
       "      <th>E</th>\n",
       "      <th>E</th>\n",
       "    </tr>\n",
       "  </thead>\n",
       "  <tbody>\n",
       "    <tr>\n",
       "      <th>2013-01-01</th>\n",
       "      <td>-0.425488</td>\n",
       "      <td>2.169890</td>\n",
       "      <td>-0.168240</td>\n",
       "      <td>5.0</td>\n",
       "      <td>1</td>\n",
       "      <td>1</td>\n",
       "    </tr>\n",
       "    <tr>\n",
       "      <th>2013-01-02</th>\n",
       "      <td>0.076999</td>\n",
       "      <td>0.773222</td>\n",
       "      <td>-0.475579</td>\n",
       "      <td>5.0</td>\n",
       "      <td>1</td>\n",
       "      <td>1</td>\n",
       "    </tr>\n",
       "    <tr>\n",
       "      <th>2013-01-03</th>\n",
       "      <td>-0.246028</td>\n",
       "      <td>-0.359273</td>\n",
       "      <td>-0.616782</td>\n",
       "      <td>5.0</td>\n",
       "      <td>3</td>\n",
       "      <td>3</td>\n",
       "    </tr>\n",
       "    <tr>\n",
       "      <th>2013-01-04</th>\n",
       "      <td>1.237543</td>\n",
       "      <td>-1.029119</td>\n",
       "      <td>-0.334224</td>\n",
       "      <td>5.0</td>\n",
       "      <td>3</td>\n",
       "      <td>3</td>\n",
       "    </tr>\n",
       "  </tbody>\n",
       "</table>\n",
       "</div>"
      ],
      "text/plain": [
       "                   A         B         C    D  E  E\n",
       "2013-01-01 -0.425488  2.169890 -0.168240  5.0  1  1\n",
       "2013-01-02  0.076999  0.773222 -0.475579  5.0  1  1\n",
       "2013-01-03 -0.246028 -0.359273 -0.616782  5.0  3  3\n",
       "2013-01-04  1.237543 -1.029119 -0.334224  5.0  3  3"
      ]
     },
     "execution_count": 92,
     "metadata": {},
     "output_type": "execute_result"
    }
   ],
   "source": [
    "\n",
    "\n",
    "df1.dropna(how='any')"
   ]
  },
  {
   "cell_type": "code",
   "execution_count": null,
   "metadata": {
    "collapsed": true
   },
   "outputs": [],
   "source": [
    "Out[58]: \n",
    "                   A         B         C  D    F    E\n",
    "2013-01-02  1.212112 -0.173215  0.119209  5  1.0  1.0\n",
    "\n",
    "Filling missing data"
   ]
  },
  {
   "cell_type": "code",
   "execution_count": 93,
   "metadata": {
    "collapsed": false
   },
   "outputs": [
    {
     "data": {
      "text/html": [
       "<div>\n",
       "<table border=\"1\" class=\"dataframe\">\n",
       "  <thead>\n",
       "    <tr style=\"text-align: right;\">\n",
       "      <th></th>\n",
       "      <th>A</th>\n",
       "      <th>B</th>\n",
       "      <th>C</th>\n",
       "      <th>D</th>\n",
       "      <th>E</th>\n",
       "      <th>E</th>\n",
       "    </tr>\n",
       "  </thead>\n",
       "  <tbody>\n",
       "    <tr>\n",
       "      <th>2013-01-01</th>\n",
       "      <td>-0.425488</td>\n",
       "      <td>2.169890</td>\n",
       "      <td>-0.168240</td>\n",
       "      <td>5.0</td>\n",
       "      <td>1</td>\n",
       "      <td>1</td>\n",
       "    </tr>\n",
       "    <tr>\n",
       "      <th>2013-01-02</th>\n",
       "      <td>0.076999</td>\n",
       "      <td>0.773222</td>\n",
       "      <td>-0.475579</td>\n",
       "      <td>5.0</td>\n",
       "      <td>1</td>\n",
       "      <td>1</td>\n",
       "    </tr>\n",
       "    <tr>\n",
       "      <th>2013-01-03</th>\n",
       "      <td>-0.246028</td>\n",
       "      <td>-0.359273</td>\n",
       "      <td>-0.616782</td>\n",
       "      <td>5.0</td>\n",
       "      <td>3</td>\n",
       "      <td>3</td>\n",
       "    </tr>\n",
       "    <tr>\n",
       "      <th>2013-01-04</th>\n",
       "      <td>1.237543</td>\n",
       "      <td>-1.029119</td>\n",
       "      <td>-0.334224</td>\n",
       "      <td>5.0</td>\n",
       "      <td>3</td>\n",
       "      <td>3</td>\n",
       "    </tr>\n",
       "  </tbody>\n",
       "</table>\n",
       "</div>"
      ],
      "text/plain": [
       "                   A         B         C    D  E  E\n",
       "2013-01-01 -0.425488  2.169890 -0.168240  5.0  1  1\n",
       "2013-01-02  0.076999  0.773222 -0.475579  5.0  1  1\n",
       "2013-01-03 -0.246028 -0.359273 -0.616782  5.0  3  3\n",
       "2013-01-04  1.237543 -1.029119 -0.334224  5.0  3  3"
      ]
     },
     "execution_count": 93,
     "metadata": {},
     "output_type": "execute_result"
    }
   ],
   "source": [
    "In [59]: df1.fillna(value=5)\n",
    "    "
   ]
  },
  {
   "cell_type": "code",
   "execution_count": null,
   "metadata": {
    "collapsed": true
   },
   "outputs": [],
   "source": [
    "Out[59]: \n",
    "                   A         B         C  D    F    E\n",
    "2013-01-01  0.000000  0.000000 -1.509059  5  5.0  1.0\n",
    "2013-01-02  1.212112 -0.173215  0.119209  5  1.0  1.0\n",
    "2013-01-03 -0.861849 -2.104569 -0.494929  5  2.0  5.0\n",
    "2013-01-04  0.721555 -0.706771 -1.039575  5  3.0  5.0\n",
    "\n",
    "To get the boolean mask where values are nan"
   ]
  },
  {
   "cell_type": "code",
   "execution_count": 94,
   "metadata": {
    "collapsed": false
   },
   "outputs": [
    {
     "data": {
      "text/html": [
       "<div>\n",
       "<table border=\"1\" class=\"dataframe\">\n",
       "  <thead>\n",
       "    <tr style=\"text-align: right;\">\n",
       "      <th></th>\n",
       "      <th>A</th>\n",
       "      <th>B</th>\n",
       "      <th>C</th>\n",
       "      <th>D</th>\n",
       "      <th>E</th>\n",
       "      <th>E</th>\n",
       "    </tr>\n",
       "  </thead>\n",
       "  <tbody>\n",
       "    <tr>\n",
       "      <th>2013-01-01</th>\n",
       "      <td>False</td>\n",
       "      <td>False</td>\n",
       "      <td>False</td>\n",
       "      <td>False</td>\n",
       "      <td>False</td>\n",
       "      <td>False</td>\n",
       "    </tr>\n",
       "    <tr>\n",
       "      <th>2013-01-02</th>\n",
       "      <td>False</td>\n",
       "      <td>False</td>\n",
       "      <td>False</td>\n",
       "      <td>False</td>\n",
       "      <td>False</td>\n",
       "      <td>False</td>\n",
       "    </tr>\n",
       "    <tr>\n",
       "      <th>2013-01-03</th>\n",
       "      <td>False</td>\n",
       "      <td>False</td>\n",
       "      <td>False</td>\n",
       "      <td>False</td>\n",
       "      <td>False</td>\n",
       "      <td>False</td>\n",
       "    </tr>\n",
       "    <tr>\n",
       "      <th>2013-01-04</th>\n",
       "      <td>False</td>\n",
       "      <td>False</td>\n",
       "      <td>False</td>\n",
       "      <td>False</td>\n",
       "      <td>False</td>\n",
       "      <td>False</td>\n",
       "    </tr>\n",
       "  </tbody>\n",
       "</table>\n",
       "</div>"
      ],
      "text/plain": [
       "                A      B      C      D      E      E\n",
       "2013-01-01  False  False  False  False  False  False\n",
       "2013-01-02  False  False  False  False  False  False\n",
       "2013-01-03  False  False  False  False  False  False\n",
       "2013-01-04  False  False  False  False  False  False"
      ]
     },
     "execution_count": 94,
     "metadata": {},
     "output_type": "execute_result"
    }
   ],
   "source": [
    "In [60]: pd.isnull(df1)"
   ]
  },
  {
   "cell_type": "code",
   "execution_count": null,
   "metadata": {
    "collapsed": true
   },
   "outputs": [],
   "source": [
    "Out[60]: \n",
    "                A      B      C      D      F      E\n",
    "2013-01-01  False  False  False  False   True  False\n",
    "2013-01-02  False  False  False  False  False  False\n",
    "2013-01-03  False  False  False  False  False   True\n",
    "2013-01-04  False  False  False  False  False   True\n",
    "\n",
    "Operations\n",
    "\n",
    "See the Basic section on Binary Ops\n",
    "Stats\n",
    "\n",
    "Operations in general exclude missing data.\n",
    "\n",
    "Performing a descriptive statistic"
   ]
  },
  {
   "cell_type": "code",
   "execution_count": 95,
   "metadata": {
    "collapsed": false
   },
   "outputs": [
    {
     "data": {
      "text/plain": [
       "A    0.130013\n",
       "B    0.298378\n",
       "C   -0.468136\n",
       "D    5.000000\n",
       "E    3.000000\n",
       "dtype: float64"
      ]
     },
     "execution_count": 95,
     "metadata": {},
     "output_type": "execute_result"
    }
   ],
   "source": [
    "In [61]: df.mean()\n",
    "    "
   ]
  },
  {
   "cell_type": "code",
   "execution_count": null,
   "metadata": {
    "collapsed": true
   },
   "outputs": [],
   "source": [
    "Out[61]: \n",
    "A   -0.004474\n",
    "B   -0.383981\n",
    "C   -0.687758\n",
    "D    5.000000\n",
    "F    3.000000\n",
    "dtype: float64\n",
    "\n",
    "Same operation on the other axis"
   ]
  },
  {
   "cell_type": "code",
   "execution_count": 96,
   "metadata": {
    "collapsed": false
   },
   "outputs": [
    {
     "data": {
      "text/plain": [
       "2013-01-01 00:00:00    1.915232\n",
       "2013-01-02 00:00:00    1.674928\n",
       "2013-01-03 00:00:00    1.355583\n",
       "2013-01-04 00:00:00    1.574840\n",
       "2013-01-05 00:00:00    1.981875\n",
       "2013-01-06 00:00:00    1.049847\n",
       "2                      3.000000\n",
       "20130103               3.000000\n",
       "20130103               3.000000\n",
       "dtype: float64"
      ]
     },
     "execution_count": 96,
     "metadata": {},
     "output_type": "execute_result"
    }
   ],
   "source": [
    "In [62]: df.mean(1)\n",
    "    "
   ]
  },
  {
   "cell_type": "code",
   "execution_count": null,
   "metadata": {
    "collapsed": true
   },
   "outputs": [],
   "source": [
    "Out[62]: \n",
    "2013-01-01    0.872735\n",
    "2013-01-02    1.431621\n",
    "2013-01-03    0.707731\n",
    "2013-01-04    1.395042\n",
    "2013-01-05    1.883656\n",
    "2013-01-06    1.592306\n",
    "Freq: D, dtype: float64\n",
    "\n",
    "Operating with objects that have different dimensionality and need alignment. In addition, pandas automatically broadcasts along the specified dimension."
   ]
  },
  {
   "cell_type": "code",
   "execution_count": 100,
   "metadata": {
    "collapsed": true
   },
   "outputs": [],
   "source": [
    "s = pd.Series([1,3,5,np.nan,6,8], index=dates).shift(2)"
   ]
  },
  {
   "cell_type": "code",
   "execution_count": 102,
   "metadata": {
    "collapsed": false
   },
   "outputs": [
    {
     "data": {
      "text/plain": [
       "2013-01-01    NaN\n",
       "2013-01-02    NaN\n",
       "2013-01-03    1.0\n",
       "2013-01-04    3.0\n",
       "2013-01-05    5.0\n",
       "2013-01-06    NaN\n",
       "Freq: D, dtype: float64"
      ]
     },
     "execution_count": 102,
     "metadata": {},
     "output_type": "execute_result"
    }
   ],
   "source": [
    "s\n",
    "    \n",
    "    "
   ]
  },
  {
   "cell_type": "code",
   "execution_count": null,
   "metadata": {
    "collapsed": true
   },
   "outputs": [],
   "source": [
    "Out[64]: \n",
    "2013-01-01    NaN\n",
    "2013-01-02    NaN\n",
    "2013-01-03    1.0\n",
    "2013-01-04    3.0\n",
    "2013-01-05    5.0\n",
    "2013-01-06    NaN\n",
    "Freq: D, dtype: float64"
   ]
  },
  {
   "cell_type": "code",
   "execution_count": 104,
   "metadata": {
    "collapsed": false
   },
   "outputs": [
    {
     "data": {
      "text/html": [
       "<div>\n",
       "<table border=\"1\" class=\"dataframe\">\n",
       "  <thead>\n",
       "    <tr style=\"text-align: right;\">\n",
       "      <th></th>\n",
       "      <th>A</th>\n",
       "      <th>B</th>\n",
       "      <th>C</th>\n",
       "      <th>D</th>\n",
       "      <th>E</th>\n",
       "    </tr>\n",
       "  </thead>\n",
       "  <tbody>\n",
       "    <tr>\n",
       "      <th>2013-01-01 00:00:00</th>\n",
       "      <td>NaN</td>\n",
       "      <td>NaN</td>\n",
       "      <td>NaN</td>\n",
       "      <td>NaN</td>\n",
       "      <td>NaN</td>\n",
       "    </tr>\n",
       "    <tr>\n",
       "      <th>2013-01-02 00:00:00</th>\n",
       "      <td>NaN</td>\n",
       "      <td>NaN</td>\n",
       "      <td>NaN</td>\n",
       "      <td>NaN</td>\n",
       "      <td>NaN</td>\n",
       "    </tr>\n",
       "    <tr>\n",
       "      <th>2013-01-03 00:00:00</th>\n",
       "      <td>-1.246028</td>\n",
       "      <td>-1.359273</td>\n",
       "      <td>-1.616782</td>\n",
       "      <td>4.0</td>\n",
       "      <td>2.0</td>\n",
       "    </tr>\n",
       "    <tr>\n",
       "      <th>2013-01-04 00:00:00</th>\n",
       "      <td>-1.762457</td>\n",
       "      <td>-4.029119</td>\n",
       "      <td>-3.334224</td>\n",
       "      <td>2.0</td>\n",
       "      <td>0.0</td>\n",
       "    </tr>\n",
       "    <tr>\n",
       "      <th>2013-01-05 00:00:00</th>\n",
       "      <td>-3.533979</td>\n",
       "      <td>-3.428329</td>\n",
       "      <td>-6.128318</td>\n",
       "      <td>0.0</td>\n",
       "      <td>-2.0</td>\n",
       "    </tr>\n",
       "    <tr>\n",
       "      <th>2013-01-06 00:00:00</th>\n",
       "      <td>NaN</td>\n",
       "      <td>NaN</td>\n",
       "      <td>NaN</td>\n",
       "      <td>NaN</td>\n",
       "      <td>NaN</td>\n",
       "    </tr>\n",
       "    <tr>\n",
       "      <th>2</th>\n",
       "      <td>NaN</td>\n",
       "      <td>NaN</td>\n",
       "      <td>NaN</td>\n",
       "      <td>NaN</td>\n",
       "      <td>NaN</td>\n",
       "    </tr>\n",
       "    <tr>\n",
       "      <th>20130103</th>\n",
       "      <td>NaN</td>\n",
       "      <td>NaN</td>\n",
       "      <td>NaN</td>\n",
       "      <td>NaN</td>\n",
       "      <td>NaN</td>\n",
       "    </tr>\n",
       "    <tr>\n",
       "      <th>20130103</th>\n",
       "      <td>NaN</td>\n",
       "      <td>NaN</td>\n",
       "      <td>NaN</td>\n",
       "      <td>NaN</td>\n",
       "      <td>NaN</td>\n",
       "    </tr>\n",
       "  </tbody>\n",
       "</table>\n",
       "</div>"
      ],
      "text/plain": [
       "                            A         B         C    D    E\n",
       "2013-01-01 00:00:00       NaN       NaN       NaN  NaN  NaN\n",
       "2013-01-02 00:00:00       NaN       NaN       NaN  NaN  NaN\n",
       "2013-01-03 00:00:00 -1.246028 -1.359273 -1.616782  4.0  2.0\n",
       "2013-01-04 00:00:00 -1.762457 -4.029119 -3.334224  2.0  0.0\n",
       "2013-01-05 00:00:00 -3.533979 -3.428329 -6.128318  0.0 -2.0\n",
       "2013-01-06 00:00:00       NaN       NaN       NaN  NaN  NaN\n",
       "2                         NaN       NaN       NaN  NaN  NaN\n",
       "20130103                  NaN       NaN       NaN  NaN  NaN\n",
       "20130103                  NaN       NaN       NaN  NaN  NaN"
      ]
     },
     "execution_count": 104,
     "metadata": {},
     "output_type": "execute_result"
    }
   ],
   "source": [
    "df.sub(s, axis='index')"
   ]
  },
  {
   "cell_type": "code",
   "execution_count": null,
   "metadata": {
    "collapsed": true
   },
   "outputs": [],
   "source": [
    "Out[65]: \n",
    "                   A         B         C    D    F\n",
    "2013-01-01       NaN       NaN       NaN  NaN  NaN\n",
    "2013-01-02       NaN       NaN       NaN  NaN  NaN\n",
    "2013-01-03 -1.861849 -3.104569 -1.494929  4.0  1.0\n",
    "2013-01-04 -2.278445 -3.706771 -4.039575  2.0  0.0\n",
    "2013-01-05 -5.424972 -4.432980 -4.723768  0.0 -1.0\n",
    "2013-01-06       NaN       NaN       NaN  NaN  NaN\n",
    "\n",
    "Apply\n",
    "\n",
    "Applying functions to the data"
   ]
  },
  {
   "cell_type": "code",
   "execution_count": 105,
   "metadata": {
    "collapsed": false
   },
   "outputs": [
    {
     "data": {
      "text/html": [
       "<div>\n",
       "<table border=\"1\" class=\"dataframe\">\n",
       "  <thead>\n",
       "    <tr style=\"text-align: right;\">\n",
       "      <th></th>\n",
       "      <th>A</th>\n",
       "      <th>B</th>\n",
       "      <th>C</th>\n",
       "      <th>D</th>\n",
       "      <th>E</th>\n",
       "    </tr>\n",
       "  </thead>\n",
       "  <tbody>\n",
       "    <tr>\n",
       "      <th>2013-01-01 00:00:00</th>\n",
       "      <td>-0.425488</td>\n",
       "      <td>2.169890</td>\n",
       "      <td>-0.168240</td>\n",
       "      <td>5.0</td>\n",
       "      <td>3</td>\n",
       "    </tr>\n",
       "    <tr>\n",
       "      <th>2013-01-02 00:00:00</th>\n",
       "      <td>-0.348489</td>\n",
       "      <td>2.943112</td>\n",
       "      <td>-0.643819</td>\n",
       "      <td>10.0</td>\n",
       "      <td>6</td>\n",
       "    </tr>\n",
       "    <tr>\n",
       "      <th>2013-01-03 00:00:00</th>\n",
       "      <td>-0.594517</td>\n",
       "      <td>2.583839</td>\n",
       "      <td>-1.260601</td>\n",
       "      <td>15.0</td>\n",
       "      <td>9</td>\n",
       "    </tr>\n",
       "    <tr>\n",
       "      <th>2013-01-04 00:00:00</th>\n",
       "      <td>0.643026</td>\n",
       "      <td>1.554720</td>\n",
       "      <td>-1.594825</td>\n",
       "      <td>20.0</td>\n",
       "      <td>12</td>\n",
       "    </tr>\n",
       "    <tr>\n",
       "      <th>2013-01-05 00:00:00</th>\n",
       "      <td>2.109047</td>\n",
       "      <td>3.126391</td>\n",
       "      <td>-2.723143</td>\n",
       "      <td>25.0</td>\n",
       "      <td>15</td>\n",
       "    </tr>\n",
       "    <tr>\n",
       "      <th>2013-01-06 00:00:00</th>\n",
       "      <td>0.780076</td>\n",
       "      <td>1.790265</td>\n",
       "      <td>-2.808814</td>\n",
       "      <td>30.0</td>\n",
       "      <td>18</td>\n",
       "    </tr>\n",
       "    <tr>\n",
       "      <th>2</th>\n",
       "      <td>NaN</td>\n",
       "      <td>NaN</td>\n",
       "      <td>NaN</td>\n",
       "      <td>NaN</td>\n",
       "      <td>21</td>\n",
       "    </tr>\n",
       "    <tr>\n",
       "      <th>20130103</th>\n",
       "      <td>NaN</td>\n",
       "      <td>NaN</td>\n",
       "      <td>NaN</td>\n",
       "      <td>NaN</td>\n",
       "      <td>24</td>\n",
       "    </tr>\n",
       "    <tr>\n",
       "      <th>20130103</th>\n",
       "      <td>NaN</td>\n",
       "      <td>NaN</td>\n",
       "      <td>NaN</td>\n",
       "      <td>NaN</td>\n",
       "      <td>27</td>\n",
       "    </tr>\n",
       "  </tbody>\n",
       "</table>\n",
       "</div>"
      ],
      "text/plain": [
       "                            A         B         C     D   E\n",
       "2013-01-01 00:00:00 -0.425488  2.169890 -0.168240   5.0   3\n",
       "2013-01-02 00:00:00 -0.348489  2.943112 -0.643819  10.0   6\n",
       "2013-01-03 00:00:00 -0.594517  2.583839 -1.260601  15.0   9\n",
       "2013-01-04 00:00:00  0.643026  1.554720 -1.594825  20.0  12\n",
       "2013-01-05 00:00:00  2.109047  3.126391 -2.723143  25.0  15\n",
       "2013-01-06 00:00:00  0.780076  1.790265 -2.808814  30.0  18\n",
       "2                         NaN       NaN       NaN   NaN  21\n",
       "20130103                  NaN       NaN       NaN   NaN  24\n",
       "20130103                  NaN       NaN       NaN   NaN  27"
      ]
     },
     "execution_count": 105,
     "metadata": {},
     "output_type": "execute_result"
    }
   ],
   "source": [
    "In [66]: df.apply(np.cumsum)\n",
    "    "
   ]
  },
  {
   "cell_type": "code",
   "execution_count": null,
   "metadata": {
    "collapsed": true
   },
   "outputs": [],
   "source": [
    "Out[66]: \n",
    "                   A         B         C   D     F\n",
    "2013-01-01  0.000000  0.000000 -1.509059   5   NaN\n",
    "2013-01-02  1.212112 -0.173215 -1.389850  10   1.0\n",
    "2013-01-03  0.350263 -2.277784 -1.884779  15   3.0\n",
    "2013-01-04  1.071818 -2.984555 -2.924354  20   6.0\n",
    "2013-01-05  0.646846 -2.417535 -2.648122  25  10.0\n",
    "2013-01-06 -0.026844 -2.303886 -4.126549  30  15.0"
   ]
  },
  {
   "cell_type": "code",
   "execution_count": 113,
   "metadata": {
    "collapsed": false
   },
   "outputs": [
    {
     "data": {
      "text/plain": [
       "A    2.794991\n",
       "B    3.506016\n",
       "C    1.042648\n",
       "D    0.000000\n",
       "E    0.000000\n",
       "dtype: float64"
      ]
     },
     "execution_count": 113,
     "metadata": {},
     "output_type": "execute_result"
    }
   ],
   "source": [
    "df.apply(lambda x: x.max() - x.min())"
   ]
  },
  {
   "cell_type": "code",
   "execution_count": null,
   "metadata": {
    "collapsed": true
   },
   "outputs": [],
   "source": [
    "Out[67]: \n",
    "A    2.073961\n",
    "B    2.671590\n",
    "C    1.785291\n",
    "D    0.000000\n",
    "F    4.000000\n",
    "dtype: float64\n",
    "\n",
    "Histogramming\n",
    "\n",
    "See more at Histogramming and Discretization"
   ]
  },
  {
   "cell_type": "code",
   "execution_count": 108,
   "metadata": {
    "collapsed": true
   },
   "outputs": [],
   "source": [
    "s = pd.Series(np.random.randint(0, 7, size=10))"
   ]
  },
  {
   "cell_type": "code",
   "execution_count": 114,
   "metadata": {
    "collapsed": false
   },
   "outputs": [
    {
     "data": {
      "text/plain": [
       "0       A\n",
       "1       B\n",
       "2       C\n",
       "3    Aaba\n",
       "4    Baca\n",
       "5     NaN\n",
       "6    CABA\n",
       "7     dog\n",
       "8     cat\n",
       "dtype: object"
      ]
     },
     "execution_count": 114,
     "metadata": {},
     "output_type": "execute_result"
    }
   ],
   "source": [
    "s"
   ]
  },
  {
   "cell_type": "code",
   "execution_count": null,
   "metadata": {
    "collapsed": true
   },
   "outputs": [],
   "source": [
    "Out[69]: \n",
    "0    4\n",
    "1    2\n",
    "2    1\n",
    "3    2\n",
    "4    6\n",
    "5    4\n",
    "6    4\n",
    "7    6\n",
    "8    4\n",
    "9    4\n",
    "dtype: int64\n",
    "\n",
    "    "
   ]
  },
  {
   "cell_type": "code",
   "execution_count": 112,
   "metadata": {
    "collapsed": false
   },
   "outputs": [
    {
     "data": {
      "text/plain": [
       "cat     1\n",
       "dog     1\n",
       "CABA    1\n",
       "Aaba    1\n",
       "Baca    1\n",
       "B       1\n",
       "C       1\n",
       "A       1\n",
       "dtype: int64"
      ]
     },
     "execution_count": 112,
     "metadata": {},
     "output_type": "execute_result"
    }
   ],
   "source": [
    "s.value_counts()\n",
    "    "
   ]
  },
  {
   "cell_type": "code",
   "execution_count": null,
   "metadata": {
    "collapsed": true
   },
   "outputs": [],
   "source": [
    "Out[70]: \n",
    "4    5\n",
    "6    2\n",
    "2    2\n",
    "1    1\n",
    "dtype: int64\n",
    "\n",
    "String Methods\n",
    "\n",
    "Series is equipped with a set of string processing methods in the str attribute that make it easy to operate on each element of the array, as in the code snippet below. Note that pattern-matching in str generally uses regular expressions by default (and in some cases always uses them). See more at Vectorized String Methods."
   ]
  },
  {
   "cell_type": "code",
   "execution_count": 111,
   "metadata": {
    "collapsed": false
   },
   "outputs": [
    {
     "data": {
      "text/plain": [
       "0       a\n",
       "1       b\n",
       "2       c\n",
       "3    aaba\n",
       "4    baca\n",
       "5     NaN\n",
       "6    caba\n",
       "7     dog\n",
       "8     cat\n",
       "dtype: object"
      ]
     },
     "execution_count": 111,
     "metadata": {},
     "output_type": "execute_result"
    }
   ],
   "source": [
    "In [71]: s = pd.Series(['A', 'B', 'C', 'Aaba', 'Baca', np.nan, 'CABA', 'dog', 'cat'])\n",
    "\n",
    "In [72]: s.str.lower()\n",
    "    \n",
    "    "
   ]
  },
  {
   "cell_type": "code",
   "execution_count": null,
   "metadata": {
    "collapsed": true
   },
   "outputs": [],
   "source": [
    "Out[72]: \n",
    "0       a\n",
    "1       b\n",
    "2       c\n",
    "3    aaba\n",
    "4    baca\n",
    "5     NaN\n",
    "6    caba\n",
    "7     dog\n",
    "8     cat\n",
    "dtype: object\n",
    "\n",
    "Merge\n",
    "Concat\n",
    "\n",
    "pandas provides various facilities for easily combining together Series, DataFrame, and Panel objects with various kinds of set logic for the indexes and relational algebra functionality in the case of join / merge-type operations.\n",
    "\n",
    "See the Merging section\n",
    "\n",
    "Concatenating pandas objects together with concat():"
   ]
  },
  {
   "cell_type": "code",
   "execution_count": 115,
   "metadata": {
    "collapsed": false
   },
   "outputs": [
    {
     "data": {
      "text/html": [
       "<div>\n",
       "<table border=\"1\" class=\"dataframe\">\n",
       "  <thead>\n",
       "    <tr style=\"text-align: right;\">\n",
       "      <th></th>\n",
       "      <th>0</th>\n",
       "      <th>1</th>\n",
       "      <th>2</th>\n",
       "      <th>3</th>\n",
       "    </tr>\n",
       "  </thead>\n",
       "  <tbody>\n",
       "    <tr>\n",
       "      <th>0</th>\n",
       "      <td>-0.045244</td>\n",
       "      <td>-1.511655</td>\n",
       "      <td>-1.062714</td>\n",
       "      <td>-0.530642</td>\n",
       "    </tr>\n",
       "    <tr>\n",
       "      <th>1</th>\n",
       "      <td>0.566059</td>\n",
       "      <td>0.227612</td>\n",
       "      <td>-0.024157</td>\n",
       "      <td>0.040285</td>\n",
       "    </tr>\n",
       "    <tr>\n",
       "      <th>2</th>\n",
       "      <td>0.723703</td>\n",
       "      <td>-0.202817</td>\n",
       "      <td>0.348209</td>\n",
       "      <td>0.280956</td>\n",
       "    </tr>\n",
       "    <tr>\n",
       "      <th>3</th>\n",
       "      <td>1.201232</td>\n",
       "      <td>-1.926028</td>\n",
       "      <td>-0.542206</td>\n",
       "      <td>-0.066167</td>\n",
       "    </tr>\n",
       "    <tr>\n",
       "      <th>4</th>\n",
       "      <td>-1.439756</td>\n",
       "      <td>0.713830</td>\n",
       "      <td>-1.245956</td>\n",
       "      <td>-0.833545</td>\n",
       "    </tr>\n",
       "    <tr>\n",
       "      <th>5</th>\n",
       "      <td>-0.386367</td>\n",
       "      <td>0.337631</td>\n",
       "      <td>-1.283798</td>\n",
       "      <td>-1.555733</td>\n",
       "    </tr>\n",
       "    <tr>\n",
       "      <th>6</th>\n",
       "      <td>-0.682894</td>\n",
       "      <td>0.368542</td>\n",
       "      <td>-0.037436</td>\n",
       "      <td>0.066510</td>\n",
       "    </tr>\n",
       "    <tr>\n",
       "      <th>7</th>\n",
       "      <td>0.297244</td>\n",
       "      <td>0.886345</td>\n",
       "      <td>0.754010</td>\n",
       "      <td>-0.733967</td>\n",
       "    </tr>\n",
       "    <tr>\n",
       "      <th>8</th>\n",
       "      <td>0.878763</td>\n",
       "      <td>-0.134038</td>\n",
       "      <td>-0.261233</td>\n",
       "      <td>0.857163</td>\n",
       "    </tr>\n",
       "    <tr>\n",
       "      <th>9</th>\n",
       "      <td>-0.488844</td>\n",
       "      <td>0.142423</td>\n",
       "      <td>0.265343</td>\n",
       "      <td>0.779658</td>\n",
       "    </tr>\n",
       "  </tbody>\n",
       "</table>\n",
       "</div>"
      ],
      "text/plain": [
       "          0         1         2         3\n",
       "0 -0.045244 -1.511655 -1.062714 -0.530642\n",
       "1  0.566059  0.227612 -0.024157  0.040285\n",
       "2  0.723703 -0.202817  0.348209  0.280956\n",
       "3  1.201232 -1.926028 -0.542206 -0.066167\n",
       "4 -1.439756  0.713830 -1.245956 -0.833545\n",
       "5 -0.386367  0.337631 -1.283798 -1.555733\n",
       "6 -0.682894  0.368542 -0.037436  0.066510\n",
       "7  0.297244  0.886345  0.754010 -0.733967\n",
       "8  0.878763 -0.134038 -0.261233  0.857163\n",
       "9 -0.488844  0.142423  0.265343  0.779658"
      ]
     },
     "execution_count": 115,
     "metadata": {},
     "output_type": "execute_result"
    }
   ],
   "source": [
    "df = pd.DataFrame(np.random.randn(10, 4))\n",
    "\n",
    "df\n",
    "    "
   ]
  },
  {
   "cell_type": "code",
   "execution_count": null,
   "metadata": {
    "collapsed": true
   },
   "outputs": [],
   "source": [
    "Out[74]: \n",
    "          0         1         2         3\n",
    "0 -0.548702  1.467327 -1.015962 -0.483075\n",
    "1  1.637550 -1.217659 -0.291519 -1.745505\n",
    "2 -0.263952  0.991460 -0.919069  0.266046\n",
    "3 -0.709661  1.669052  1.037882 -1.705775\n",
    "4 -0.919854 -0.042379  1.247642 -0.009920\n",
    "5  0.290213  0.495767  0.362949  1.548106\n",
    "6 -1.131345 -0.089329  0.337863 -0.945867\n",
    "7 -0.932132  1.956030  0.017587 -0.016692\n",
    "8 -0.575247  0.254161 -1.143704  0.215897\n",
    "9  1.193555 -0.077118 -0.408530 -0.862495\n",
    "\n",
    "# break it into pieces"
   ]
  },
  {
   "cell_type": "code",
   "execution_count": 119,
   "metadata": {
    "collapsed": false
   },
   "outputs": [
    {
     "data": {
      "text/html": [
       "<div>\n",
       "<table border=\"1\" class=\"dataframe\">\n",
       "  <thead>\n",
       "    <tr style=\"text-align: right;\">\n",
       "      <th></th>\n",
       "      <th>0</th>\n",
       "      <th>1</th>\n",
       "      <th>2</th>\n",
       "      <th>3</th>\n",
       "    </tr>\n",
       "  </thead>\n",
       "  <tbody>\n",
       "    <tr>\n",
       "      <th>0</th>\n",
       "      <td>-0.045244</td>\n",
       "      <td>-1.511655</td>\n",
       "      <td>-1.062714</td>\n",
       "      <td>-0.530642</td>\n",
       "    </tr>\n",
       "    <tr>\n",
       "      <th>1</th>\n",
       "      <td>0.566059</td>\n",
       "      <td>0.227612</td>\n",
       "      <td>-0.024157</td>\n",
       "      <td>0.040285</td>\n",
       "    </tr>\n",
       "    <tr>\n",
       "      <th>2</th>\n",
       "      <td>0.723703</td>\n",
       "      <td>-0.202817</td>\n",
       "      <td>0.348209</td>\n",
       "      <td>0.280956</td>\n",
       "    </tr>\n",
       "    <tr>\n",
       "      <th>3</th>\n",
       "      <td>1.201232</td>\n",
       "      <td>-1.926028</td>\n",
       "      <td>-0.542206</td>\n",
       "      <td>-0.066167</td>\n",
       "    </tr>\n",
       "    <tr>\n",
       "      <th>4</th>\n",
       "      <td>-1.439756</td>\n",
       "      <td>0.713830</td>\n",
       "      <td>-1.245956</td>\n",
       "      <td>-0.833545</td>\n",
       "    </tr>\n",
       "    <tr>\n",
       "      <th>5</th>\n",
       "      <td>-0.386367</td>\n",
       "      <td>0.337631</td>\n",
       "      <td>-1.283798</td>\n",
       "      <td>-1.555733</td>\n",
       "    </tr>\n",
       "    <tr>\n",
       "      <th>6</th>\n",
       "      <td>-0.682894</td>\n",
       "      <td>0.368542</td>\n",
       "      <td>-0.037436</td>\n",
       "      <td>0.066510</td>\n",
       "    </tr>\n",
       "    <tr>\n",
       "      <th>7</th>\n",
       "      <td>0.297244</td>\n",
       "      <td>0.886345</td>\n",
       "      <td>0.754010</td>\n",
       "      <td>-0.733967</td>\n",
       "    </tr>\n",
       "    <tr>\n",
       "      <th>8</th>\n",
       "      <td>0.878763</td>\n",
       "      <td>-0.134038</td>\n",
       "      <td>-0.261233</td>\n",
       "      <td>0.857163</td>\n",
       "    </tr>\n",
       "    <tr>\n",
       "      <th>9</th>\n",
       "      <td>-0.488844</td>\n",
       "      <td>0.142423</td>\n",
       "      <td>0.265343</td>\n",
       "      <td>0.779658</td>\n",
       "    </tr>\n",
       "  </tbody>\n",
       "</table>\n",
       "</div>"
      ],
      "text/plain": [
       "          0         1         2         3\n",
       "0 -0.045244 -1.511655 -1.062714 -0.530642\n",
       "1  0.566059  0.227612 -0.024157  0.040285\n",
       "2  0.723703 -0.202817  0.348209  0.280956\n",
       "3  1.201232 -1.926028 -0.542206 -0.066167\n",
       "4 -1.439756  0.713830 -1.245956 -0.833545\n",
       "5 -0.386367  0.337631 -1.283798 -1.555733\n",
       "6 -0.682894  0.368542 -0.037436  0.066510\n",
       "7  0.297244  0.886345  0.754010 -0.733967\n",
       "8  0.878763 -0.134038 -0.261233  0.857163\n",
       "9 -0.488844  0.142423  0.265343  0.779658"
      ]
     },
     "execution_count": 119,
     "metadata": {},
     "output_type": "execute_result"
    }
   ],
   "source": [
    "pieces = [df[:3], df[3:7], df[7:]]\n",
    "\n",
    "pd.concat(pieces)\n",
    "    "
   ]
  },
  {
   "cell_type": "code",
   "execution_count": null,
   "metadata": {
    "collapsed": true
   },
   "outputs": [],
   "source": [
    "Out[76]: \n",
    "          0         1         2         3\n",
    "0 -0.548702  1.467327 -1.015962 -0.483075\n",
    "1  1.637550 -1.217659 -0.291519 -1.745505\n",
    "2 -0.263952  0.991460 -0.919069  0.266046\n",
    "3 -0.709661  1.669052  1.037882 -1.705775\n",
    "4 -0.919854 -0.042379  1.247642 -0.009920\n",
    "5  0.290213  0.495767  0.362949  1.548106\n",
    "6 -1.131345 -0.089329  0.337863 -0.945867\n",
    "7 -0.932132  1.956030  0.017587 -0.016692\n",
    "8 -0.575247  0.254161 -1.143704  0.215897\n",
    "9  1.193555 -0.077118 -0.408530 -0.862495\n",
    "\n",
    "Join\n",
    "\n",
    "SQL style merges. See the Database style joining"
   ]
  },
  {
   "cell_type": "code",
   "execution_count": 120,
   "metadata": {
    "collapsed": false
   },
   "outputs": [
    {
     "data": {
      "text/html": [
       "<div>\n",
       "<table border=\"1\" class=\"dataframe\">\n",
       "  <thead>\n",
       "    <tr style=\"text-align: right;\">\n",
       "      <th></th>\n",
       "      <th>key</th>\n",
       "      <th>lval</th>\n",
       "    </tr>\n",
       "  </thead>\n",
       "  <tbody>\n",
       "    <tr>\n",
       "      <th>0</th>\n",
       "      <td>foo</td>\n",
       "      <td>1</td>\n",
       "    </tr>\n",
       "    <tr>\n",
       "      <th>1</th>\n",
       "      <td>foo</td>\n",
       "      <td>2</td>\n",
       "    </tr>\n",
       "  </tbody>\n",
       "</table>\n",
       "</div>"
      ],
      "text/plain": [
       "   key  lval\n",
       "0  foo     1\n",
       "1  foo     2"
      ]
     },
     "execution_count": 120,
     "metadata": {},
     "output_type": "execute_result"
    }
   ],
   "source": [
    "left = pd.DataFrame({'key': ['foo', 'foo'], 'lval': [1, 2]})\n",
    "\n",
    "right = pd.DataFrame({'key': ['foo', 'foo'], 'rval': [4, 5]})\n",
    "\n",
    "left\n",
    "    "
   ]
  },
  {
   "cell_type": "code",
   "execution_count": null,
   "metadata": {
    "collapsed": true
   },
   "outputs": [],
   "source": [
    "Out[79]: \n",
    "   key  lval\n",
    "0  foo     1\n",
    "1  foo     2"
   ]
  },
  {
   "cell_type": "code",
   "execution_count": 121,
   "metadata": {
    "collapsed": false
   },
   "outputs": [
    {
     "data": {
      "text/html": [
       "<div>\n",
       "<table border=\"1\" class=\"dataframe\">\n",
       "  <thead>\n",
       "    <tr style=\"text-align: right;\">\n",
       "      <th></th>\n",
       "      <th>key</th>\n",
       "      <th>rval</th>\n",
       "    </tr>\n",
       "  </thead>\n",
       "  <tbody>\n",
       "    <tr>\n",
       "      <th>0</th>\n",
       "      <td>foo</td>\n",
       "      <td>4</td>\n",
       "    </tr>\n",
       "    <tr>\n",
       "      <th>1</th>\n",
       "      <td>foo</td>\n",
       "      <td>5</td>\n",
       "    </tr>\n",
       "  </tbody>\n",
       "</table>\n",
       "</div>"
      ],
      "text/plain": [
       "   key  rval\n",
       "0  foo     4\n",
       "1  foo     5"
      ]
     },
     "execution_count": 121,
     "metadata": {},
     "output_type": "execute_result"
    }
   ],
   "source": [
    "In [80]: right"
   ]
  },
  {
   "cell_type": "code",
   "execution_count": null,
   "metadata": {
    "collapsed": true
   },
   "outputs": [],
   "source": [
    "Out[80]: "
   ]
  },
  {
   "cell_type": "code",
   "execution_count": null,
   "metadata": {
    "collapsed": true
   },
   "outputs": [],
   "source": [
    "   key  rval\n",
    "0  foo     4\n",
    "1  foo     5"
   ]
  },
  {
   "cell_type": "code",
   "execution_count": 122,
   "metadata": {
    "collapsed": false
   },
   "outputs": [
    {
     "data": {
      "text/html": [
       "<div>\n",
       "<table border=\"1\" class=\"dataframe\">\n",
       "  <thead>\n",
       "    <tr style=\"text-align: right;\">\n",
       "      <th></th>\n",
       "      <th>key</th>\n",
       "      <th>lval</th>\n",
       "      <th>rval</th>\n",
       "    </tr>\n",
       "  </thead>\n",
       "  <tbody>\n",
       "    <tr>\n",
       "      <th>0</th>\n",
       "      <td>foo</td>\n",
       "      <td>1</td>\n",
       "      <td>4</td>\n",
       "    </tr>\n",
       "    <tr>\n",
       "      <th>1</th>\n",
       "      <td>foo</td>\n",
       "      <td>1</td>\n",
       "      <td>5</td>\n",
       "    </tr>\n",
       "    <tr>\n",
       "      <th>2</th>\n",
       "      <td>foo</td>\n",
       "      <td>2</td>\n",
       "      <td>4</td>\n",
       "    </tr>\n",
       "    <tr>\n",
       "      <th>3</th>\n",
       "      <td>foo</td>\n",
       "      <td>2</td>\n",
       "      <td>5</td>\n",
       "    </tr>\n",
       "  </tbody>\n",
       "</table>\n",
       "</div>"
      ],
      "text/plain": [
       "   key  lval  rval\n",
       "0  foo     1     4\n",
       "1  foo     1     5\n",
       "2  foo     2     4\n",
       "3  foo     2     5"
      ]
     },
     "execution_count": 122,
     "metadata": {},
     "output_type": "execute_result"
    }
   ],
   "source": [
    "pd.merge(left, right, on='key')"
   ]
  },
  {
   "cell_type": "code",
   "execution_count": null,
   "metadata": {
    "collapsed": true
   },
   "outputs": [],
   "source": [
    "Out[81]: \n",
    "   key  lval  rval\n",
    "0  foo     1     4\n",
    "1  foo     1     5\n",
    "2  foo     2     4\n",
    "3  foo     2     5\n",
    "\n",
    "Another example that can be given is:"
   ]
  },
  {
   "cell_type": "code",
   "execution_count": 123,
   "metadata": {
    "collapsed": false
   },
   "outputs": [
    {
     "data": {
      "text/html": [
       "<div>\n",
       "<table border=\"1\" class=\"dataframe\">\n",
       "  <thead>\n",
       "    <tr style=\"text-align: right;\">\n",
       "      <th></th>\n",
       "      <th>key</th>\n",
       "      <th>lval</th>\n",
       "    </tr>\n",
       "  </thead>\n",
       "  <tbody>\n",
       "    <tr>\n",
       "      <th>0</th>\n",
       "      <td>foo</td>\n",
       "      <td>1</td>\n",
       "    </tr>\n",
       "    <tr>\n",
       "      <th>1</th>\n",
       "      <td>bar</td>\n",
       "      <td>2</td>\n",
       "    </tr>\n",
       "  </tbody>\n",
       "</table>\n",
       "</div>"
      ],
      "text/plain": [
       "   key  lval\n",
       "0  foo     1\n",
       "1  bar     2"
      ]
     },
     "execution_count": 123,
     "metadata": {},
     "output_type": "execute_result"
    }
   ],
   "source": [
    "In [82]: left = pd.DataFrame({'key': ['foo', 'bar'], 'lval': [1, 2]})\n",
    "\n",
    "In [83]: right = pd.DataFrame({'key': ['foo', 'bar'], 'rval': [4, 5]})\n",
    "\n",
    "In [84]: left"
   ]
  },
  {
   "cell_type": "code",
   "execution_count": null,
   "metadata": {
    "collapsed": true
   },
   "outputs": [],
   "source": [
    "Out[84]: \n",
    "   key  lval\n",
    "0  foo     1\n",
    "1  bar     2"
   ]
  },
  {
   "cell_type": "code",
   "execution_count": 124,
   "metadata": {
    "collapsed": false
   },
   "outputs": [
    {
     "data": {
      "text/html": [
       "<div>\n",
       "<table border=\"1\" class=\"dataframe\">\n",
       "  <thead>\n",
       "    <tr style=\"text-align: right;\">\n",
       "      <th></th>\n",
       "      <th>key</th>\n",
       "      <th>rval</th>\n",
       "    </tr>\n",
       "  </thead>\n",
       "  <tbody>\n",
       "    <tr>\n",
       "      <th>0</th>\n",
       "      <td>foo</td>\n",
       "      <td>4</td>\n",
       "    </tr>\n",
       "    <tr>\n",
       "      <th>1</th>\n",
       "      <td>bar</td>\n",
       "      <td>5</td>\n",
       "    </tr>\n",
       "  </tbody>\n",
       "</table>\n",
       "</div>"
      ],
      "text/plain": [
       "   key  rval\n",
       "0  foo     4\n",
       "1  bar     5"
      ]
     },
     "execution_count": 124,
     "metadata": {},
     "output_type": "execute_result"
    }
   ],
   "source": [
    "In [85]: right\n",
    "    "
   ]
  },
  {
   "cell_type": "code",
   "execution_count": null,
   "metadata": {
    "collapsed": true
   },
   "outputs": [],
   "source": [
    "Out[85]: \n",
    "   key  rval\n",
    "0  foo     4\n",
    "1  bar     5"
   ]
  },
  {
   "cell_type": "code",
   "execution_count": 126,
   "metadata": {
    "collapsed": false
   },
   "outputs": [
    {
     "data": {
      "text/html": [
       "<div>\n",
       "<table border=\"1\" class=\"dataframe\">\n",
       "  <thead>\n",
       "    <tr style=\"text-align: right;\">\n",
       "      <th></th>\n",
       "      <th>key</th>\n",
       "      <th>lval</th>\n",
       "      <th>rval</th>\n",
       "    </tr>\n",
       "  </thead>\n",
       "  <tbody>\n",
       "    <tr>\n",
       "      <th>0</th>\n",
       "      <td>foo</td>\n",
       "      <td>1</td>\n",
       "      <td>4</td>\n",
       "    </tr>\n",
       "    <tr>\n",
       "      <th>1</th>\n",
       "      <td>bar</td>\n",
       "      <td>2</td>\n",
       "      <td>5</td>\n",
       "    </tr>\n",
       "  </tbody>\n",
       "</table>\n",
       "</div>"
      ],
      "text/plain": [
       "   key  lval  rval\n",
       "0  foo     1     4\n",
       "1  bar     2     5"
      ]
     },
     "execution_count": 126,
     "metadata": {},
     "output_type": "execute_result"
    }
   ],
   "source": [
    "pd.merge(left, right, on='key')"
   ]
  },
  {
   "cell_type": "code",
   "execution_count": null,
   "metadata": {
    "collapsed": true
   },
   "outputs": [],
   "source": [
    "Out[86]: \n",
    "   key  lval  rval\n",
    "0  foo     1     4\n",
    "1  bar     2     5\n",
    "\n",
    "Append\n",
    "\n",
    "Append rows to a dataframe. See the Appending"
   ]
  },
  {
   "cell_type": "code",
   "execution_count": 127,
   "metadata": {
    "collapsed": false
   },
   "outputs": [
    {
     "data": {
      "text/html": [
       "<div>\n",
       "<table border=\"1\" class=\"dataframe\">\n",
       "  <thead>\n",
       "    <tr style=\"text-align: right;\">\n",
       "      <th></th>\n",
       "      <th>A</th>\n",
       "      <th>B</th>\n",
       "      <th>C</th>\n",
       "      <th>D</th>\n",
       "    </tr>\n",
       "  </thead>\n",
       "  <tbody>\n",
       "    <tr>\n",
       "      <th>0</th>\n",
       "      <td>-0.024223</td>\n",
       "      <td>-0.727384</td>\n",
       "      <td>1.583486</td>\n",
       "      <td>0.652493</td>\n",
       "    </tr>\n",
       "    <tr>\n",
       "      <th>1</th>\n",
       "      <td>-0.495198</td>\n",
       "      <td>-1.373317</td>\n",
       "      <td>-0.523049</td>\n",
       "      <td>-0.072871</td>\n",
       "    </tr>\n",
       "    <tr>\n",
       "      <th>2</th>\n",
       "      <td>-0.912925</td>\n",
       "      <td>-1.005306</td>\n",
       "      <td>-0.337479</td>\n",
       "      <td>1.024438</td>\n",
       "    </tr>\n",
       "    <tr>\n",
       "      <th>3</th>\n",
       "      <td>-0.279148</td>\n",
       "      <td>-0.571067</td>\n",
       "      <td>1.407659</td>\n",
       "      <td>0.701530</td>\n",
       "    </tr>\n",
       "    <tr>\n",
       "      <th>4</th>\n",
       "      <td>0.108695</td>\n",
       "      <td>0.733644</td>\n",
       "      <td>-1.751836</td>\n",
       "      <td>0.699627</td>\n",
       "    </tr>\n",
       "    <tr>\n",
       "      <th>5</th>\n",
       "      <td>1.056007</td>\n",
       "      <td>-1.005064</td>\n",
       "      <td>0.132867</td>\n",
       "      <td>0.651148</td>\n",
       "    </tr>\n",
       "    <tr>\n",
       "      <th>6</th>\n",
       "      <td>0.881802</td>\n",
       "      <td>0.840909</td>\n",
       "      <td>-1.558312</td>\n",
       "      <td>-1.144794</td>\n",
       "    </tr>\n",
       "    <tr>\n",
       "      <th>7</th>\n",
       "      <td>-2.351330</td>\n",
       "      <td>-0.772603</td>\n",
       "      <td>-0.540371</td>\n",
       "      <td>0.103299</td>\n",
       "    </tr>\n",
       "  </tbody>\n",
       "</table>\n",
       "</div>"
      ],
      "text/plain": [
       "          A         B         C         D\n",
       "0 -0.024223 -0.727384  1.583486  0.652493\n",
       "1 -0.495198 -1.373317 -0.523049 -0.072871\n",
       "2 -0.912925 -1.005306 -0.337479  1.024438\n",
       "3 -0.279148 -0.571067  1.407659  0.701530\n",
       "4  0.108695  0.733644 -1.751836  0.699627\n",
       "5  1.056007 -1.005064  0.132867  0.651148\n",
       "6  0.881802  0.840909 -1.558312 -1.144794\n",
       "7 -2.351330 -0.772603 -0.540371  0.103299"
      ]
     },
     "execution_count": 127,
     "metadata": {},
     "output_type": "execute_result"
    }
   ],
   "source": [
    "In [87]: df = pd.DataFrame(np.random.randn(8, 4), columns=['A','B','C','D'])\n",
    "\n",
    "In [88]: df"
   ]
  },
  {
   "cell_type": "code",
   "execution_count": null,
   "metadata": {
    "collapsed": true
   },
   "outputs": [],
   "source": [
    "Out[88]: \n",
    "          A         B         C         D\n",
    "0  1.346061  1.511763  1.627081 -0.990582\n",
    "1 -0.441652  1.211526  0.268520  0.024580\n",
    "2 -1.577585  0.396823 -0.105381 -0.532532\n",
    "3  1.453749  1.208843 -0.080952 -0.264610\n",
    "4 -0.727965 -0.589346  0.339969 -0.693205\n",
    "5 -0.339355  0.593616  0.884345  1.591431\n",
    "6  0.141809  0.220390  0.435589  0.192451\n",
    "7 -0.096701  0.803351  1.715071 -0.708758"
   ]
  },
  {
   "cell_type": "code",
   "execution_count": 128,
   "metadata": {
    "collapsed": false
   },
   "outputs": [
    {
     "data": {
      "text/html": [
       "<div>\n",
       "<table border=\"1\" class=\"dataframe\">\n",
       "  <thead>\n",
       "    <tr style=\"text-align: right;\">\n",
       "      <th></th>\n",
       "      <th>A</th>\n",
       "      <th>B</th>\n",
       "      <th>C</th>\n",
       "      <th>D</th>\n",
       "    </tr>\n",
       "  </thead>\n",
       "  <tbody>\n",
       "    <tr>\n",
       "      <th>0</th>\n",
       "      <td>-0.024223</td>\n",
       "      <td>-0.727384</td>\n",
       "      <td>1.583486</td>\n",
       "      <td>0.652493</td>\n",
       "    </tr>\n",
       "    <tr>\n",
       "      <th>1</th>\n",
       "      <td>-0.495198</td>\n",
       "      <td>-1.373317</td>\n",
       "      <td>-0.523049</td>\n",
       "      <td>-0.072871</td>\n",
       "    </tr>\n",
       "    <tr>\n",
       "      <th>2</th>\n",
       "      <td>-0.912925</td>\n",
       "      <td>-1.005306</td>\n",
       "      <td>-0.337479</td>\n",
       "      <td>1.024438</td>\n",
       "    </tr>\n",
       "    <tr>\n",
       "      <th>3</th>\n",
       "      <td>-0.279148</td>\n",
       "      <td>-0.571067</td>\n",
       "      <td>1.407659</td>\n",
       "      <td>0.701530</td>\n",
       "    </tr>\n",
       "    <tr>\n",
       "      <th>4</th>\n",
       "      <td>0.108695</td>\n",
       "      <td>0.733644</td>\n",
       "      <td>-1.751836</td>\n",
       "      <td>0.699627</td>\n",
       "    </tr>\n",
       "    <tr>\n",
       "      <th>5</th>\n",
       "      <td>1.056007</td>\n",
       "      <td>-1.005064</td>\n",
       "      <td>0.132867</td>\n",
       "      <td>0.651148</td>\n",
       "    </tr>\n",
       "    <tr>\n",
       "      <th>6</th>\n",
       "      <td>0.881802</td>\n",
       "      <td>0.840909</td>\n",
       "      <td>-1.558312</td>\n",
       "      <td>-1.144794</td>\n",
       "    </tr>\n",
       "    <tr>\n",
       "      <th>7</th>\n",
       "      <td>-2.351330</td>\n",
       "      <td>-0.772603</td>\n",
       "      <td>-0.540371</td>\n",
       "      <td>0.103299</td>\n",
       "    </tr>\n",
       "    <tr>\n",
       "      <th>8</th>\n",
       "      <td>-0.279148</td>\n",
       "      <td>-0.571067</td>\n",
       "      <td>1.407659</td>\n",
       "      <td>0.701530</td>\n",
       "    </tr>\n",
       "  </tbody>\n",
       "</table>\n",
       "</div>"
      ],
      "text/plain": [
       "          A         B         C         D\n",
       "0 -0.024223 -0.727384  1.583486  0.652493\n",
       "1 -0.495198 -1.373317 -0.523049 -0.072871\n",
       "2 -0.912925 -1.005306 -0.337479  1.024438\n",
       "3 -0.279148 -0.571067  1.407659  0.701530\n",
       "4  0.108695  0.733644 -1.751836  0.699627\n",
       "5  1.056007 -1.005064  0.132867  0.651148\n",
       "6  0.881802  0.840909 -1.558312 -1.144794\n",
       "7 -2.351330 -0.772603 -0.540371  0.103299\n",
       "8 -0.279148 -0.571067  1.407659  0.701530"
      ]
     },
     "execution_count": 128,
     "metadata": {},
     "output_type": "execute_result"
    }
   ],
   "source": [
    "s = df.iloc \n",
    "[3]\n",
    "\n",
    "df.append(s, ignore_index=True)"
   ]
  },
  {
   "cell_type": "code",
   "execution_count": null,
   "metadata": {
    "collapsed": true
   },
   "outputs": [],
   "source": [
    "Out[90]: \n",
    "          A         B         C         D\n",
    "0  1.346061  1.511763  1.627081 -0.990582\n",
    "1 -0.441652  1.211526  0.268520  0.024580\n",
    "2 -1.577585  0.396823 -0.105381 -0.532532\n",
    "3  1.453749  1.208843 -0.080952 -0.264610\n",
    "4 -0.727965 -0.589346  0.339969 -0.693205\n",
    "5 -0.339355  0.593616  0.884345  1.591431\n",
    "6  0.141809  0.220390  0.435589  0.192451\n",
    "7 -0.096701  0.803351  1.715071 -0.708758\n",
    "8  1.453749  1.208843 -0.080952 -0.264610\n",
    "\n",
    "Grouping\n",
    "\n",
    "By “group by” we are referring to a process involving one or more of the following steps\n",
    "\n",
    "        Splitting the data into groups based on some criteria\n",
    "        Applying a function to each group independently\n",
    "        Combining the results into a data structure\n",
    "\n",
    "See the Grouping section"
   ]
  },
  {
   "cell_type": "code",
   "execution_count": 131,
   "metadata": {
    "collapsed": false
   },
   "outputs": [
    {
     "data": {
      "text/html": [
       "<div>\n",
       "<table border=\"1\" class=\"dataframe\">\n",
       "  <thead>\n",
       "    <tr style=\"text-align: right;\">\n",
       "      <th></th>\n",
       "      <th>A</th>\n",
       "      <th>B</th>\n",
       "      <th>C</th>\n",
       "      <th>D</th>\n",
       "    </tr>\n",
       "  </thead>\n",
       "  <tbody>\n",
       "    <tr>\n",
       "      <th>0</th>\n",
       "      <td>foo</td>\n",
       "      <td>one</td>\n",
       "      <td>-1.381999</td>\n",
       "      <td>-0.235246</td>\n",
       "    </tr>\n",
       "    <tr>\n",
       "      <th>1</th>\n",
       "      <td>bar</td>\n",
       "      <td>one</td>\n",
       "      <td>-0.242522</td>\n",
       "      <td>0.462553</td>\n",
       "    </tr>\n",
       "    <tr>\n",
       "      <th>2</th>\n",
       "      <td>foo</td>\n",
       "      <td>two</td>\n",
       "      <td>-0.278431</td>\n",
       "      <td>-0.616551</td>\n",
       "    </tr>\n",
       "    <tr>\n",
       "      <th>3</th>\n",
       "      <td>bar</td>\n",
       "      <td>three</td>\n",
       "      <td>1.029757</td>\n",
       "      <td>0.696647</td>\n",
       "    </tr>\n",
       "    <tr>\n",
       "      <th>4</th>\n",
       "      <td>foo</td>\n",
       "      <td>two</td>\n",
       "      <td>0.000265</td>\n",
       "      <td>-0.753761</td>\n",
       "    </tr>\n",
       "    <tr>\n",
       "      <th>5</th>\n",
       "      <td>bar</td>\n",
       "      <td>two</td>\n",
       "      <td>-0.253559</td>\n",
       "      <td>0.244192</td>\n",
       "    </tr>\n",
       "    <tr>\n",
       "      <th>6</th>\n",
       "      <td>foo</td>\n",
       "      <td>one</td>\n",
       "      <td>-0.251860</td>\n",
       "      <td>-2.632585</td>\n",
       "    </tr>\n",
       "    <tr>\n",
       "      <th>7</th>\n",
       "      <td>foo</td>\n",
       "      <td>three</td>\n",
       "      <td>1.723936</td>\n",
       "      <td>-0.973642</td>\n",
       "    </tr>\n",
       "  </tbody>\n",
       "</table>\n",
       "</div>"
      ],
      "text/plain": [
       "     A      B         C         D\n",
       "0  foo    one -1.381999 -0.235246\n",
       "1  bar    one -0.242522  0.462553\n",
       "2  foo    two -0.278431 -0.616551\n",
       "3  bar  three  1.029757  0.696647\n",
       "4  foo    two  0.000265 -0.753761\n",
       "5  bar    two -0.253559  0.244192\n",
       "6  foo    one -0.251860 -2.632585\n",
       "7  foo  three  1.723936 -0.973642"
      ]
     },
     "execution_count": 131,
     "metadata": {},
     "output_type": "execute_result"
    }
   ],
   "source": [
    "In [91]: df = pd.DataFrame({'A' : ['foo', 'bar', 'foo', 'bar',\n",
    "   ....:                           'foo', 'bar', 'foo', 'foo'],\n",
    "   ....:                    'B' : ['one', 'one', 'two', 'three',\n",
    "   ....:                           'two', 'two', 'one', 'three'],\n",
    "   ....:                    'C' : np.random.randn(8),\n",
    "   ....:                    'D' : np.random.randn(8)})\n",
    "   ....: \n",
    "\n",
    "In [92]: df"
   ]
  },
  {
   "cell_type": "code",
   "execution_count": null,
   "metadata": {
    "collapsed": true
   },
   "outputs": [],
   "source": [
    "Out[92]: \n",
    "     A      B         C         D\n",
    "0  foo    one -1.202872 -0.055224\n",
    "1  bar    one -1.814470  2.395985\n",
    "2  foo    two  1.018601  1.552825\n",
    "3  bar  three -0.595447  0.166599\n",
    "4  foo    two  1.395433  0.047609\n",
    "5  bar    two -0.392670 -0.136473\n",
    "6  foo    one  0.007207 -0.561757\n",
    "7  foo  three  1.928123 -1.623033\n",
    "\n",
    "Grouping and then applying a function sum to the resulting groups."
   ]
  },
  {
   "cell_type": "code",
   "execution_count": 132,
   "metadata": {
    "collapsed": false
   },
   "outputs": [
    {
     "data": {
      "text/html": [
       "<div>\n",
       "<table border=\"1\" class=\"dataframe\">\n",
       "  <thead>\n",
       "    <tr style=\"text-align: right;\">\n",
       "      <th></th>\n",
       "      <th>C</th>\n",
       "      <th>D</th>\n",
       "    </tr>\n",
       "    <tr>\n",
       "      <th>A</th>\n",
       "      <th></th>\n",
       "      <th></th>\n",
       "    </tr>\n",
       "  </thead>\n",
       "  <tbody>\n",
       "    <tr>\n",
       "      <th>bar</th>\n",
       "      <td>0.533676</td>\n",
       "      <td>1.403393</td>\n",
       "    </tr>\n",
       "    <tr>\n",
       "      <th>foo</th>\n",
       "      <td>-0.188090</td>\n",
       "      <td>-5.211786</td>\n",
       "    </tr>\n",
       "  </tbody>\n",
       "</table>\n",
       "</div>"
      ],
      "text/plain": [
       "            C         D\n",
       "A                      \n",
       "bar  0.533676  1.403393\n",
       "foo -0.188090 -5.211786"
      ]
     },
     "execution_count": 132,
     "metadata": {},
     "output_type": "execute_result"
    }
   ],
   "source": [
    "In [93]: df.groupby('A').sum()"
   ]
  },
  {
   "cell_type": "code",
   "execution_count": null,
   "metadata": {
    "collapsed": true
   },
   "outputs": [],
   "source": [
    "Out[93]: \n",
    "            C        D\n",
    "A                     \n",
    "bar -2.802588  2.42611\n",
    "foo  3.146492 -0.63958\n",
    "\n",
    "Grouping by multiple columns forms a hierarchical index, which we then apply the function."
   ]
  },
  {
   "cell_type": "code",
   "execution_count": 133,
   "metadata": {
    "collapsed": false
   },
   "outputs": [
    {
     "data": {
      "text/html": [
       "<div>\n",
       "<table border=\"1\" class=\"dataframe\">\n",
       "  <thead>\n",
       "    <tr style=\"text-align: right;\">\n",
       "      <th></th>\n",
       "      <th></th>\n",
       "      <th>C</th>\n",
       "      <th>D</th>\n",
       "    </tr>\n",
       "    <tr>\n",
       "      <th>A</th>\n",
       "      <th>B</th>\n",
       "      <th></th>\n",
       "      <th></th>\n",
       "    </tr>\n",
       "  </thead>\n",
       "  <tbody>\n",
       "    <tr>\n",
       "      <th rowspan=\"3\" valign=\"top\">bar</th>\n",
       "      <th>one</th>\n",
       "      <td>-0.242522</td>\n",
       "      <td>0.462553</td>\n",
       "    </tr>\n",
       "    <tr>\n",
       "      <th>three</th>\n",
       "      <td>1.029757</td>\n",
       "      <td>0.696647</td>\n",
       "    </tr>\n",
       "    <tr>\n",
       "      <th>two</th>\n",
       "      <td>-0.253559</td>\n",
       "      <td>0.244192</td>\n",
       "    </tr>\n",
       "    <tr>\n",
       "      <th rowspan=\"3\" valign=\"top\">foo</th>\n",
       "      <th>one</th>\n",
       "      <td>-1.633860</td>\n",
       "      <td>-2.867831</td>\n",
       "    </tr>\n",
       "    <tr>\n",
       "      <th>three</th>\n",
       "      <td>1.723936</td>\n",
       "      <td>-0.973642</td>\n",
       "    </tr>\n",
       "    <tr>\n",
       "      <th>two</th>\n",
       "      <td>-0.278166</td>\n",
       "      <td>-1.370312</td>\n",
       "    </tr>\n",
       "  </tbody>\n",
       "</table>\n",
       "</div>"
      ],
      "text/plain": [
       "                  C         D\n",
       "A   B                        \n",
       "bar one   -0.242522  0.462553\n",
       "    three  1.029757  0.696647\n",
       "    two   -0.253559  0.244192\n",
       "foo one   -1.633860 -2.867831\n",
       "    three  1.723936 -0.973642\n",
       "    two   -0.278166 -1.370312"
      ]
     },
     "execution_count": 133,
     "metadata": {},
     "output_type": "execute_result"
    }
   ],
   "source": [
    "In [94]: df.groupby(['A','B']).sum()"
   ]
  },
  {
   "cell_type": "code",
   "execution_count": null,
   "metadata": {
    "collapsed": true
   },
   "outputs": [],
   "source": [
    "Out[94]: \n",
    "                  C         D\n",
    "A   B                        \n",
    "bar one   -1.814470  2.395985\n",
    "    three -0.595447  0.166599\n",
    "    two   -0.392670 -0.136473\n",
    "foo one   -1.195665 -0.616981\n",
    "    three  1.928123 -1.623033\n",
    "    two    2.414034  1.600434\n",
    "\n",
    "Reshaping\n",
    "\n",
    "See the sections on Hierarchical Indexing and Reshaping.\n",
    "Stack"
   ]
  },
  {
   "cell_type": "code",
   "execution_count": 134,
   "metadata": {
    "collapsed": false
   },
   "outputs": [
    {
     "data": {
      "text/html": [
       "<div>\n",
       "<table border=\"1\" class=\"dataframe\">\n",
       "  <thead>\n",
       "    <tr style=\"text-align: right;\">\n",
       "      <th></th>\n",
       "      <th></th>\n",
       "      <th>A</th>\n",
       "      <th>B</th>\n",
       "    </tr>\n",
       "    <tr>\n",
       "      <th>first</th>\n",
       "      <th>second</th>\n",
       "      <th></th>\n",
       "      <th></th>\n",
       "    </tr>\n",
       "  </thead>\n",
       "  <tbody>\n",
       "    <tr>\n",
       "      <th rowspan=\"2\" valign=\"top\">bar</th>\n",
       "      <th>one</th>\n",
       "      <td>0.035073</td>\n",
       "      <td>-0.617343</td>\n",
       "    </tr>\n",
       "    <tr>\n",
       "      <th>two</th>\n",
       "      <td>-1.352203</td>\n",
       "      <td>-1.179640</td>\n",
       "    </tr>\n",
       "    <tr>\n",
       "      <th rowspan=\"2\" valign=\"top\">baz</th>\n",
       "      <th>one</th>\n",
       "      <td>-0.715956</td>\n",
       "      <td>0.303899</td>\n",
       "    </tr>\n",
       "    <tr>\n",
       "      <th>two</th>\n",
       "      <td>1.352720</td>\n",
       "      <td>-0.257552</td>\n",
       "    </tr>\n",
       "  </tbody>\n",
       "</table>\n",
       "</div>"
      ],
      "text/plain": [
       "                     A         B\n",
       "first second                    \n",
       "bar   one     0.035073 -0.617343\n",
       "      two    -1.352203 -1.179640\n",
       "baz   one    -0.715956  0.303899\n",
       "      two     1.352720 -0.257552"
      ]
     },
     "execution_count": 134,
     "metadata": {},
     "output_type": "execute_result"
    }
   ],
   "source": [
    "In [95]: tuples = list(zip(*[['bar', 'bar', 'baz', 'baz',\n",
    "   ....:                      'foo', 'foo', 'qux', 'qux'],\n",
    "   ....:                     ['one', 'two', 'one', 'two',\n",
    "   ....:                      'one', 'two', 'one', 'two']]))\n",
    "   ....: \n",
    "\n",
    "In [96]: index = pd.MultiIndex.from_tuples(tuples, names=['first', 'second'])\n",
    "\n",
    "In [97]: df = pd.DataFrame(np.random.randn(8, 2), index=index, columns=['A', 'B'])\n",
    "\n",
    "In [98]: df2 = df[:4]\n",
    "\n",
    "In [99]: df2"
   ]
  },
  {
   "cell_type": "code",
   "execution_count": null,
   "metadata": {
    "collapsed": true
   },
   "outputs": [],
   "source": [
    "Out[99]: \n",
    "                     A         B\n",
    "first second                    \n",
    "bar   one     0.029399 -0.542108\n",
    "      two     0.282696 -0.087302\n",
    "baz   one    -1.575170  1.771208\n",
    "      two     0.816482  1.100230\n",
    "\n",
    "The stack() method “compresses” a level in the DataFrame’s columns."
   ]
  },
  {
   "cell_type": "code",
   "execution_count": 135,
   "metadata": {
    "collapsed": false
   },
   "outputs": [
    {
     "data": {
      "text/plain": [
       "first  second   \n",
       "bar    one     A    0.035073\n",
       "               B   -0.617343\n",
       "       two     A   -1.352203\n",
       "               B   -1.179640\n",
       "baz    one     A   -0.715956\n",
       "               B    0.303899\n",
       "       two     A    1.352720\n",
       "               B   -0.257552\n",
       "dtype: float64"
      ]
     },
     "execution_count": 135,
     "metadata": {},
     "output_type": "execute_result"
    }
   ],
   "source": [
    "In [100]: stacked = df2.stack()\n",
    "\n",
    "In [101]: stacked"
   ]
  },
  {
   "cell_type": "code",
   "execution_count": null,
   "metadata": {
    "collapsed": true
   },
   "outputs": [],
   "source": [
    "Out[101]: \n",
    "first  second   \n",
    "bar    one     A    0.029399\n",
    "               B   -0.542108\n",
    "       two     A    0.282696\n",
    "               B   -0.087302\n",
    "baz    one     A   -1.575170\n",
    "               B    1.771208\n",
    "       two     A    0.816482\n",
    "               B    1.100230\n",
    "dtype: float64\n",
    "\n",
    "With a “stacked” DataFrame or Series (having a MultiIndex as the index), the inverse operation of stack() is unstack(), which by default unstacks the last level:"
   ]
  },
  {
   "cell_type": "code",
   "execution_count": 136,
   "metadata": {
    "collapsed": false
   },
   "outputs": [
    {
     "data": {
      "text/html": [
       "<div>\n",
       "<table border=\"1\" class=\"dataframe\">\n",
       "  <thead>\n",
       "    <tr style=\"text-align: right;\">\n",
       "      <th></th>\n",
       "      <th></th>\n",
       "      <th>A</th>\n",
       "      <th>B</th>\n",
       "    </tr>\n",
       "    <tr>\n",
       "      <th>first</th>\n",
       "      <th>second</th>\n",
       "      <th></th>\n",
       "      <th></th>\n",
       "    </tr>\n",
       "  </thead>\n",
       "  <tbody>\n",
       "    <tr>\n",
       "      <th rowspan=\"2\" valign=\"top\">bar</th>\n",
       "      <th>one</th>\n",
       "      <td>0.035073</td>\n",
       "      <td>-0.617343</td>\n",
       "    </tr>\n",
       "    <tr>\n",
       "      <th>two</th>\n",
       "      <td>-1.352203</td>\n",
       "      <td>-1.179640</td>\n",
       "    </tr>\n",
       "    <tr>\n",
       "      <th rowspan=\"2\" valign=\"top\">baz</th>\n",
       "      <th>one</th>\n",
       "      <td>-0.715956</td>\n",
       "      <td>0.303899</td>\n",
       "    </tr>\n",
       "    <tr>\n",
       "      <th>two</th>\n",
       "      <td>1.352720</td>\n",
       "      <td>-0.257552</td>\n",
       "    </tr>\n",
       "  </tbody>\n",
       "</table>\n",
       "</div>"
      ],
      "text/plain": [
       "                     A         B\n",
       "first second                    \n",
       "bar   one     0.035073 -0.617343\n",
       "      two    -1.352203 -1.179640\n",
       "baz   one    -0.715956  0.303899\n",
       "      two     1.352720 -0.257552"
      ]
     },
     "execution_count": 136,
     "metadata": {},
     "output_type": "execute_result"
    }
   ],
   "source": [
    "In [102]: stacked.unstack()"
   ]
  },
  {
   "cell_type": "code",
   "execution_count": null,
   "metadata": {
    "collapsed": true
   },
   "outputs": [],
   "source": [
    "Out[102]: \n",
    "                     A         B\n",
    "first second                    \n",
    "bar   one     0.029399 -0.542108\n",
    "      two     0.282696 -0.087302\n",
    "baz   one    -1.575170  1.771208\n",
    "      two     0.816482  1.100230"
   ]
  },
  {
   "cell_type": "code",
   "execution_count": 137,
   "metadata": {
    "collapsed": false
   },
   "outputs": [
    {
     "data": {
      "text/html": [
       "<div>\n",
       "<table border=\"1\" class=\"dataframe\">\n",
       "  <thead>\n",
       "    <tr style=\"text-align: right;\">\n",
       "      <th></th>\n",
       "      <th>second</th>\n",
       "      <th>one</th>\n",
       "      <th>two</th>\n",
       "    </tr>\n",
       "    <tr>\n",
       "      <th>first</th>\n",
       "      <th></th>\n",
       "      <th></th>\n",
       "      <th></th>\n",
       "    </tr>\n",
       "  </thead>\n",
       "  <tbody>\n",
       "    <tr>\n",
       "      <th rowspan=\"2\" valign=\"top\">bar</th>\n",
       "      <th>A</th>\n",
       "      <td>0.035073</td>\n",
       "      <td>-1.352203</td>\n",
       "    </tr>\n",
       "    <tr>\n",
       "      <th>B</th>\n",
       "      <td>-0.617343</td>\n",
       "      <td>-1.179640</td>\n",
       "    </tr>\n",
       "    <tr>\n",
       "      <th rowspan=\"2\" valign=\"top\">baz</th>\n",
       "      <th>A</th>\n",
       "      <td>-0.715956</td>\n",
       "      <td>1.352720</td>\n",
       "    </tr>\n",
       "    <tr>\n",
       "      <th>B</th>\n",
       "      <td>0.303899</td>\n",
       "      <td>-0.257552</td>\n",
       "    </tr>\n",
       "  </tbody>\n",
       "</table>\n",
       "</div>"
      ],
      "text/plain": [
       "second        one       two\n",
       "first                      \n",
       "bar   A  0.035073 -1.352203\n",
       "      B -0.617343 -1.179640\n",
       "baz   A -0.715956  1.352720\n",
       "      B  0.303899 -0.257552"
      ]
     },
     "execution_count": 137,
     "metadata": {},
     "output_type": "execute_result"
    }
   ],
   "source": [
    "In [103]: stacked.unstack(1)"
   ]
  },
  {
   "cell_type": "code",
   "execution_count": null,
   "metadata": {
    "collapsed": true
   },
   "outputs": [],
   "source": [
    "Out[103]: \n",
    "second        one       two\n",
    "first                      \n",
    "bar   A  0.029399  0.282696\n",
    "      B -0.542108 -0.087302\n",
    "baz   A -1.575170  0.816482\n",
    "      B  1.771208  1.100230"
   ]
  },
  {
   "cell_type": "code",
   "execution_count": 138,
   "metadata": {
    "collapsed": false
   },
   "outputs": [
    {
     "data": {
      "text/html": [
       "<div>\n",
       "<table border=\"1\" class=\"dataframe\">\n",
       "  <thead>\n",
       "    <tr style=\"text-align: right;\">\n",
       "      <th></th>\n",
       "      <th>first</th>\n",
       "      <th>bar</th>\n",
       "      <th>baz</th>\n",
       "    </tr>\n",
       "    <tr>\n",
       "      <th>second</th>\n",
       "      <th></th>\n",
       "      <th></th>\n",
       "      <th></th>\n",
       "    </tr>\n",
       "  </thead>\n",
       "  <tbody>\n",
       "    <tr>\n",
       "      <th rowspan=\"2\" valign=\"top\">one</th>\n",
       "      <th>A</th>\n",
       "      <td>0.035073</td>\n",
       "      <td>-0.715956</td>\n",
       "    </tr>\n",
       "    <tr>\n",
       "      <th>B</th>\n",
       "      <td>-0.617343</td>\n",
       "      <td>0.303899</td>\n",
       "    </tr>\n",
       "    <tr>\n",
       "      <th rowspan=\"2\" valign=\"top\">two</th>\n",
       "      <th>A</th>\n",
       "      <td>-1.352203</td>\n",
       "      <td>1.352720</td>\n",
       "    </tr>\n",
       "    <tr>\n",
       "      <th>B</th>\n",
       "      <td>-1.179640</td>\n",
       "      <td>-0.257552</td>\n",
       "    </tr>\n",
       "  </tbody>\n",
       "</table>\n",
       "</div>"
      ],
      "text/plain": [
       "first          bar       baz\n",
       "second                      \n",
       "one    A  0.035073 -0.715956\n",
       "       B -0.617343  0.303899\n",
       "two    A -1.352203  1.352720\n",
       "       B -1.179640 -0.257552"
      ]
     },
     "execution_count": 138,
     "metadata": {},
     "output_type": "execute_result"
    }
   ],
   "source": [
    "In [104]: stacked.unstack(0)"
   ]
  },
  {
   "cell_type": "code",
   "execution_count": null,
   "metadata": {
    "collapsed": true
   },
   "outputs": [],
   "source": [
    "Out[104]: \n",
    "first          bar       baz\n",
    "second                      \n",
    "one    A  0.029399 -1.575170\n",
    "       B -0.542108  1.771208\n",
    "two    A  0.282696  0.816482\n",
    "       B -0.087302  1.100230\n",
    "\n",
    "Pivot Tables\n",
    "\n",
    "See the section on Pivot Tables."
   ]
  },
  {
   "cell_type": "code",
   "execution_count": 139,
   "metadata": {
    "collapsed": false
   },
   "outputs": [
    {
     "data": {
      "text/html": [
       "<div>\n",
       "<table border=\"1\" class=\"dataframe\">\n",
       "  <thead>\n",
       "    <tr style=\"text-align: right;\">\n",
       "      <th></th>\n",
       "      <th>A</th>\n",
       "      <th>B</th>\n",
       "      <th>C</th>\n",
       "      <th>D</th>\n",
       "      <th>E</th>\n",
       "    </tr>\n",
       "  </thead>\n",
       "  <tbody>\n",
       "    <tr>\n",
       "      <th>0</th>\n",
       "      <td>one</td>\n",
       "      <td>A</td>\n",
       "      <td>foo</td>\n",
       "      <td>0.809671</td>\n",
       "      <td>0.197734</td>\n",
       "    </tr>\n",
       "    <tr>\n",
       "      <th>1</th>\n",
       "      <td>one</td>\n",
       "      <td>B</td>\n",
       "      <td>foo</td>\n",
       "      <td>-0.164873</td>\n",
       "      <td>1.690280</td>\n",
       "    </tr>\n",
       "    <tr>\n",
       "      <th>2</th>\n",
       "      <td>two</td>\n",
       "      <td>C</td>\n",
       "      <td>foo</td>\n",
       "      <td>-0.483617</td>\n",
       "      <td>-0.000275</td>\n",
       "    </tr>\n",
       "    <tr>\n",
       "      <th>3</th>\n",
       "      <td>three</td>\n",
       "      <td>A</td>\n",
       "      <td>bar</td>\n",
       "      <td>-0.370082</td>\n",
       "      <td>-0.944499</td>\n",
       "    </tr>\n",
       "    <tr>\n",
       "      <th>4</th>\n",
       "      <td>one</td>\n",
       "      <td>B</td>\n",
       "      <td>bar</td>\n",
       "      <td>-0.398312</td>\n",
       "      <td>1.618814</td>\n",
       "    </tr>\n",
       "    <tr>\n",
       "      <th>5</th>\n",
       "      <td>one</td>\n",
       "      <td>C</td>\n",
       "      <td>bar</td>\n",
       "      <td>0.774851</td>\n",
       "      <td>0.466057</td>\n",
       "    </tr>\n",
       "    <tr>\n",
       "      <th>6</th>\n",
       "      <td>two</td>\n",
       "      <td>A</td>\n",
       "      <td>foo</td>\n",
       "      <td>1.282699</td>\n",
       "      <td>1.008003</td>\n",
       "    </tr>\n",
       "    <tr>\n",
       "      <th>7</th>\n",
       "      <td>three</td>\n",
       "      <td>B</td>\n",
       "      <td>foo</td>\n",
       "      <td>-1.119050</td>\n",
       "      <td>0.586597</td>\n",
       "    </tr>\n",
       "    <tr>\n",
       "      <th>8</th>\n",
       "      <td>one</td>\n",
       "      <td>C</td>\n",
       "      <td>foo</td>\n",
       "      <td>-0.718835</td>\n",
       "      <td>0.987221</td>\n",
       "    </tr>\n",
       "    <tr>\n",
       "      <th>9</th>\n",
       "      <td>one</td>\n",
       "      <td>A</td>\n",
       "      <td>bar</td>\n",
       "      <td>-2.271714</td>\n",
       "      <td>-1.049519</td>\n",
       "    </tr>\n",
       "    <tr>\n",
       "      <th>10</th>\n",
       "      <td>two</td>\n",
       "      <td>B</td>\n",
       "      <td>bar</td>\n",
       "      <td>-0.294070</td>\n",
       "      <td>0.537048</td>\n",
       "    </tr>\n",
       "    <tr>\n",
       "      <th>11</th>\n",
       "      <td>three</td>\n",
       "      <td>C</td>\n",
       "      <td>bar</td>\n",
       "      <td>0.329921</td>\n",
       "      <td>-1.277488</td>\n",
       "    </tr>\n",
       "  </tbody>\n",
       "</table>\n",
       "</div>"
      ],
      "text/plain": [
       "        A  B    C         D         E\n",
       "0     one  A  foo  0.809671  0.197734\n",
       "1     one  B  foo -0.164873  1.690280\n",
       "2     two  C  foo -0.483617 -0.000275\n",
       "3   three  A  bar -0.370082 -0.944499\n",
       "4     one  B  bar -0.398312  1.618814\n",
       "5     one  C  bar  0.774851  0.466057\n",
       "6     two  A  foo  1.282699  1.008003\n",
       "7   three  B  foo -1.119050  0.586597\n",
       "8     one  C  foo -0.718835  0.987221\n",
       "9     one  A  bar -2.271714 -1.049519\n",
       "10    two  B  bar -0.294070  0.537048\n",
       "11  three  C  bar  0.329921 -1.277488"
      ]
     },
     "execution_count": 139,
     "metadata": {},
     "output_type": "execute_result"
    }
   ],
   "source": [
    "In [105]: df = pd.DataFrame({'A' : ['one', 'one', 'two', 'three'] * 3,\n",
    "   .....:                    'B' : ['A', 'B', 'C'] * 4,\n",
    "   .....:                    'C' : ['foo', 'foo', 'foo', 'bar', 'bar', 'bar'] * 2,\n",
    "   .....:                    'D' : np.random.randn(12),\n",
    "   .....:                    'E' : np.random.randn(12)})\n",
    "   .....: \n",
    "\n",
    "In [106]: df"
   ]
  },
  {
   "cell_type": "code",
   "execution_count": null,
   "metadata": {
    "collapsed": true
   },
   "outputs": [],
   "source": [
    "Out[106]: \n",
    "        A  B    C         D         E\n",
    "0     one  A  foo  1.418757 -0.179666\n",
    "1     one  B  foo -1.879024  1.291836\n",
    "2     two  C  foo  0.536826 -0.009614\n",
    "3   three  A  bar  1.006160  0.392149\n",
    "4     one  B  bar -0.029716  0.264599\n",
    "5     one  C  bar -1.146178 -0.057409\n",
    "6     two  A  foo  0.100900 -1.425638\n",
    "7   three  B  foo -1.035018  1.024098\n",
    "8     one  C  foo  0.314665 -0.106062\n",
    "9     one  A  bar -0.773723  1.824375\n",
    "10    two  B  bar -1.170653  0.595974\n",
    "11  three  C  bar  0.648740  1.167115\n",
    "\n",
    "We can produce pivot tables from this data very easily:"
   ]
  },
  {
   "cell_type": "code",
   "execution_count": 140,
   "metadata": {
    "collapsed": false
   },
   "outputs": [
    {
     "data": {
      "text/html": [
       "<div>\n",
       "<table border=\"1\" class=\"dataframe\">\n",
       "  <thead>\n",
       "    <tr style=\"text-align: right;\">\n",
       "      <th></th>\n",
       "      <th>C</th>\n",
       "      <th>bar</th>\n",
       "      <th>foo</th>\n",
       "    </tr>\n",
       "    <tr>\n",
       "      <th>A</th>\n",
       "      <th>B</th>\n",
       "      <th></th>\n",
       "      <th></th>\n",
       "    </tr>\n",
       "  </thead>\n",
       "  <tbody>\n",
       "    <tr>\n",
       "      <th rowspan=\"3\" valign=\"top\">one</th>\n",
       "      <th>A</th>\n",
       "      <td>-2.271714</td>\n",
       "      <td>0.809671</td>\n",
       "    </tr>\n",
       "    <tr>\n",
       "      <th>B</th>\n",
       "      <td>-0.398312</td>\n",
       "      <td>-0.164873</td>\n",
       "    </tr>\n",
       "    <tr>\n",
       "      <th>C</th>\n",
       "      <td>0.774851</td>\n",
       "      <td>-0.718835</td>\n",
       "    </tr>\n",
       "    <tr>\n",
       "      <th rowspan=\"3\" valign=\"top\">three</th>\n",
       "      <th>A</th>\n",
       "      <td>-0.370082</td>\n",
       "      <td>NaN</td>\n",
       "    </tr>\n",
       "    <tr>\n",
       "      <th>B</th>\n",
       "      <td>NaN</td>\n",
       "      <td>-1.119050</td>\n",
       "    </tr>\n",
       "    <tr>\n",
       "      <th>C</th>\n",
       "      <td>0.329921</td>\n",
       "      <td>NaN</td>\n",
       "    </tr>\n",
       "    <tr>\n",
       "      <th rowspan=\"3\" valign=\"top\">two</th>\n",
       "      <th>A</th>\n",
       "      <td>NaN</td>\n",
       "      <td>1.282699</td>\n",
       "    </tr>\n",
       "    <tr>\n",
       "      <th>B</th>\n",
       "      <td>-0.294070</td>\n",
       "      <td>NaN</td>\n",
       "    </tr>\n",
       "    <tr>\n",
       "      <th>C</th>\n",
       "      <td>NaN</td>\n",
       "      <td>-0.483617</td>\n",
       "    </tr>\n",
       "  </tbody>\n",
       "</table>\n",
       "</div>"
      ],
      "text/plain": [
       "C             bar       foo\n",
       "A     B                    \n",
       "one   A -2.271714  0.809671\n",
       "      B -0.398312 -0.164873\n",
       "      C  0.774851 -0.718835\n",
       "three A -0.370082       NaN\n",
       "      B       NaN -1.119050\n",
       "      C  0.329921       NaN\n",
       "two   A       NaN  1.282699\n",
       "      B -0.294070       NaN\n",
       "      C       NaN -0.483617"
      ]
     },
     "execution_count": 140,
     "metadata": {},
     "output_type": "execute_result"
    }
   ],
   "source": [
    "In [107]: pd.pivot_table(df, values='D', index=['A', 'B'], columns=['C'])"
   ]
  },
  {
   "cell_type": "code",
   "execution_count": null,
   "metadata": {
    "collapsed": true
   },
   "outputs": [],
   "source": [
    "Out[107]: \n",
    "C             bar       foo\n",
    "A     B                    \n",
    "one   A -0.773723  1.418757\n",
    "      B -0.029716 -1.879024\n",
    "      C -1.146178  0.314665\n",
    "three A  1.006160       NaN\n",
    "      B       NaN -1.035018\n",
    "      C  0.648740       NaN\n",
    "two   A       NaN  0.100900\n",
    "      B -1.170653       NaN\n",
    "      C       NaN  0.536826\n",
    "\n",
    "Time Series\n",
    "\n",
    "pandas has simple, powerful, and efficient functionality for performing resampling operations during frequency conversion (e.g., converting secondly data into 5-minutely data). This is extremely common in, but not limited to, financial applications. See the Time Series section"
   ]
  },
  {
   "cell_type": "code",
   "execution_count": 141,
   "metadata": {
    "collapsed": false
   },
   "outputs": [
    {
     "data": {
      "text/plain": [
       "2012-01-01    25929\n",
       "Freq: 5T, dtype: int32"
      ]
     },
     "execution_count": 141,
     "metadata": {},
     "output_type": "execute_result"
    }
   ],
   "source": [
    "In [108]: rng = pd.date_range('1/1/2012', periods=100, freq='S')\n",
    "\n",
    "In [109]: ts = pd.Series(np.random.randint(0, 500, len(rng)), index=rng)\n",
    "\n",
    "In [110]: ts.resample('5Min').sum()"
   ]
  },
  {
   "cell_type": "code",
   "execution_count": null,
   "metadata": {
    "collapsed": true
   },
   "outputs": [],
   "source": [
    "Out[110]: \n",
    "2012-01-01    25083\n",
    "Freq: 5T, dtype: int64\n",
    "\n",
    "Time zone representation"
   ]
  },
  {
   "cell_type": "code",
   "execution_count": 142,
   "metadata": {
    "collapsed": false
   },
   "outputs": [
    {
     "data": {
      "text/plain": [
       "2012-03-06    0.398244\n",
       "2012-03-07    0.957572\n",
       "2012-03-08   -2.362878\n",
       "2012-03-09    0.458460\n",
       "2012-03-10   -1.632203\n",
       "Freq: D, dtype: float64"
      ]
     },
     "execution_count": 142,
     "metadata": {},
     "output_type": "execute_result"
    }
   ],
   "source": [
    "In [111]: rng = pd.date_range('3/6/2012 00:00', periods=5, freq='D')\n",
    "\n",
    "In [112]: ts = pd.Series(np.random.randn(len(rng)), rng)\n",
    "\n",
    "In [113]: ts"
   ]
  },
  {
   "cell_type": "code",
   "execution_count": 143,
   "metadata": {
    "collapsed": false
   },
   "outputs": [
    {
     "ename": "SyntaxError",
     "evalue": "invalid syntax (<ipython-input-143-ced921571034>, line 1)",
     "output_type": "error",
     "traceback": [
      "\u001b[1;36m  File \u001b[1;32m\"<ipython-input-143-ced921571034>\"\u001b[1;36m, line \u001b[1;32m1\u001b[0m\n\u001b[1;33m    Out[113]:\u001b[0m\n\u001b[1;37m            ^\u001b[0m\n\u001b[1;31mSyntaxError\u001b[0m\u001b[1;31m:\u001b[0m invalid syntax\n"
     ]
    }
   ],
   "source": [
    "Out[113]: \n",
    "2012-03-06    0.464000\n",
    "2012-03-07    0.227371\n",
    "2012-03-08   -0.496922\n",
    "2012-03-09    0.306389\n",
    "2012-03-10   -2.290613\n",
    "Freq: D, dtype: float64"
   ]
  },
  {
   "cell_type": "code",
   "execution_count": 144,
   "metadata": {
    "collapsed": false
   },
   "outputs": [
    {
     "data": {
      "text/plain": [
       "2012-03-06 00:00:00+00:00    0.398244\n",
       "2012-03-07 00:00:00+00:00    0.957572\n",
       "2012-03-08 00:00:00+00:00   -2.362878\n",
       "2012-03-09 00:00:00+00:00    0.458460\n",
       "2012-03-10 00:00:00+00:00   -1.632203\n",
       "Freq: D, dtype: float64"
      ]
     },
     "execution_count": 144,
     "metadata": {},
     "output_type": "execute_result"
    }
   ],
   "source": [
    "In [114]: ts_utc = ts.tz_localize('UTC')\n",
    "\n",
    "In [115]: ts_utc"
   ]
  },
  {
   "cell_type": "code",
   "execution_count": 145,
   "metadata": {
    "collapsed": false
   },
   "outputs": [
    {
     "ename": "SyntaxError",
     "evalue": "invalid syntax (<ipython-input-145-72a87f1bc029>, line 1)",
     "output_type": "error",
     "traceback": [
      "\u001b[1;36m  File \u001b[1;32m\"<ipython-input-145-72a87f1bc029>\"\u001b[1;36m, line \u001b[1;32m1\u001b[0m\n\u001b[1;33m    Out[115]:\u001b[0m\n\u001b[1;37m            ^\u001b[0m\n\u001b[1;31mSyntaxError\u001b[0m\u001b[1;31m:\u001b[0m invalid syntax\n"
     ]
    }
   ],
   "source": [
    "Out[115]: \n",
    "2012-03-06 00:00:00+00:00    0.464000\n",
    "2012-03-07 00:00:00+00:00    0.227371\n",
    "2012-03-08 00:00:00+00:00   -0.496922\n",
    "2012-03-09 00:00:00+00:00    0.306389\n",
    "2012-03-10 00:00:00+00:00   -2.290613\n",
    "Freq: D, dtype: float64\n",
    "\n",
    "Convert to another time zone"
   ]
  },
  {
   "cell_type": "code",
   "execution_count": 147,
   "metadata": {
    "collapsed": false
   },
   "outputs": [
    {
     "data": {
      "text/plain": [
       "2012-03-05 19:00:00-05:00    0.398244\n",
       "2012-03-06 19:00:00-05:00    0.957572\n",
       "2012-03-07 19:00:00-05:00   -2.362878\n",
       "2012-03-08 19:00:00-05:00    0.458460\n",
       "2012-03-09 19:00:00-05:00   -1.632203\n",
       "Freq: D, dtype: float64"
      ]
     },
     "execution_count": 147,
     "metadata": {},
     "output_type": "execute_result"
    }
   ],
   "source": [
    "In [116]: ts_utc.tz_convert('US/Eastern')"
   ]
  },
  {
   "cell_type": "code",
   "execution_count": null,
   "metadata": {
    "collapsed": true
   },
   "outputs": [],
   "source": [
    "Out[116]: \n",
    "2012-03-05 19:00:00-05:00    0.464000\n",
    "2012-03-06 19:00:00-05:00    0.227371\n",
    "2012-03-07 19:00:00-05:00   -0.496922\n",
    "2012-03-08 19:00:00-05:00    0.306389\n",
    "2012-03-09 19:00:00-05:00   -2.290613\n",
    "Freq: D, dtype: float64\n",
    "\n",
    "Converting between time span representations"
   ]
  },
  {
   "cell_type": "code",
   "execution_count": 148,
   "metadata": {
    "collapsed": false
   },
   "outputs": [
    {
     "data": {
      "text/plain": [
       "2012-01-31    0.056339\n",
       "2012-02-29    0.128705\n",
       "2012-03-31    1.062268\n",
       "2012-04-30    1.179919\n",
       "2012-05-31    1.586088\n",
       "Freq: M, dtype: float64"
      ]
     },
     "execution_count": 148,
     "metadata": {},
     "output_type": "execute_result"
    }
   ],
   "source": [
    "In [117]: rng = pd.date_range('1/1/2012', periods=5, freq='M')\n",
    "\n",
    "In [118]: ts = pd.Series(np.random.randn(len(rng)), index=rng)\n",
    "\n",
    "In [119]: ts"
   ]
  },
  {
   "cell_type": "code",
   "execution_count": null,
   "metadata": {
    "collapsed": true
   },
   "outputs": [],
   "source": [
    "Out[119]: \n",
    "2012-01-31   -1.134623\n",
    "2012-02-29   -1.561819\n",
    "2012-03-31   -0.260838\n",
    "2012-04-30    0.281957\n",
    "2012-05-31    1.523962\n",
    "Freq: M, dtype: float64"
   ]
  },
  {
   "cell_type": "code",
   "execution_count": null,
   "metadata": {
    "collapsed": true
   },
   "outputs": [],
   "source": [
    "In [120]: ps = ts.to_period()\n",
    "\n",
    "In [121]: ps"
   ]
  },
  {
   "cell_type": "code",
   "execution_count": null,
   "metadata": {
    "collapsed": true
   },
   "outputs": [],
   "source": [
    "Out[121]: \n",
    "2012-01   -1.134623\n",
    "2012-02   -1.561819\n",
    "2012-03   -0.260838\n",
    "2012-04    0.281957\n",
    "2012-05    1.523962\n",
    "Freq: M, dtype: float64"
   ]
  },
  {
   "cell_type": "code",
   "execution_count": null,
   "metadata": {
    "collapsed": true
   },
   "outputs": [],
   "source": [
    "In [122]: ps.to_timestamp()"
   ]
  },
  {
   "cell_type": "code",
   "execution_count": null,
   "metadata": {
    "collapsed": true
   },
   "outputs": [],
   "source": [
    "Out[122]: \n",
    "2012-01-01   -1.134623\n",
    "2012-02-01   -1.561819\n",
    "2012-03-01   -0.260838\n",
    "2012-04-01    0.281957\n",
    "2012-05-01    1.523962\n",
    "Freq: MS, dtype: float64\n",
    "\n",
    "Converting between period and timestamp enables some convenient arithmetic functions to be used. In the following example, we convert a quarterly frequency with year ending in November to 9am of the end of the month following the quarter end:"
   ]
  },
  {
   "cell_type": "code",
   "execution_count": null,
   "metadata": {
    "collapsed": true
   },
   "outputs": [],
   "source": [
    "In [123]: prng = pd.period_range('1990Q1', '2000Q4', freq='Q-NOV')\n",
    "\n",
    "In [124]: ts = pd.Series(np.random.randn(len(prng)), prng)\n",
    "\n",
    "In [125]: ts.index = (prng.asfreq('M', 'e') + 1).asfreq('H', 's') + 9\n",
    "\n",
    "In [126]: ts.head()"
   ]
  },
  {
   "cell_type": "code",
   "execution_count": null,
   "metadata": {
    "collapsed": true
   },
   "outputs": [],
   "source": [
    "Out[126]: \n",
    "1990-03-01 09:00   -0.902937\n",
    "1990-06-01 09:00    0.068159\n",
    "1990-09-01 09:00   -0.057873\n",
    "1990-12-01 09:00   -0.368204\n",
    "1991-03-01 09:00   -1.144073\n",
    "Freq: H, dtype: float64\n",
    "\n",
    "Categoricals\n",
    "\n",
    "Since version 0.15, pandas can include categorical data in a DataFrame. For full docs, see the categorical introduction and the API documentation."
   ]
  },
  {
   "cell_type": "code",
   "execution_count": null,
   "metadata": {
    "collapsed": true
   },
   "outputs": [],
   "source": [
    "In [127]: df = pd.DataFrame({\"id\":[1,2,3,4,5,6], \"raw_grade\":['a', 'b', 'b', 'a', 'a', 'e']})"
   ]
  },
  {
   "cell_type": "code",
   "execution_count": null,
   "metadata": {
    "collapsed": true
   },
   "outputs": [],
   "source": [
    "Convert the raw grades to a categorical data type."
   ]
  },
  {
   "cell_type": "code",
   "execution_count": null,
   "metadata": {
    "collapsed": true
   },
   "outputs": [],
   "source": [
    "In [128]: df[\"grade\"] = df[\"raw_grade\"].astype(\"category\")\n",
    "\n",
    "In [129]: df[\"grade\"]"
   ]
  },
  {
   "cell_type": "code",
   "execution_count": null,
   "metadata": {
    "collapsed": true
   },
   "outputs": [],
   "source": [
    "Out[129]: \n",
    "0    a\n",
    "1    b\n",
    "2    b\n",
    "3    a\n",
    "4    a\n",
    "5    e\n",
    "Name: grade, dtype: category\n",
    "Categories (3, object): [a, b, e]\n",
    "\n",
    "Rename the categories to more meaningful names (assigning to Series.cat.categories is inplace!)"
   ]
  },
  {
   "cell_type": "code",
   "execution_count": null,
   "metadata": {
    "collapsed": true
   },
   "outputs": [],
   "source": [
    "In [130]: df[\"grade\"].cat.categories = [\"very good\", \"good\", \"very bad\"]\n",
    "\n",
    "Reorder the categories and simultaneously add the missing categories (methods under Series .cat return a new Series per default).\n",
    "\n",
    "In [131]: df[\"grade\"] = df[\"grade\"].cat.set_categories([\"very bad\", \"bad\", \"medium\", \"good\", \"very good\"])\n",
    "\n",
    "In [132]: df[\"grade\"]"
   ]
  },
  {
   "cell_type": "code",
   "execution_count": null,
   "metadata": {
    "collapsed": true
   },
   "outputs": [],
   "source": [
    "Out[132]: \n",
    "0    very good\n",
    "1         good\n",
    "2         good\n",
    "3    very good\n",
    "4    very good\n",
    "5     very bad\n",
    "Name: grade, dtype: category\n",
    "Categories (5, object): [very bad, bad, medium, good, very good]\n",
    "\n",
    "Sorting is per order in the categories, not lexical order."
   ]
  },
  {
   "cell_type": "code",
   "execution_count": null,
   "metadata": {
    "collapsed": true
   },
   "outputs": [],
   "source": [
    "In [133]: df.sort_values(by=\"grade\")"
   ]
  },
  {
   "cell_type": "code",
   "execution_count": null,
   "metadata": {
    "collapsed": true
   },
   "outputs": [],
   "source": [
    "Out[133]: \n",
    "   id raw_grade      grade\n",
    "5   6         e   very bad\n",
    "1   2         b       good\n",
    "2   3         b       good\n",
    "0   1         a  very good\n",
    "3   4         a  very good\n",
    "4   5         a  very good\n",
    "\n",
    "Grouping by a categorical column shows also empty categories."
   ]
  },
  {
   "cell_type": "code",
   "execution_count": null,
   "metadata": {
    "collapsed": true
   },
   "outputs": [],
   "source": [
    "In [134]: df.groupby(\"grade\").size()"
   ]
  },
  {
   "cell_type": "code",
   "execution_count": null,
   "metadata": {
    "collapsed": true
   },
   "outputs": [],
   "source": [
    "Out[134]: \n",
    "grade\n",
    "very bad     1\n",
    "bad          0\n",
    "medium       0\n",
    "good         2\n",
    "very good    3\n",
    "dtype: int64\n",
    "\n",
    "Plotting\n",
    "\n",
    "Plotting docs."
   ]
  },
  {
   "cell_type": "code",
   "execution_count": null,
   "metadata": {
    "collapsed": true
   },
   "outputs": [],
   "source": [
    "In [135]: ts = pd.Series(np.random.randn(1000), index=pd.date_range('1/1/2000', periods=1000))\n",
    "\n",
    "In [136]: ts = ts.cumsum()\n",
    "\n",
    "In [137]: ts.plot()"
   ]
  },
  {
   "cell_type": "code",
   "execution_count": null,
   "metadata": {
    "collapsed": true
   },
   "outputs": [],
   "source": [
    "Out[137]: <matplotlib.axes._subplots.AxesSubplot at 0x7ff2ab2af550>\n",
    "\n",
    "_images/series_plot_basic.png\n",
    "\n",
    "On DataFrame, plot() is a convenience to plot all of the columns with labels:"
   ]
  },
  {
   "cell_type": "code",
   "execution_count": null,
   "metadata": {
    "collapsed": true
   },
   "outputs": [],
   "source": [
    "In [138]: df = pd.DataFrame(np.random.randn(1000, 4), index=ts.index,\n",
    "   .....:                   columns=['A', 'B', 'C', 'D'])\n",
    "   .....: \n",
    "\n",
    "In [139]: df = df.cumsum()\n",
    "\n",
    "In [140]: plt.figure(); df.plot(); plt.legend(loc='best')"
   ]
  },
  {
   "cell_type": "code",
   "execution_count": null,
   "metadata": {
    "collapsed": true
   },
   "outputs": [],
   "source": [
    "Out[140]: <matplotlib.legend.Legend at 0x7ff29c8163d0>\n",
    "\n",
    "_images/frame_plot_basic.png\n",
    "Getting Data In/Out\n",
    "CSV\n",
    "\n",
    "Writing to a csv file"
   ]
  },
  {
   "cell_type": "code",
   "execution_count": null,
   "metadata": {
    "collapsed": true
   },
   "outputs": [],
   "source": [
    "In [141]: df.to_csv('foo.csv')"
   ]
  },
  {
   "cell_type": "code",
   "execution_count": null,
   "metadata": {
    "collapsed": true
   },
   "outputs": [],
   "source": [
    "Reading from a csv file"
   ]
  },
  {
   "cell_type": "code",
   "execution_count": null,
   "metadata": {
    "collapsed": true
   },
   "outputs": [],
   "source": [
    "In [142]: pd.read_csv('foo.csv')"
   ]
  },
  {
   "cell_type": "code",
   "execution_count": null,
   "metadata": {
    "collapsed": true
   },
   "outputs": [],
   "source": [
    "Out[142]: \n",
    "     Unnamed: 0          A          B         C          D\n",
    "0    2000-01-01   0.266457  -0.399641 -0.219582   1.186860\n",
    "1    2000-01-02  -1.170732  -0.345873  1.653061  -0.282953\n",
    "2    2000-01-03  -1.734933   0.530468  2.060811  -0.515536\n",
    "3    2000-01-04  -1.555121   1.452620  0.239859  -1.156896\n",
    "4    2000-01-05   0.578117   0.511371  0.103552  -2.428202\n",
    "5    2000-01-06   0.478344   0.449933 -0.741620  -1.962409\n",
    "6    2000-01-07   1.235339  -0.091757 -1.543861  -1.084753\n",
    "..          ...        ...        ...       ...        ...\n",
    "993  2002-09-20 -10.628548  -9.153563 -7.883146  28.313940\n",
    "994  2002-09-21 -10.390377  -8.727491 -6.399645  30.914107\n",
    "995  2002-09-22  -8.985362  -8.485624 -4.669462  31.367740\n",
    "996  2002-09-23  -9.558560  -8.781216 -4.499815  30.518439\n",
    "997  2002-09-24  -9.902058  -9.340490 -4.386639  30.105593\n",
    "998  2002-09-25 -10.216020  -9.480682 -3.933802  29.758560\n",
    "999  2002-09-26 -11.856774 -10.671012 -3.216025  29.369368\n",
    "\n",
    "[1000 rows x 5 columns]\n",
    "\n",
    "HDF5\n",
    "\n",
    "Reading and writing to HDFStores\n",
    "\n",
    "Writing to a HDF5 Store"
   ]
  },
  {
   "cell_type": "code",
   "execution_count": null,
   "metadata": {
    "collapsed": true
   },
   "outputs": [],
   "source": [
    "In [143]: df.to_hdf('foo.h5','df')"
   ]
  },
  {
   "cell_type": "code",
   "execution_count": null,
   "metadata": {
    "collapsed": true
   },
   "outputs": [],
   "source": [
    "Reading from a HDF5 Store"
   ]
  },
  {
   "cell_type": "code",
   "execution_count": null,
   "metadata": {
    "collapsed": true
   },
   "outputs": [],
   "source": [
    "In [144]: pd.read_hdf('foo.h5','df')"
   ]
  },
  {
   "cell_type": "code",
   "execution_count": null,
   "metadata": {
    "collapsed": true
   },
   "outputs": [],
   "source": [
    "Out[144]: \n",
    "                    A          B         C          D\n",
    "2000-01-01   0.266457  -0.399641 -0.219582   1.186860\n",
    "2000-01-02  -1.170732  -0.345873  1.653061  -0.282953\n",
    "2000-01-03  -1.734933   0.530468  2.060811  -0.515536\n",
    "2000-01-04  -1.555121   1.452620  0.239859  -1.156896\n",
    "2000-01-05   0.578117   0.511371  0.103552  -2.428202\n",
    "2000-01-06   0.478344   0.449933 -0.741620  -1.962409\n",
    "2000-01-07   1.235339  -0.091757 -1.543861  -1.084753\n",
    "...               ...        ...       ...        ...\n",
    "2002-09-20 -10.628548  -9.153563 -7.883146  28.313940\n",
    "2002-09-21 -10.390377  -8.727491 -6.399645  30.914107\n",
    "2002-09-22  -8.985362  -8.485624 -4.669462  31.367740\n",
    "2002-09-23  -9.558560  -8.781216 -4.499815  30.518439\n",
    "2002-09-24  -9.902058  -9.340490 -4.386639  30.105593\n",
    "2002-09-25 -10.216020  -9.480682 -3.933802  29.758560\n",
    "2002-09-26 -11.856774 -10.671012 -3.216025  29.369368\n",
    "\n",
    "[1000 rows x 4 columns]\n",
    "\n",
    "Excel\n",
    "\n",
    "Reading and writing to MS Excel\n",
    "\n",
    "Writing to an excel file"
   ]
  },
  {
   "cell_type": "code",
   "execution_count": null,
   "metadata": {
    "collapsed": true
   },
   "outputs": [],
   "source": [
    "In [145]: df.to_excel('foo.xlsx', sheet_name='Sheet1')"
   ]
  },
  {
   "cell_type": "code",
   "execution_count": null,
   "metadata": {
    "collapsed": true
   },
   "outputs": [],
   "source": [
    "Reading from an excel file"
   ]
  },
  {
   "cell_type": "code",
   "execution_count": null,
   "metadata": {
    "collapsed": true
   },
   "outputs": [],
   "source": [
    "In [146]: pd.read_excel('foo.xlsx', 'Sheet1', index_col=None, na_values=['NA'])"
   ]
  },
  {
   "cell_type": "code",
   "execution_count": 85,
   "metadata": {
    "collapsed": false
   },
   "outputs": [
    {
     "ename": "SyntaxError",
     "evalue": "invalid syntax (<ipython-input-85-4e72c70f64a0>, line 6)",
     "output_type": "error",
     "traceback": [
      "\u001b[1;36m  File \u001b[1;32m\"<ipython-input-85-4e72c70f64a0>\"\u001b[1;36m, line \u001b[1;32m6\u001b[0m\n\u001b[1;33m    Out[54]:\u001b[0m\n\u001b[1;37m           ^\u001b[0m\n\u001b[1;31mSyntaxError\u001b[0m\u001b[1;31m:\u001b[0m invalid syntax\n"
     ]
    }
   ],
   "source": [
    "Out[146]: \n",
    "                    A          B         C          D\n",
    "2000-01-01   0.266457  -0.399641 -0.219582   1.186860\n",
    "2000-01-02  -1.170732  -0.345873  1.653061  -0.282953\n",
    "2000-01-03  -1.734933   0.530468  2.060811  -0.515536\n",
    "2000-01-04  -1.555121   1.452620  0.239859  -1.156896\n",
    "2000-01-05   0.578117   0.511371  0.103552  -2.428202\n",
    "2000-01-06   0.478344   0.449933 -0.741620  -1.962409\n",
    "2000-01-07   1.235339  -0.091757 -1.543861  -1.084753\n",
    "...               ...        ...       ...        ...\n",
    "2002-09-20 -10.628548  -9.153563 -7.883146  28.313940\n",
    "2002-09-21 -10.390377  -8.727491 -6.399645  30.914107\n",
    "2002-09-22  -8.985362  -8.485624 -4.669462  31.367740\n",
    "2002-09-23  -9.558560  -8.781216 -4.499815  30.518439\n",
    "2002-09-24  -9.902058  -9.340490 -4.386639  30.105593\n",
    "2002-09-25 -10.216020  -9.480682 -3.933802  29.758560\n",
    "2002-09-26 -11.856774 -10.671012 -3.216025  29.369368\n",
    "\n",
    "[1000 rows x 4 columns]\n",
    "\n",
    "Gotchas\n",
    "\n",
    "If you are trying an operation and you see an exception like:\n",
    "\n",
    ">>> if pd.Series([False, True, False]):\n",
    "    print(\"I was true\")\n",
    "Traceback\n",
    "    ...\n",
    "ValueError: The truth value of an array is ambiguous. Use a.empty, a.any() or a.all().\n",
    "\n",
    "See Comparisons for an explanation and what to do.\n",
    "\n",
    "See Gotchas as well."
   ]
  },
  {
   "cell_type": "code",
   "execution_count": null,
   "metadata": {
    "collapsed": true
   },
   "outputs": [],
   "source": [
    "\n"
   ]
  }
 ],
 "metadata": {
  "celltoolbar": "Raw Cell Format",
  "kernelspec": {
   "display_name": "Python 2",
   "language": "python",
   "name": "python2"
  },
  "language_info": {
   "codemirror_mode": {
    "name": "ipython",
    "version": 2
   },
   "file_extension": ".py",
   "mimetype": "text/x-python",
   "name": "python",
   "nbconvert_exporter": "python",
   "pygments_lexer": "ipython2",
   "version": "2.7.13"
  }
 },
 "nbformat": 4,
 "nbformat_minor": 2
}
